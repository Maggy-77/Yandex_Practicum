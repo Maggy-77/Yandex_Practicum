{
 "cells": [
  {
   "cell_type": "markdown",
   "metadata": {
    "id": "E0vqbgi9ay0H"
   },
   "source": [
    "# Музыка больших городов"
   ]
  },
  {
   "cell_type": "markdown",
   "metadata": {
    "id": "VUC88oWjTJw2"
   },
   "source": [
    "Сравнение Москвы и Петербурга окружено мифами. Например:\n",
    " * Москва — мегаполис, подчинённый жёсткому ритму рабочей недели;\n",
    " * Петербург — культурная столица, со своими вкусами.\n",
    "\n",
    "На данных Яндекс.Музыки сравним поведение пользователей двух столиц.\n",
    "\n",
    "**Цель исследования** — проверить три гипотезы:\n",
    "1. Активность пользователей зависит от дня недели. Причём в Москве и Петербурге это проявляется по-разному.\n",
    "2. В понедельник утром в Москве преобладают одни жанры, а в Петербурге — другие. Так же и вечером пятницы преобладают разные жанры — в зависимости от города. \n",
    "3. Москва и Петербург предпочитают разные жанры музыки. В Москве чаще слушают поп-музыку, в Петербурге — русский рэп.\n",
    "\n",
    "**Ход исследования**\n",
    "\n",
    "Данные о поведении пользователей получим из файла `yandex_music_project.csv`. О качестве данных ничего не известно. Поэтому перед проверкой гипотез понадобится обзор данных. \n",
    "\n",
    "Проверим данные на ошибки и оценим их влияние на исследование. Затем, на этапе предобработки найдем возможность исправить самые критичные ошибки данных.\n",
    " \n",
    "Таким образом, исследование пройдёт в три этапа:\n",
    " 1. Обзор данных.\n",
    " 2. Предобработка данных.\n",
    " 3. Проверка гипотез.\n",
    "\n"
   ]
  },
  {
   "cell_type": "markdown",
   "metadata": {
    "id": "Ml1hmfXC_Zcs"
   },
   "source": [
    "## Обзор данных\n",
    "\n",
    "Составим первое представление о данных Яндекс.Музыки.\n",
    "\n",
    "\n"
   ]
  },
  {
   "cell_type": "markdown",
   "metadata": {
    "id": "57eAOGIz_Zcs"
   },
   "source": [
    "Импортируем библиотеку `pandas`."
   ]
  },
  {
   "cell_type": "code",
   "execution_count": 1,
   "metadata": {
    "id": "AXN7PHPN_Zcs"
   },
   "outputs": [],
   "source": [
    "# импорт библиотеки pandas\n",
    "import pandas as pd "
   ]
  },
  {
   "cell_type": "markdown",
   "metadata": {
    "id": "SG23P8tt_Zcs"
   },
   "source": [
    "Прочитаем файл `yandex_music_project.csv` из папки `/datasets` и сохраним его в переменной `df`:"
   ]
  },
  {
   "cell_type": "code",
   "execution_count": 2,
   "metadata": {
    "id": "fFVu7vqh_Zct"
   },
   "outputs": [],
   "source": [
    "# чтение файла с данными и сохранение в df\n",
    "df = pd.read_csv('/datasets/yandex_music_project.csv') "
   ]
  },
  {
   "cell_type": "markdown",
   "metadata": {
    "id": "rDoOMd3uTqnZ"
   },
   "source": [
    "Выведем на экран первые десять строк таблицы:"
   ]
  },
  {
   "cell_type": "code",
   "execution_count": 3,
   "metadata": {
    "id": "oWTVX3gW_Zct"
   },
   "outputs": [
    {
     "data": {
      "text/html": [
       "<div>\n",
       "<style scoped>\n",
       "    .dataframe tbody tr th:only-of-type {\n",
       "        vertical-align: middle;\n",
       "    }\n",
       "\n",
       "    .dataframe tbody tr th {\n",
       "        vertical-align: top;\n",
       "    }\n",
       "\n",
       "    .dataframe thead th {\n",
       "        text-align: right;\n",
       "    }\n",
       "</style>\n",
       "<table border=\"1\" class=\"dataframe\">\n",
       "  <thead>\n",
       "    <tr style=\"text-align: right;\">\n",
       "      <th></th>\n",
       "      <th>userID</th>\n",
       "      <th>Track</th>\n",
       "      <th>artist</th>\n",
       "      <th>genre</th>\n",
       "      <th>City</th>\n",
       "      <th>time</th>\n",
       "      <th>Day</th>\n",
       "    </tr>\n",
       "  </thead>\n",
       "  <tbody>\n",
       "    <tr>\n",
       "      <th>0</th>\n",
       "      <td>FFB692EC</td>\n",
       "      <td>Kamigata To Boots</td>\n",
       "      <td>The Mass Missile</td>\n",
       "      <td>rock</td>\n",
       "      <td>Saint-Petersburg</td>\n",
       "      <td>20:28:33</td>\n",
       "      <td>Wednesday</td>\n",
       "    </tr>\n",
       "    <tr>\n",
       "      <th>1</th>\n",
       "      <td>55204538</td>\n",
       "      <td>Delayed Because of Accident</td>\n",
       "      <td>Andreas Rönnberg</td>\n",
       "      <td>rock</td>\n",
       "      <td>Moscow</td>\n",
       "      <td>14:07:09</td>\n",
       "      <td>Friday</td>\n",
       "    </tr>\n",
       "    <tr>\n",
       "      <th>2</th>\n",
       "      <td>20EC38</td>\n",
       "      <td>Funiculì funiculà</td>\n",
       "      <td>Mario Lanza</td>\n",
       "      <td>pop</td>\n",
       "      <td>Saint-Petersburg</td>\n",
       "      <td>20:58:07</td>\n",
       "      <td>Wednesday</td>\n",
       "    </tr>\n",
       "    <tr>\n",
       "      <th>3</th>\n",
       "      <td>A3DD03C9</td>\n",
       "      <td>Dragons in the Sunset</td>\n",
       "      <td>Fire + Ice</td>\n",
       "      <td>folk</td>\n",
       "      <td>Saint-Petersburg</td>\n",
       "      <td>08:37:09</td>\n",
       "      <td>Monday</td>\n",
       "    </tr>\n",
       "    <tr>\n",
       "      <th>4</th>\n",
       "      <td>E2DC1FAE</td>\n",
       "      <td>Soul People</td>\n",
       "      <td>Space Echo</td>\n",
       "      <td>dance</td>\n",
       "      <td>Moscow</td>\n",
       "      <td>08:34:34</td>\n",
       "      <td>Monday</td>\n",
       "    </tr>\n",
       "    <tr>\n",
       "      <th>5</th>\n",
       "      <td>842029A1</td>\n",
       "      <td>Преданная</td>\n",
       "      <td>IMPERVTOR</td>\n",
       "      <td>rusrap</td>\n",
       "      <td>Saint-Petersburg</td>\n",
       "      <td>13:09:41</td>\n",
       "      <td>Friday</td>\n",
       "    </tr>\n",
       "    <tr>\n",
       "      <th>6</th>\n",
       "      <td>4CB90AA5</td>\n",
       "      <td>True</td>\n",
       "      <td>Roman Messer</td>\n",
       "      <td>dance</td>\n",
       "      <td>Moscow</td>\n",
       "      <td>13:00:07</td>\n",
       "      <td>Wednesday</td>\n",
       "    </tr>\n",
       "    <tr>\n",
       "      <th>7</th>\n",
       "      <td>F03E1C1F</td>\n",
       "      <td>Feeling This Way</td>\n",
       "      <td>Polina Griffith</td>\n",
       "      <td>dance</td>\n",
       "      <td>Moscow</td>\n",
       "      <td>20:47:49</td>\n",
       "      <td>Wednesday</td>\n",
       "    </tr>\n",
       "    <tr>\n",
       "      <th>8</th>\n",
       "      <td>8FA1D3BE</td>\n",
       "      <td>И вновь продолжается бой</td>\n",
       "      <td>NaN</td>\n",
       "      <td>ruspop</td>\n",
       "      <td>Moscow</td>\n",
       "      <td>09:17:40</td>\n",
       "      <td>Friday</td>\n",
       "    </tr>\n",
       "    <tr>\n",
       "      <th>9</th>\n",
       "      <td>E772D5C0</td>\n",
       "      <td>Pessimist</td>\n",
       "      <td>NaN</td>\n",
       "      <td>dance</td>\n",
       "      <td>Saint-Petersburg</td>\n",
       "      <td>21:20:49</td>\n",
       "      <td>Wednesday</td>\n",
       "    </tr>\n",
       "  </tbody>\n",
       "</table>\n",
       "</div>"
      ],
      "text/plain": [
       "     userID                        Track            artist   genre  \\\n",
       "0  FFB692EC            Kamigata To Boots  The Mass Missile    rock   \n",
       "1  55204538  Delayed Because of Accident  Andreas Rönnberg    rock   \n",
       "2    20EC38            Funiculì funiculà       Mario Lanza     pop   \n",
       "3  A3DD03C9        Dragons in the Sunset        Fire + Ice    folk   \n",
       "4  E2DC1FAE                  Soul People        Space Echo   dance   \n",
       "5  842029A1                    Преданная         IMPERVTOR  rusrap   \n",
       "6  4CB90AA5                         True      Roman Messer   dance   \n",
       "7  F03E1C1F             Feeling This Way   Polina Griffith   dance   \n",
       "8  8FA1D3BE     И вновь продолжается бой               NaN  ruspop   \n",
       "9  E772D5C0                    Pessimist               NaN   dance   \n",
       "\n",
       "             City        time        Day  \n",
       "0  Saint-Petersburg  20:28:33  Wednesday  \n",
       "1            Moscow  14:07:09     Friday  \n",
       "2  Saint-Petersburg  20:58:07  Wednesday  \n",
       "3  Saint-Petersburg  08:37:09     Monday  \n",
       "4            Moscow  08:34:34     Monday  \n",
       "5  Saint-Petersburg  13:09:41     Friday  \n",
       "6            Moscow  13:00:07  Wednesday  \n",
       "7            Moscow  20:47:49  Wednesday  \n",
       "8            Moscow  09:17:40     Friday  \n",
       "9  Saint-Petersburg  21:20:49  Wednesday  "
      ]
     },
     "execution_count": 3,
     "metadata": {},
     "output_type": "execute_result"
    }
   ],
   "source": [
    "# получение первых 10 строк таблицы df\n",
    "df.head(10) "
   ]
  },
  {
   "cell_type": "markdown",
   "metadata": {
    "id": "EO73Kwic_Zct"
   },
   "source": [
    "Получим общую информацию о таблице:"
   ]
  },
  {
   "cell_type": "code",
   "execution_count": 4,
   "metadata": {
    "id": "DSf2kIb-_Zct"
   },
   "outputs": [
    {
     "name": "stdout",
     "output_type": "stream",
     "text": [
      "<class 'pandas.core.frame.DataFrame'>\n",
      "RangeIndex: 65079 entries, 0 to 65078\n",
      "Data columns (total 7 columns):\n",
      " #   Column    Non-Null Count  Dtype \n",
      "---  ------    --------------  ----- \n",
      " 0     userID  65079 non-null  object\n",
      " 1   Track     63848 non-null  object\n",
      " 2   artist    57876 non-null  object\n",
      " 3   genre     63881 non-null  object\n",
      " 4     City    65079 non-null  object\n",
      " 5   time      65079 non-null  object\n",
      " 6   Day       65079 non-null  object\n",
      "dtypes: object(7)\n",
      "memory usage: 3.5+ MB\n"
     ]
    }
   ],
   "source": [
    "# получение общей информации о данных в таблице df\n",
    "df.info() "
   ]
  },
  {
   "cell_type": "markdown",
   "metadata": {
    "id": "TaQ2Iwbr_Zct"
   },
   "source": [
    "Итак, в таблице семь столбцов. Тип данных во всех столбцах — `object`.\n",
    "\n",
    "Согласно документации к данным:\n",
    "* `userID` — идентификатор пользователя;\n",
    "* `Track` — название трека;  \n",
    "* `artist` — имя исполнителя;\n",
    "* `genre` — название жанра;\n",
    "* `City` — город пользователя;\n",
    "* `time` — время начала прослушивания;\n",
    "* `Day` — день недели.\n",
    "\n",
    "В названиях колонок видны три нарушения стиля:\n",
    "1. Строчные буквы сочетаются с прописными.\n",
    "2. Встречаются пробелы.\n",
    "3. Некоторые названия написаны не в \"змеином регистре\".\n",
    "\n",
    "\n",
    "\n",
    "Количество значений в столбцах различается. Значит, в данных есть пропущенные значения.\n"
   ]
  },
  {
   "cell_type": "markdown",
   "metadata": {
    "id": "MCB6-dXG_Zct"
   },
   "source": [
    "**Выводы**\n",
    "\n",
    "В каждой строке таблицы — данные о прослушанном треке. Часть колонок описывает саму композицию: название, исполнителя и жанр. Остальные данные рассказывают о пользователе: из какого он города, когда он слушал музыку. \n",
    "\n",
    "Предварительно можно утверждать, что данных достаточно для проверки гипотез. Но встречаются пропуски в данных, а в названиях колонок — расхождения с хорошим стилем.\n",
    "\n",
    "Чтобы двигаться дальше, нужно устранить проблемы в данных."
   ]
  },
  {
   "cell_type": "markdown",
   "metadata": {
    "id": "SjYF6Ub9_Zct"
   },
   "source": [
    "## Предобработка данных\n",
    "Исправим стиль в заголовках столбцов, исключим пропуски. Затем проверим данные на дубликаты."
   ]
  },
  {
   "cell_type": "markdown",
   "metadata": {
    "id": "dIaKXr29_Zct"
   },
   "source": [
    "### Стиль заголовков\n",
    "Выведем на экран названия столбцов:"
   ]
  },
  {
   "cell_type": "code",
   "execution_count": 5,
   "metadata": {
    "id": "oKOTdF_Q_Zct"
   },
   "outputs": [
    {
     "data": {
      "text/plain": [
       "Index(['  userID', 'Track', 'artist', 'genre', '  City  ', 'time', 'Day'], dtype='object')"
      ]
     },
     "execution_count": 5,
     "metadata": {},
     "output_type": "execute_result"
    }
   ],
   "source": [
    "# перечень названий столбцов таблицы df\n",
    "df.columns "
   ]
  },
  {
   "cell_type": "markdown",
   "metadata": {
    "id": "zj5534cv_Zct"
   },
   "source": [
    "Приведем названия в соответствие с хорошим стилем:\n",
    "* несколько слов в названии запишем в «змеином_регистре»,\n",
    "* все символы сделаем строчными,\n",
    "* устраним пробелы.\n",
    "\n",
    "Для этого переименуем колонки так:\n",
    "* `'  userID'` → `'user_id'`;\n",
    "* `'Track'` → `'track'`;\n",
    "* `'  City  '` → `'city'`;\n",
    "* `'Day'` → `'day'`."
   ]
  },
  {
   "cell_type": "code",
   "execution_count": 6,
   "metadata": {
    "id": "ISlFqs5y_Zct"
   },
   "outputs": [],
   "source": [
    "# переименование столбцов\n",
    "df = df.rename(columns = {'  userID':'user_id', 'Track':'track', '  City  ':'city', 'Day':'day' }) "
   ]
  },
  {
   "cell_type": "markdown",
   "metadata": {
    "id": "1dqbh00J_Zct"
   },
   "source": [
    "Проверим результат. Для этого ещё раз выведем на экран названия столбцов:"
   ]
  },
  {
   "cell_type": "code",
   "execution_count": 7,
   "metadata": {
    "id": "d4NOAmTW_Zct"
   },
   "outputs": [
    {
     "data": {
      "text/plain": [
       "Index(['user_id', 'track', 'artist', 'genre', 'city', 'time', 'day'], dtype='object')"
      ]
     },
     "execution_count": 7,
     "metadata": {},
     "output_type": "execute_result"
    }
   ],
   "source": [
    "# проверка результатов \n",
    "df.columns "
   ]
  },
  {
   "cell_type": "markdown",
   "metadata": {
    "id": "5ISfbcfY_Zct"
   },
   "source": [
    "### Пропуски значений\n",
    "Сначала посчитаем, сколько в таблице пропущенных значений с помощью двух методов `pandas`:"
   ]
  },
  {
   "cell_type": "code",
   "execution_count": 8,
   "metadata": {
    "id": "RskX29qr_Zct"
   },
   "outputs": [
    {
     "data": {
      "text/plain": [
       "user_id       0\n",
       "track      1231\n",
       "artist     7203\n",
       "genre      1198\n",
       "city          0\n",
       "time          0\n",
       "day           0\n",
       "dtype: int64"
      ]
     },
     "execution_count": 8,
     "metadata": {},
     "output_type": "execute_result"
    }
   ],
   "source": [
    "# подсчёт пропусков\n",
    "df.isna().sum() "
   ]
  },
  {
   "cell_type": "markdown",
   "metadata": {
    "id": "qubhgnlO_Zct"
   },
   "source": [
    "Не все пропущенные значения влияют на исследование. Так в `track` и `artist` пропуски не нужны для вашей работы. Достаточно заменить их явными обозначениями.\n",
    "\n",
    "Но пропуски в `genre` могут помешать сравнению музыкальных вкусов в Москве и Санкт-Петербурге. На практике было бы правильно установить причину пропусков и восстановить данные. Такой возможности нет в учебном проекте. Придётся:\n",
    "* заполнить и эти пропуски явными обозначениями,\n",
    "* оценить, насколько они повредят расчётам. "
   ]
  },
  {
   "cell_type": "markdown",
   "metadata": {
    "id": "fSv2laPA_Zct"
   },
   "source": [
    "Заменим пропущенные значения в столбцах `track`, `artist` и `genre` на строку `'unknown'`. Для этого создадим список `columns_to_replace`, переберем его элементы циклом `for` и для каждого столбца выполним замену пропущенных значений:"
   ]
  },
  {
   "cell_type": "code",
   "execution_count": 9,
   "metadata": {
    "id": "KplB5qWs_Zct"
   },
   "outputs": [],
   "source": [
    "# перебор названий столбцов в цикле и замена пропущенных значений на 'unknown'\n",
    "columns_to_replace = ['track', 'artist', 'genre']\n",
    "for column in columns_to_replace:\n",
    "    df[column] = df[column].fillna('unknown')    "
   ]
  },
  {
   "cell_type": "markdown",
   "metadata": {
    "id": "Ilsm-MZo_Zct"
   },
   "source": [
    "Убедимся, что в таблице не осталось пропусков. Для этого ещё раз посчитаем пропущенные значения."
   ]
  },
  {
   "cell_type": "code",
   "execution_count": 10,
   "metadata": {
    "id": "Tq4nYRX4_Zct"
   },
   "outputs": [
    {
     "data": {
      "text/plain": [
       "user_id    0\n",
       "track      0\n",
       "artist     0\n",
       "genre      0\n",
       "city       0\n",
       "time       0\n",
       "day        0\n",
       "dtype: int64"
      ]
     },
     "execution_count": 10,
     "metadata": {},
     "output_type": "execute_result"
    }
   ],
   "source": [
    "# подсчёт пропусков\n",
    "df.isna().sum() "
   ]
  },
  {
   "cell_type": "markdown",
   "metadata": {
    "id": "BWKRtBJ3_Zct"
   },
   "source": [
    "### Дубликаты\n",
    "Посчитаем явные дубликаты в таблице:"
   ]
  },
  {
   "cell_type": "code",
   "execution_count": 11,
   "metadata": {
    "id": "36eES_S0_Zct"
   },
   "outputs": [
    {
     "data": {
      "text/plain": [
       "3826"
      ]
     },
     "execution_count": 11,
     "metadata": {},
     "output_type": "execute_result"
    }
   ],
   "source": [
    "# подсчёт явных дубликатов\n",
    "df.duplicated().sum() "
   ]
  },
  {
   "cell_type": "markdown",
   "metadata": {
    "id": "Ot25h6XR_Zct"
   },
   "source": [
    "Вызовем специальный метод `pandas`, чтобы удалить явные дубликаты:"
   ]
  },
  {
   "cell_type": "code",
   "execution_count": 12,
   "metadata": {
    "id": "exFHq6tt_Zct"
   },
   "outputs": [],
   "source": [
    "# удаление явных дубликатов (с удалением старых индексов и формированием новых)\n",
    "df = df.drop_duplicates().reset_index(drop = True) "
   ]
  },
  {
   "cell_type": "markdown",
   "metadata": {
    "id": "Im2YwBEG_Zct"
   },
   "source": [
    "Ещё раз посчитаем явные дубликаты в таблице — чтобы убедиться, что полностью от них избавились:"
   ]
  },
  {
   "cell_type": "code",
   "execution_count": 13,
   "metadata": {
    "id": "-8PuNWQ0_Zct"
   },
   "outputs": [
    {
     "data": {
      "text/plain": [
       "0"
      ]
     },
     "execution_count": 13,
     "metadata": {},
     "output_type": "execute_result"
    }
   ],
   "source": [
    "# проверка на отсутствие дубликатов\n",
    "df.duplicated().sum() "
   ]
  },
  {
   "cell_type": "markdown",
   "metadata": {},
   "source": [
    "<div class=\"alert alert-success\">\n",
    "<b>✔️ Комментарий ревьюера:</b> Отлично, избавились от дубликатов\n",
    "</div>"
   ]
  },
  {
   "cell_type": "markdown",
   "metadata": {
    "id": "QlFBsxAr_Zct"
   },
   "source": [
    "Теперь избавимся от неявных дубликатов в колонке `genre`. Например, название одного и того же жанра может быть записано немного по-разному. Такие ошибки тоже повлияют на результат исследования."
   ]
  },
  {
   "cell_type": "markdown",
   "metadata": {
    "id": "eSjWwsOh_Zct"
   },
   "source": [
    "Выведем на экран список уникальных названий жанров, отсортированный в алфавитном порядке. Для этого:\n",
    "* извлечем нужный столбец датафрейма, \n",
    "* применим к нему метод сортировки,\n",
    "* для отсортированного столбца вызовем метод, который вернёт уникальные значения из столбца."
   ]
  },
  {
   "cell_type": "code",
   "execution_count": 14,
   "metadata": {
    "id": "JIUcqzZN_Zct"
   },
   "outputs": [
    {
     "data": {
      "text/plain": [
       "array(['acid', 'acoustic', 'action', 'adult', 'africa', 'afrikaans',\n",
       "       'alternative', 'alternativepunk', 'ambient', 'americana',\n",
       "       'animated', 'anime', 'arabesk', 'arabic', 'arena',\n",
       "       'argentinetango', 'art', 'audiobook', 'author', 'avantgarde',\n",
       "       'axé', 'baile', 'balkan', 'beats', 'bigroom', 'black', 'bluegrass',\n",
       "       'blues', 'bollywood', 'bossa', 'brazilian', 'breakbeat', 'breaks',\n",
       "       'broadway', 'cantautori', 'cantopop', 'canzone', 'caribbean',\n",
       "       'caucasian', 'celtic', 'chamber', 'chanson', 'children', 'chill',\n",
       "       'chinese', 'choral', 'christian', 'christmas', 'classical',\n",
       "       'classicmetal', 'club', 'colombian', 'comedy', 'conjazz',\n",
       "       'contemporary', 'country', 'cuban', 'dance', 'dancehall',\n",
       "       'dancepop', 'dark', 'death', 'deep', 'deutschrock', 'deutschspr',\n",
       "       'dirty', 'disco', 'dnb', 'documentary', 'downbeat', 'downtempo',\n",
       "       'drum', 'dub', 'dubstep', 'eastern', 'easy', 'electronic',\n",
       "       'electropop', 'emo', 'entehno', 'epicmetal', 'estrada', 'ethnic',\n",
       "       'eurofolk', 'european', 'experimental', 'extrememetal', 'fado',\n",
       "       'fairytail', 'film', 'fitness', 'flamenco', 'folk', 'folklore',\n",
       "       'folkmetal', 'folkrock', 'folktronica', 'forró', 'frankreich',\n",
       "       'französisch', 'french', 'funk', 'future', 'gangsta', 'garage',\n",
       "       'german', 'ghazal', 'gitarre', 'glitch', 'gospel', 'gothic',\n",
       "       'grime', 'grunge', 'gypsy', 'handsup', \"hard'n'heavy\", 'hardcore',\n",
       "       'hardstyle', 'hardtechno', 'hip', 'hip-hop', 'hiphop',\n",
       "       'historisch', 'holiday', 'hop', 'horror', 'house', 'hymn', 'idm',\n",
       "       'independent', 'indian', 'indie', 'indipop', 'industrial',\n",
       "       'inspirational', 'instrumental', 'international', 'irish', 'jam',\n",
       "       'japanese', 'jazz', 'jewish', 'jpop', 'jungle', 'k-pop',\n",
       "       'karadeniz', 'karaoke', 'kayokyoku', 'korean', 'laiko', 'latin',\n",
       "       'latino', 'leftfield', 'local', 'lounge', 'loungeelectronic',\n",
       "       'lovers', 'malaysian', 'mandopop', 'marschmusik', 'meditative',\n",
       "       'mediterranean', 'melodic', 'metal', 'metalcore', 'mexican',\n",
       "       'middle', 'minimal', 'miscellaneous', 'modern', 'mood', 'mpb',\n",
       "       'muslim', 'native', 'neoklassik', 'neue', 'new', 'newage',\n",
       "       'newwave', 'nu', 'nujazz', 'numetal', 'oceania', 'old', 'opera',\n",
       "       'orchestral', 'other', 'piano', 'podcasts', 'pop', 'popdance',\n",
       "       'popelectronic', 'popeurodance', 'poprussian', 'post',\n",
       "       'posthardcore', 'postrock', 'power', 'progmetal', 'progressive',\n",
       "       'psychedelic', 'punjabi', 'punk', 'quebecois', 'ragga', 'ram',\n",
       "       'rancheras', 'rap', 'rave', 'reggae', 'reggaeton', 'regional',\n",
       "       'relax', 'religious', 'retro', 'rhythm', 'rnb', 'rnr', 'rock',\n",
       "       'rockabilly', 'rockalternative', 'rockindie', 'rockother',\n",
       "       'romance', 'roots', 'ruspop', 'rusrap', 'rusrock', 'russian',\n",
       "       'salsa', 'samba', 'scenic', 'schlager', 'self', 'sertanejo',\n",
       "       'shanson', 'shoegazing', 'showtunes', 'singer', 'ska', 'skarock',\n",
       "       'slow', 'smooth', 'soft', 'soul', 'soulful', 'sound', 'soundtrack',\n",
       "       'southern', 'specialty', 'speech', 'spiritual', 'sport',\n",
       "       'stonerrock', 'surf', 'swing', 'synthpop', 'synthrock',\n",
       "       'sängerportrait', 'tango', 'tanzorchester', 'taraftar', 'tatar',\n",
       "       'tech', 'techno', 'teen', 'thrash', 'top', 'traditional',\n",
       "       'tradjazz', 'trance', 'tribal', 'trip', 'triphop', 'tropical',\n",
       "       'türk', 'türkçe', 'ukrrock', 'unknown', 'urban', 'uzbek',\n",
       "       'variété', 'vi', 'videogame', 'vocal', 'western', 'world',\n",
       "       'worldbeat', 'ïîï', 'электроника'], dtype=object)"
      ]
     },
     "execution_count": 14,
     "metadata": {},
     "output_type": "execute_result"
    }
   ],
   "source": [
    "# Просмотр уникальных названий жанров\n",
    "df.sort_values(by = 'genre')['genre'].unique() "
   ]
  },
  {
   "cell_type": "markdown",
   "metadata": {
    "id": "qej-Qmuo_Zct"
   },
   "source": [
    "Просмотрим список и найдем неявные дубликаты названия `hiphop`. Это могут быть названия с ошибками или альтернативные названия того же жанра.\n",
    "\n",
    "Видим следующие неявные дубликаты:\n",
    "* *hip*,\n",
    "* *hop*,\n",
    "* *hip-hop*.\n",
    "\n",
    "Чтобы очистить от них таблицу, напишем функцию `replace_wrong_genres()` с двумя параметрами: \n",
    "* `wrong_genres` — список дубликатов,\n",
    "* `correct_genre` — строка с правильным значением.\n",
    "\n",
    "Функция должна исправить колонку `genre` в таблице `df`: заменить каждое значение из списка `wrong_genres` на значение из `correct_genre`."
   ]
  },
  {
   "cell_type": "code",
   "execution_count": 15,
   "metadata": {
    "id": "ErNDkmns_Zct"
   },
   "outputs": [],
   "source": [
    "# Функция для замены неявных дубликатов\n",
    "def replace_wrong_genres(wrong_genres, correct_genre):\n",
    "    for genre in wrong_genres:\n",
    "        df['genre'] = df['genre'].replace(genre, correct_genre)"
   ]
  },
  {
   "cell_type": "markdown",
   "metadata": {
    "id": "aDoBJxbA_Zct"
   },
   "source": [
    "Вызовем `replace_wrong_genres()` и передадим ей такие аргументы, чтобы она устранила неявные дубликаты: вместо `hip`, `hop` и `hip-hop` в таблице должно быть значение `hiphop`:"
   ]
  },
  {
   "cell_type": "code",
   "execution_count": 16,
   "metadata": {
    "id": "YN5i2hpmSo09"
   },
   "outputs": [],
   "source": [
    "# Устранение неявных дубликатов\n",
    "replace_wrong_genres(['hip','hop','hip-hop'], 'hiphop') "
   ]
  },
  {
   "cell_type": "markdown",
   "metadata": {
    "id": "zQKF16_RG15m"
   },
   "source": [
    "Проверим, что заменили неправильные названия:\n",
    "\n",
    "*   hip\n",
    "*   hop\n",
    "*   hip-hop\n",
    "\n",
    "Выведем отсортированный список уникальных значений столбца `genre`:"
   ]
  },
  {
   "cell_type": "code",
   "execution_count": 17,
   "metadata": {
    "id": "wvixALnFG15m"
   },
   "outputs": [
    {
     "data": {
      "text/plain": [
       "array(['acid', 'acoustic', 'action', 'adult', 'africa', 'afrikaans',\n",
       "       'alternative', 'alternativepunk', 'ambient', 'americana',\n",
       "       'animated', 'anime', 'arabesk', 'arabic', 'arena',\n",
       "       'argentinetango', 'art', 'audiobook', 'author', 'avantgarde',\n",
       "       'axé', 'baile', 'balkan', 'beats', 'bigroom', 'black', 'bluegrass',\n",
       "       'blues', 'bollywood', 'bossa', 'brazilian', 'breakbeat', 'breaks',\n",
       "       'broadway', 'cantautori', 'cantopop', 'canzone', 'caribbean',\n",
       "       'caucasian', 'celtic', 'chamber', 'chanson', 'children', 'chill',\n",
       "       'chinese', 'choral', 'christian', 'christmas', 'classical',\n",
       "       'classicmetal', 'club', 'colombian', 'comedy', 'conjazz',\n",
       "       'contemporary', 'country', 'cuban', 'dance', 'dancehall',\n",
       "       'dancepop', 'dark', 'death', 'deep', 'deutschrock', 'deutschspr',\n",
       "       'dirty', 'disco', 'dnb', 'documentary', 'downbeat', 'downtempo',\n",
       "       'drum', 'dub', 'dubstep', 'eastern', 'easy', 'electronic',\n",
       "       'electropop', 'emo', 'entehno', 'epicmetal', 'estrada', 'ethnic',\n",
       "       'eurofolk', 'european', 'experimental', 'extrememetal', 'fado',\n",
       "       'fairytail', 'film', 'fitness', 'flamenco', 'folk', 'folklore',\n",
       "       'folkmetal', 'folkrock', 'folktronica', 'forró', 'frankreich',\n",
       "       'französisch', 'french', 'funk', 'future', 'gangsta', 'garage',\n",
       "       'german', 'ghazal', 'gitarre', 'glitch', 'gospel', 'gothic',\n",
       "       'grime', 'grunge', 'gypsy', 'handsup', \"hard'n'heavy\", 'hardcore',\n",
       "       'hardstyle', 'hardtechno', 'hiphop', 'historisch', 'holiday',\n",
       "       'horror', 'house', 'hymn', 'idm', 'independent', 'indian', 'indie',\n",
       "       'indipop', 'industrial', 'inspirational', 'instrumental',\n",
       "       'international', 'irish', 'jam', 'japanese', 'jazz', 'jewish',\n",
       "       'jpop', 'jungle', 'k-pop', 'karadeniz', 'karaoke', 'kayokyoku',\n",
       "       'korean', 'laiko', 'latin', 'latino', 'leftfield', 'local',\n",
       "       'lounge', 'loungeelectronic', 'lovers', 'malaysian', 'mandopop',\n",
       "       'marschmusik', 'meditative', 'mediterranean', 'melodic', 'metal',\n",
       "       'metalcore', 'mexican', 'middle', 'minimal', 'miscellaneous',\n",
       "       'modern', 'mood', 'mpb', 'muslim', 'native', 'neoklassik', 'neue',\n",
       "       'new', 'newage', 'newwave', 'nu', 'nujazz', 'numetal', 'oceania',\n",
       "       'old', 'opera', 'orchestral', 'other', 'piano', 'podcasts', 'pop',\n",
       "       'popdance', 'popelectronic', 'popeurodance', 'poprussian', 'post',\n",
       "       'posthardcore', 'postrock', 'power', 'progmetal', 'progressive',\n",
       "       'psychedelic', 'punjabi', 'punk', 'quebecois', 'ragga', 'ram',\n",
       "       'rancheras', 'rap', 'rave', 'reggae', 'reggaeton', 'regional',\n",
       "       'relax', 'religious', 'retro', 'rhythm', 'rnb', 'rnr', 'rock',\n",
       "       'rockabilly', 'rockalternative', 'rockindie', 'rockother',\n",
       "       'romance', 'roots', 'ruspop', 'rusrap', 'rusrock', 'russian',\n",
       "       'salsa', 'samba', 'scenic', 'schlager', 'self', 'sertanejo',\n",
       "       'shanson', 'shoegazing', 'showtunes', 'singer', 'ska', 'skarock',\n",
       "       'slow', 'smooth', 'soft', 'soul', 'soulful', 'sound', 'soundtrack',\n",
       "       'southern', 'specialty', 'speech', 'spiritual', 'sport',\n",
       "       'stonerrock', 'surf', 'swing', 'synthpop', 'synthrock',\n",
       "       'sängerportrait', 'tango', 'tanzorchester', 'taraftar', 'tatar',\n",
       "       'tech', 'techno', 'teen', 'thrash', 'top', 'traditional',\n",
       "       'tradjazz', 'trance', 'tribal', 'trip', 'triphop', 'tropical',\n",
       "       'türk', 'türkçe', 'ukrrock', 'unknown', 'urban', 'uzbek',\n",
       "       'variété', 'vi', 'videogame', 'vocal', 'western', 'world',\n",
       "       'worldbeat', 'ïîï', 'электроника'], dtype=object)"
      ]
     },
     "execution_count": 17,
     "metadata": {},
     "output_type": "execute_result"
    }
   ],
   "source": [
    "# Проверка на неявные дубликаты\n",
    "df.sort_values(by = 'genre')['genre'].unique() "
   ]
  },
  {
   "cell_type": "markdown",
   "metadata": {
    "id": "jz6a9-7HQUDd"
   },
   "source": [
    "**Выводы**\n",
    "\n",
    "Предобработка обнаружила три проблемы в данных:\n",
    "\n",
    "- нарушения в стиле заголовков,\n",
    "- пропущенные значения,\n",
    "- дубликаты — явные и неявные.\n",
    "\n",
    "Были исправлены заголовки, чтобы упростить работу с таблицей. Без дубликатов исследование станет более точным.\n",
    "\n",
    "Пропущенные значения заменили на `'unknown'`. Ещё предстоит увидеть, не повредят ли исследованию пропуски в колонке `genre`.\n",
    "\n",
    "Теперь можно перейти к проверке гипотез. "
   ]
  },
  {
   "cell_type": "markdown",
   "metadata": {
    "id": "WttZHXH0SqKk"
   },
   "source": [
    "## Проверка гипотез"
   ]
  },
  {
   "cell_type": "markdown",
   "metadata": {
    "id": "Im936VVi_Zcu"
   },
   "source": [
    "### Сравнение поведения пользователей двух столиц"
   ]
  },
  {
   "cell_type": "markdown",
   "metadata": {
    "id": "nwt_MuaL_Zcu"
   },
   "source": [
    "Первая гипотеза утверждает, что пользователи по-разному слушают музыку в Москве и Санкт-Петербурге. Проверим это предположение по данным о трёх днях недели — понедельнике, среде и пятнице. Для этого:\n",
    "\n",
    "* Разделим пользователей Москвы и Санкт-Петербурга\n",
    "* Сравним, сколько треков послушала каждая группа пользователей в понедельник, среду и пятницу.\n"
   ]
  },
  {
   "cell_type": "markdown",
   "metadata": {
    "id": "8Dw_YMmT_Zcu"
   },
   "source": [
    "Оценим активность пользователей в каждом городе. Сгруппируем данные по городу и посчитаем прослушивания в каждой группе.\n",
    "\n"
   ]
  },
  {
   "cell_type": "code",
   "execution_count": 18,
   "metadata": {
    "id": "0_Qs96oh_Zcu"
   },
   "outputs": [
    {
     "data": {
      "text/plain": [
       "city\n",
       "Moscow              42741\n",
       "Saint-Petersburg    18512\n",
       "Name: track, dtype: int64"
      ]
     },
     "execution_count": 18,
     "metadata": {},
     "output_type": "execute_result"
    }
   ],
   "source": [
    "# Подсчёт прослушиваний в каждом городе\n",
    "df.groupby('city')['track'].count() "
   ]
  },
  {
   "cell_type": "markdown",
   "metadata": {
    "id": "dzli3w8o_Zcu"
   },
   "source": [
    "В Москве прослушиваний больше, чем в Петербурге. Из этого не следует, что московские пользователи чаще слушают музыку. Просто самих пользователей в Москве больше.\n",
    "\n",
    "Теперь сгруппируйем данные по дню недели и подсчитаем прослушивания в понедельник, среду и пятницу. Необходимо учесть, что в данных есть информация только о прослушиваниях только за эти дни.\n"
   ]
  },
  {
   "cell_type": "code",
   "execution_count": 19,
   "metadata": {
    "id": "uZMKjiJz_Zcu"
   },
   "outputs": [
    {
     "data": {
      "text/plain": [
       "day\n",
       "Friday       21840\n",
       "Monday       21354\n",
       "Wednesday    18059\n",
       "Name: track, dtype: int64"
      ]
     },
     "execution_count": 19,
     "metadata": {},
     "output_type": "execute_result"
    }
   ],
   "source": [
    "# Подсчёт прослушиваний в каждый из трёх дней\n",
    "df.groupby('day')['track'].count() "
   ]
  },
  {
   "cell_type": "markdown",
   "metadata": {
    "id": "cC2tNrlL_Zcu"
   },
   "source": [
    "В среднем пользователи из двух городов менее активны по средам. Но картина может измениться, если рассмотреть каждый город в отдельности."
   ]
  },
  {
   "cell_type": "markdown",
   "metadata": {
    "id": "POzs8bGa_Zcu"
   },
   "source": [
    "Напишем функцию, которая объединит группировки по городу и по дням недели.\n",
    "\n",
    "Создадим функцию `number_tracks()`, которая посчитает прослушивания для заданного дня и города. Ей понадобятся два параметра:\n",
    "* день недели,\n",
    "* название города.\n",
    "\n",
    "В функции сохраним в переменную строки исходной таблицы, у которых значение:\n",
    "  * в колонке `day` равно параметру `day`,\n",
    "  * в колонке `city` равно параметру `city`.\n",
    "\n",
    "Для этого применим последовательную фильтрацию с логической индексацией.\n",
    "\n",
    "Затем посчитаем значения в столбце `user_id` получившейся таблицы. Результат сохраним в новую переменную. Вернем эту переменную из функции."
   ]
  },
  {
   "cell_type": "code",
   "execution_count": 20,
   "metadata": {
    "id": "Nz3GdQB1_Zcu"
   },
   "outputs": [],
   "source": [
    "# создание функции number_tracks()\n",
    "def number_tracks(day, city):\n",
    "    track_list = df[(df['day'] == day) & (df['city'] == city)] \n",
    "    track_list_count = track_list['user_id'].count()\n",
    "    return track_list_count"
   ]
  },
  {
   "cell_type": "markdown",
   "metadata": {
    "id": "ytf7xFrFJQ2r"
   },
   "source": [
    "Вызовем `number_tracks()` шесть раз, меняя значение параметров — так, чтобы получить данные для каждого города в каждый из трёх дней."
   ]
  },
  {
   "cell_type": "code",
   "execution_count": 21,
   "metadata": {
    "id": "rJcRATNQ_Zcu"
   },
   "outputs": [
    {
     "data": {
      "text/plain": [
       "15740"
      ]
     },
     "execution_count": 21,
     "metadata": {},
     "output_type": "execute_result"
    }
   ],
   "source": [
    "number_tracks('Monday', 'Moscow') # количество прослушиваний в Москве по понедельникам"
   ]
  },
  {
   "cell_type": "code",
   "execution_count": 22,
   "metadata": {
    "id": "hq_ncZ5T_Zcu"
   },
   "outputs": [
    {
     "data": {
      "text/plain": [
       "5614"
      ]
     },
     "execution_count": 22,
     "metadata": {},
     "output_type": "execute_result"
    }
   ],
   "source": [
    "number_tracks('Monday', 'Saint-Petersburg') # количество прослушиваний в Санкт-Петербурге по понедельникам"
   ]
  },
  {
   "cell_type": "code",
   "execution_count": 23,
   "metadata": {
    "id": "_NTy2VPU_Zcu"
   },
   "outputs": [
    {
     "data": {
      "text/plain": [
       "11056"
      ]
     },
     "execution_count": 23,
     "metadata": {},
     "output_type": "execute_result"
    }
   ],
   "source": [
    "number_tracks('Wednesday', 'Moscow') # количество прослушиваний в Москве по средам"
   ]
  },
  {
   "cell_type": "code",
   "execution_count": 24,
   "metadata": {
    "id": "j2y3TAwo_Zcu"
   },
   "outputs": [
    {
     "data": {
      "text/plain": [
       "7003"
      ]
     },
     "execution_count": 24,
     "metadata": {},
     "output_type": "execute_result"
    }
   ],
   "source": [
    "number_tracks('Wednesday', 'Saint-Petersburg') # количество прослушиваний в Санкт-Петербурге по средам"
   ]
  },
  {
   "cell_type": "code",
   "execution_count": 25,
   "metadata": {
    "id": "vYDw5u_K_Zcu"
   },
   "outputs": [
    {
     "data": {
      "text/plain": [
       "15945"
      ]
     },
     "execution_count": 25,
     "metadata": {},
     "output_type": "execute_result"
    }
   ],
   "source": [
    "number_tracks('Friday', 'Moscow') # количество прослушиваний в Москве по пятницам"
   ]
  },
  {
   "cell_type": "code",
   "execution_count": 26,
   "metadata": {
    "id": "8_yzFtW3_Zcu"
   },
   "outputs": [
    {
     "data": {
      "text/plain": [
       "5895"
      ]
     },
     "execution_count": 26,
     "metadata": {},
     "output_type": "execute_result"
    }
   ],
   "source": [
    "number_tracks('Friday', 'Saint-Petersburg') # количество прослушиваний в Санкт-Петербурге по пятницам"
   ]
  },
  {
   "cell_type": "markdown",
   "metadata": {
    "id": "7QXffbO-_Zcu"
   },
   "source": [
    "Создадим c помощью конструктора `pd.DataFrame` таблицу, где\n",
    "* названия колонок — `['city', 'monday', 'wednesday', 'friday']`;\n",
    "* данные — результаты, полученные с помощью `number_tracks`."
   ]
  },
  {
   "cell_type": "code",
   "execution_count": 27,
   "metadata": {
    "id": "APAcLpOr_Zcu"
   },
   "outputs": [
    {
     "data": {
      "text/html": [
       "<div>\n",
       "<style scoped>\n",
       "    .dataframe tbody tr th:only-of-type {\n",
       "        vertical-align: middle;\n",
       "    }\n",
       "\n",
       "    .dataframe tbody tr th {\n",
       "        vertical-align: top;\n",
       "    }\n",
       "\n",
       "    .dataframe thead th {\n",
       "        text-align: right;\n",
       "    }\n",
       "</style>\n",
       "<table border=\"1\" class=\"dataframe\">\n",
       "  <thead>\n",
       "    <tr style=\"text-align: right;\">\n",
       "      <th></th>\n",
       "      <th>city</th>\n",
       "      <th>monday</th>\n",
       "      <th>wednesday</th>\n",
       "      <th>friday</th>\n",
       "    </tr>\n",
       "  </thead>\n",
       "  <tbody>\n",
       "    <tr>\n",
       "      <th>0</th>\n",
       "      <td>Moscow</td>\n",
       "      <td>15740</td>\n",
       "      <td>11056</td>\n",
       "      <td>15945</td>\n",
       "    </tr>\n",
       "    <tr>\n",
       "      <th>1</th>\n",
       "      <td>Saint-Petersburg</td>\n",
       "      <td>5614</td>\n",
       "      <td>7003</td>\n",
       "      <td>5895</td>\n",
       "    </tr>\n",
       "  </tbody>\n",
       "</table>\n",
       "</div>"
      ],
      "text/plain": [
       "               city  monday  wednesday  friday\n",
       "0            Moscow   15740      11056   15945\n",
       "1  Saint-Petersburg    5614       7003    5895"
      ]
     },
     "metadata": {},
     "output_type": "display_data"
    }
   ],
   "source": [
    "# Таблица с результатами\n",
    "data_city_day = [['Moscow',15740,11056,15945], ['Saint-Petersburg',5614,7003,5895]]\n",
    "columns_city_day = ['city', 'monday', 'wednesday', 'friday']\n",
    "table_city_day = pd.DataFrame(data = data_city_day, columns = columns_city_day)\n",
    "display(table_city_day)"
   ]
  },
  {
   "cell_type": "markdown",
   "metadata": {
    "id": "-EgPIHYu_Zcu"
   },
   "source": [
    "**Выводы**\n",
    "\n",
    "Данные показывают разницу поведения пользователей:\n",
    "\n",
    "- В Москве пик прослушиваний приходится на понедельник и пятницу, а в среду заметен спад.\n",
    "- В Петербурге, наоборот, больше слушают музыку по средам. Активность в понедельник и пятницу здесь почти в равной мере уступает среде.\n",
    "\n",
    "Значит, данные говорят в пользу первой гипотезы."
   ]
  },
  {
   "cell_type": "markdown",
   "metadata": {
    "id": "atZAxtq4_Zcu"
   },
   "source": [
    "### Музыка в начале и в конце недели"
   ]
  },
  {
   "cell_type": "markdown",
   "metadata": {
    "id": "eXrQqXFH_Zcu"
   },
   "source": [
    "Согласно второй гипотезе, утром в понедельник в Москве преобладают одни жанры, а в Петербурге — другие. Так же и вечером пятницы преобладают разные жанры — в зависимости от города."
   ]
  },
  {
   "cell_type": "markdown",
   "metadata": {
    "id": "S8UcW6Hw_Zcu"
   },
   "source": [
    "Сохраним таблицы с данными в две переменные:\n",
    "* по Москве — в `moscow_general`;\n",
    "* по Санкт-Петербургу — в `spb_general`."
   ]
  },
  {
   "cell_type": "code",
   "execution_count": 28,
   "metadata": {
    "id": "qeaFfM_P_Zcu"
   },
   "outputs": [],
   "source": [
    "# получение таблицы moscow_general из тех строк таблицы df, для которых значение в столбце 'city' равно 'Moscow'\n",
    "moscow_general = df[df['city'] == 'Moscow']"
   ]
  },
  {
   "cell_type": "code",
   "execution_count": 29,
   "metadata": {
    "id": "ORaVRKto_Zcu"
   },
   "outputs": [],
   "source": [
    "# получение таблицы spb_general из тех строк таблицы df, для которых значение в столбце 'city' равно 'Saint-Petersburg'\n",
    "spb_general = df[df['city'] == 'Saint-Petersburg']"
   ]
  },
  {
   "cell_type": "markdown",
   "metadata": {
    "id": "MEJV-CX2_Zcu"
   },
   "source": [
    "Создадим функцию `genre_weekday()` с четырьмя параметрами:\n",
    "* таблица (датафрейм) с данными,\n",
    "* день недели,\n",
    "* начальная временная метка в формате 'hh:mm', \n",
    "* последняя временная метка в формате 'hh:mm'.\n",
    "\n",
    "Функция должна вернуть информацию о топ-10 жанров тех треков, которые прослушивали в указанный день, в промежутке между двумя отметками времени."
   ]
  },
  {
   "cell_type": "code",
   "execution_count": 30,
   "metadata": {
    "id": "laJT9BYl_Zcu"
   },
   "outputs": [],
   "source": [
    "# Объявление функции genre_weekday(),\n",
    "# которая возвращает информацию о самых популярных жанрах в указанный день в заданное время\n",
    "def genre_weekday(table, day, time1, time2):\n",
    "    genre_df = table[(table['day'] == day) & (table['time'] > time1) & (table['time'] < time2)]\n",
    "    genre_df_count = genre_df.groupby('genre')['track'].count()\n",
    "    genre_df_sorted = genre_df_count.sort_values(ascending = False)\n",
    "    return genre_df_sorted.head(10)"
   ]
  },
  {
   "cell_type": "markdown",
   "metadata": {
    "id": "la2s2_PF_Zcu"
   },
   "source": [
    "Cравним результаты функции `genre_weekday()` для Москвы и Санкт-Петербурга в понедельник утром (с 7:00 до 11:00) и в пятницу вечером (с 17:00 до 23:00):"
   ]
  },
  {
   "cell_type": "code",
   "execution_count": 31,
   "metadata": {
    "id": "yz7itPUQ_Zcu"
   },
   "outputs": [
    {
     "data": {
      "text/plain": [
       "genre\n",
       "pop            781\n",
       "dance          549\n",
       "electronic     480\n",
       "rock           474\n",
       "hiphop         286\n",
       "ruspop         186\n",
       "world          181\n",
       "rusrap         175\n",
       "alternative    164\n",
       "unknown        161\n",
       "Name: track, dtype: int64"
      ]
     },
     "execution_count": 31,
     "metadata": {},
     "output_type": "execute_result"
    }
   ],
   "source": [
    "# вызов функции для утра понедельника в Москве\n",
    "genre_weekday(moscow_general, 'Monday', '07:00', '11:00')"
   ]
  },
  {
   "cell_type": "code",
   "execution_count": 32,
   "metadata": {
    "id": "kwUcHPdy_Zcu"
   },
   "outputs": [
    {
     "data": {
      "text/plain": [
       "genre\n",
       "pop            218\n",
       "dance          182\n",
       "rock           162\n",
       "electronic     147\n",
       "hiphop          80\n",
       "ruspop          64\n",
       "alternative     58\n",
       "rusrap          55\n",
       "jazz            44\n",
       "classical       40\n",
       "Name: track, dtype: int64"
      ]
     },
     "execution_count": 32,
     "metadata": {},
     "output_type": "execute_result"
    }
   ],
   "source": [
    "# вызов функции для утра понедельника в Петербурге\n",
    "genre_weekday(spb_general, 'Monday', '07:00', '11:00')"
   ]
  },
  {
   "cell_type": "code",
   "execution_count": 33,
   "metadata": {
    "id": "EzXVRE1o_Zcu"
   },
   "outputs": [
    {
     "data": {
      "text/plain": [
       "genre\n",
       "pop            713\n",
       "rock           517\n",
       "dance          495\n",
       "electronic     482\n",
       "hiphop         273\n",
       "world          208\n",
       "ruspop         170\n",
       "alternative    163\n",
       "classical      163\n",
       "rusrap         142\n",
       "Name: track, dtype: int64"
      ]
     },
     "execution_count": 33,
     "metadata": {},
     "output_type": "execute_result"
    }
   ],
   "source": [
    "# вызов функции для вечера пятницы в Москве\n",
    "genre_weekday(moscow_general, 'Friday', '17:00', '23:00')"
   ]
  },
  {
   "cell_type": "code",
   "execution_count": 34,
   "metadata": {
    "id": "JZaEKu5v_Zcu"
   },
   "outputs": [
    {
     "data": {
      "text/plain": [
       "genre\n",
       "pop            256\n",
       "electronic     216\n",
       "rock           216\n",
       "dance          210\n",
       "hiphop          97\n",
       "alternative     63\n",
       "jazz            61\n",
       "classical       60\n",
       "rusrap          59\n",
       "world           54\n",
       "Name: track, dtype: int64"
      ]
     },
     "execution_count": 34,
     "metadata": {},
     "output_type": "execute_result"
    }
   ],
   "source": [
    "# вызов функции для вечера пятницы в Петербурге\n",
    "genre_weekday(spb_general, 'Friday', '17:00', '23:00')"
   ]
  },
  {
   "cell_type": "markdown",
   "metadata": {
    "id": "wrCe4MNX_Zcu"
   },
   "source": [
    "**Выводы**\n",
    "\n",
    "Если сравнить топ-10 жанров в понедельник утром, можно сделать такие выводы:\n",
    "\n",
    "1. В Москве и Петербурге слушают похожую музыку. Единственное отличие — в московский рейтинг вошёл жанр “world”, а в петербургский — джаз и классика.\n",
    "\n",
    "2. В Москве пропущенных значений оказалось так много, что значение `'unknown'` заняло десятое место среди самых популярных жанров. Значит, пропущенные значения занимают существенную долю в данных и угрожают достоверности исследования.\n",
    "\n",
    "Вечер пятницы не меняет эту картину. Некоторые жанры поднимаются немного выше, другие спускаются, но в целом топ-10 остаётся тем же самым.\n",
    "\n",
    "Таким образом, вторая гипотеза подтвердилась лишь частично:\n",
    "* Пользователи слушают похожую музыку в начале недели и в конце.\n",
    "* Разница между Москвой и Петербургом не слишком выражена. В Москве чаще слушают русскую популярную музыку, в Петербурге — джаз.\n",
    "\n",
    "Однако пропуски в данных ставят под сомнение этот результат. В Москве их так много, что рейтинг топ-10 мог бы выглядеть иначе, если бы не утерянные  данные о жанрах."
   ]
  },
  {
   "cell_type": "markdown",
   "metadata": {
    "id": "JolODAqr_Zcu"
   },
   "source": [
    "### Жанровые предпочтения в Москве и Петербурге\n",
    "\n",
    "Гипотеза: Петербург — столица рэпа, музыку этого жанра там слушают чаще, чем в Москве.  А Москва — город контрастов, в котором, тем не менее, преобладает поп-музыка."
   ]
  },
  {
   "cell_type": "markdown",
   "metadata": {
    "id": "DlegSvaT_Zcu"
   },
   "source": [
    "Сгруппируем таблицу `moscow_general` по жанру и посчитаем прослушивания треков каждого жанра методом `count()`. Затем отсортируем результат в порядке убывания и сохраним его в таблице `moscow_genres`."
   ]
  },
  {
   "cell_type": "code",
   "execution_count": 35,
   "metadata": {
    "id": "r19lIPke_Zcu"
   },
   "outputs": [],
   "source": [
    "# группировка таблицы moscow_general по столбцу 'genre', подсчёт числа значений 'genre' в этой группировке, \n",
    "# сортировка получившегося Series в порядке убывания и сохранение в moscow_genres\n",
    "moscow_genres = moscow_general.groupby('genre')['genre'].count().sort_values(ascending=False)"
   ]
  },
  {
   "cell_type": "markdown",
   "metadata": {
    "id": "6kMuomxTiIr8"
   },
   "source": [
    "Выведем на экран первые десять строк `moscow_genres`:"
   ]
  },
  {
   "cell_type": "code",
   "execution_count": 36,
   "metadata": {
    "id": "WhCSooF8_Zcv"
   },
   "outputs": [
    {
     "data": {
      "text/plain": [
       "genre\n",
       "pop            5892\n",
       "dance          4435\n",
       "rock           3965\n",
       "electronic     3786\n",
       "hiphop         2096\n",
       "classical      1616\n",
       "world          1432\n",
       "alternative    1379\n",
       "ruspop         1372\n",
       "rusrap         1161\n",
       "Name: genre, dtype: int64"
      ]
     },
     "execution_count": 36,
     "metadata": {},
     "output_type": "execute_result"
    }
   ],
   "source": [
    "# просмотр первых 10 строк moscow_genres\n",
    "moscow_genres.head(10) "
   ]
  },
  {
   "cell_type": "markdown",
   "metadata": {
    "id": "cnPG2vnN_Zcv"
   },
   "source": [
    "Теперь повторим то же и для Петербурга.\n",
    "\n",
    "Сгруппируем таблицу `spb_general` по жанру. Посчитаем прослушивания треков каждого жанра. Результат отсортируем в порядке убывания и сохраним в таблице `spb_genres`:\n"
   ]
  },
  {
   "cell_type": "code",
   "execution_count": 37,
   "metadata": {
    "id": "gluLIpE7_Zcv"
   },
   "outputs": [],
   "source": [
    "# группировка таблицы spb_general по столбцу 'genre', подсчёт числа значений 'genre' в этой группировке методом count(), \n",
    "# сортировка получившегося Series в порядке убывания и сохранение в spb_genres\n",
    "spb_genres = spb_general.groupby('genre')['genre'].count().sort_values(ascending=False)"
   ]
  },
  {
   "cell_type": "markdown",
   "metadata": {
    "id": "5Doha_ODgyQ8"
   },
   "source": [
    "Выведите на экран первые десять строк `spb_genres`:"
   ]
  },
  {
   "cell_type": "code",
   "execution_count": 38,
   "metadata": {
    "id": "uaGJHjVU_Zcv"
   },
   "outputs": [
    {
     "data": {
      "text/plain": [
       "genre\n",
       "pop            2431\n",
       "dance          1932\n",
       "rock           1879\n",
       "electronic     1736\n",
       "hiphop          960\n",
       "alternative     649\n",
       "classical       646\n",
       "rusrap          564\n",
       "ruspop          538\n",
       "world           515\n",
       "Name: genre, dtype: int64"
      ]
     },
     "execution_count": 38,
     "metadata": {},
     "output_type": "execute_result"
    }
   ],
   "source": [
    "# просмотр первых 10 строк spb_genres\n",
    "spb_genres.head(10) "
   ]
  },
  {
   "cell_type": "markdown",
   "metadata": {
    "id": "RY51YJYu_Zcv"
   },
   "source": [
    "**Выводы**"
   ]
  },
  {
   "cell_type": "markdown",
   "metadata": {
    "id": "nVhnJEm__Zcv"
   },
   "source": [
    "Гипотеза частично подтвердилась:\n",
    "* Поп-музыка — самый популярный жанр в Москве, как и предполагала гипотеза. Более того, в топ-10 жанров встречается близкий жанр — русская популярная музыка.\n",
    "* Вопреки ожиданиям, рэп одинаково популярен в Москве и Петербурге. \n"
   ]
  },
  {
   "cell_type": "markdown",
   "metadata": {
    "id": "ykKQ0N65_Zcv"
   },
   "source": [
    "## Итоги исследования"
   ]
  },
  {
   "cell_type": "markdown",
   "metadata": {
    "id": "tjUwbHb3_Zcv"
   },
   "source": [
    "Мы проверили три гипотезы и установили:\n",
    "\n",
    "1. День недели по-разному влияет на активность пользователей в Москве и Петербурге. \n",
    "\n",
    "Первая гипотеза полностью подтвердилась.\n",
    "\n",
    "2. Музыкальные предпочтения не сильно меняются в течение недели — будь то Москва или Петербург. Небольшие различия заметны в начале недели, по понедельникам:\n",
    "* в Москве слушают музыку жанра “world”,\n",
    "* в Петербурге — джаз и классику.\n",
    "\n",
    "Таким образом, вторая гипотеза подтвердилась лишь отчасти. Этот результат мог оказаться иным, если бы не пропуски в данных.\n",
    "\n",
    "3. Во вкусах пользователей Москвы и Петербурга больше общего чем различий. Вопреки ожиданиям, предпочтения жанров в Петербурге напоминают московские.\n",
    "\n",
    "Третья гипотеза не подтвердилась. Если различия в предпочтениях и существуют, на основной массе пользователей они незаметны."
   ]
  }
 ],
 "metadata": {
  "ExecuteTimeLog": [
   {
    "duration": 601,
    "start_time": "2022-02-05T17:17:46.447Z"
   },
   {
    "duration": 302,
    "start_time": "2022-02-05T17:17:47.948Z"
   },
   {
    "duration": 1356,
    "start_time": "2022-02-05T17:18:01.587Z"
   },
   {
    "duration": 128,
    "start_time": "2022-02-05T17:18:33.742Z"
   },
   {
    "duration": 16,
    "start_time": "2022-02-05T17:23:29.166Z"
   },
   {
    "duration": 50,
    "start_time": "2022-02-05T17:24:10.576Z"
   },
   {
    "duration": 169,
    "start_time": "2022-02-05T17:27:48.470Z"
   },
   {
    "duration": 4,
    "start_time": "2022-02-05T17:27:59.363Z"
   },
   {
    "duration": 31,
    "start_time": "2022-02-05T17:30:20.055Z"
   },
   {
    "duration": 4,
    "start_time": "2022-02-05T17:30:55.719Z"
   },
   {
    "duration": 23,
    "start_time": "2022-02-05T17:39:13.633Z"
   },
   {
    "duration": 178,
    "start_time": "2022-02-05T17:47:15.084Z"
   },
   {
    "duration": 4519,
    "start_time": "2022-02-05T17:47:35.783Z"
   },
   {
    "duration": 4774,
    "start_time": "2022-02-05T17:51:27.272Z"
   },
   {
    "duration": 5,
    "start_time": "2022-02-05T17:52:29.969Z"
   },
   {
    "duration": 20,
    "start_time": "2022-02-05T17:52:47.157Z"
   },
   {
    "duration": 4,
    "start_time": "2022-02-05T17:52:51.774Z"
   },
   {
    "duration": 18,
    "start_time": "2022-02-05T17:53:00.181Z"
   },
   {
    "duration": 23,
    "start_time": "2022-02-05T17:53:37.526Z"
   },
   {
    "duration": 176,
    "start_time": "2022-02-05T17:54:56.307Z"
   },
   {
    "duration": 55,
    "start_time": "2022-02-05T17:55:13.698Z"
   },
   {
    "duration": 81,
    "start_time": "2022-02-05T17:57:13.113Z"
   },
   {
    "duration": 63,
    "start_time": "2022-02-05T18:00:11.558Z"
   },
   {
    "duration": 60,
    "start_time": "2022-02-05T18:00:32.246Z"
   },
   {
    "duration": 52,
    "start_time": "2022-02-05T18:00:39.539Z"
   },
   {
    "duration": 350,
    "start_time": "2022-02-06T10:49:32.459Z"
   },
   {
    "duration": 824,
    "start_time": "2022-02-06T10:55:01.778Z"
   },
   {
    "duration": 181,
    "start_time": "2022-02-06T10:55:02.605Z"
   },
   {
    "duration": 26,
    "start_time": "2022-02-06T10:55:02.789Z"
   },
   {
    "duration": 47,
    "start_time": "2022-02-06T10:55:02.818Z"
   },
   {
    "duration": 6,
    "start_time": "2022-02-06T10:55:02.868Z"
   },
   {
    "duration": 28,
    "start_time": "2022-02-06T10:55:02.876Z"
   },
   {
    "duration": 6,
    "start_time": "2022-02-06T10:55:02.907Z"
   },
   {
    "duration": 31,
    "start_time": "2022-02-06T10:55:02.949Z"
   },
   {
    "duration": 24,
    "start_time": "2022-02-06T10:55:02.984Z"
   },
   {
    "duration": 59,
    "start_time": "2022-02-06T10:55:03.011Z"
   },
   {
    "duration": 101,
    "start_time": "2022-02-06T10:55:03.072Z"
   },
   {
    "duration": 123,
    "start_time": "2022-02-06T10:55:03.175Z"
   },
   {
    "duration": 89,
    "start_time": "2022-02-06T10:55:03.301Z"
   },
   {
    "duration": 94,
    "start_time": "2022-02-06T10:55:03.393Z"
   },
   {
    "duration": 4,
    "start_time": "2022-02-06T10:55:03.489Z"
   },
   {
    "duration": 7,
    "start_time": "2022-02-06T10:55:03.496Z"
   },
   {
    "duration": 7,
    "start_time": "2022-02-06T10:55:03.506Z"
   },
   {
    "duration": 11,
    "start_time": "2022-02-06T10:55:03.515Z"
   },
   {
    "duration": 4,
    "start_time": "2022-02-06T10:55:03.549Z"
   },
   {
    "duration": 15,
    "start_time": "2022-02-06T10:55:03.555Z"
   },
   {
    "duration": 7,
    "start_time": "2022-02-06T10:55:03.573Z"
   },
   {
    "duration": 9,
    "start_time": "2022-02-06T10:55:03.583Z"
   },
   {
    "duration": 3,
    "start_time": "2022-02-06T10:55:03.597Z"
   },
   {
    "duration": 13,
    "start_time": "2022-02-06T10:55:03.602Z"
   },
   {
    "duration": 13,
    "start_time": "2022-02-06T10:55:03.617Z"
   },
   {
    "duration": 19,
    "start_time": "2022-02-06T10:55:03.632Z"
   },
   {
    "duration": 9,
    "start_time": "2022-02-06T10:55:03.654Z"
   },
   {
    "duration": 10,
    "start_time": "2022-02-06T10:55:03.665Z"
   },
   {
    "duration": 8,
    "start_time": "2022-02-06T10:55:03.678Z"
   },
   {
    "duration": 8,
    "start_time": "2022-02-06T10:55:03.689Z"
   },
   {
    "duration": 14,
    "start_time": "2022-02-06T10:55:03.699Z"
   },
   {
    "duration": 6,
    "start_time": "2022-02-06T10:55:03.716Z"
   },
   {
    "duration": 9,
    "start_time": "2022-02-06T10:55:03.724Z"
   },
   {
    "duration": 15,
    "start_time": "2022-02-06T10:55:03.735Z"
   },
   {
    "duration": 6,
    "start_time": "2022-02-06T10:55:03.753Z"
   },
   {
    "duration": 8,
    "start_time": "2022-02-06T10:55:03.762Z"
   },
   {
    "duration": 7,
    "start_time": "2022-02-06T10:55:03.773Z"
   },
   {
    "duration": 7,
    "start_time": "2022-02-06T10:55:03.782Z"
   },
   {
    "duration": 368,
    "start_time": "2022-02-06T10:56:17.515Z"
   },
   {
    "duration": 808,
    "start_time": "2022-02-06T10:56:22.469Z"
   },
   {
    "duration": 161,
    "start_time": "2022-02-06T11:03:38.109Z"
   },
   {
    "duration": 72,
    "start_time": "2022-02-06T11:03:46.316Z"
   },
   {
    "duration": 4,
    "start_time": "2022-02-06T11:27:13.650Z"
   },
   {
    "duration": 14,
    "start_time": "2022-02-06T11:44:58.598Z"
   },
   {
    "duration": 103,
    "start_time": "2022-02-06T11:52:33.810Z"
   },
   {
    "duration": 11,
    "start_time": "2022-02-06T11:56:48.716Z"
   },
   {
    "duration": 14,
    "start_time": "2022-02-06T11:57:15.470Z"
   },
   {
    "duration": 4,
    "start_time": "2022-02-06T11:59:54.569Z"
   },
   {
    "duration": 22,
    "start_time": "2022-02-06T11:59:57.101Z"
   },
   {
    "duration": 21,
    "start_time": "2022-02-06T12:00:16.324Z"
   },
   {
    "duration": 72,
    "start_time": "2022-02-06T12:06:52.825Z"
   },
   {
    "duration": 44,
    "start_time": "2022-02-06T12:25:40.435Z"
   },
   {
    "duration": 60,
    "start_time": "2022-02-06T12:26:25.391Z"
   },
   {
    "duration": 15,
    "start_time": "2022-02-06T12:27:29.747Z"
   },
   {
    "duration": 15,
    "start_time": "2022-02-06T12:27:33.536Z"
   },
   {
    "duration": 15,
    "start_time": "2022-02-06T12:28:59.177Z"
   },
   {
    "duration": 16,
    "start_time": "2022-02-06T12:38:31.546Z"
   },
   {
    "duration": 279,
    "start_time": "2022-02-06T13:48:27.660Z"
   },
   {
    "duration": 11,
    "start_time": "2022-02-06T13:48:53.215Z"
   },
   {
    "duration": 22,
    "start_time": "2022-02-06T13:48:56.497Z"
   },
   {
    "duration": 18,
    "start_time": "2022-02-06T13:49:43.602Z"
   },
   {
    "duration": 20,
    "start_time": "2022-02-06T13:50:19.208Z"
   },
   {
    "duration": 19,
    "start_time": "2022-02-06T13:50:36.585Z"
   },
   {
    "duration": 21,
    "start_time": "2022-02-06T13:51:20.879Z"
   },
   {
    "duration": 20,
    "start_time": "2022-02-06T13:51:40.090Z"
   },
   {
    "duration": 6,
    "start_time": "2022-02-06T14:12:40.116Z"
   },
   {
    "duration": 6,
    "start_time": "2022-02-06T14:14:50.634Z"
   },
   {
    "duration": 12,
    "start_time": "2022-02-06T14:15:33.646Z"
   },
   {
    "duration": 15,
    "start_time": "2022-02-06T14:18:39.043Z"
   },
   {
    "duration": 12,
    "start_time": "2022-02-06T14:19:28.927Z"
   },
   {
    "duration": 5,
    "start_time": "2022-02-06T14:32:27.332Z"
   },
   {
    "duration": 6,
    "start_time": "2022-02-06T14:35:33.805Z"
   },
   {
    "duration": 26,
    "start_time": "2022-02-06T16:56:40.108Z"
   },
   {
    "duration": 18,
    "start_time": "2022-02-06T16:56:43.612Z"
   },
   {
    "duration": 23,
    "start_time": "2022-02-06T16:56:45.736Z"
   },
   {
    "duration": 17,
    "start_time": "2022-02-06T16:57:27.574Z"
   },
   {
    "duration": 41,
    "start_time": "2022-02-06T17:58:04.121Z"
   },
   {
    "duration": 11,
    "start_time": "2022-02-06T17:59:37.542Z"
   },
   {
    "duration": 7,
    "start_time": "2022-02-06T17:59:56.837Z"
   },
   {
    "duration": 11,
    "start_time": "2022-02-06T18:00:13.208Z"
   },
   {
    "duration": 7,
    "start_time": "2022-02-06T18:00:16.186Z"
   },
   {
    "duration": 4,
    "start_time": "2022-02-06T18:00:36.912Z"
   },
   {
    "duration": 3,
    "start_time": "2022-02-06T18:00:41.334Z"
   },
   {
    "duration": 8,
    "start_time": "2022-02-06T18:01:24.785Z"
   },
   {
    "duration": 6,
    "start_time": "2022-02-06T18:01:40.159Z"
   },
   {
    "duration": 769,
    "start_time": "2022-02-06T18:03:11.185Z"
   },
   {
    "duration": 196,
    "start_time": "2022-02-06T18:03:11.957Z"
   },
   {
    "duration": 34,
    "start_time": "2022-02-06T18:03:12.161Z"
   },
   {
    "duration": 53,
    "start_time": "2022-02-06T18:03:12.198Z"
   },
   {
    "duration": 10,
    "start_time": "2022-02-06T18:03:12.254Z"
   },
   {
    "duration": 51,
    "start_time": "2022-02-06T18:03:12.267Z"
   },
   {
    "duration": 27,
    "start_time": "2022-02-06T18:03:12.324Z"
   },
   {
    "duration": 30,
    "start_time": "2022-02-06T18:03:12.355Z"
   },
   {
    "duration": 25,
    "start_time": "2022-02-06T18:03:12.388Z"
   },
   {
    "duration": 57,
    "start_time": "2022-02-06T18:03:12.416Z"
   },
   {
    "duration": 100,
    "start_time": "2022-02-06T18:03:12.476Z"
   },
   {
    "duration": 112,
    "start_time": "2022-02-06T18:03:12.579Z"
   },
   {
    "duration": 88,
    "start_time": "2022-02-06T18:03:12.694Z"
   },
   {
    "duration": 91,
    "start_time": "2022-02-06T18:03:12.785Z"
   },
   {
    "duration": 4,
    "start_time": "2022-02-06T18:03:12.879Z"
   },
   {
    "duration": 29,
    "start_time": "2022-02-06T18:03:12.886Z"
   },
   {
    "duration": 85,
    "start_time": "2022-02-06T18:03:12.918Z"
   },
   {
    "duration": 16,
    "start_time": "2022-02-06T18:03:13.006Z"
   },
   {
    "duration": 36,
    "start_time": "2022-02-06T18:03:13.024Z"
   },
   {
    "duration": 6,
    "start_time": "2022-02-06T18:03:13.063Z"
   },
   {
    "duration": 43,
    "start_time": "2022-02-06T18:03:13.071Z"
   },
   {
    "duration": 31,
    "start_time": "2022-02-06T18:03:13.120Z"
   },
   {
    "duration": 19,
    "start_time": "2022-02-06T18:03:13.153Z"
   },
   {
    "duration": 17,
    "start_time": "2022-02-06T18:03:13.175Z"
   },
   {
    "duration": 52,
    "start_time": "2022-02-06T18:03:13.195Z"
   },
   {
    "duration": 19,
    "start_time": "2022-02-06T18:03:13.250Z"
   },
   {
    "duration": 12,
    "start_time": "2022-02-06T18:03:13.271Z"
   },
   {
    "duration": 19,
    "start_time": "2022-02-06T18:03:13.285Z"
   },
   {
    "duration": 51,
    "start_time": "2022-02-06T18:03:13.307Z"
   },
   {
    "duration": 6,
    "start_time": "2022-02-06T18:03:13.361Z"
   },
   {
    "duration": 33,
    "start_time": "2022-02-06T18:03:13.370Z"
   },
   {
    "duration": 53,
    "start_time": "2022-02-06T18:03:13.406Z"
   },
   {
    "duration": 24,
    "start_time": "2022-02-06T18:03:13.462Z"
   },
   {
    "duration": 17,
    "start_time": "2022-02-06T18:03:13.489Z"
   },
   {
    "duration": 43,
    "start_time": "2022-02-06T18:03:13.508Z"
   },
   {
    "duration": 6,
    "start_time": "2022-02-06T18:03:13.554Z"
   },
   {
    "duration": 9,
    "start_time": "2022-02-06T18:03:13.562Z"
   },
   {
    "duration": 5,
    "start_time": "2022-02-06T18:03:13.574Z"
   },
   {
    "duration": 16,
    "start_time": "2022-02-06T18:31:35.070Z"
   },
   {
    "duration": 6,
    "start_time": "2022-02-06T19:04:26.910Z"
   },
   {
    "duration": 758,
    "start_time": "2022-02-06T19:09:37.290Z"
   },
   {
    "duration": 175,
    "start_time": "2022-02-06T19:09:38.051Z"
   },
   {
    "duration": 32,
    "start_time": "2022-02-06T19:09:38.232Z"
   },
   {
    "duration": 35,
    "start_time": "2022-02-06T19:09:38.267Z"
   },
   {
    "duration": 6,
    "start_time": "2022-02-06T19:09:38.305Z"
   },
   {
    "duration": 27,
    "start_time": "2022-02-06T19:09:38.350Z"
   },
   {
    "duration": 8,
    "start_time": "2022-02-06T19:09:38.381Z"
   },
   {
    "duration": 31,
    "start_time": "2022-02-06T19:09:38.393Z"
   },
   {
    "duration": 24,
    "start_time": "2022-02-06T19:09:38.449Z"
   },
   {
    "duration": 28,
    "start_time": "2022-02-06T19:09:38.476Z"
   },
   {
    "duration": 106,
    "start_time": "2022-02-06T19:09:38.507Z"
   },
   {
    "duration": 101,
    "start_time": "2022-02-06T19:09:38.616Z"
   },
   {
    "duration": 86,
    "start_time": "2022-02-06T19:09:38.720Z"
   },
   {
    "duration": 81,
    "start_time": "2022-02-06T19:09:38.809Z"
   },
   {
    "duration": 6,
    "start_time": "2022-02-06T19:09:38.893Z"
   },
   {
    "duration": 17,
    "start_time": "2022-02-06T19:09:38.902Z"
   },
   {
    "duration": 93,
    "start_time": "2022-02-06T19:09:38.922Z"
   },
   {
    "duration": 39,
    "start_time": "2022-02-06T19:09:39.018Z"
   },
   {
    "duration": 18,
    "start_time": "2022-02-06T19:09:39.060Z"
   },
   {
    "duration": 6,
    "start_time": "2022-02-06T19:09:39.080Z"
   },
   {
    "duration": 60,
    "start_time": "2022-02-06T19:09:39.089Z"
   },
   {
    "duration": 21,
    "start_time": "2022-02-06T19:09:39.156Z"
   },
   {
    "duration": 21,
    "start_time": "2022-02-06T19:09:39.180Z"
   },
   {
    "duration": 52,
    "start_time": "2022-02-06T19:09:39.204Z"
   },
   {
    "duration": 20,
    "start_time": "2022-02-06T19:09:39.259Z"
   },
   {
    "duration": 17,
    "start_time": "2022-02-06T19:09:39.282Z"
   },
   {
    "duration": 48,
    "start_time": "2022-02-06T19:09:39.302Z"
   },
   {
    "duration": 16,
    "start_time": "2022-02-06T19:09:39.352Z"
   },
   {
    "duration": 15,
    "start_time": "2022-02-06T19:09:39.370Z"
   },
   {
    "duration": 7,
    "start_time": "2022-02-06T19:09:39.388Z"
   },
   {
    "duration": 68,
    "start_time": "2022-02-06T19:09:39.398Z"
   },
   {
    "duration": 18,
    "start_time": "2022-02-06T19:09:39.469Z"
   },
   {
    "duration": 23,
    "start_time": "2022-02-06T19:09:39.490Z"
   },
   {
    "duration": 49,
    "start_time": "2022-02-06T19:09:39.516Z"
   },
   {
    "duration": 10,
    "start_time": "2022-02-06T19:09:39.568Z"
   },
   {
    "duration": 7,
    "start_time": "2022-02-06T19:09:39.580Z"
   },
   {
    "duration": 11,
    "start_time": "2022-02-06T19:09:39.590Z"
   },
   {
    "duration": 47,
    "start_time": "2022-02-06T19:09:39.603Z"
   },
   {
    "duration": 314,
    "start_time": "2022-02-13T08:57:31.195Z"
   },
   {
    "duration": 568,
    "start_time": "2022-02-13T08:58:08.461Z"
   },
   {
    "duration": 134,
    "start_time": "2022-02-13T08:58:09.030Z"
   },
   {
    "duration": 16,
    "start_time": "2022-02-13T08:58:09.166Z"
   },
   {
    "duration": 24,
    "start_time": "2022-02-13T08:58:09.184Z"
   },
   {
    "duration": 4,
    "start_time": "2022-02-13T08:58:09.209Z"
   },
   {
    "duration": 48,
    "start_time": "2022-02-13T08:58:09.215Z"
   },
   {
    "duration": 5,
    "start_time": "2022-02-13T08:58:09.264Z"
   },
   {
    "duration": 22,
    "start_time": "2022-02-13T08:58:09.271Z"
   },
   {
    "duration": 17,
    "start_time": "2022-02-13T08:58:09.295Z"
   },
   {
    "duration": 47,
    "start_time": "2022-02-13T08:58:09.313Z"
   },
   {
    "duration": 54,
    "start_time": "2022-02-13T08:58:09.361Z"
   },
   {
    "duration": 80,
    "start_time": "2022-02-13T08:58:09.417Z"
   },
   {
    "duration": 49,
    "start_time": "2022-02-13T08:58:09.498Z"
   },
   {
    "duration": 54,
    "start_time": "2022-02-13T08:58:09.548Z"
   },
   {
    "duration": 3,
    "start_time": "2022-02-13T08:58:09.603Z"
   },
   {
    "duration": 18,
    "start_time": "2022-02-13T08:58:09.608Z"
   },
   {
    "duration": 8,
    "start_time": "2022-02-13T08:58:09.627Z"
   },
   {
    "duration": 65,
    "start_time": "2022-02-13T08:58:09.637Z"
   },
   {
    "duration": 11,
    "start_time": "2022-02-13T08:58:09.704Z"
   },
   {
    "duration": 11,
    "start_time": "2022-02-13T08:58:09.716Z"
   },
   {
    "duration": 3,
    "start_time": "2022-02-13T08:58:09.728Z"
   },
   {
    "duration": 42,
    "start_time": "2022-02-13T08:58:09.732Z"
   },
   {
    "duration": 13,
    "start_time": "2022-02-13T08:58:09.777Z"
   },
   {
    "duration": 14,
    "start_time": "2022-02-13T08:58:09.792Z"
   },
   {
    "duration": 13,
    "start_time": "2022-02-13T08:58:09.807Z"
   },
   {
    "duration": 45,
    "start_time": "2022-02-13T08:58:09.822Z"
   },
   {
    "duration": 14,
    "start_time": "2022-02-13T08:58:09.869Z"
   },
   {
    "duration": 8,
    "start_time": "2022-02-13T08:58:09.885Z"
   },
   {
    "duration": 13,
    "start_time": "2022-02-13T08:58:09.895Z"
   },
   {
    "duration": 8,
    "start_time": "2022-02-13T08:58:09.910Z"
   },
   {
    "duration": 4,
    "start_time": "2022-02-13T08:58:09.920Z"
   },
   {
    "duration": 20,
    "start_time": "2022-02-13T08:58:09.960Z"
   },
   {
    "duration": 10,
    "start_time": "2022-02-13T08:58:09.982Z"
   },
   {
    "duration": 15,
    "start_time": "2022-02-13T08:58:09.994Z"
   },
   {
    "duration": 12,
    "start_time": "2022-02-13T08:58:10.011Z"
   },
   {
    "duration": 39,
    "start_time": "2022-02-13T08:58:10.025Z"
   },
   {
    "duration": 6,
    "start_time": "2022-02-13T08:58:10.066Z"
   },
   {
    "duration": 9,
    "start_time": "2022-02-13T08:58:10.073Z"
   },
   {
    "duration": 11,
    "start_time": "2022-02-13T08:58:10.083Z"
   },
   {
    "duration": 77,
    "start_time": "2022-02-13T18:08:47.970Z"
   },
   {
    "duration": 706,
    "start_time": "2022-02-13T18:15:35.483Z"
   },
   {
    "duration": 175,
    "start_time": "2022-02-13T18:15:36.192Z"
   },
   {
    "duration": 27,
    "start_time": "2022-02-13T18:15:36.370Z"
   },
   {
    "duration": 53,
    "start_time": "2022-02-13T18:15:36.400Z"
   },
   {
    "duration": 5,
    "start_time": "2022-02-13T18:15:36.456Z"
   },
   {
    "duration": 25,
    "start_time": "2022-02-13T18:15:36.463Z"
   },
   {
    "duration": 5,
    "start_time": "2022-02-13T18:15:36.491Z"
   },
   {
    "duration": 61,
    "start_time": "2022-02-13T18:15:36.500Z"
   },
   {
    "duration": 23,
    "start_time": "2022-02-13T18:15:36.563Z"
   },
   {
    "duration": 47,
    "start_time": "2022-02-13T18:15:36.589Z"
   },
   {
    "duration": 77,
    "start_time": "2022-02-13T18:15:36.638Z"
   },
   {
    "duration": 99,
    "start_time": "2022-02-13T18:15:36.717Z"
   },
   {
    "duration": 95,
    "start_time": "2022-02-13T18:15:36.818Z"
   },
   {
    "duration": 83,
    "start_time": "2022-02-13T18:15:36.915Z"
   },
   {
    "duration": 358,
    "start_time": "2022-02-13T18:15:46.445Z"
   },
   {
    "duration": 258,
    "start_time": "2022-02-13T18:17:13.748Z"
   },
   {
    "duration": 1082,
    "start_time": "2022-02-13T18:17:12.928Z"
   },
   {
    "duration": 1062,
    "start_time": "2022-02-13T18:17:12.949Z"
   },
   {
    "duration": 1054,
    "start_time": "2022-02-13T18:17:12.959Z"
   },
   {
    "duration": 1050,
    "start_time": "2022-02-13T18:17:12.964Z"
   },
   {
    "duration": 1047,
    "start_time": "2022-02-13T18:17:12.969Z"
   },
   {
    "duration": 1046,
    "start_time": "2022-02-13T18:17:12.972Z"
   },
   {
    "duration": 1044,
    "start_time": "2022-02-13T18:17:12.975Z"
   },
   {
    "duration": 1043,
    "start_time": "2022-02-13T18:17:12.978Z"
   },
   {
    "duration": 1042,
    "start_time": "2022-02-13T18:17:12.981Z"
   },
   {
    "duration": 1039,
    "start_time": "2022-02-13T18:17:12.985Z"
   },
   {
    "duration": 1039,
    "start_time": "2022-02-13T18:17:12.987Z"
   },
   {
    "duration": 1037,
    "start_time": "2022-02-13T18:17:12.990Z"
   },
   {
    "duration": 1036,
    "start_time": "2022-02-13T18:17:12.993Z"
   },
   {
    "duration": 1035,
    "start_time": "2022-02-13T18:17:12.996Z"
   },
   {
    "duration": 1033,
    "start_time": "2022-02-13T18:17:12.999Z"
   },
   {
    "duration": 1032,
    "start_time": "2022-02-13T18:17:13.002Z"
   },
   {
    "duration": 1030,
    "start_time": "2022-02-13T18:17:13.005Z"
   },
   {
    "duration": 1017,
    "start_time": "2022-02-13T18:17:13.020Z"
   },
   {
    "duration": 1014,
    "start_time": "2022-02-13T18:17:13.024Z"
   },
   {
    "duration": 1012,
    "start_time": "2022-02-13T18:17:13.028Z"
   },
   {
    "duration": 1010,
    "start_time": "2022-02-13T18:17:13.031Z"
   },
   {
    "duration": 1007,
    "start_time": "2022-02-13T18:17:13.036Z"
   },
   {
    "duration": 236,
    "start_time": "2022-02-13T18:18:15.369Z"
   },
   {
    "duration": 1082,
    "start_time": "2022-02-13T18:18:14.527Z"
   },
   {
    "duration": 1078,
    "start_time": "2022-02-13T18:18:14.532Z"
   },
   {
    "duration": 1076,
    "start_time": "2022-02-13T18:18:14.536Z"
   },
   {
    "duration": 1065,
    "start_time": "2022-02-13T18:18:14.548Z"
   },
   {
    "duration": 1060,
    "start_time": "2022-02-13T18:18:14.554Z"
   },
   {
    "duration": 1057,
    "start_time": "2022-02-13T18:18:14.559Z"
   },
   {
    "duration": 1055,
    "start_time": "2022-02-13T18:18:14.562Z"
   },
   {
    "duration": 1051,
    "start_time": "2022-02-13T18:18:14.567Z"
   },
   {
    "duration": 1050,
    "start_time": "2022-02-13T18:18:14.570Z"
   },
   {
    "duration": 1048,
    "start_time": "2022-02-13T18:18:14.573Z"
   },
   {
    "duration": 1046,
    "start_time": "2022-02-13T18:18:14.577Z"
   },
   {
    "duration": 1043,
    "start_time": "2022-02-13T18:18:14.581Z"
   },
   {
    "duration": 1031,
    "start_time": "2022-02-13T18:18:14.594Z"
   },
   {
    "duration": 1027,
    "start_time": "2022-02-13T18:18:14.599Z"
   },
   {
    "duration": 1025,
    "start_time": "2022-02-13T18:18:14.603Z"
   },
   {
    "duration": 1023,
    "start_time": "2022-02-13T18:18:14.606Z"
   },
   {
    "duration": 1022,
    "start_time": "2022-02-13T18:18:14.609Z"
   },
   {
    "duration": 1019,
    "start_time": "2022-02-13T18:18:14.613Z"
   },
   {
    "duration": 1018,
    "start_time": "2022-02-13T18:18:14.616Z"
   },
   {
    "duration": 1015,
    "start_time": "2022-02-13T18:18:14.620Z"
   },
   {
    "duration": 1013,
    "start_time": "2022-02-13T18:18:14.623Z"
   },
   {
    "duration": 1012,
    "start_time": "2022-02-13T18:18:14.625Z"
   },
   {
    "duration": 4,
    "start_time": "2022-02-13T18:19:23.411Z"
   },
   {
    "duration": 14,
    "start_time": "2022-02-13T18:19:28.036Z"
   },
   {
    "duration": 3,
    "start_time": "2022-02-13T18:19:50.142Z"
   },
   {
    "duration": 208,
    "start_time": "2022-02-13T18:19:50.148Z"
   },
   {
    "duration": 17,
    "start_time": "2022-02-13T18:19:50.359Z"
   },
   {
    "duration": 71,
    "start_time": "2022-02-13T18:19:50.379Z"
   },
   {
    "duration": 13,
    "start_time": "2022-02-13T18:19:50.453Z"
   },
   {
    "duration": 19,
    "start_time": "2022-02-13T18:19:50.469Z"
   },
   {
    "duration": 5,
    "start_time": "2022-02-13T18:19:50.490Z"
   },
   {
    "duration": 57,
    "start_time": "2022-02-13T18:19:50.499Z"
   },
   {
    "duration": 21,
    "start_time": "2022-02-13T18:19:50.560Z"
   },
   {
    "duration": 29,
    "start_time": "2022-02-13T18:19:50.583Z"
   },
   {
    "duration": 78,
    "start_time": "2022-02-13T18:19:50.633Z"
   },
   {
    "duration": 105,
    "start_time": "2022-02-13T18:19:50.713Z"
   },
   {
    "duration": 76,
    "start_time": "2022-02-13T18:19:50.832Z"
   },
   {
    "duration": 87,
    "start_time": "2022-02-13T18:19:50.911Z"
   },
   {
    "duration": 3,
    "start_time": "2022-02-13T18:19:51.000Z"
   },
   {
    "duration": 11,
    "start_time": "2022-02-13T18:19:51.005Z"
   },
   {
    "duration": 14,
    "start_time": "2022-02-13T18:19:51.032Z"
   },
   {
    "duration": 99,
    "start_time": "2022-02-13T18:19:51.048Z"
   },
   {
    "duration": 16,
    "start_time": "2022-02-13T18:19:51.149Z"
   },
   {
    "duration": 16,
    "start_time": "2022-02-13T18:19:51.167Z"
   },
   {
    "duration": 5,
    "start_time": "2022-02-13T18:19:51.185Z"
   },
   {
    "duration": 57,
    "start_time": "2022-02-13T18:19:51.192Z"
   },
   {
    "duration": 20,
    "start_time": "2022-02-13T18:19:51.253Z"
   },
   {
    "duration": 18,
    "start_time": "2022-02-13T18:19:51.276Z"
   },
   {
    "duration": 47,
    "start_time": "2022-02-13T18:19:51.296Z"
   },
   {
    "duration": 22,
    "start_time": "2022-02-13T18:19:51.345Z"
   },
   {
    "duration": 21,
    "start_time": "2022-02-13T18:19:51.369Z"
   },
   {
    "duration": 40,
    "start_time": "2022-02-13T18:19:51.392Z"
   },
   {
    "duration": 15,
    "start_time": "2022-02-13T18:19:51.435Z"
   },
   {
    "duration": 12,
    "start_time": "2022-02-13T18:19:51.453Z"
   },
   {
    "duration": 5,
    "start_time": "2022-02-13T18:19:51.468Z"
   },
   {
    "duration": 61,
    "start_time": "2022-02-13T18:19:51.475Z"
   },
   {
    "duration": 17,
    "start_time": "2022-02-13T18:19:51.539Z"
   },
   {
    "duration": 22,
    "start_time": "2022-02-13T18:19:51.559Z"
   },
   {
    "duration": 18,
    "start_time": "2022-02-13T18:19:51.584Z"
   },
   {
    "duration": 10,
    "start_time": "2022-02-13T18:19:51.633Z"
   },
   {
    "duration": 17,
    "start_time": "2022-02-13T18:19:51.645Z"
   },
   {
    "duration": 21,
    "start_time": "2022-02-13T18:19:51.664Z"
   },
   {
    "duration": 11,
    "start_time": "2022-02-13T18:19:51.688Z"
   },
   {
    "duration": 77,
    "start_time": "2022-02-13T18:27:40.725Z"
   },
   {
    "duration": 83,
    "start_time": "2022-02-13T18:33:04.683Z"
   },
   {
    "duration": 5,
    "start_time": "2022-02-13T18:33:27.719Z"
   },
   {
    "duration": 493,
    "start_time": "2022-02-13T18:33:39.152Z"
   },
   {
    "duration": 4,
    "start_time": "2022-02-13T18:35:48.422Z"
   },
   {
    "duration": 245,
    "start_time": "2022-02-13T18:35:48.429Z"
   },
   {
    "duration": 23,
    "start_time": "2022-02-13T18:35:48.678Z"
   },
   {
    "duration": 46,
    "start_time": "2022-02-13T18:35:48.705Z"
   },
   {
    "duration": 21,
    "start_time": "2022-02-13T18:35:48.754Z"
   },
   {
    "duration": 27,
    "start_time": "2022-02-13T18:35:48.778Z"
   },
   {
    "duration": 23,
    "start_time": "2022-02-13T18:35:48.810Z"
   },
   {
    "duration": 44,
    "start_time": "2022-02-13T18:35:48.836Z"
   },
   {
    "duration": 53,
    "start_time": "2022-02-13T18:35:48.883Z"
   },
   {
    "duration": 28,
    "start_time": "2022-02-13T18:35:48.938Z"
   },
   {
    "duration": 138,
    "start_time": "2022-02-13T18:35:48.969Z"
   },
   {
    "duration": 132,
    "start_time": "2022-02-13T18:35:49.110Z"
   },
   {
    "duration": 118,
    "start_time": "2022-02-13T18:35:49.245Z"
   },
   {
    "duration": 123,
    "start_time": "2022-02-13T18:35:49.366Z"
   },
   {
    "duration": 5,
    "start_time": "2022-02-13T18:35:49.491Z"
   },
   {
    "duration": 11,
    "start_time": "2022-02-13T18:35:49.499Z"
   },
   {
    "duration": 37,
    "start_time": "2022-02-13T18:35:49.513Z"
   },
   {
    "duration": 130,
    "start_time": "2022-02-13T18:35:49.553Z"
   },
   {
    "duration": 23,
    "start_time": "2022-02-13T18:35:49.690Z"
   },
   {
    "duration": 24,
    "start_time": "2022-02-13T18:35:49.733Z"
   },
   {
    "duration": 6,
    "start_time": "2022-02-13T18:35:49.760Z"
   },
   {
    "duration": 500,
    "start_time": "2022-02-13T18:35:49.768Z"
   },
   {
    "duration": 1072,
    "start_time": "2022-02-13T18:35:49.198Z"
   },
   {
    "duration": 1069,
    "start_time": "2022-02-13T18:35:49.202Z"
   },
   {
    "duration": 1065,
    "start_time": "2022-02-13T18:35:49.208Z"
   },
   {
    "duration": 1063,
    "start_time": "2022-02-13T18:35:49.211Z"
   },
   {
    "duration": 1061,
    "start_time": "2022-02-13T18:35:49.215Z"
   },
   {
    "duration": 1059,
    "start_time": "2022-02-13T18:35:49.219Z"
   },
   {
    "duration": 1050,
    "start_time": "2022-02-13T18:35:49.229Z"
   },
   {
    "duration": 1045,
    "start_time": "2022-02-13T18:35:49.235Z"
   },
   {
    "duration": 1043,
    "start_time": "2022-02-13T18:35:49.239Z"
   },
   {
    "duration": 1041,
    "start_time": "2022-02-13T18:35:49.242Z"
   },
   {
    "duration": 1040,
    "start_time": "2022-02-13T18:35:49.245Z"
   },
   {
    "duration": 1039,
    "start_time": "2022-02-13T18:35:49.247Z"
   },
   {
    "duration": 1036,
    "start_time": "2022-02-13T18:35:49.252Z"
   },
   {
    "duration": 1034,
    "start_time": "2022-02-13T18:35:49.255Z"
   },
   {
    "duration": 1033,
    "start_time": "2022-02-13T18:35:49.258Z"
   },
   {
    "duration": 1031,
    "start_time": "2022-02-13T18:35:49.261Z"
   },
   {
    "duration": 1030,
    "start_time": "2022-02-13T18:35:49.264Z"
   },
   {
    "duration": 5,
    "start_time": "2022-02-13T18:36:57.284Z"
   },
   {
    "duration": 22,
    "start_time": "2022-02-13T18:37:00.576Z"
   },
   {
    "duration": 3,
    "start_time": "2022-02-13T18:45:32.123Z"
   },
   {
    "duration": 203,
    "start_time": "2022-02-13T18:45:32.129Z"
   },
   {
    "duration": 15,
    "start_time": "2022-02-13T18:45:32.335Z"
   },
   {
    "duration": 37,
    "start_time": "2022-02-13T18:45:32.352Z"
   },
   {
    "duration": 5,
    "start_time": "2022-02-13T18:45:32.392Z"
   },
   {
    "duration": 55,
    "start_time": "2022-02-13T18:45:32.399Z"
   },
   {
    "duration": 5,
    "start_time": "2022-02-13T18:45:32.458Z"
   },
   {
    "duration": 32,
    "start_time": "2022-02-13T18:45:32.466Z"
   },
   {
    "duration": 43,
    "start_time": "2022-02-13T18:45:32.500Z"
   },
   {
    "duration": 30,
    "start_time": "2022-02-13T18:45:32.546Z"
   },
   {
    "duration": 115,
    "start_time": "2022-02-13T18:45:32.578Z"
   },
   {
    "duration": 95,
    "start_time": "2022-02-13T18:45:32.695Z"
   },
   {
    "duration": 82,
    "start_time": "2022-02-13T18:45:32.792Z"
   },
   {
    "duration": 93,
    "start_time": "2022-02-13T18:45:32.876Z"
   },
   {
    "duration": 3,
    "start_time": "2022-02-13T18:45:32.971Z"
   },
   {
    "duration": 8,
    "start_time": "2022-02-13T18:45:32.976Z"
   },
   {
    "duration": 17,
    "start_time": "2022-02-13T18:45:32.987Z"
   },
   {
    "duration": 96,
    "start_time": "2022-02-13T18:45:33.006Z"
   },
   {
    "duration": 29,
    "start_time": "2022-02-13T18:45:33.107Z"
   },
   {
    "duration": 17,
    "start_time": "2022-02-13T18:45:33.138Z"
   },
   {
    "duration": 5,
    "start_time": "2022-02-13T18:45:33.157Z"
   },
   {
    "duration": 26,
    "start_time": "2022-02-13T18:45:33.164Z"
   },
   {
    "duration": 47,
    "start_time": "2022-02-13T18:45:33.192Z"
   },
   {
    "duration": 18,
    "start_time": "2022-02-13T18:45:33.242Z"
   },
   {
    "duration": 17,
    "start_time": "2022-02-13T18:45:33.262Z"
   },
   {
    "duration": 53,
    "start_time": "2022-02-13T18:45:33.281Z"
   },
   {
    "duration": 18,
    "start_time": "2022-02-13T18:45:33.337Z"
   },
   {
    "duration": 11,
    "start_time": "2022-02-13T18:45:33.358Z"
   },
   {
    "duration": 18,
    "start_time": "2022-02-13T18:45:33.371Z"
   },
   {
    "duration": 45,
    "start_time": "2022-02-13T18:45:33.391Z"
   },
   {
    "duration": 5,
    "start_time": "2022-02-13T18:45:33.438Z"
   },
   {
    "duration": 29,
    "start_time": "2022-02-13T18:45:33.445Z"
   },
   {
    "duration": 16,
    "start_time": "2022-02-13T18:45:33.476Z"
   },
   {
    "duration": 50,
    "start_time": "2022-02-13T18:45:33.494Z"
   },
   {
    "duration": 16,
    "start_time": "2022-02-13T18:45:33.546Z"
   },
   {
    "duration": 10,
    "start_time": "2022-02-13T18:45:33.564Z"
   },
   {
    "duration": 12,
    "start_time": "2022-02-13T18:45:33.576Z"
   },
   {
    "duration": 47,
    "start_time": "2022-02-13T18:45:33.590Z"
   },
   {
    "duration": 6,
    "start_time": "2022-02-13T18:45:33.639Z"
   },
   {
    "duration": 6,
    "start_time": "2022-02-13T18:54:11.753Z"
   },
   {
    "duration": 5,
    "start_time": "2022-02-13T18:54:14.946Z"
   },
   {
    "duration": 3,
    "start_time": "2022-02-13T18:54:32.070Z"
   },
   {
    "duration": 205,
    "start_time": "2022-02-13T18:54:32.076Z"
   },
   {
    "duration": 17,
    "start_time": "2022-02-13T18:54:32.284Z"
   },
   {
    "duration": 54,
    "start_time": "2022-02-13T18:54:32.304Z"
   },
   {
    "duration": 7,
    "start_time": "2022-02-13T18:54:32.361Z"
   },
   {
    "duration": 21,
    "start_time": "2022-02-13T18:54:32.371Z"
   },
   {
    "duration": 40,
    "start_time": "2022-02-13T18:54:32.394Z"
   },
   {
    "duration": 32,
    "start_time": "2022-02-13T18:54:32.440Z"
   },
   {
    "duration": 25,
    "start_time": "2022-02-13T18:54:32.475Z"
   },
   {
    "duration": 60,
    "start_time": "2022-02-13T18:54:32.503Z"
   },
   {
    "duration": 97,
    "start_time": "2022-02-13T18:54:32.565Z"
   },
   {
    "duration": 102,
    "start_time": "2022-02-13T18:54:32.664Z"
   },
   {
    "duration": 89,
    "start_time": "2022-02-13T18:54:32.769Z"
   },
   {
    "duration": 90,
    "start_time": "2022-02-13T18:54:32.861Z"
   },
   {
    "duration": 3,
    "start_time": "2022-02-13T18:54:32.954Z"
   },
   {
    "duration": 8,
    "start_time": "2022-02-13T18:54:32.960Z"
   },
   {
    "duration": 19,
    "start_time": "2022-02-13T18:54:32.971Z"
   },
   {
    "duration": 92,
    "start_time": "2022-02-13T18:54:32.993Z"
   },
   {
    "duration": 15,
    "start_time": "2022-02-13T18:54:33.087Z"
   },
   {
    "duration": 35,
    "start_time": "2022-02-13T18:54:33.104Z"
   },
   {
    "duration": 4,
    "start_time": "2022-02-13T18:54:33.141Z"
   },
   {
    "duration": 25,
    "start_time": "2022-02-13T18:54:33.147Z"
   },
   {
    "duration": 19,
    "start_time": "2022-02-13T18:54:33.179Z"
   },
   {
    "duration": 54,
    "start_time": "2022-02-13T18:54:33.201Z"
   },
   {
    "duration": 19,
    "start_time": "2022-02-13T18:54:33.257Z"
   },
   {
    "duration": 23,
    "start_time": "2022-02-13T18:54:33.278Z"
   },
   {
    "duration": 20,
    "start_time": "2022-02-13T18:54:33.332Z"
   },
   {
    "duration": 16,
    "start_time": "2022-02-13T18:54:33.354Z"
   },
   {
    "duration": 26,
    "start_time": "2022-02-13T18:54:33.373Z"
   },
   {
    "duration": 41,
    "start_time": "2022-02-13T18:54:33.401Z"
   },
   {
    "duration": 8,
    "start_time": "2022-02-13T18:54:33.446Z"
   },
   {
    "duration": 37,
    "start_time": "2022-02-13T18:54:33.457Z"
   },
   {
    "duration": 41,
    "start_time": "2022-02-13T18:54:33.497Z"
   },
   {
    "duration": 24,
    "start_time": "2022-02-13T18:54:33.540Z"
   },
   {
    "duration": 18,
    "start_time": "2022-02-13T18:54:33.567Z"
   },
   {
    "duration": 44,
    "start_time": "2022-02-13T18:54:33.588Z"
   },
   {
    "duration": 7,
    "start_time": "2022-02-13T18:54:33.635Z"
   },
   {
    "duration": 13,
    "start_time": "2022-02-13T18:54:33.645Z"
   },
   {
    "duration": 6,
    "start_time": "2022-02-13T18:54:33.660Z"
   },
   {
    "duration": 717,
    "start_time": "2022-02-13T18:58:38.937Z"
   },
   {
    "duration": 181,
    "start_time": "2022-02-13T18:58:39.657Z"
   },
   {
    "duration": 26,
    "start_time": "2022-02-13T18:58:39.841Z"
   },
   {
    "duration": 32,
    "start_time": "2022-02-13T18:58:39.870Z"
   },
   {
    "duration": 29,
    "start_time": "2022-02-13T18:58:39.905Z"
   },
   {
    "duration": 26,
    "start_time": "2022-02-13T18:58:39.937Z"
   },
   {
    "duration": 5,
    "start_time": "2022-02-13T18:58:39.966Z"
   },
   {
    "duration": 59,
    "start_time": "2022-02-13T18:58:39.975Z"
   },
   {
    "duration": 23,
    "start_time": "2022-02-13T18:58:40.038Z"
   },
   {
    "duration": 31,
    "start_time": "2022-02-13T18:58:40.064Z"
   },
   {
    "duration": 113,
    "start_time": "2022-02-13T18:58:40.098Z"
   },
   {
    "duration": 102,
    "start_time": "2022-02-13T18:58:40.214Z"
   },
   {
    "duration": 85,
    "start_time": "2022-02-13T18:58:40.319Z"
   },
   {
    "duration": 92,
    "start_time": "2022-02-13T18:58:40.406Z"
   },
   {
    "duration": 4,
    "start_time": "2022-02-13T18:58:40.500Z"
   },
   {
    "duration": 6,
    "start_time": "2022-02-13T18:58:40.506Z"
   },
   {
    "duration": 14,
    "start_time": "2022-02-13T18:58:40.533Z"
   },
   {
    "duration": 89,
    "start_time": "2022-02-13T18:58:40.549Z"
   },
   {
    "duration": 15,
    "start_time": "2022-02-13T18:58:40.640Z"
   },
   {
    "duration": 15,
    "start_time": "2022-02-13T18:58:40.657Z"
   },
   {
    "duration": 4,
    "start_time": "2022-02-13T18:58:40.674Z"
   },
   {
    "duration": 59,
    "start_time": "2022-02-13T18:58:40.680Z"
   },
   {
    "duration": 18,
    "start_time": "2022-02-13T18:58:40.743Z"
   },
   {
    "duration": 21,
    "start_time": "2022-02-13T18:58:40.764Z"
   },
   {
    "duration": 45,
    "start_time": "2022-02-13T18:58:40.788Z"
   },
   {
    "duration": 20,
    "start_time": "2022-02-13T18:58:40.835Z"
   },
   {
    "duration": 16,
    "start_time": "2022-02-13T18:58:40.857Z"
   },
   {
    "duration": 12,
    "start_time": "2022-02-13T18:58:40.876Z"
   },
   {
    "duration": 46,
    "start_time": "2022-02-13T18:58:40.890Z"
   },
   {
    "duration": 12,
    "start_time": "2022-02-13T18:58:40.939Z"
   },
   {
    "duration": 5,
    "start_time": "2022-02-13T18:58:40.953Z"
   },
   {
    "duration": 31,
    "start_time": "2022-02-13T18:58:40.961Z"
   },
   {
    "duration": 47,
    "start_time": "2022-02-13T18:58:40.995Z"
   },
   {
    "duration": 24,
    "start_time": "2022-02-13T18:58:41.045Z"
   },
   {
    "duration": 18,
    "start_time": "2022-02-13T18:58:41.072Z"
   },
   {
    "duration": 42,
    "start_time": "2022-02-13T18:58:41.093Z"
   },
   {
    "duration": 6,
    "start_time": "2022-02-13T18:58:41.138Z"
   },
   {
    "duration": 11,
    "start_time": "2022-02-13T18:58:41.147Z"
   },
   {
    "duration": 8,
    "start_time": "2022-02-13T18:58:41.161Z"
   }
  ],
  "colab": {
   "collapsed_sections": [
    "E0vqbgi9ay0H",
    "VUC88oWjTJw2"
   ],
   "name": "yandex_music_project_2021.2.ipynb",
   "provenance": []
  },
  "kernelspec": {
   "display_name": "Python 3 (ipykernel)",
   "language": "python",
   "name": "python3"
  },
  "language_info": {
   "codemirror_mode": {
    "name": "ipython",
    "version": 3
   },
   "file_extension": ".py",
   "mimetype": "text/x-python",
   "name": "python",
   "nbconvert_exporter": "python",
   "pygments_lexer": "ipython3",
   "version": "3.7.8"
  },
  "toc": {
   "base_numbering": 1,
   "nav_menu": {
    "height": "253px",
    "width": "492px"
   },
   "number_sections": true,
   "sideBar": true,
   "skip_h1_title": true,
   "title_cell": "Table of Contents",
   "title_sidebar": "Contents",
   "toc_cell": false,
   "toc_position": {
    "height": "calc(100% - 180px)",
    "left": "10px",
    "top": "150px",
    "width": "366.391px"
   },
   "toc_section_display": true,
   "toc_window_display": true
  }
 },
 "nbformat": 4,
 "nbformat_minor": 1
}
