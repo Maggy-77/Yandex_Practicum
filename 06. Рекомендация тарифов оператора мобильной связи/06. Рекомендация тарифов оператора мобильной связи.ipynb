{
 "cells": [
  {
   "cell_type": "markdown",
   "id": "f91e0c78",
   "metadata": {
    "toc": true
   },
   "source": [
    "<h1>Содержание<span class=\"tocSkip\"></span></h1>\n",
    "<div class=\"toc\"><ul class=\"toc-item\"><li><span><a href=\"#Обзор-данных\" data-toc-modified-id=\"Обзор-данных-1\"><span class=\"toc-item-num\">1&nbsp;&nbsp;</span>Обзор данных</a></span></li><li><span><a href=\"#Разделение-исходных-данных\" data-toc-modified-id=\"Разделение-исходных-данных-2\"><span class=\"toc-item-num\">2&nbsp;&nbsp;</span>Разделение исходных данных</a></span></li><li><span><a href=\"#Исследование-моделей\" data-toc-modified-id=\"Исследование-моделей-3\"><span class=\"toc-item-num\">3&nbsp;&nbsp;</span>Исследование моделей</a></span><ul class=\"toc-item\"><li><span><a href=\"#Дерево-решений\" data-toc-modified-id=\"Дерево-решений-3.1\"><span class=\"toc-item-num\">3.1&nbsp;&nbsp;</span>Дерево решений</a></span></li><li><span><a href=\"#Случайный-лес\" data-toc-modified-id=\"Случайный-лес-3.2\"><span class=\"toc-item-num\">3.2&nbsp;&nbsp;</span>Случайный лес</a></span></li><li><span><a href=\"#Логистическая-регрессия\" data-toc-modified-id=\"Логистическая-регрессия-3.3\"><span class=\"toc-item-num\">3.3&nbsp;&nbsp;</span>Логистическая регрессия</a></span></li></ul></li><li><span><a href=\"#Проверка-качества-модели\" data-toc-modified-id=\"Проверка-качества-модели-4\"><span class=\"toc-item-num\">4&nbsp;&nbsp;</span>Проверка качества модели</a></span></li><li><span><a href=\"#Общий-вывод\" data-toc-modified-id=\"Общий-вывод-5\"><span class=\"toc-item-num\">5&nbsp;&nbsp;</span>Общий вывод</a></span></li></ul></div>"
   ]
  },
  {
   "cell_type": "markdown",
   "id": "e607c291",
   "metadata": {},
   "source": [
    "# Рекомендация тарифов оператора мобильной связи"
   ]
  },
  {
   "cell_type": "markdown",
   "id": "135d4e58",
   "metadata": {},
   "source": [
    "Оператор мобильной связи «Мегалайн» выяснил: многие клиенты пользуются архивными тарифами. Они хотят построить систему, способную проанализировать поведение клиентов и предложить пользователям новый тариф: «Смарт» или «Ультра».\n",
    "\n",
    "**Цель исследования**: построить модель для задачи классификации, которая выберет подходящий для клиента тариф.\n",
    "\n",
    "**Ход исследования**\n",
    "\n",
    "Для построения модели предоставлены данные о поведении пользователей, которые уже перешли на новые тарифы. Предобработка данных уже проведена.\n",
    "\n",
    "Построение модели пройдёт в четыре этапа:\n",
    " 1. Обзор данных.\n",
    " 2. Разделение исходных данных на обучающую, валидационную и тестовую выборки.\n",
    " 3. Исследование качество разных моделей с разными гиперпараметрами.\n",
    " 4. Проверка качества модели на тестовой выборке."
   ]
  },
  {
   "cell_type": "markdown",
   "id": "4b6ca0c0",
   "metadata": {},
   "source": [
    "## Обзор данных"
   ]
  },
  {
   "cell_type": "markdown",
   "id": "5cc49959",
   "metadata": {},
   "source": [
    "Для начала импортируем необходимые для работы библиотеки и модули"
   ]
  },
  {
   "cell_type": "code",
   "execution_count": 1,
   "id": "b9cee1f3",
   "metadata": {},
   "outputs": [],
   "source": [
    "# импорт необходимых библиотек и модулей\n",
    "import pandas as pd\n",
    "\n",
    "from sklearn.ensemble import RandomForestClassifier\n",
    "from sklearn.linear_model import LogisticRegression\n",
    "from sklearn.metrics import accuracy_score\n",
    "from sklearn.model_selection import train_test_split \n",
    "from sklearn.tree import DecisionTreeClassifier"
   ]
  },
  {
   "cell_type": "markdown",
   "id": "9e7b7f81",
   "metadata": {},
   "source": [
    " Прочитаем файл с данными и сохраним в переменной."
   ]
  },
  {
   "cell_type": "code",
   "execution_count": 2,
   "id": "46cefb89",
   "metadata": {},
   "outputs": [],
   "source": [
    "# чтение файла с данными\n",
    "df = pd.read_csv('datasets/users_behavior.csv')"
   ]
  },
  {
   "cell_type": "markdown",
   "id": "ce03463d",
   "metadata": {},
   "source": [
    "Выведем на экран первые десять строк таблицы."
   ]
  },
  {
   "cell_type": "code",
   "execution_count": 3,
   "id": "9084c5d8",
   "metadata": {},
   "outputs": [
    {
     "data": {
      "text/html": [
       "<div>\n",
       "<style scoped>\n",
       "    .dataframe tbody tr th:only-of-type {\n",
       "        vertical-align: middle;\n",
       "    }\n",
       "\n",
       "    .dataframe tbody tr th {\n",
       "        vertical-align: top;\n",
       "    }\n",
       "\n",
       "    .dataframe thead th {\n",
       "        text-align: right;\n",
       "    }\n",
       "</style>\n",
       "<table border=\"1\" class=\"dataframe\">\n",
       "  <thead>\n",
       "    <tr style=\"text-align: right;\">\n",
       "      <th></th>\n",
       "      <th>calls</th>\n",
       "      <th>minutes</th>\n",
       "      <th>messages</th>\n",
       "      <th>mb_used</th>\n",
       "      <th>is_ultra</th>\n",
       "    </tr>\n",
       "  </thead>\n",
       "  <tbody>\n",
       "    <tr>\n",
       "      <th>0</th>\n",
       "      <td>40.0</td>\n",
       "      <td>311.90</td>\n",
       "      <td>83.0</td>\n",
       "      <td>19915.42</td>\n",
       "      <td>0</td>\n",
       "    </tr>\n",
       "    <tr>\n",
       "      <th>1</th>\n",
       "      <td>85.0</td>\n",
       "      <td>516.75</td>\n",
       "      <td>56.0</td>\n",
       "      <td>22696.96</td>\n",
       "      <td>0</td>\n",
       "    </tr>\n",
       "    <tr>\n",
       "      <th>2</th>\n",
       "      <td>77.0</td>\n",
       "      <td>467.66</td>\n",
       "      <td>86.0</td>\n",
       "      <td>21060.45</td>\n",
       "      <td>0</td>\n",
       "    </tr>\n",
       "    <tr>\n",
       "      <th>3</th>\n",
       "      <td>106.0</td>\n",
       "      <td>745.53</td>\n",
       "      <td>81.0</td>\n",
       "      <td>8437.39</td>\n",
       "      <td>1</td>\n",
       "    </tr>\n",
       "    <tr>\n",
       "      <th>4</th>\n",
       "      <td>66.0</td>\n",
       "      <td>418.74</td>\n",
       "      <td>1.0</td>\n",
       "      <td>14502.75</td>\n",
       "      <td>0</td>\n",
       "    </tr>\n",
       "    <tr>\n",
       "      <th>5</th>\n",
       "      <td>58.0</td>\n",
       "      <td>344.56</td>\n",
       "      <td>21.0</td>\n",
       "      <td>15823.37</td>\n",
       "      <td>0</td>\n",
       "    </tr>\n",
       "    <tr>\n",
       "      <th>6</th>\n",
       "      <td>57.0</td>\n",
       "      <td>431.64</td>\n",
       "      <td>20.0</td>\n",
       "      <td>3738.90</td>\n",
       "      <td>1</td>\n",
       "    </tr>\n",
       "    <tr>\n",
       "      <th>7</th>\n",
       "      <td>15.0</td>\n",
       "      <td>132.40</td>\n",
       "      <td>6.0</td>\n",
       "      <td>21911.60</td>\n",
       "      <td>0</td>\n",
       "    </tr>\n",
       "    <tr>\n",
       "      <th>8</th>\n",
       "      <td>7.0</td>\n",
       "      <td>43.39</td>\n",
       "      <td>3.0</td>\n",
       "      <td>2538.67</td>\n",
       "      <td>1</td>\n",
       "    </tr>\n",
       "    <tr>\n",
       "      <th>9</th>\n",
       "      <td>90.0</td>\n",
       "      <td>665.41</td>\n",
       "      <td>38.0</td>\n",
       "      <td>17358.61</td>\n",
       "      <td>0</td>\n",
       "    </tr>\n",
       "  </tbody>\n",
       "</table>\n",
       "</div>"
      ],
      "text/plain": [
       "   calls  minutes  messages   mb_used  is_ultra\n",
       "0   40.0   311.90      83.0  19915.42         0\n",
       "1   85.0   516.75      56.0  22696.96         0\n",
       "2   77.0   467.66      86.0  21060.45         0\n",
       "3  106.0   745.53      81.0   8437.39         1\n",
       "4   66.0   418.74       1.0  14502.75         0\n",
       "5   58.0   344.56      21.0  15823.37         0\n",
       "6   57.0   431.64      20.0   3738.90         1\n",
       "7   15.0   132.40       6.0  21911.60         0\n",
       "8    7.0    43.39       3.0   2538.67         1\n",
       "9   90.0   665.41      38.0  17358.61         0"
      ]
     },
     "execution_count": 3,
     "metadata": {},
     "output_type": "execute_result"
    }
   ],
   "source": [
    "df.head(10) # получение первых 10 строк таблицы"
   ]
  },
  {
   "cell_type": "markdown",
   "id": "d0fe65dd",
   "metadata": {},
   "source": [
    "Изучим общую информацию о таблице."
   ]
  },
  {
   "cell_type": "code",
   "execution_count": 4,
   "id": "6eb17c2f",
   "metadata": {},
   "outputs": [
    {
     "name": "stdout",
     "output_type": "stream",
     "text": [
      "<class 'pandas.core.frame.DataFrame'>\n",
      "RangeIndex: 3214 entries, 0 to 3213\n",
      "Data columns (total 5 columns):\n",
      " #   Column    Non-Null Count  Dtype  \n",
      "---  ------    --------------  -----  \n",
      " 0   calls     3214 non-null   float64\n",
      " 1   minutes   3214 non-null   float64\n",
      " 2   messages  3214 non-null   float64\n",
      " 3   mb_used   3214 non-null   float64\n",
      " 4   is_ultra  3214 non-null   int64  \n",
      "dtypes: float64(4), int64(1)\n",
      "memory usage: 125.7 KB\n"
     ]
    }
   ],
   "source": [
    "df.info() # получение общей информации о данных в таблице"
   ]
  },
  {
   "cell_type": "markdown",
   "id": "6cf47541",
   "metadata": {},
   "source": [
    "В таблице представлена информация о поведении одного пользователя за месяц. \n",
    "\n",
    "Согласно документации к данным:\n",
    "* `сalls` — количество звонков,\n",
    "* `minutes` — суммарная длительность звонков в минутах,\n",
    "* `messages` — количество sms-сообщений,\n",
    "* `mb_used` — израсходованный интернет-трафик в Мб,\n",
    "* `is_ultra` — каким тарифом пользовался в течение месяца («Ультра» — 1, «Смарт» — 0).\n",
    "\n",
    "Количество звонков и сообщений не может быть дробным, поэтому стоит привести тип данных в `сalls` и `messages` к целочисленному типу."
   ]
  },
  {
   "cell_type": "code",
   "execution_count": 5,
   "id": "ed6b08b7",
   "metadata": {},
   "outputs": [],
   "source": [
    "# приведение к целочисленному типу\n",
    "df['calls'] = df['calls'].astype('int')\n",
    "df['messages'] = df['messages'].astype('int')"
   ]
  },
  {
   "cell_type": "markdown",
   "id": "888744d9",
   "metadata": {},
   "source": [
    "**Выводы**\n",
    "\n",
    "Всего имеем 3214 объектов, признаки - количество СМС, звонков, суммарная длительность звонков в минутах и израсходованный интернет-трафик. Целевой признак - тариф, которым пользовался клиент. Данные готовы к работе. На следующем шаге разделим их на выборки."
   ]
  },
  {
   "cell_type": "markdown",
   "id": "ec783f9b",
   "metadata": {},
   "source": [
    "## Разделение исходных данных "
   ]
  },
  {
   "cell_type": "markdown",
   "id": "3623be8a",
   "metadata": {},
   "source": [
    "Для машинного обучения необходимо, чтобы признаки были сохранены в отдельных переменных. Сохраним признаки в переменной `features`, а целевой признак - в переменной `target`."
   ]
  },
  {
   "cell_type": "code",
   "execution_count": 6,
   "id": "0c8b0093",
   "metadata": {},
   "outputs": [],
   "source": [
    "# создадим переменные features и target\n",
    "features = df.drop('is_ultra', axis=1)\n",
    "target = df['is_ultra']"
   ]
  },
  {
   "cell_type": "markdown",
   "id": "c2c29003",
   "metadata": {},
   "source": [
    "Разобьем исходный набор данных на три выборки: обучающую, валидационную и тестовую в пропорции 60:20:20. Для этого воспользуемся функцией `train_test_split` в 2 этапа: сначала выделим обучающую выборку, а затем разделим оставшийся набор на валидационную и тестовую выборки."
   ]
  },
  {
   "cell_type": "code",
   "execution_count": 7,
   "id": "e531f776",
   "metadata": {
    "scrolled": true
   },
   "outputs": [
    {
     "name": "stdout",
     "output_type": "stream",
     "text": [
      "Количество объектов обучающей выборки: 1928\n",
      "Количество объектов валидационной выборки: 643\n",
      "Количество объектов тестовой выборки: 643\n"
     ]
    }
   ],
   "source": [
    "# выделение обучающей выборки\n",
    "features_train, features_test, target_train, target_test = train_test_split(\n",
    "    features, target, test_size=0.4, random_state=12345, stratify=target)\n",
    "\n",
    "# выделение валидационной и тестовой выборок\n",
    "features_valid, features_test, target_valid, target_test = train_test_split(\n",
    "    features_test, target_test, test_size=0.5, random_state=12345, stratify=target_test)\n",
    "\n",
    "# проверка размеров выборок\n",
    "print('Количество объектов обучающей выборки:', features_train.shape[0])\n",
    "print('Количество объектов валидационной выборки:', features_valid.shape[0])\n",
    "print('Количество объектов тестовой выборки:', features_test.shape[0])"
   ]
  },
  {
   "cell_type": "markdown",
   "id": "3d6ea525",
   "metadata": {},
   "source": [
    "**Выводы**\n",
    "\n",
    "Признаки и целевой признак были сохранены в отдельные переменные. Исходные данные разделены на обучающую (1928 объектов), валидационную и тестовую (по 643 объекта) выборки. Можно переходить к обучению моделей."
   ]
  },
  {
   "cell_type": "markdown",
   "id": "b0bd6e57",
   "metadata": {},
   "source": [
    "## Исследование моделей"
   ]
  },
  {
   "cell_type": "markdown",
   "id": "8b463df4",
   "metadata": {},
   "source": [
    "Поскольку целевой признак (тариф) является категориальным и при этом имеет всего 2 категории, будем решать задачу бинарной классификации.\n",
    "\n",
    "Рассмотрим три разных модели: \n",
    "* дерево решений,\n",
    "* случайный лес,\n",
    "* логистическую регрессию.\n",
    "\n",
    "Каждую модель обучим на обучающей выборке и проверим на валидационной, а также сравним их качество с помощью метрики `accuracy`."
   ]
  },
  {
   "cell_type": "markdown",
   "id": "e5cd7597",
   "metadata": {},
   "source": [
    "### Дерево решений"
   ]
  },
  {
   "cell_type": "markdown",
   "id": "2548811c",
   "metadata": {},
   "source": [
    "Построим модель решающего дерева. Для того, чтобы получить максимальное высокое качество предсказания, переберем в цикле разные варианты глубины дерева - от 1 до 10."
   ]
  },
  {
   "cell_type": "code",
   "execution_count": 8,
   "id": "f58c7163",
   "metadata": {},
   "outputs": [
    {
     "name": "stdout",
     "output_type": "stream",
     "text": [
      "max_depth = 1 : 0.7403\n",
      "max_depth = 2 : 0.7729\n",
      "max_depth = 3 : 0.7776\n",
      "max_depth = 4 : 0.7543\n",
      "max_depth = 5 : 0.7854\n",
      "max_depth = 6 : 0.7745\n",
      "max_depth = 7 : 0.7869\n",
      "max_depth = 8 : 0.8025\n",
      "max_depth = 9 : 0.7823\n",
      "max_depth = 10 : 0.7729\n",
      "\n",
      "Accuracy лучшей модели: 0.8025 , максимальная глубина: 8\n"
     ]
    }
   ],
   "source": [
    "# построение модели дерева решений с подбором оптимальной глубины дерева\n",
    "best_accuracy_tree = 0\n",
    "best_max_depth = 0\n",
    "for depth in range(1, 11):\n",
    "    model_tree = DecisionTreeClassifier(random_state=12345, max_depth=depth)\n",
    "    model_tree.fit(features_train, target_train)\n",
    "    predictions_tree = model_tree.predict(features_valid)\n",
    "    accuracy_tree = accuracy_score(target_valid, predictions_tree)\n",
    "    if accuracy_tree > best_accuracy_tree:\n",
    "        best_accuracy_tree = accuracy_tree.round(4)\n",
    "        best_max_depth = depth\n",
    "    print('max_depth =', depth, ':', accuracy_tree.round(4))\n",
    "print()\n",
    "print('Accuracy лучшей модели:', best_accuracy_tree,', максимальная глубина:', best_max_depth)"
   ]
  },
  {
   "cell_type": "markdown",
   "id": "bb32ffad",
   "metadata": {},
   "source": [
    "Наилучшие результаты продемонстрировала модель с максимальной глубиной, равной 8. Она дает 80,25% правильных ответов."
   ]
  },
  {
   "cell_type": "markdown",
   "id": "1b8df62d",
   "metadata": {},
   "source": [
    "### Случайный лес"
   ]
  },
  {
   "cell_type": "markdown",
   "id": "a573a995",
   "metadata": {},
   "source": [
    "Перейдем к построению модели случайного леса. Подберем наилучший вариант гиперпараметров с помощью цикла."
   ]
  },
  {
   "cell_type": "code",
   "execution_count": 9,
   "id": "eb64ca8b",
   "metadata": {},
   "outputs": [
    {
     "name": "stdout",
     "output_type": "stream",
     "text": [
      "Accuracy лучшей модели: 0.8072 , количество оценщиков: 6 , максимальная глубина: 6\n"
     ]
    }
   ],
   "source": [
    "# построение модели случайного леса с подбором количества оценщиков и оптимальной глубины дерева\n",
    "best_accuracy_forest = 0\n",
    "best_est = 0\n",
    "best_max_depth = 0\n",
    "for est in range(1, 11):\n",
    "    for depth in range(1, 11):\n",
    "        model_forest = RandomForestClassifier(random_state=12345, n_estimators=est, max_depth=depth) \n",
    "        model_forest.fit(features_train, target_train) \n",
    "        predictions_forest = model_forest.predict(features_valid)\n",
    "        accuracy_forest = accuracy_score(target_valid, predictions_forest)\n",
    "        if accuracy_forest > best_accuracy_forest:\n",
    "            best_accuracy_forest = accuracy_forest.round(4)\n",
    "            best_max_depth = depth\n",
    "            best_est = est\n",
    "        \n",
    "print('Accuracy лучшей модели:', best_accuracy_forest, \n",
    "      ', количество оценщиков:', best_est, \n",
    "      ', максимальная глубина:', best_max_depth)"
   ]
  },
  {
   "cell_type": "markdown",
   "id": "a63eb4d8",
   "metadata": {},
   "source": [
    "При 6 оценщиках с максимальной глубиной 6 получаем долю правильных ответов 0,8072. Таким образом, данная модель пока демонстрирует лучший результат, чем дерево решений."
   ]
  },
  {
   "cell_type": "markdown",
   "id": "f7c68e0a",
   "metadata": {},
   "source": [
    "### Логистическая регрессия"
   ]
  },
  {
   "cell_type": "markdown",
   "id": "d457e421",
   "metadata": {},
   "source": [
    "Теперь построим логистическую регрессию. "
   ]
  },
  {
   "cell_type": "code",
   "execution_count": 10,
   "id": "3b8c07b5",
   "metadata": {},
   "outputs": [
    {
     "name": "stdout",
     "output_type": "stream",
     "text": [
      "Accuracy модели: 0.7994\n"
     ]
    }
   ],
   "source": [
    "# построение логистической регрессии\n",
    "model_lr = LogisticRegression(random_state=12345, penalty='none')\n",
    "model_lr.fit(features_train, target_train) \n",
    "predictions_lr = model_forest.predict(features_valid)\n",
    "accuracy_lr = accuracy_score(target_valid, predictions_lr)\n",
    "print('Accuracy модели:', accuracy_lr.round(4))"
   ]
  },
  {
   "cell_type": "markdown",
   "id": "78b5337b",
   "metadata": {},
   "source": [
    "Модель логистической регрессии показала результат в 79,94% правильных ответов. "
   ]
  },
  {
   "cell_type": "markdown",
   "id": "3eaad48e",
   "metadata": {},
   "source": [
    "**Выводы**\n",
    "\n",
    "Самое высокое качество предсказания у модели случайного леса с количеством оценщиков и максимальной глубиной, равными 6 (accuracy = 0,8072). На втором месте дерево решений с accuracy = 0,8025. Самое низкое качество у логистической регрессии (0,7994). Выберем наилучшую модель - случайный лес."
   ]
  },
  {
   "cell_type": "markdown",
   "id": "82514994",
   "metadata": {},
   "source": [
    "## Проверка качества модели"
   ]
  },
  {
   "cell_type": "markdown",
   "id": "6b32669f",
   "metadata": {},
   "source": [
    "Проверим качество выбранной модели на тестовой выборке."
   ]
  },
  {
   "cell_type": "code",
   "execution_count": 11,
   "id": "4eedff3f",
   "metadata": {},
   "outputs": [
    {
     "name": "stdout",
     "output_type": "stream",
     "text": [
      "Accuracy тестовой выборки: 0.8025\n"
     ]
    }
   ],
   "source": [
    "# расчет accuracy на тестовой выборке\n",
    "model = RandomForestClassifier(random_state=12345, n_estimators=6, max_depth=6)\n",
    "model.fit(features_train, target_train) \n",
    "predictions = model_forest.predict(features_test)\n",
    "predictions_accuracy = accuracy_score(target_test, predictions)\n",
    "print('Accuracy тестовой выборки:',predictions_accuracy.round(4))"
   ]
  },
  {
   "cell_type": "markdown",
   "id": "744a930e",
   "metadata": {},
   "source": [
    "На тестовой выборке получили 80,25% правильных ответов, что очень близко к результату на валидационной выборке. Таким образом, можно сказать, что модель обучена хорошо, переобучения нет."
   ]
  },
  {
   "cell_type": "markdown",
   "id": "e573a578",
   "metadata": {},
   "source": [
    "## Общий вывод"
   ]
  },
  {
   "cell_type": "markdown",
   "id": "8c690372",
   "metadata": {},
   "source": [
    "В ходе работы были изучены данные о поведении клиентов, перешедших на тарифы \"Смарт\" и \"Ультра\" (количество СМС, звонков, суммарная длительность звонков в минутах и израсходованный интернет-трафик). \n",
    "\n",
    "Данные были разбиты на три выборки: обучающую (для обучения алгоритма), валидационную (для подбора гиперпараметров и выбора лучшей модели) и тестовую (для оценки качества модели).\n",
    "\n",
    "Были построены следующие модели: дерево решений, случайный лес, логистическая регрессия, Для каждого из алгоритмов были подобраны гиперпараметры, дающие наибольшую долю правильных ответов (accuracy) в валидационной выборке. Самое высокое качество оказалось у модели случайного леса с количеством оценщиков и максимальной глубиной, равными 6. Доля правильных ответов составила 80,72%.\n",
    "\n",
    "Проверка качества модели показала, что она обучена хорошо. Accuracy для валидационной и тестовых выборок практически совпадает. \n",
    "\n",
    "Таким образом, нам удалось построить систему, способную с 80-процентной точностью проанализировать поведение клиентов и предложить пользователям новый тариф: «Смарт» или «Ультра»."
   ]
  }
 ],
 "metadata": {
  "kernelspec": {
   "display_name": "Python 3 (ipykernel)",
   "language": "python",
   "name": "python3"
  },
  "language_info": {
   "codemirror_mode": {
    "name": "ipython",
    "version": 3
   },
   "file_extension": ".py",
   "mimetype": "text/x-python",
   "name": "python",
   "nbconvert_exporter": "python",
   "pygments_lexer": "ipython3",
   "version": "3.7.8"
  },
  "toc": {
   "base_numbering": 1,
   "nav_menu": {},
   "number_sections": true,
   "sideBar": true,
   "skip_h1_title": true,
   "title_cell": "Содержание",
   "title_sidebar": "Contents",
   "toc_cell": true,
   "toc_position": {},
   "toc_section_display": true,
   "toc_window_display": true
  }
 },
 "nbformat": 4,
 "nbformat_minor": 5
}
