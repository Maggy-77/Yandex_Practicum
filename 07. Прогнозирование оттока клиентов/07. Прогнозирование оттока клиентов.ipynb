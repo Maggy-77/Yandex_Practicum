{
 "cells": [
  {
   "cell_type": "markdown",
   "metadata": {},
   "source": [
    "# Комментарий ревьюера\n",
    "\n",
    "<div class=\"alert alert-block alert-info\">\n",
    "Привет, Маргарита! Меня зовут Анвар Ганиев, и я буду проверять твой проект. Предлагаю общаться на «ты» :) Но если это не удобно - дай знать, и мы перейдем на \"вы\". Моя основная цель — не указать на совершенные тобою ошибки, а поделиться своим опытом и помочь тебе стать data scientist'ом.\n",
    "\n",
    "Видно, что ты старалась, делая проект. Все ключевые этапы в работе выполнены, так что в целом справиться с задачей тебе удалось. Есть ещё несколько аспектов, которые требуют твоего внимания. Комментарии по ним помечены <span style='color:Red'> красным цветом  </span>. Комментарии я буду оставлять под ячейками, к которым они относятся. А еще писать в заголовке v{номер версии}, чтобы знать, при какой проверке, я их оставлял. После их доработки проект будет принят. Осталось совсем немного, буду ждать твою работу на повторное ревью 🙂\n",
    "\n",
    "<span style='color:Green'> Зелёным цветом </span> отмечены удачные и элегантные решения, на которые можно опираться в будущих проектах. <span style='color:Gold'> Жёлтым цветом </span>выделено то, что в следующий раз можно сделать по-другому. Ты можешь учесть эти комментарии при выполнении будущих заданий или доработать проект сейчас (однако это не обязательно).\n",
    "\n",
    "Давай работать над проектом в диалоге: если ты что-то меняешь в проекте по моим рекомендациям — пиши об этом. Выбери для своих комментариев какой-то заметный цвет, так мне будет легче отследить изменения. Пожалуйста, не перемещай, не изменяй и не удаляй мои комментарии. Всё это поможет выполнить повторную проверку твоего проекта оперативнее\n",
    "</div>"
   ]
  },
  {
   "cell_type": "markdown",
   "metadata": {},
   "source": [
    "<div class=\"alert alert-block\" style='background:violet'>\n",
    "Привет! Приятно познакомиться!\n",
    "</div>"
   ]
  },
  {
   "cell_type": "markdown",
   "metadata": {
    "toc": true
   },
   "source": [
    "<h1>Содержание<span class=\"tocSkip\"></span></h1>\n",
    "<div class=\"toc\"><ul class=\"toc-item\"><li><span><a href=\"#Подготовка-данных\" data-toc-modified-id=\"Подготовка-данных-1\"><span class=\"toc-item-num\">1&nbsp;&nbsp;</span>Подготовка данных</a></span><ul class=\"toc-item\"><li><span><a href=\"#Обзор-данных\" data-toc-modified-id=\"Обзор-данных-1.1\"><span class=\"toc-item-num\">1.1&nbsp;&nbsp;</span>Обзор данных</a></span></li><li><span><a href=\"#-Комментарий-ревьюера-v1\" data-toc-modified-id=\"-Комментарий-ревьюера-v1-1.2\"><span class=\"toc-item-num\">1.2&nbsp;&nbsp;</span> Комментарий ревьюера v1</a></span></li><li><span><a href=\"#Предобработка-данных\" data-toc-modified-id=\"Предобработка-данных-1.3\"><span class=\"toc-item-num\">1.3&nbsp;&nbsp;</span>Предобработка данных</a></span></li><li><span><a href=\"#-Комментарий-ревьюера-v1\" data-toc-modified-id=\"-Комментарий-ревьюера-v1-1.4\"><span class=\"toc-item-num\">1.4&nbsp;&nbsp;</span> Комментарий ревьюера v1</a></span></li><li><span><a href=\"#-Комментарий-ревьюера-v1\" data-toc-modified-id=\"-Комментарий-ревьюера-v1-1.5\"><span class=\"toc-item-num\">1.5&nbsp;&nbsp;</span> Комментарий ревьюера v1</a></span></li><li><span><a href=\"#Исследовательский-анализ-данных\" data-toc-modified-id=\"Исследовательский-анализ-данных-1.6\"><span class=\"toc-item-num\">1.6&nbsp;&nbsp;</span>Исследовательский анализ данных</a></span></li><li><span><a href=\"#Подготовка-данных\" data-toc-modified-id=\"Подготовка-данных-1.7\"><span class=\"toc-item-num\">1.7&nbsp;&nbsp;</span>Подготовка данных</a></span></li><li><span><a href=\"#-Комментарий-ревьюера-v1\" data-toc-modified-id=\"-Комментарий-ревьюера-v1-1.8\"><span class=\"toc-item-num\">1.8&nbsp;&nbsp;</span> Комментарий ревьюера v1</a></span></li><li><span><a href=\"#-Комментарий-ревьюера-v1\" data-toc-modified-id=\"-Комментарий-ревьюера-v1-1.9\"><span class=\"toc-item-num\">1.9&nbsp;&nbsp;</span> Комментарий ревьюера v1</a></span></li><li><span><a href=\"#-Комментарий-ревьюера-v1\" data-toc-modified-id=\"-Комментарий-ревьюера-v1-1.10\"><span class=\"toc-item-num\">1.10&nbsp;&nbsp;</span> Комментарий ревьюера v1</a></span></li></ul></li><li><span><a href=\"#Исследование-задачи\" data-toc-modified-id=\"Исследование-задачи-2\"><span class=\"toc-item-num\">2&nbsp;&nbsp;</span>Исследование задачи</a></span><ul class=\"toc-item\"><li><span><a href=\"#Изучение-баланса-целевого-признака\" data-toc-modified-id=\"Изучение-баланса-целевого-признака-2.1\"><span class=\"toc-item-num\">2.1&nbsp;&nbsp;</span>Изучение баланса целевого признака</a></span></li><li><span><a href=\"#Дерево-решений\" data-toc-modified-id=\"Дерево-решений-2.2\"><span class=\"toc-item-num\">2.2&nbsp;&nbsp;</span>Дерево решений</a></span></li><li><span><a href=\"#-Комментарий-ревьюера-v1\" data-toc-modified-id=\"-Комментарий-ревьюера-v1-2.3\"><span class=\"toc-item-num\">2.3&nbsp;&nbsp;</span> Комментарий ревьюера v1</a></span></li><li><span><a href=\"#Случайный-лес\" data-toc-modified-id=\"Случайный-лес-2.4\"><span class=\"toc-item-num\">2.4&nbsp;&nbsp;</span>Случайный лес</a></span></li><li><span><a href=\"#Логистическая-регрессия\" data-toc-modified-id=\"Логистическая-регрессия-2.5\"><span class=\"toc-item-num\">2.5&nbsp;&nbsp;</span>Логистическая регрессия</a></span></li></ul></li><li><span><a href=\"#Борьба-с-дисбалансом\" data-toc-modified-id=\"Борьба-с-дисбалансом-3\"><span class=\"toc-item-num\">3&nbsp;&nbsp;</span>Борьба с дисбалансом</a></span><ul class=\"toc-item\"><li><span><a href=\"#Взвешивание-классов\" data-toc-modified-id=\"Взвешивание-классов-3.1\"><span class=\"toc-item-num\">3.1&nbsp;&nbsp;</span>Взвешивание классов</a></span></li><li><span><a href=\"#Увеличение-выборки\" data-toc-modified-id=\"Увеличение-выборки-3.2\"><span class=\"toc-item-num\">3.2&nbsp;&nbsp;</span>Увеличение выборки</a></span></li><li><span><a href=\"#-Комментарий-ревьюера-v1\" data-toc-modified-id=\"-Комментарий-ревьюера-v1-3.3\"><span class=\"toc-item-num\">3.3&nbsp;&nbsp;</span> Комментарий ревьюера v1</a></span></li><li><span><a href=\"#Уменьшение-выборки\" data-toc-modified-id=\"Уменьшение-выборки-3.4\"><span class=\"toc-item-num\">3.4&nbsp;&nbsp;</span>Уменьшение выборки</a></span></li></ul></li><li><span><a href=\"#Тестирование-модели\" data-toc-modified-id=\"Тестирование-модели-4\"><span class=\"toc-item-num\">4&nbsp;&nbsp;</span>Тестирование модели</a></span><ul class=\"toc-item\"><li><span><a href=\"#-Комментарий-ревьюера-v1\" data-toc-modified-id=\"-Комментарий-ревьюера-v1-4.1\"><span class=\"toc-item-num\">4.1&nbsp;&nbsp;</span> Комментарий ревьюера v1</a></span></li><li><span><a href=\"#-Комментарий-ревьюера-v1\" data-toc-modified-id=\"-Комментарий-ревьюера-v1-4.2\"><span class=\"toc-item-num\">4.2&nbsp;&nbsp;</span> Комментарий ревьюера v1</a></span></li></ul></li><li><span><a href=\"#Общий-вывод\" data-toc-modified-id=\"Общий-вывод-5\"><span class=\"toc-item-num\">5&nbsp;&nbsp;</span>Общий вывод</a></span><ul class=\"toc-item\"><li><span><a href=\"#-Итоговый-комментарий\" data-toc-modified-id=\"-Итоговый-комментарий-5.1\"><span class=\"toc-item-num\">5.1&nbsp;&nbsp;</span> Итоговый комментарий</a></span></li><li><span><a href=\"#-Комментарий-ревьюера-v2\" data-toc-modified-id=\"-Комментарий-ревьюера-v2-5.2\"><span class=\"toc-item-num\">5.2&nbsp;&nbsp;</span> Комментарий ревьюера v2</a></span></li></ul></li></ul></div>"
   ]
  },
  {
   "cell_type": "markdown",
   "metadata": {},
   "source": [
    "# Прогнозирование оттока клиентов"
   ]
  },
  {
   "cell_type": "markdown",
   "metadata": {},
   "source": [
    "Из «Бета-Банка» стали заметно уходить клиенты. Банковские маркетологи посчитали: сохранять текущих клиентов дешевле, чем привлекать новых.\n",
    "\n",
    "Нужно спрогнозировать, уйдёт клиент из банка в ближайшее время или нет. Для решения задачи предоставлены исторические данные о поведении клиентов и расторжении договоров с банком. \n",
    "\n",
    "**Цель исследования**: Построить модель для задачи классификации, которая спрогнозирует отток клиентов.\n",
    "\n",
    "**Ход исследования**\n",
    "Построение модели пройдёт в четыре этапа:\n",
    " 1. Обзор и подготовка данных.\n",
    " 2. Исследование баланса классов, обучение модели без учёта дисбаланса.\n",
    " 3. Улучшение качества модели с учётом дисбаланса классов.\n",
    " 4. Финальное тестирование."
   ]
  },
  {
   "cell_type": "markdown",
   "metadata": {},
   "source": [
    "## Подготовка данных\n",
    "### Обзор данных"
   ]
  },
  {
   "cell_type": "markdown",
   "metadata": {},
   "source": [
    "Для начала импортируем необходимые для работы библиотеки и модули."
   ]
  },
  {
   "cell_type": "code",
   "execution_count": 1,
   "metadata": {},
   "outputs": [],
   "source": [
    "# импорт необходимых библиотек и модулей\n",
    "import pandas as pd\n",
    "\n",
    "import matplotlib.pyplot as plt \n",
    "import seaborn as sns\n",
    "\n",
    "from sklearn.model_selection import train_test_split \n",
    "from sklearn.preprocessing import StandardScaler\n",
    "\n",
    "from sklearn.tree import DecisionTreeClassifier\n",
    "from sklearn.ensemble import RandomForestClassifier\n",
    "from sklearn.linear_model import LogisticRegression\n",
    "\n",
    "from sklearn.metrics import f1_score\n",
    "from sklearn.metrics import roc_auc_score\n",
    "from sklearn.metrics import accuracy_score\n",
    "from sklearn.metrics import recall_score\n",
    "from sklearn.metrics import precision_score\n",
    "from sklearn.metrics import roc_curve\n",
    "\n",
    "from sklearn.utils import shuffle"
   ]
  },
  {
   "cell_type": "markdown",
   "metadata": {},
   "source": [
    "<div class=\"alert alert-success\"> ✅ \n",
    "<h3> Комментарий ревьюера v1</h3>\n",
    "\n",
    "Здорово, что все импорты находятся в одной ячейке. Если хочешь сделать ещё лучше, соблюдай стандарт PEP-8 =)\n",
    "Ссылка для ознакомления: https://pythonworld.ru/osnovy/pep-8-rukovodstvo-po-napisaniyu-koda-na-python.html#section-8\n"
   ]
  },
  {
   "cell_type": "markdown",
   "metadata": {},
   "source": [
    "Прочитаем файл с данными и сохраним в переменной."
   ]
  },
  {
   "cell_type": "code",
   "execution_count": 2,
   "metadata": {},
   "outputs": [],
   "source": [
    "# чтение файла с данными\n",
    "df = pd.read_csv('/datasets/Churn.csv')"
   ]
  },
  {
   "cell_type": "markdown",
   "metadata": {},
   "source": [
    "Выведем на экран первые десять строк таблицы."
   ]
  },
  {
   "cell_type": "code",
   "execution_count": 3,
   "metadata": {},
   "outputs": [
    {
     "data": {
      "text/html": [
       "<div>\n",
       "<style scoped>\n",
       "    .dataframe tbody tr th:only-of-type {\n",
       "        vertical-align: middle;\n",
       "    }\n",
       "\n",
       "    .dataframe tbody tr th {\n",
       "        vertical-align: top;\n",
       "    }\n",
       "\n",
       "    .dataframe thead th {\n",
       "        text-align: right;\n",
       "    }\n",
       "</style>\n",
       "<table border=\"1\" class=\"dataframe\">\n",
       "  <thead>\n",
       "    <tr style=\"text-align: right;\">\n",
       "      <th></th>\n",
       "      <th>RowNumber</th>\n",
       "      <th>CustomerId</th>\n",
       "      <th>Surname</th>\n",
       "      <th>CreditScore</th>\n",
       "      <th>Geography</th>\n",
       "      <th>Gender</th>\n",
       "      <th>Age</th>\n",
       "      <th>Tenure</th>\n",
       "      <th>Balance</th>\n",
       "      <th>NumOfProducts</th>\n",
       "      <th>HasCrCard</th>\n",
       "      <th>IsActiveMember</th>\n",
       "      <th>EstimatedSalary</th>\n",
       "      <th>Exited</th>\n",
       "    </tr>\n",
       "  </thead>\n",
       "  <tbody>\n",
       "    <tr>\n",
       "      <th>0</th>\n",
       "      <td>1</td>\n",
       "      <td>15634602</td>\n",
       "      <td>Hargrave</td>\n",
       "      <td>619</td>\n",
       "      <td>France</td>\n",
       "      <td>Female</td>\n",
       "      <td>42</td>\n",
       "      <td>2.0</td>\n",
       "      <td>0.00</td>\n",
       "      <td>1</td>\n",
       "      <td>1</td>\n",
       "      <td>1</td>\n",
       "      <td>101348.88</td>\n",
       "      <td>1</td>\n",
       "    </tr>\n",
       "    <tr>\n",
       "      <th>1</th>\n",
       "      <td>2</td>\n",
       "      <td>15647311</td>\n",
       "      <td>Hill</td>\n",
       "      <td>608</td>\n",
       "      <td>Spain</td>\n",
       "      <td>Female</td>\n",
       "      <td>41</td>\n",
       "      <td>1.0</td>\n",
       "      <td>83807.86</td>\n",
       "      <td>1</td>\n",
       "      <td>0</td>\n",
       "      <td>1</td>\n",
       "      <td>112542.58</td>\n",
       "      <td>0</td>\n",
       "    </tr>\n",
       "    <tr>\n",
       "      <th>2</th>\n",
       "      <td>3</td>\n",
       "      <td>15619304</td>\n",
       "      <td>Onio</td>\n",
       "      <td>502</td>\n",
       "      <td>France</td>\n",
       "      <td>Female</td>\n",
       "      <td>42</td>\n",
       "      <td>8.0</td>\n",
       "      <td>159660.80</td>\n",
       "      <td>3</td>\n",
       "      <td>1</td>\n",
       "      <td>0</td>\n",
       "      <td>113931.57</td>\n",
       "      <td>1</td>\n",
       "    </tr>\n",
       "    <tr>\n",
       "      <th>3</th>\n",
       "      <td>4</td>\n",
       "      <td>15701354</td>\n",
       "      <td>Boni</td>\n",
       "      <td>699</td>\n",
       "      <td>France</td>\n",
       "      <td>Female</td>\n",
       "      <td>39</td>\n",
       "      <td>1.0</td>\n",
       "      <td>0.00</td>\n",
       "      <td>2</td>\n",
       "      <td>0</td>\n",
       "      <td>0</td>\n",
       "      <td>93826.63</td>\n",
       "      <td>0</td>\n",
       "    </tr>\n",
       "    <tr>\n",
       "      <th>4</th>\n",
       "      <td>5</td>\n",
       "      <td>15737888</td>\n",
       "      <td>Mitchell</td>\n",
       "      <td>850</td>\n",
       "      <td>Spain</td>\n",
       "      <td>Female</td>\n",
       "      <td>43</td>\n",
       "      <td>2.0</td>\n",
       "      <td>125510.82</td>\n",
       "      <td>1</td>\n",
       "      <td>1</td>\n",
       "      <td>1</td>\n",
       "      <td>79084.10</td>\n",
       "      <td>0</td>\n",
       "    </tr>\n",
       "    <tr>\n",
       "      <th>5</th>\n",
       "      <td>6</td>\n",
       "      <td>15574012</td>\n",
       "      <td>Chu</td>\n",
       "      <td>645</td>\n",
       "      <td>Spain</td>\n",
       "      <td>Male</td>\n",
       "      <td>44</td>\n",
       "      <td>8.0</td>\n",
       "      <td>113755.78</td>\n",
       "      <td>2</td>\n",
       "      <td>1</td>\n",
       "      <td>0</td>\n",
       "      <td>149756.71</td>\n",
       "      <td>1</td>\n",
       "    </tr>\n",
       "    <tr>\n",
       "      <th>6</th>\n",
       "      <td>7</td>\n",
       "      <td>15592531</td>\n",
       "      <td>Bartlett</td>\n",
       "      <td>822</td>\n",
       "      <td>France</td>\n",
       "      <td>Male</td>\n",
       "      <td>50</td>\n",
       "      <td>7.0</td>\n",
       "      <td>0.00</td>\n",
       "      <td>2</td>\n",
       "      <td>1</td>\n",
       "      <td>1</td>\n",
       "      <td>10062.80</td>\n",
       "      <td>0</td>\n",
       "    </tr>\n",
       "    <tr>\n",
       "      <th>7</th>\n",
       "      <td>8</td>\n",
       "      <td>15656148</td>\n",
       "      <td>Obinna</td>\n",
       "      <td>376</td>\n",
       "      <td>Germany</td>\n",
       "      <td>Female</td>\n",
       "      <td>29</td>\n",
       "      <td>4.0</td>\n",
       "      <td>115046.74</td>\n",
       "      <td>4</td>\n",
       "      <td>1</td>\n",
       "      <td>0</td>\n",
       "      <td>119346.88</td>\n",
       "      <td>1</td>\n",
       "    </tr>\n",
       "    <tr>\n",
       "      <th>8</th>\n",
       "      <td>9</td>\n",
       "      <td>15792365</td>\n",
       "      <td>He</td>\n",
       "      <td>501</td>\n",
       "      <td>France</td>\n",
       "      <td>Male</td>\n",
       "      <td>44</td>\n",
       "      <td>4.0</td>\n",
       "      <td>142051.07</td>\n",
       "      <td>2</td>\n",
       "      <td>0</td>\n",
       "      <td>1</td>\n",
       "      <td>74940.50</td>\n",
       "      <td>0</td>\n",
       "    </tr>\n",
       "    <tr>\n",
       "      <th>9</th>\n",
       "      <td>10</td>\n",
       "      <td>15592389</td>\n",
       "      <td>H?</td>\n",
       "      <td>684</td>\n",
       "      <td>France</td>\n",
       "      <td>Male</td>\n",
       "      <td>27</td>\n",
       "      <td>2.0</td>\n",
       "      <td>134603.88</td>\n",
       "      <td>1</td>\n",
       "      <td>1</td>\n",
       "      <td>1</td>\n",
       "      <td>71725.73</td>\n",
       "      <td>0</td>\n",
       "    </tr>\n",
       "  </tbody>\n",
       "</table>\n",
       "</div>"
      ],
      "text/plain": [
       "   RowNumber  CustomerId   Surname  CreditScore Geography  Gender  Age  \\\n",
       "0          1    15634602  Hargrave          619    France  Female   42   \n",
       "1          2    15647311      Hill          608     Spain  Female   41   \n",
       "2          3    15619304      Onio          502    France  Female   42   \n",
       "3          4    15701354      Boni          699    France  Female   39   \n",
       "4          5    15737888  Mitchell          850     Spain  Female   43   \n",
       "5          6    15574012       Chu          645     Spain    Male   44   \n",
       "6          7    15592531  Bartlett          822    France    Male   50   \n",
       "7          8    15656148    Obinna          376   Germany  Female   29   \n",
       "8          9    15792365        He          501    France    Male   44   \n",
       "9         10    15592389        H?          684    France    Male   27   \n",
       "\n",
       "   Tenure    Balance  NumOfProducts  HasCrCard  IsActiveMember  \\\n",
       "0     2.0       0.00              1          1               1   \n",
       "1     1.0   83807.86              1          0               1   \n",
       "2     8.0  159660.80              3          1               0   \n",
       "3     1.0       0.00              2          0               0   \n",
       "4     2.0  125510.82              1          1               1   \n",
       "5     8.0  113755.78              2          1               0   \n",
       "6     7.0       0.00              2          1               1   \n",
       "7     4.0  115046.74              4          1               0   \n",
       "8     4.0  142051.07              2          0               1   \n",
       "9     2.0  134603.88              1          1               1   \n",
       "\n",
       "   EstimatedSalary  Exited  \n",
       "0        101348.88       1  \n",
       "1        112542.58       0  \n",
       "2        113931.57       1  \n",
       "3         93826.63       0  \n",
       "4         79084.10       0  \n",
       "5        149756.71       1  \n",
       "6         10062.80       0  \n",
       "7        119346.88       1  \n",
       "8         74940.50       0  \n",
       "9         71725.73       0  "
      ]
     },
     "execution_count": 3,
     "metadata": {},
     "output_type": "execute_result"
    }
   ],
   "source": [
    "df.head(10) # получение первых 10 строк таблицы"
   ]
  },
  {
   "cell_type": "markdown",
   "metadata": {},
   "source": [
    "Изучим общую информацию о таблице."
   ]
  },
  {
   "cell_type": "code",
   "execution_count": 4,
   "metadata": {},
   "outputs": [
    {
     "name": "stdout",
     "output_type": "stream",
     "text": [
      "<class 'pandas.core.frame.DataFrame'>\n",
      "RangeIndex: 10000 entries, 0 to 9999\n",
      "Data columns (total 14 columns):\n",
      " #   Column           Non-Null Count  Dtype  \n",
      "---  ------           --------------  -----  \n",
      " 0   RowNumber        10000 non-null  int64  \n",
      " 1   CustomerId       10000 non-null  int64  \n",
      " 2   Surname          10000 non-null  object \n",
      " 3   CreditScore      10000 non-null  int64  \n",
      " 4   Geography        10000 non-null  object \n",
      " 5   Gender           10000 non-null  object \n",
      " 6   Age              10000 non-null  int64  \n",
      " 7   Tenure           9091 non-null   float64\n",
      " 8   Balance          10000 non-null  float64\n",
      " 9   NumOfProducts    10000 non-null  int64  \n",
      " 10  HasCrCard        10000 non-null  int64  \n",
      " 11  IsActiveMember   10000 non-null  int64  \n",
      " 12  EstimatedSalary  10000 non-null  float64\n",
      " 13  Exited           10000 non-null  int64  \n",
      "dtypes: float64(3), int64(8), object(3)\n",
      "memory usage: 1.1+ MB\n"
     ]
    }
   ],
   "source": [
    "df.info() # получение общей информации о данных в таблице"
   ]
  },
  {
   "cell_type": "markdown",
   "metadata": {},
   "source": [
    "Имеем информацию о 10000 клиентов банка. Согласно документации к данным:\n",
    "* `RowNumber` — индекс строки в данных\n",
    "* `CustomerId` — уникальный идентификатор клиента\n",
    "* `Surname` — фамилия\n",
    "* `CreditScore` — кредитный рейтинг\n",
    "* `Geography` — страна проживания\n",
    "* `Gender` — пол\n",
    "* `Age` — возраст\n",
    "* `Tenure` — сколько лет человек является клиентом банка\n",
    "* `Balance` — баланс на счёте\n",
    "* `NumOfProducts` — количество продуктов банка, используемых клиентом\n",
    "* `HasCrCard` — наличие кредитной карты\n",
    "* `IsActiveMember` — активность клиента\n",
    "* `EstimatedSalary` — предполагаемая зарплата\n",
    "* `Exited` — факт ухода клиента\n",
    "\n",
    "Целевым признаком является столбец `Exited`."
   ]
  },
  {
   "cell_type": "markdown",
   "metadata": {},
   "source": [
    "### Предобработка данных\n",
    "\n",
    "Первым делом отметим, что среди данных есть признаки, которые никак не могут влиять на факт ухода клиента из банка. Это индекс строки, идентификатор клиента и его фамилия. Удалим лишние столбцы."
   ]
  },
  {
   "cell_type": "code",
   "execution_count": 5,
   "metadata": {},
   "outputs": [],
   "source": [
    "df = df.drop(['CustomerId', 'RowNumber', 'Surname'], axis=1) # удаление лишних столбцов"
   ]
  },
  {
   "cell_type": "markdown",
   "metadata": {},
   "source": [
    "<div class=\"alert alert-success\"> ✅ \n",
    "<h3> Комментарий ревьюера v1</h3>\n",
    "\n",
    "Все верно, эти признаки нам никак не помогут. Скорее даже помешают =)\n"
   ]
  },
  {
   "cell_type": "markdown",
   "metadata": {},
   "source": [
    "Исправим стиль заголовков."
   ]
  },
  {
   "cell_type": "code",
   "execution_count": 6,
   "metadata": {},
   "outputs": [],
   "source": [
    "# приведение названий столбцов к нижнему регистру\n",
    "df.columns = df.columns.str.lower()\n",
    "# переименование столбцов\n",
    "df = df.rename(columns = {'creditscore':'credit_score', 'numofproducts':'num_of_products', 'hascrcard':'has_cr_card',\n",
    "                          'isactivemember':'is_active_member', 'estimatedsalary':'estimated_salary'}) "
   ]
  },
  {
   "cell_type": "markdown",
   "metadata": {},
   "source": [
    "В колонке `tenure` есть пропущенные значения. Посчитаем, какова их доля."
   ]
  },
  {
   "cell_type": "code",
   "execution_count": 7,
   "metadata": {},
   "outputs": [
    {
     "data": {
      "text/plain": [
       "0.0909"
      ]
     },
     "execution_count": 7,
     "metadata": {},
     "output_type": "execute_result"
    }
   ],
   "source": [
    "df['tenure'].isna().sum() / df.shape[0] # расчет доли пропусков в столбце"
   ]
  },
  {
   "cell_type": "markdown",
   "metadata": {},
   "source": [
    "9% пропусков. Посмотрим распределение значений в данном столбце и описательную статистику."
   ]
  },
  {
   "cell_type": "code",
   "execution_count": 8,
   "metadata": {},
   "outputs": [
    {
     "data": {
      "image/png": "[encoded data removed]",
      "text/plain": [
       "<Figure size 432x288 with 1 Axes>"
      ]
     },
     "metadata": {},
     "output_type": "display_data"
    },
    {
     "data": {
      "text/plain": [
       "count    9091.000000\n",
       "mean        4.997690\n",
       "std         2.894723\n",
       "min         0.000000\n",
       "25%         2.000000\n",
       "50%         5.000000\n",
       "75%         7.000000\n",
       "max        10.000000\n",
       "Name: tenure, dtype: float64"
      ]
     },
     "execution_count": 8,
     "metadata": {},
     "output_type": "execute_result"
    }
   ],
   "source": [
    "sns.set(context='notebook', style='whitegrid', palette='tab10') # настройка стиля построения графиков\n",
    "sns.histplot(df['tenure'],bins=11) # построение гистограммы\n",
    "plt.title('сколько лет человек является клиентом банка')\n",
    "plt.show()\n",
    "df['tenure'].describe() # описательная статистика"
   ]
  },
  {
   "cell_type": "markdown",
   "metadata": {},
   "source": [
    "Все значения, кроме 0 и 10 лет, распределены примерно поровну. Если мы заменим пропуски медианой, получим перекос в распределении, что может повлиять на обучение модели. Наилучшим выходом в данной ситуации видится удаление пропущенных значений."
   ]
  },
  {
   "cell_type": "markdown",
   "metadata": {},
   "source": [
    "<div class=\"alert alert-success\"> ✅ \n",
    "<h3> Комментарий ревьюера v1</h3>\n",
    "\n",
    "Согласен, тем более данных пропущенных не так уж и много =)"
   ]
  },
  {
   "cell_type": "code",
   "execution_count": 9,
   "metadata": {},
   "outputs": [],
   "source": [
    "df.dropna(subset = ['tenure'], inplace=True) # удаление строк с пропусками"
   ]
  },
  {
   "cell_type": "markdown",
   "metadata": {},
   "source": [
    "Теперь приведем данный столбец к целочисленным значениям. "
   ]
  },
  {
   "cell_type": "code",
   "execution_count": 10,
   "metadata": {},
   "outputs": [],
   "source": [
    "df['tenure'] = df['tenure'].astype('int') # приведение к целочисленному типу"
   ]
  },
  {
   "cell_type": "markdown",
   "metadata": {},
   "source": [
    "Посмотрим, нет ли аномалий в количественных данных."
   ]
  },
  {
   "cell_type": "code",
   "execution_count": 11,
   "metadata": {},
   "outputs": [
    {
     "data": {
      "text/html": [
       "<div>\n",
       "<style scoped>\n",
       "    .dataframe tbody tr th:only-of-type {\n",
       "        vertical-align: middle;\n",
       "    }\n",
       "\n",
       "    .dataframe tbody tr th {\n",
       "        vertical-align: top;\n",
       "    }\n",
       "\n",
       "    .dataframe thead th {\n",
       "        text-align: right;\n",
       "    }\n",
       "</style>\n",
       "<table border=\"1\" class=\"dataframe\">\n",
       "  <thead>\n",
       "    <tr style=\"text-align: right;\">\n",
       "      <th></th>\n",
       "      <th>credit_score</th>\n",
       "      <th>age</th>\n",
       "      <th>tenure</th>\n",
       "      <th>balance</th>\n",
       "      <th>num_of_products</th>\n",
       "      <th>has_cr_card</th>\n",
       "      <th>is_active_member</th>\n",
       "      <th>estimated_salary</th>\n",
       "      <th>exited</th>\n",
       "    </tr>\n",
       "  </thead>\n",
       "  <tbody>\n",
       "    <tr>\n",
       "      <th>count</th>\n",
       "      <td>9091.000000</td>\n",
       "      <td>9091.000000</td>\n",
       "      <td>9091.000000</td>\n",
       "      <td>9091.000000</td>\n",
       "      <td>9091.000000</td>\n",
       "      <td>9091.000000</td>\n",
       "      <td>9091.000000</td>\n",
       "      <td>9091.000000</td>\n",
       "      <td>9091.000000</td>\n",
       "    </tr>\n",
       "    <tr>\n",
       "      <th>mean</th>\n",
       "      <td>650.736553</td>\n",
       "      <td>38.949181</td>\n",
       "      <td>4.997690</td>\n",
       "      <td>76522.740015</td>\n",
       "      <td>1.530195</td>\n",
       "      <td>0.704983</td>\n",
       "      <td>0.515565</td>\n",
       "      <td>100181.214924</td>\n",
       "      <td>0.203938</td>\n",
       "    </tr>\n",
       "    <tr>\n",
       "      <th>std</th>\n",
       "      <td>96.410471</td>\n",
       "      <td>10.555581</td>\n",
       "      <td>2.894723</td>\n",
       "      <td>62329.528576</td>\n",
       "      <td>0.581003</td>\n",
       "      <td>0.456076</td>\n",
       "      <td>0.499785</td>\n",
       "      <td>57624.755647</td>\n",
       "      <td>0.402946</td>\n",
       "    </tr>\n",
       "    <tr>\n",
       "      <th>min</th>\n",
       "      <td>350.000000</td>\n",
       "      <td>18.000000</td>\n",
       "      <td>0.000000</td>\n",
       "      <td>0.000000</td>\n",
       "      <td>1.000000</td>\n",
       "      <td>0.000000</td>\n",
       "      <td>0.000000</td>\n",
       "      <td>11.580000</td>\n",
       "      <td>0.000000</td>\n",
       "    </tr>\n",
       "    <tr>\n",
       "      <th>25%</th>\n",
       "      <td>584.000000</td>\n",
       "      <td>32.000000</td>\n",
       "      <td>2.000000</td>\n",
       "      <td>0.000000</td>\n",
       "      <td>1.000000</td>\n",
       "      <td>0.000000</td>\n",
       "      <td>0.000000</td>\n",
       "      <td>51227.745000</td>\n",
       "      <td>0.000000</td>\n",
       "    </tr>\n",
       "    <tr>\n",
       "      <th>50%</th>\n",
       "      <td>652.000000</td>\n",
       "      <td>37.000000</td>\n",
       "      <td>5.000000</td>\n",
       "      <td>97318.250000</td>\n",
       "      <td>1.000000</td>\n",
       "      <td>1.000000</td>\n",
       "      <td>1.000000</td>\n",
       "      <td>100240.200000</td>\n",
       "      <td>0.000000</td>\n",
       "    </tr>\n",
       "    <tr>\n",
       "      <th>75%</th>\n",
       "      <td>717.000000</td>\n",
       "      <td>44.000000</td>\n",
       "      <td>7.000000</td>\n",
       "      <td>127561.890000</td>\n",
       "      <td>2.000000</td>\n",
       "      <td>1.000000</td>\n",
       "      <td>1.000000</td>\n",
       "      <td>149567.210000</td>\n",
       "      <td>0.000000</td>\n",
       "    </tr>\n",
       "    <tr>\n",
       "      <th>max</th>\n",
       "      <td>850.000000</td>\n",
       "      <td>92.000000</td>\n",
       "      <td>10.000000</td>\n",
       "      <td>250898.090000</td>\n",
       "      <td>4.000000</td>\n",
       "      <td>1.000000</td>\n",
       "      <td>1.000000</td>\n",
       "      <td>199992.480000</td>\n",
       "      <td>1.000000</td>\n",
       "    </tr>\n",
       "  </tbody>\n",
       "</table>\n",
       "</div>"
      ],
      "text/plain": [
       "       credit_score          age       tenure        balance  num_of_products  \\\n",
       "count   9091.000000  9091.000000  9091.000000    9091.000000      9091.000000   \n",
       "mean     650.736553    38.949181     4.997690   76522.740015         1.530195   \n",
       "std       96.410471    10.555581     2.894723   62329.528576         0.581003   \n",
       "min      350.000000    18.000000     0.000000       0.000000         1.000000   \n",
       "25%      584.000000    32.000000     2.000000       0.000000         1.000000   \n",
       "50%      652.000000    37.000000     5.000000   97318.250000         1.000000   \n",
       "75%      717.000000    44.000000     7.000000  127561.890000         2.000000   \n",
       "max      850.000000    92.000000    10.000000  250898.090000         4.000000   \n",
       "\n",
       "       has_cr_card  is_active_member  estimated_salary       exited  \n",
       "count  9091.000000       9091.000000       9091.000000  9091.000000  \n",
       "mean      0.704983          0.515565     100181.214924     0.203938  \n",
       "std       0.456076          0.499785      57624.755647     0.402946  \n",
       "min       0.000000          0.000000         11.580000     0.000000  \n",
       "25%       0.000000          0.000000      51227.745000     0.000000  \n",
       "50%       1.000000          1.000000     100240.200000     0.000000  \n",
       "75%       1.000000          1.000000     149567.210000     0.000000  \n",
       "max       1.000000          1.000000     199992.480000     1.000000  "
      ]
     },
     "execution_count": 11,
     "metadata": {},
     "output_type": "execute_result"
    }
   ],
   "source": [
    "df.describe() # вывод описательной статистики"
   ]
  },
  {
   "cell_type": "markdown",
   "metadata": {},
   "source": [
    "Кредитный рейтинг лежит в пределах от 350 до 850 баллов. Скорее всего, в данном банке используется шкала от 0 до 999, все значения укладываются в неё. Возраст - от 18 до 92 лет. Являются клиентами \"Бета-банка\" до 0 до 10 лет. Более 25% имеют нулевой баланс на счёте, максимум - 250 898,09 д.е. Количество используемых продуктов - от 1 (более половины клиентов) до 4. Предполагаемая зарплата - от 11,58 д.е. до 199 992,48 д.е. Минимальная зарплата слишком мала, но это не фактическая, а лишь предполагаемая, поэтому оставим как есть.\n",
    "\n",
    "Посмотрим на значения категориальных переменных."
   ]
  },
  {
   "cell_type": "code",
   "execution_count": 12,
   "metadata": {},
   "outputs": [
    {
     "data": {
      "text/plain": [
       "France     4550\n",
       "Germany    2293\n",
       "Spain      2248\n",
       "Name: geography, dtype: int64"
      ]
     },
     "execution_count": 12,
     "metadata": {},
     "output_type": "execute_result"
    }
   ],
   "source": [
    "df['geography'].value_counts() # вывод уникальных значений"
   ]
  },
  {
   "cell_type": "markdown",
   "metadata": {},
   "source": [
    "Клиентами банка являются жители трёх стран: Франции, Германии и Испании."
   ]
  },
  {
   "cell_type": "code",
   "execution_count": 13,
   "metadata": {},
   "outputs": [
    {
     "data": {
      "text/plain": [
       "Male      4974\n",
       "Female    4117\n",
       "Name: gender, dtype: int64"
      ]
     },
     "execution_count": 13,
     "metadata": {},
     "output_type": "execute_result"
    }
   ],
   "source": [
    "df['gender'].value_counts() # вывод уникальных значений"
   ]
  },
  {
   "cell_type": "markdown",
   "metadata": {},
   "source": [
    "Среди клиентов банка только мужчины и женщины, никаких аномалий.\n",
    "\n",
    "Осталось проверить наши данные на дубликаты."
   ]
  },
  {
   "cell_type": "code",
   "execution_count": 14,
   "metadata": {},
   "outputs": [
    {
     "data": {
      "text/plain": [
       "0"
      ]
     },
     "execution_count": 14,
     "metadata": {},
     "output_type": "execute_result"
    }
   ],
   "source": [
    "df.duplicated().sum() # подсчёт явных дубликатов"
   ]
  },
  {
   "cell_type": "markdown",
   "metadata": {},
   "source": [
    "Дубликатов нет, можно двигаться дальше."
   ]
  },
  {
   "cell_type": "markdown",
   "metadata": {},
   "source": [
    "### Исследовательский анализ данных"
   ]
  },
  {
   "cell_type": "markdown",
   "metadata": {},
   "source": [
    "Сравним распределение признаков среди данных об оставшихся и об ушедших клиентах с помощью гистограмм."
   ]
  },
  {
   "cell_type": "code",
   "execution_count": 15,
   "metadata": {
    "scrolled": false
   },
   "outputs": [
    {
     "data": {
      "image/png": "[encoded data removed]",
      "text/plain": [
       "<Figure size 864x360 with 1 Axes>"
      ]
     },
     "metadata": {},
     "output_type": "display_data"
    },
    {
     "data": {
      "image/png": "[encoded data removed]",
      "text/plain": [
       "<Figure size 864x360 with 1 Axes>"
      ]
     },
     "metadata": {},
     "output_type": "display_data"
    },
    {
     "data": {
      "image/png": "[encoded data removed]",
      "text/plain": [
       "<Figure size 864x360 with 1 Axes>"
      ]
     },
     "metadata": {},
     "output_type": "display_data"
    },
    {
     "data": {
      "image/png": "[encoded data removed]",
      "text/plain": [
       "<Figure size 864x360 with 1 Axes>"
      ]
     },
     "metadata": {},
     "output_type": "display_data"
    },
    {
     "data": {
      "image/png": "[encoded data removed]",
      "text/plain": [
       "<Figure size 864x360 with 1 Axes>"
      ]
     },
     "metadata": {},
     "output_type": "display_data"
    },
    {
     "data": {
      "image/png": "[encoded data removed]",
      "text/plain": [
       "<Figure size 864x360 with 1 Axes>"
      ]
     },
     "metadata": {},
     "output_type": "display_data"
    },
    {
     "data": {
      "image/png": "[encoded data removed]",
      "text/plain": [
       "<Figure size 864x360 with 1 Axes>"
      ]
     },
     "metadata": {},
     "output_type": "display_data"
    },
    {
     "data": {
      "image/png": "[encoded data removed]",
      "text/plain": [
       "<Figure size 864x360 with 1 Axes>"
      ]
     },
     "metadata": {},
     "output_type": "display_data"
    },
    {
     "data": {
      "image/png": "[encoded data removed]",
      "text/plain": [
       "<Figure size 864x360 with 1 Axes>"
      ]
     },
     "metadata": {},
     "output_type": "display_data"
    },
    {
     "data": {
      "image/png": "[encoded data removed]",
      "text/plain": [
       "<Figure size 864x360 with 1 Axes>"
      ]
     },
     "metadata": {},
     "output_type": "display_data"
    }
   ],
   "source": [
    "# построение гистограмм для каждого признака\n",
    "plt.rcParams['figure.figsize'] = (12, 5)\n",
    "columns = df.columns.drop('exited')\n",
    "for column in columns:\n",
    "    sns.histplot(data=df, x=column, hue='exited', multiple='dodge')\n",
    "    plt.show()"
   ]
  },
  {
   "cell_type": "markdown",
   "metadata": {},
   "source": [
    "Исходя из построенных графиков, можно заметить следующее. \n",
    "\n",
    "Меньше всего клиентов банка среди жителей Германии, и при этом именно они чаще покидают банк. \n",
    "\n",
    "Аналогичная картина с женщинами: их меньше в целом, но они чаще уходят. \n",
    "\n",
    "Различается распределение по возрасту: среди оставшихся клиентов преобладают более молодые люди (25-40 лет), среди ушедших много 40-50-летних. \n",
    "\n",
    "Примечательно, что ушли все клиенты, пользующиеся одновременно четырьмя продуктами банка, а также большая часть использующих 3 продукта. \n",
    "\n",
    "Что касается остальных признаков, то по графикам нельзя проследить значимой разницы между покинувшими банк и оставшимися."
   ]
  },
  {
   "cell_type": "markdown",
   "metadata": {},
   "source": [
    "### Подготовка данных\n",
    "\n",
    "Для того чтобы преобразовать категориальные признаки в количественные, воспользуемся техникой One-Hot Encoding, поскольку она может работать с разными видами моделей в отличие от Ordinal Encoding."
   ]
  },
  {
   "cell_type": "code",
   "execution_count": 16,
   "metadata": {},
   "outputs": [
    {
     "data": {
      "text/html": [
       "<div>\n",
       "<style scoped>\n",
       "    .dataframe tbody tr th:only-of-type {\n",
       "        vertical-align: middle;\n",
       "    }\n",
       "\n",
       "    .dataframe tbody tr th {\n",
       "        vertical-align: top;\n",
       "    }\n",
       "\n",
       "    .dataframe thead th {\n",
       "        text-align: right;\n",
       "    }\n",
       "</style>\n",
       "<table border=\"1\" class=\"dataframe\">\n",
       "  <thead>\n",
       "    <tr style=\"text-align: right;\">\n",
       "      <th></th>\n",
       "      <th>credit_score</th>\n",
       "      <th>age</th>\n",
       "      <th>tenure</th>\n",
       "      <th>balance</th>\n",
       "      <th>num_of_products</th>\n",
       "      <th>has_cr_card</th>\n",
       "      <th>is_active_member</th>\n",
       "      <th>estimated_salary</th>\n",
       "      <th>exited</th>\n",
       "      <th>geography_Germany</th>\n",
       "      <th>geography_Spain</th>\n",
       "      <th>gender_Male</th>\n",
       "    </tr>\n",
       "  </thead>\n",
       "  <tbody>\n",
       "    <tr>\n",
       "      <th>0</th>\n",
       "      <td>619</td>\n",
       "      <td>42</td>\n",
       "      <td>2</td>\n",
       "      <td>0.00</td>\n",
       "      <td>1</td>\n",
       "      <td>1</td>\n",
       "      <td>1</td>\n",
       "      <td>101348.88</td>\n",
       "      <td>1</td>\n",
       "      <td>0</td>\n",
       "      <td>0</td>\n",
       "      <td>0</td>\n",
       "    </tr>\n",
       "    <tr>\n",
       "      <th>1</th>\n",
       "      <td>608</td>\n",
       "      <td>41</td>\n",
       "      <td>1</td>\n",
       "      <td>83807.86</td>\n",
       "      <td>1</td>\n",
       "      <td>0</td>\n",
       "      <td>1</td>\n",
       "      <td>112542.58</td>\n",
       "      <td>0</td>\n",
       "      <td>0</td>\n",
       "      <td>1</td>\n",
       "      <td>0</td>\n",
       "    </tr>\n",
       "    <tr>\n",
       "      <th>2</th>\n",
       "      <td>502</td>\n",
       "      <td>42</td>\n",
       "      <td>8</td>\n",
       "      <td>159660.80</td>\n",
       "      <td>3</td>\n",
       "      <td>1</td>\n",
       "      <td>0</td>\n",
       "      <td>113931.57</td>\n",
       "      <td>1</td>\n",
       "      <td>0</td>\n",
       "      <td>0</td>\n",
       "      <td>0</td>\n",
       "    </tr>\n",
       "    <tr>\n",
       "      <th>3</th>\n",
       "      <td>699</td>\n",
       "      <td>39</td>\n",
       "      <td>1</td>\n",
       "      <td>0.00</td>\n",
       "      <td>2</td>\n",
       "      <td>0</td>\n",
       "      <td>0</td>\n",
       "      <td>93826.63</td>\n",
       "      <td>0</td>\n",
       "      <td>0</td>\n",
       "      <td>0</td>\n",
       "      <td>0</td>\n",
       "    </tr>\n",
       "    <tr>\n",
       "      <th>4</th>\n",
       "      <td>850</td>\n",
       "      <td>43</td>\n",
       "      <td>2</td>\n",
       "      <td>125510.82</td>\n",
       "      <td>1</td>\n",
       "      <td>1</td>\n",
       "      <td>1</td>\n",
       "      <td>79084.10</td>\n",
       "      <td>0</td>\n",
       "      <td>0</td>\n",
       "      <td>1</td>\n",
       "      <td>0</td>\n",
       "    </tr>\n",
       "  </tbody>\n",
       "</table>\n",
       "</div>"
      ],
      "text/plain": [
       "   credit_score  age  tenure    balance  num_of_products  has_cr_card  \\\n",
       "0           619   42       2       0.00                1            1   \n",
       "1           608   41       1   83807.86                1            0   \n",
       "2           502   42       8  159660.80                3            1   \n",
       "3           699   39       1       0.00                2            0   \n",
       "4           850   43       2  125510.82                1            1   \n",
       "\n",
       "   is_active_member  estimated_salary  exited  geography_Germany  \\\n",
       "0                 1         101348.88       1                  0   \n",
       "1                 1         112542.58       0                  0   \n",
       "2                 0         113931.57       1                  0   \n",
       "3                 0          93826.63       0                  0   \n",
       "4                 1          79084.10       0                  0   \n",
       "\n",
       "   geography_Spain  gender_Male  \n",
       "0                0            0  \n",
       "1                1            0  \n",
       "2                0            0  \n",
       "3                0            0  \n",
       "4                1            0  "
      ]
     },
     "execution_count": 16,
     "metadata": {},
     "output_type": "execute_result"
    }
   ],
   "source": [
    "df_ohe = pd.get_dummies(df, drop_first=True) # прямое кодирование категориальных признаков\n",
    "df_ohe.head() # получение первых 5 строк таблицы"
   ]
  },
  {
   "cell_type": "markdown",
   "metadata": {},
   "source": [
    "<div class=\"alert alert-success\"> ✅ \n",
    "<h3> Комментарий ревьюера v1</h3>\n",
    "\n",
    "Хорошо, что ты применил one-hot-encoding к странам, потому что иногда студенты применяют OrdinalEncoder, который хорошо работает с категориальными фичами, значения которых можно каким-то образом упорядочить/ранжировать (например: 'small', 'big', 'enormous'). Если же значения фичей независимы и их сложно/невозможно ранжировать, то лучше применять one-hot-encoding. В целом, применение OrdinalEncoder - не ошибка, и в ряде случаев можно даже получить лучший результат=) Оставлю ссылки на материалы по этой теме, если интересно почитать подробнее:\n",
    "\n",
    "https://towardsdatascience.com/choosing-the-right-encoding-method-label-vs-onehot-encoder-a4434493149b \n",
    "\n",
    "https://www.kaggle.com/questions-and-answers/239564\n",
    "\n"
   ]
  },
  {
   "cell_type": "markdown",
   "metadata": {},
   "source": [
    "Для машинного обучения необходимо, чтобы признаки были сохранены в отдельных переменных. Сохраним признаки в переменной `features`, а целевой признак - в переменной `target`."
   ]
  },
  {
   "cell_type": "code",
   "execution_count": 17,
   "metadata": {},
   "outputs": [],
   "source": [
    "# создание переменных features и target\n",
    "features = df_ohe.drop('exited', axis=1)\n",
    "target = df_ohe['exited']"
   ]
  },
  {
   "cell_type": "markdown",
   "metadata": {},
   "source": [
    "Разобьем исходный набор данных на три выборки: обучающую, валидационную и тестовую в пропорции 60:20:20. Для этого воспользуемся функцией train_test_split в 2 этапа: сначала выделим обучающую выборку, а затем разделим оставшийся набор на валидационную и тестовую выборки."
   ]
  },
  {
   "cell_type": "code",
   "execution_count": 18,
   "metadata": {},
   "outputs": [
    {
     "name": "stdout",
     "output_type": "stream",
     "text": [
      "Количество объектов обучающей выборки: 5454\n",
      "Количество объектов валидационной выборки: 1818\n",
      "Количество объектов тестовой выборки: 1819\n"
     ]
    }
   ],
   "source": [
    "# выделение обучающей выборки\n",
    "features_train, features_test, target_train, target_test = train_test_split(\n",
    "    features, target, test_size=0.4, random_state=12345, stratify=target)\n",
    "# выделение валидационной и тестовой выборок\n",
    "features_valid, features_test, target_valid, target_test = train_test_split(\n",
    "    features_test, target_test, test_size=0.5, random_state=12345, stratify=target_test)\n",
    "# проверка размеров выборок\n",
    "print('Количество объектов обучающей выборки:', features_train.shape[0])\n",
    "print('Количество объектов валидационной выборки:', features_valid.shape[0])\n",
    "print('Количество объектов тестовой выборки:', features_test.shape[0])"
   ]
  },
  {
   "cell_type": "markdown",
   "metadata": {},
   "source": [
    "Теперь необходимо привести количественные признаки к одному масштабу с помощью стандартизации данных. "
   ]
  },
  {
   "cell_type": "code",
   "execution_count": 19,
   "metadata": {},
   "outputs": [
    {
     "data": {
      "text/html": [
       "<div>\n",
       "<style scoped>\n",
       "    .dataframe tbody tr th:only-of-type {\n",
       "        vertical-align: middle;\n",
       "    }\n",
       "\n",
       "    .dataframe tbody tr th {\n",
       "        vertical-align: top;\n",
       "    }\n",
       "\n",
       "    .dataframe thead th {\n",
       "        text-align: right;\n",
       "    }\n",
       "</style>\n",
       "<table border=\"1\" class=\"dataframe\">\n",
       "  <thead>\n",
       "    <tr style=\"text-align: right;\">\n",
       "      <th></th>\n",
       "      <th>credit_score</th>\n",
       "      <th>age</th>\n",
       "      <th>tenure</th>\n",
       "      <th>balance</th>\n",
       "      <th>num_of_products</th>\n",
       "      <th>has_cr_card</th>\n",
       "      <th>is_active_member</th>\n",
       "      <th>estimated_salary</th>\n",
       "      <th>geography_Germany</th>\n",
       "      <th>geography_Spain</th>\n",
       "      <th>gender_Male</th>\n",
       "    </tr>\n",
       "  </thead>\n",
       "  <tbody>\n",
       "    <tr>\n",
       "      <th>9723</th>\n",
       "      <td>-1.292898</td>\n",
       "      <td>-0.660843</td>\n",
       "      <td>0.686341</td>\n",
       "      <td>0.786636</td>\n",
       "      <td>-0.910943</td>\n",
       "      <td>0</td>\n",
       "      <td>0</td>\n",
       "      <td>-0.223548</td>\n",
       "      <td>0</td>\n",
       "      <td>0</td>\n",
       "      <td>1</td>\n",
       "    </tr>\n",
       "    <tr>\n",
       "      <th>1224</th>\n",
       "      <td>-1.563714</td>\n",
       "      <td>0.778434</td>\n",
       "      <td>1.034232</td>\n",
       "      <td>0.833795</td>\n",
       "      <td>-0.910943</td>\n",
       "      <td>1</td>\n",
       "      <td>0</td>\n",
       "      <td>1.383021</td>\n",
       "      <td>0</td>\n",
       "      <td>1</td>\n",
       "      <td>0</td>\n",
       "    </tr>\n",
       "    <tr>\n",
       "      <th>8377</th>\n",
       "      <td>1.581914</td>\n",
       "      <td>0.106771</td>\n",
       "      <td>-0.357331</td>\n",
       "      <td>-1.222967</td>\n",
       "      <td>0.789359</td>\n",
       "      <td>1</td>\n",
       "      <td>1</td>\n",
       "      <td>-0.308331</td>\n",
       "      <td>0</td>\n",
       "      <td>1</td>\n",
       "      <td>1</td>\n",
       "    </tr>\n",
       "    <tr>\n",
       "      <th>8014</th>\n",
       "      <td>0.842379</td>\n",
       "      <td>0.010820</td>\n",
       "      <td>-1.053112</td>\n",
       "      <td>0.807063</td>\n",
       "      <td>-0.910943</td>\n",
       "      <td>1</td>\n",
       "      <td>1</td>\n",
       "      <td>-0.430980</td>\n",
       "      <td>0</td>\n",
       "      <td>1</td>\n",
       "      <td>0</td>\n",
       "    </tr>\n",
       "    <tr>\n",
       "      <th>2491</th>\n",
       "      <td>-0.397123</td>\n",
       "      <td>-1.236554</td>\n",
       "      <td>-0.357331</td>\n",
       "      <td>-1.222967</td>\n",
       "      <td>0.789359</td>\n",
       "      <td>1</td>\n",
       "      <td>1</td>\n",
       "      <td>1.392642</td>\n",
       "      <td>0</td>\n",
       "      <td>1</td>\n",
       "      <td>0</td>\n",
       "    </tr>\n",
       "  </tbody>\n",
       "</table>\n",
       "</div>"
      ],
      "text/plain": [
       "      credit_score       age    tenure   balance  num_of_products  \\\n",
       "9723     -1.292898 -0.660843  0.686341  0.786636        -0.910943   \n",
       "1224     -1.563714  0.778434  1.034232  0.833795        -0.910943   \n",
       "8377      1.581914  0.106771 -0.357331 -1.222967         0.789359   \n",
       "8014      0.842379  0.010820 -1.053112  0.807063        -0.910943   \n",
       "2491     -0.397123 -1.236554 -0.357331 -1.222967         0.789359   \n",
       "\n",
       "      has_cr_card  is_active_member  estimated_salary  geography_Germany  \\\n",
       "9723            0                 0         -0.223548                  0   \n",
       "1224            1                 0          1.383021                  0   \n",
       "8377            1                 1         -0.308331                  0   \n",
       "8014            1                 1         -0.430980                  0   \n",
       "2491            1                 1          1.392642                  0   \n",
       "\n",
       "      geography_Spain  gender_Male  \n",
       "9723                0            1  \n",
       "1224                1            0  \n",
       "8377                1            1  \n",
       "8014                1            0  \n",
       "2491                1            0  "
      ]
     },
     "execution_count": 19,
     "metadata": {},
     "output_type": "execute_result"
    }
   ],
   "source": [
    "# создание списка колонок для стандартизации\n",
    "numeric = ['credit_score', 'age', 'tenure', 'balance', 'num_of_products', 'estimated_salary']\n",
    "# игнорирование предупреждения\n",
    "pd.options.mode.chained_assignment = None\n",
    "# настройка\n",
    "scaler = StandardScaler()\n",
    "scaler.fit(features_train[numeric])\n",
    "# преобразование выборок\n",
    "features_train[numeric] = scaler.transform(features_train[numeric])\n",
    "features_valid[numeric] = scaler.transform(features_valid[numeric])\n",
    "features_test[numeric] = scaler.transform(features_test[numeric])\n",
    "# вывод таблицы с новыми данными\n",
    "features_train.head()"
   ]
  },
  {
   "cell_type": "markdown",
   "metadata": {},
   "source": [
    "<div class=\"alert alert-success\"> ✅ \n",
    "<h3> Комментарий ревьюера v1</h3>\n",
    "\n",
    "Правильно, что ты масштабируешь выборки уже после разделения на train/valid/test, иначе возможна \"утечка\" среднего и дисперсии.\n",
    "\n",
    "    "
   ]
  },
  {
   "cell_type": "markdown",
   "metadata": {},
   "source": [
    "<div class=\"alert alert-warning\"> ⚠️\n",
    "\n",
    "<h3> Комментарий ревьюера v1</h3>\n",
    "\n",
    "Масштабирование в основном нужно в алгоритмах, основанных на \"расстоянии между признаками\" (Евклидово расстояние). И еще нейронные сети требуют масштабирования для быстрой сходимости. Случайный лес - это модель, основанная на дереве, и, следовательно, не требует масштабирования объектов. Этот алгоритм требует разбиения на разделы, даже если ты применишь нормализацию, то в целом результат будет таким же.\n"
   ]
  },
  {
   "cell_type": "markdown",
   "metadata": {},
   "source": [
    "**Выводы**\n",
    "\n",
    "Имеем данные о 10000 клиентах банка. Целевым признаком является факт ухода из банка. Признаками - кредитный рейтинг, страна проживания, пол, возраст, количество лет в банке, количество используемых продуктов, наличие кредитной карты, активность, баланс на счете, предполагаемая зарплата.\n",
    "\n",
    "В ходе предобработки данных были удалены лишние столбцы, исправлен стиль заголовков, удалены пропуски, изменен тип данных.\n",
    "\n",
    "Предварительный анализ показал, что различия между оставшимися и ушедшими клиентами в большей степени обусловлены страной проживания, полом, возрастом и количеством используемых продуктов. Так, чаще покидают банк клиенты, проживающие в Германии, женского пола, в возрасте 40-50 лет, пользующиеся одновременно 3-4 продуктами банка.\n",
    "\n",
    "Для подготовки признаков к построению модели была использована техника прямого кодирования категориальных переменных и стандартизация данных.\n",
    "\n",
    "Признаки и целевой признак были сохранены в отдельные переменные. Исходные данные разделены на обучающую (5454 объектов), валидационную и тестовую (1818 и 1819 объектов соответственно) выборки. "
   ]
  },
  {
   "cell_type": "markdown",
   "metadata": {},
   "source": [
    "## Исследование задачи\n",
    "\n",
    "### Изучение баланса целевого признака\n",
    "\n",
    "Как уже можно было заметить при построении гистограмм в исследовательском анализе данных, соотношение классов в целевом признаке далеко от 1:1. Продемонстрируем это на графике."
   ]
  },
  {
   "cell_type": "code",
   "execution_count": 20,
   "metadata": {},
   "outputs": [
    {
     "name": "stdout",
     "output_type": "stream",
     "text": [
      "0    0.796062\n",
      "1    0.203938\n",
      "Name: exited, dtype: float64\n"
     ]
    },
    {
     "data": {
      "text/plain": [
       "<AxesSubplot:>"
      ]
     },
     "execution_count": 20,
     "metadata": {},
     "output_type": "execute_result"
    },
    {
     "data": {
      "image/png": "[encoded data removed]",
      "text/plain": [
       "<Figure size 432x288 with 1 Axes>"
      ]
     },
     "metadata": {},
     "output_type": "display_data"
    }
   ],
   "source": [
    "class_frequency = target.value_counts(normalize=True)\n",
    "print(class_frequency)\n",
    "plt.rcParams['figure.figsize'] = (6, 4)\n",
    "class_frequency.plot(kind='bar')"
   ]
  },
  {
   "cell_type": "markdown",
   "metadata": {},
   "source": [
    "Соотношение классов в нашем наборе данных примерно 80:20, то есть расторгает договор с банком примерно каждый пятый клиент.\n",
    "\n",
    "Попробуем построить модель без учета дисбаланса классов и посмотрим на её метрики. Рассмотрим три разных модели:\n",
    "\n",
    "   * дерево решений,\n",
    "   * случайный лес,\n",
    "   * логистическую регрессию.\n",
    "\n",
    "Каждую модель обучим на обучающей выборке и проверим на валидационной, а также сравним их качество с помощью метрик F1 и AUC-ROC. Напишем функцию для расчета метрики AUC-ROC."
   ]
  },
  {
   "cell_type": "code",
   "execution_count": 21,
   "metadata": {},
   "outputs": [],
   "source": [
    "# функция для расчета AUC-ROC\n",
    "def auc_roc(model):\n",
    "    model.fit(features_train, target_train)\n",
    "    probabilities_valid  = model.predict_proba(features_valid)\n",
    "    probabilities_one_valid = probabilities_valid[:,1]\n",
    "    return roc_auc_score(target_valid, probabilities_one_valid).round(4)"
   ]
  },
  {
   "cell_type": "markdown",
   "metadata": {},
   "source": [
    "### Дерево решений\n",
    "\n",
    "Построим модель решающего дерева. Для того, чтобы получить максимальное высокое значение F1-меры, переберем в цикле разные варианты глубины дерева - от 1 до 10."
   ]
  },
  {
   "cell_type": "code",
   "execution_count": 22,
   "metadata": {},
   "outputs": [
    {
     "name": "stdout",
     "output_type": "stream",
     "text": [
      "F1 лучшей модели: 0.5815 , максимальная глубина: 7\n"
     ]
    }
   ],
   "source": [
    "# построение модели дерева решений с подбором оптимальной глубины дерева\n",
    "best_f1_tree = 0\n",
    "best_max_depth = 0\n",
    "for depth in range(1, 16):\n",
    "    model_tree = DecisionTreeClassifier(random_state=12345, max_depth=depth)\n",
    "    model_tree.fit(features_train, target_train)\n",
    "    predictions_tree = model_tree.predict(features_valid)\n",
    "    f1_tree = f1_score(target_valid, predictions_tree)\n",
    "    if f1_tree > best_f1_tree:\n",
    "        best_f1_tree = f1_tree.round(4)\n",
    "        best_max_depth = depth\n",
    "print('F1 лучшей модели:', best_f1_tree,', максимальная глубина:', best_max_depth)"
   ]
  },
  {
   "cell_type": "markdown",
   "metadata": {},
   "source": [
    "<div class=\"alert alert-warning\"> ⚠️\n",
    "\n",
    "<h3> Комментарий ревьюера v1</h3>\n",
    "\n",
    "\n",
    "\n",
    "Циклом можно перебирать параметры для модели. Но еще существует инструмент GridSearchCV. Можно указать параметры и значения для перебора и затем выбрать лучшие параметры и лучшую модель по указанным метрикам. Причем это работает для разных моделей: можно применять и к DecisionTree, и к RandomForest.\n",
    "Важное замечание по поводу использования GridSearch:  \n",
    "В этом проекте скоре всего с гридсерчем метрики немного упадут (если испольщовать тот же диапазон перебора гиперпараметров), потому что для него обычно не создают валидационную выборку, так как внутри он сам делит данные на tran/valid, причем по-разному на каждой итерации (кросс-валидация), из-за этого получается, что ты обучаешься на меньшем кол-ве данных -> метрики хуже.  Поэтому скорее материал на будущее и \"погуглить\"=) \n",
    "Вот ссылка:\n",
    "    \n",
    "https://vc.ru/ml/147132-kak-avtomaticheski-podobrat-parametry-dlya-modeli-mashinnogo-obucheniya-ispolzuem-gridsearchcv\n",
    "\n"
   ]
  },
  {
   "cell_type": "markdown",
   "metadata": {},
   "source": [
    "Наилучшие результаты продемонстрировала модель с максимальной глубиной, равной 7. Она дает значение F1-меры, равное 0,5815. Посчитаем для нее метрику AUC-ROC."
   ]
  },
  {
   "cell_type": "code",
   "execution_count": 23,
   "metadata": {},
   "outputs": [
    {
     "name": "stdout",
     "output_type": "stream",
     "text": [
      "AUC-ROC: 0.8245\n"
     ]
    }
   ],
   "source": [
    "# расчет AUC-ROC\n",
    "model_tree = DecisionTreeClassifier(random_state=12345, max_depth=7)\n",
    "print('AUC-ROC:', auc_roc(model_tree))"
   ]
  },
  {
   "cell_type": "markdown",
   "metadata": {},
   "source": [
    "Значение AUC-ROC составило 0,8245, довольно неплохой результат."
   ]
  },
  {
   "cell_type": "markdown",
   "metadata": {},
   "source": [
    "### Случайный лес\n",
    "\n",
    "Перейдем к построению модели случайного леса. Подберем наилучший вариант гиперпараметров с помощью цикла."
   ]
  },
  {
   "cell_type": "code",
   "execution_count": 24,
   "metadata": {},
   "outputs": [
    {
     "name": "stdout",
     "output_type": "stream",
     "text": [
      "F1 лучшей модели: 0.6126 , количество оценщиков: 35 , максимальная глубина: 15\n"
     ]
    }
   ],
   "source": [
    "# построение модели случайного леса с подбором количества оценщиков и оптимальной глубины дерева\n",
    "best_f1_forest = 0\n",
    "best_est = 0\n",
    "best_max_depth = 0\n",
    "for est in range(10, 101, 5):\n",
    "    for depth in range(1, 16):\n",
    "        model_forest = RandomForestClassifier(random_state=12345, n_estimators=est, max_depth=depth) \n",
    "        model_forest.fit(features_train, target_train) \n",
    "        predictions_forest = model_forest.predict(features_valid)\n",
    "        f1_forest = f1_score(target_valid, predictions_forest)\n",
    "        if f1_forest > best_f1_forest:\n",
    "            best_f1_forest = f1_forest.round(4)\n",
    "            best_max_depth = depth\n",
    "            best_est = est\n",
    "        \n",
    "print('F1 лучшей модели:', best_f1_forest, \n",
    "      ', количество оценщиков:', best_est, \n",
    "      ', максимальная глубина:', best_max_depth)"
   ]
  },
  {
   "cell_type": "markdown",
   "metadata": {},
   "source": [
    "При 35 оценщиках с максимальной глубиной 15 получаем F1, равную 0,6126. Посчитаем AUC-ROC."
   ]
  },
  {
   "cell_type": "code",
   "execution_count": 25,
   "metadata": {
    "scrolled": true
   },
   "outputs": [
    {
     "name": "stdout",
     "output_type": "stream",
     "text": [
      "AUC-ROC: 0.8673\n"
     ]
    }
   ],
   "source": [
    "# расчет AUC-ROC\n",
    "model_forest = RandomForestClassifier(random_state=12345, n_estimators=35, max_depth=15) \n",
    "print('AUC-ROC:', auc_roc(model_forest))"
   ]
  },
  {
   "cell_type": "markdown",
   "metadata": {},
   "source": [
    "Данная модель демонстрирует лучший результат, чем дерево решений: все метрики выше."
   ]
  },
  {
   "cell_type": "markdown",
   "metadata": {},
   "source": [
    "### Логистическая регрессия\n",
    "\n",
    "Теперь построим логистическую регрессию. "
   ]
  },
  {
   "cell_type": "code",
   "execution_count": 26,
   "metadata": {},
   "outputs": [
    {
     "name": "stdout",
     "output_type": "stream",
     "text": [
      "F1: 0.3307\n",
      "AUC-ROC: 0.7893\n"
     ]
    }
   ],
   "source": [
    "# построение логистической регрессии\n",
    "model_lr = LogisticRegression(random_state=12345)\n",
    "model_lr.fit(features_train, target_train) \n",
    "predictions_lr = model_lr.predict(features_valid)\n",
    "f1_lr = f1_score(target_valid, predictions_lr)\n",
    "print('F1:', f1_lr.round(4))\n",
    "print('AUC-ROC:', auc_roc(model_lr))"
   ]
  },
  {
   "cell_type": "markdown",
   "metadata": {},
   "source": [
    "Логистическая регрессия показала самый худший результат."
   ]
  },
  {
   "cell_type": "markdown",
   "metadata": {},
   "source": [
    "**Выводы**\n",
    "\n",
    "Самое высокое качество показала модель случайного леса с количеством оценщиков 35 и максимальной глубиной 15 (F1 = 0,6126)."
   ]
  },
  {
   "cell_type": "markdown",
   "metadata": {},
   "source": [
    "## Борьба с дисбалансом\n",
    "### Взвешивание классов\n",
    "\n",
    "Попробуем улучшить качество модели, используя параметр `class_weight`. Вновь побробуем построить решающее дерево, случайный лес и логистическую регрессию."
   ]
  },
  {
   "cell_type": "code",
   "execution_count": 27,
   "metadata": {},
   "outputs": [
    {
     "name": "stdout",
     "output_type": "stream",
     "text": [
      "F1 лучшей модели: 0.5831 , максимальная глубина: 6\n"
     ]
    }
   ],
   "source": [
    "# построение модели дерева решений с подбором оптимальной глубины дерева со взвешиванием классов\n",
    "best_f1_tree = 0\n",
    "best_max_depth = 0\n",
    "for depth in range(1, 16):\n",
    "    model_tree = DecisionTreeClassifier(random_state=12345, max_depth=depth, class_weight='balanced')\n",
    "    model_tree.fit(features_train, target_train)\n",
    "    predictions_tree = model_tree.predict(features_valid)\n",
    "    f1_tree = f1_score(target_valid, predictions_tree)\n",
    "    if f1_tree > best_f1_tree:\n",
    "        best_f1_tree = f1_tree.round(4)\n",
    "        best_max_depth = depth\n",
    "print('F1 лучшей модели:', best_f1_tree,', максимальная глубина:', best_max_depth)"
   ]
  },
  {
   "cell_type": "code",
   "execution_count": 28,
   "metadata": {},
   "outputs": [
    {
     "name": "stdout",
     "output_type": "stream",
     "text": [
      "AUC-ROC: 0.8354\n"
     ]
    }
   ],
   "source": [
    "# расчет AUC-ROC\n",
    "model_tree = DecisionTreeClassifier(random_state=12345, max_depth=6, class_weight='balanced')\n",
    "print('AUC-ROC:', auc_roc(model_tree))"
   ]
  },
  {
   "cell_type": "markdown",
   "metadata": {},
   "source": [
    "Качество решающего дерева незначительно улучшилось."
   ]
  },
  {
   "cell_type": "code",
   "execution_count": 29,
   "metadata": {},
   "outputs": [
    {
     "name": "stdout",
     "output_type": "stream",
     "text": [
      "F1 лучшей модели: 0.653 , количество оценщиков: 100 , максимальная глубина: 9\n"
     ]
    }
   ],
   "source": [
    "# построение модели случайного леса с подбором количества оценщиков и оптимальной глубины дерева со взвешиванием классов\n",
    "best_f1_forest = 0\n",
    "best_est = 0\n",
    "best_max_depth = 0\n",
    "for est in range(10, 101, 5):\n",
    "    for depth in range(1, 16):\n",
    "        model_forest = RandomForestClassifier(random_state=12345, n_estimators=est, max_depth=depth, class_weight='balanced') \n",
    "        model_forest.fit(features_train, target_train) \n",
    "        predictions_forest = model_forest.predict(features_valid)\n",
    "        f1_forest = f1_score(target_valid, predictions_forest)\n",
    "        if f1_forest > best_f1_forest:\n",
    "            best_f1_forest = f1_forest.round(4)\n",
    "            best_max_depth = depth\n",
    "            best_est = est\n",
    "        \n",
    "print('F1 лучшей модели:', best_f1_forest, \n",
    "      ', количество оценщиков:', best_est, \n",
    "      ', максимальная глубина:', best_max_depth)"
   ]
  },
  {
   "cell_type": "code",
   "execution_count": 30,
   "metadata": {},
   "outputs": [
    {
     "name": "stdout",
     "output_type": "stream",
     "text": [
      "AUC-ROC: 0.8799\n"
     ]
    }
   ],
   "source": [
    "# расчет AUC-ROC\n",
    "model_forest = RandomForestClassifier(random_state=12345, n_estimators=100, max_depth=9) \n",
    "print('AUC-ROC:', auc_roc(model_forest))"
   ]
  },
  {
   "cell_type": "markdown",
   "metadata": {},
   "source": [
    "F1 для случайного леса выросла с 0,6126 до 0,653, AUC-ROC - с 0,8673 до 0,8799."
   ]
  },
  {
   "cell_type": "code",
   "execution_count": 31,
   "metadata": {},
   "outputs": [
    {
     "name": "stdout",
     "output_type": "stream",
     "text": [
      "F1: 0.5079\n",
      "AUC-ROC: 0.7907\n"
     ]
    }
   ],
   "source": [
    "# построение логистической регрессии со взвешиванием классов\n",
    "model_lr = LogisticRegression(random_state=12345, class_weight='balanced')\n",
    "model_lr.fit(features_train, target_train) \n",
    "predictions_lr = model_lr.predict(features_valid)\n",
    "f1_lr = f1_score(target_valid, predictions_lr)\n",
    "print('F1:', f1_lr.round(4))\n",
    "print('AUC-ROC:', auc_roc(model_lr))"
   ]
  },
  {
   "cell_type": "markdown",
   "metadata": {},
   "source": [
    "Взвешивание классов значительно улучшило метрику F1 для логистической регрессии, однако она по-прежнему показывает самый худший результат."
   ]
  },
  {
   "cell_type": "markdown",
   "metadata": {},
   "source": [
    "### Увеличение выборки\n",
    "\n",
    "Теперь воспользуемся техникой upsampling и сравним результаты с методом взвешивания классов."
   ]
  },
  {
   "cell_type": "code",
   "execution_count": 32,
   "metadata": {},
   "outputs": [],
   "source": [
    "# разделение обучающей выборки на отрицательные и положительные объекты\n",
    "target_zeros = target_train[target_train == 0]\n",
    "target_ones = target_train[target_train == 1]\n",
    "features_zeros = features_train[target_train == 0]\n",
    "features_ones = features_train[target_train == 1]\n",
    "# дублирование положительных объектов и объединение их с отрицательными\n",
    "repeat = 4\n",
    "features_upsampled = pd.concat([features_zeros] + [features_ones] * repeat)\n",
    "target_upsampled = pd.concat([target_zeros] + [target_ones] * repeat) \n",
    "# перемешивание выборки\n",
    "features_upsampled, target_upsampled = shuffle(features_upsampled, target_upsampled, random_state=12345)"
   ]
  },
  {
   "cell_type": "markdown",
   "metadata": {},
   "source": [
    "<div class=\"alert alert-warning\"> ⚠️\n",
    "\n",
    "<h3> Комментарий ревьюера v1</h3>\n",
    "\n",
    "\n",
    "\n",
    "Есть разные готовые методы для борьбы с дисбалансом. Например, можешь глянуть библиотеку imblearn, там даже можно генерировать синтетические данные, но основе распределения твоей выборки.\n",
    "https://imbalanced-learn.org/stable/"
   ]
  },
  {
   "cell_type": "code",
   "execution_count": 33,
   "metadata": {},
   "outputs": [
    {
     "name": "stdout",
     "output_type": "stream",
     "text": [
      "F1 лучшей модели: 0.5825 , максимальная глубина: 6\n"
     ]
    }
   ],
   "source": [
    "# построение модели дерева решений с подбором оптимальной глубины дерева с устранением дисбаланса методом upsampling\n",
    "best_f1_tree = 0\n",
    "best_max_depth = 0\n",
    "for depth in range(1, 16):\n",
    "    model_tree = DecisionTreeClassifier(random_state=12345, max_depth=depth)\n",
    "    model_tree.fit(features_upsampled, target_upsampled)\n",
    "    predictions_tree = model_tree.predict(features_valid)\n",
    "    f1_tree = f1_score(target_valid, predictions_tree)\n",
    "    if f1_tree > best_f1_tree:\n",
    "        best_f1_tree = f1_tree.round(4)\n",
    "        best_max_depth = depth\n",
    "print('F1 лучшей модели:', best_f1_tree,', максимальная глубина:', best_max_depth)"
   ]
  },
  {
   "cell_type": "code",
   "execution_count": 34,
   "metadata": {
    "scrolled": true
   },
   "outputs": [
    {
     "name": "stdout",
     "output_type": "stream",
     "text": [
      "AUC-ROC: 0.8373\n"
     ]
    }
   ],
   "source": [
    "# расчет AUC-ROC\n",
    "model_tree = DecisionTreeClassifier(random_state=12345, max_depth=6)\n",
    "print('AUC-ROC:', auc_roc(model_tree))"
   ]
  },
  {
   "cell_type": "markdown",
   "metadata": {},
   "source": [
    "Модель дерева решений по качеству очень близка к модели с устранением дисбаланса с помощью взвешивания классов."
   ]
  },
  {
   "cell_type": "code",
   "execution_count": 35,
   "metadata": {},
   "outputs": [
    {
     "name": "stdout",
     "output_type": "stream",
     "text": [
      "F1 лучшей модели: 0.6461 , количество оценщиков: 20 , максимальная глубина: 12\n"
     ]
    }
   ],
   "source": [
    "# построение модели случайного леса с подбором количества оценщиков и оптимальной глубины дерева \n",
    "# с устранением дисбаланса методом upsampling\n",
    "best_f1_forest = 0\n",
    "best_est = 0\n",
    "best_max_depth = 0\n",
    "for est in range(10, 101, 5):\n",
    "    for depth in range(1, 16):\n",
    "        model_forest = RandomForestClassifier(random_state=12345, n_estimators=est, max_depth=depth) \n",
    "        model_forest.fit(features_upsampled, target_upsampled) \n",
    "        predictions_forest = model_forest.predict(features_valid)\n",
    "        f1_forest = f1_score(target_valid, predictions_forest)\n",
    "        if f1_forest > best_f1_forest:\n",
    "            best_f1_forest = f1_forest.round(4)\n",
    "            best_max_depth = depth\n",
    "            best_est = est\n",
    "        \n",
    "print('F1 лучшей модели:', best_f1_forest, \n",
    "      ', количество оценщиков:', best_est, \n",
    "      ', максимальная глубина:', best_max_depth)"
   ]
  },
  {
   "cell_type": "code",
   "execution_count": 36,
   "metadata": {},
   "outputs": [
    {
     "name": "stdout",
     "output_type": "stream",
     "text": [
      "AUC-ROC: 0.8641\n"
     ]
    }
   ],
   "source": [
    "# расчет AUC-ROC\n",
    "model_forest = RandomForestClassifier(random_state=12345, n_estimators=20, max_depth=12) \n",
    "print('AUC-ROC:', auc_roc(model_forest))"
   ]
  },
  {
   "cell_type": "markdown",
   "metadata": {},
   "source": [
    "Случайный лес с увеличением выборки показал более худший результат по сравнению со взвешиванием классов (F1 снизилась с 0,653 до 0,6461, AUC-ROC - с 0,8799 до 0,8641)."
   ]
  },
  {
   "cell_type": "code",
   "execution_count": 37,
   "metadata": {},
   "outputs": [
    {
     "name": "stdout",
     "output_type": "stream",
     "text": [
      "F1: 0.5051\n",
      "AUC-ROC: 0.7893\n"
     ]
    }
   ],
   "source": [
    "# построение логистической регрессии с устранением дисбаланса методом upsampling\n",
    "model_lr = LogisticRegression(random_state=12345)\n",
    "model_lr.fit(features_upsampled, target_upsampled) \n",
    "predictions_lr = model_lr.predict(features_valid)\n",
    "f1_lr = f1_score(target_valid, predictions_lr)\n",
    "print('F1:', f1_lr.round(4))\n",
    "print('AUC-ROC:', auc_roc(model_lr))"
   ]
  },
  {
   "cell_type": "markdown",
   "metadata": {},
   "source": [
    "По логистической регрессии так же можно сказать, что метрики качества немного ухудшились. Таким образом, устранение дисбаланса с помощью параметра `class_weight` в целом выдало более хороший результат."
   ]
  },
  {
   "cell_type": "markdown",
   "metadata": {},
   "source": [
    "### Уменьшение выборки\n",
    "\n",
    "Теперь проверим, как на качество модели повлияет устранение дисбаланса с помощью метода downsampling."
   ]
  },
  {
   "cell_type": "code",
   "execution_count": 38,
   "metadata": {},
   "outputs": [],
   "source": [
    "# уменьшение количества отрицательных объектов в выборке\n",
    "features_downsampled = pd.concat([features_zeros.sample(frac=0.25, random_state=12345)] + [features_ones])\n",
    "target_downsampled = pd.concat([target_zeros.sample(frac=0.25, random_state=12345)] + [target_ones])\n",
    "# перемешивание \n",
    "features_downsampled, target_downsampled = shuffle(features_downsampled, target_downsampled, random_state=12345)"
   ]
  },
  {
   "cell_type": "code",
   "execution_count": 39,
   "metadata": {
    "scrolled": true
   },
   "outputs": [
    {
     "name": "stdout",
     "output_type": "stream",
     "text": [
      "F1 лучшей модели: 0.5688 , максимальная глубина: 6\n"
     ]
    }
   ],
   "source": [
    "# построение модели дерева решений с подбором оптимальной глубины дерева с устранением дисбаланса методом downsampling\n",
    "best_f1_tree = 0\n",
    "best_max_depth = 0\n",
    "for depth in range(1, 16):\n",
    "    model_tree = DecisionTreeClassifier(random_state=12345, max_depth=depth)\n",
    "    model_tree.fit(features_downsampled, target_downsampled)\n",
    "    predictions_tree = model_tree.predict(features_valid)\n",
    "    f1_tree = f1_score(target_valid, predictions_tree)\n",
    "    if f1_tree > best_f1_tree:\n",
    "        best_f1_tree = f1_tree.round(4)\n",
    "        best_max_depth = depth\n",
    "print('F1 лучшей модели:', best_f1_tree,', максимальная глубина:', best_max_depth)"
   ]
  },
  {
   "cell_type": "code",
   "execution_count": 40,
   "metadata": {},
   "outputs": [
    {
     "name": "stdout",
     "output_type": "stream",
     "text": [
      "AUC-ROC: 0.8373\n"
     ]
    }
   ],
   "source": [
    "# расчет AUC-ROC\n",
    "model_tree = DecisionTreeClassifier(random_state=12345, max_depth=6)\n",
    "print('AUC-ROC:', auc_roc(model_tree))"
   ]
  },
  {
   "cell_type": "markdown",
   "metadata": {},
   "source": [
    "Мера F1 получилась даже ниже, чем у модели с неустраненным дисбалансом."
   ]
  },
  {
   "cell_type": "code",
   "execution_count": 41,
   "metadata": {},
   "outputs": [
    {
     "name": "stdout",
     "output_type": "stream",
     "text": [
      "F1 лучшей модели: 0.6172 , количество оценщиков: 60 , максимальная глубина: 8\n"
     ]
    }
   ],
   "source": [
    "# построение модели случайного леса с подбором количества оценщиков и оптимальной глубины дерева \n",
    "# с устранением дисбаланса методом downsampling\n",
    "best_f1_forest = 0\n",
    "best_est = 0\n",
    "best_max_depth = 0\n",
    "for est in range(10, 101, 5):\n",
    "    for depth in range(1, 16):\n",
    "        model_forest = RandomForestClassifier(random_state=12345, n_estimators=est, max_depth=depth) \n",
    "        model_forest.fit(features_downsampled, target_downsampled) \n",
    "        predictions_forest = model_forest.predict(features_valid)\n",
    "        f1_forest = f1_score(target_valid, predictions_forest)\n",
    "        if f1_forest > best_f1_forest:\n",
    "            best_f1_forest = f1_forest.round(4)\n",
    "            best_max_depth = depth\n",
    "            best_est = est\n",
    "        \n",
    "print('F1 лучшей модели:', best_f1_forest, \n",
    "      ', количество оценщиков:', best_est, \n",
    "      ', максимальная глубина:', best_max_depth)"
   ]
  },
  {
   "cell_type": "code",
   "execution_count": 42,
   "metadata": {},
   "outputs": [
    {
     "name": "stdout",
     "output_type": "stream",
     "text": [
      "AUC-ROC: 0.877\n"
     ]
    }
   ],
   "source": [
    "# расчет AUC-ROC\n",
    "model_forest = RandomForestClassifier(random_state=12345, n_estimators=60, max_depth=8) \n",
    "print('AUC-ROC:', auc_roc(model_forest))"
   ]
  },
  {
   "cell_type": "markdown",
   "metadata": {},
   "source": [
    "Для случайного леса также не удалось улучшить метрики с помощью уменьшения выборки."
   ]
  },
  {
   "cell_type": "code",
   "execution_count": 43,
   "metadata": {},
   "outputs": [
    {
     "name": "stdout",
     "output_type": "stream",
     "text": [
      "F1: 0.5078\n",
      "AUC-ROC: 0.7893\n"
     ]
    }
   ],
   "source": [
    "# построение логистической регрессии с устранением дисбаланса методом downsampling\n",
    "model_lr = LogisticRegression(random_state=12345)\n",
    "model_lr.fit(features_downsampled, target_downsampled) \n",
    "predictions_lr = model_lr.predict(features_valid)\n",
    "f1_lr = f1_score(target_valid, predictions_lr)\n",
    "print('F1:', f1_lr.round(4))\n",
    "print('AUC-ROC:', auc_roc(model_lr))"
   ]
  },
  {
   "cell_type": "markdown",
   "metadata": {},
   "source": [
    "Для логистичесой регрессии данная техника работает неплохо, метрики получились на уровне модели со взвешиванием классов."
   ]
  },
  {
   "cell_type": "markdown",
   "metadata": {},
   "source": [
    "**Выводы:**\n",
    "\n",
    "Наилучшие результаты продемонстрировала модель случайного леса с устранением дисбаланса с помощью взвешивания классов. Её максимальная глубина - 9, количество оценщиков - 100. Значение F1-меры - 0,653, AUC-ROC - 0,8799."
   ]
  },
  {
   "cell_type": "markdown",
   "metadata": {},
   "source": [
    "## Тестирование модели\n",
    "\n",
    "Проверим качество выбранной модели на тестовой выборке."
   ]
  },
  {
   "cell_type": "markdown",
   "metadata": {},
   "source": [
    "<div class=\"alert alert-warning\"> ⚠️\n",
    "\n",
    "<h3> Комментарий ревьюера v1</h3>\n",
    "\n",
    "\n",
    "\n",
    "\n",
    "\n",
    "После подбора гиперпараметров (перед тестированием), можно объединить тренировочный и валидационные датасеты, так как нам валидационный уже больше не нужен (гиперпараметры подобраны). Выбранная модель обучится на бОльшем количестве данных, что скорее всего улучшит финальные метрики.\n"
   ]
  },
  {
   "cell_type": "code",
   "execution_count": 44,
   "metadata": {},
   "outputs": [
    {
     "name": "stdout",
     "output_type": "stream",
     "text": [
      "F1 тестовой выборки: 0.5984\n"
     ]
    }
   ],
   "source": [
    "# обучение выбранной модели\n",
    "model = RandomForestClassifier(random_state=12345, n_estimators=100, max_depth=9, class_weight='balanced') \n",
    "model.fit(features_train, target_train) \n",
    "predictions = model.predict(features_test)\n",
    "print('F1 тестовой выборки:',f1_score(target_test, predictions).round(4))"
   ]
  },
  {
   "cell_type": "markdown",
   "metadata": {},
   "source": [
    "Значение F1 на тестовой выборке чуть ниже, чем на валидационной (0,5984 против 0,653). Дополнительно посчитаем accuracy."
   ]
  },
  {
   "cell_type": "code",
   "execution_count": 45,
   "metadata": {},
   "outputs": [
    {
     "name": "stdout",
     "output_type": "stream",
     "text": [
      "Accuracy тестовой выборки: 0.8362\n"
     ]
    }
   ],
   "source": [
    "# расчет accuracy\n",
    "print('Accuracy тестовой выборки:',accuracy_score(target_test, predictions).round(4))"
   ]
  },
  {
   "cell_type": "markdown",
   "metadata": {},
   "source": [
    "Доля правильных ответов на тестовой выборке составила 83,62%. Можно сказать, что модель обучена хорошо.\n",
    "\n",
    "Построим ROC-кривую и посчитаем AUC-ROC."
   ]
  },
  {
   "cell_type": "code",
   "execution_count": 46,
   "metadata": {
    "scrolled": true
   },
   "outputs": [
    {
     "data": {
      "image/png": "[encoded data removed]",
      "text/plain": [
       "<Figure size 432x288 with 1 Axes>"
      ]
     },
     "metadata": {},
     "output_type": "display_data"
    },
    {
     "name": "stdout",
     "output_type": "stream",
     "text": [
      "AUC-ROC: 0.8765\n"
     ]
    }
   ],
   "source": [
    "# расчет вероятностей\n",
    "probabilities_test = model.predict_proba(features_test)\n",
    "probabilities_one_test = probabilities_test[:,1]\n",
    "\n",
    "# ROC-кривая нашей модели \n",
    "fpr, tpr, thresholds = roc_curve(target_test, probabilities_one_test) \n",
    "plt.figure()\n",
    "plt.plot(fpr, tpr)\n",
    "\n",
    "# ROC-кривая случайной модели \n",
    "plt.plot([0, 1], [0, 1], linestyle='--')\n",
    "\n",
    "# оси и подписи\n",
    "plt.ylim([0.0, 1.0])\n",
    "plt.xlim([0.0, 1.0])\n",
    "plt.xlabel('False Positive Rate')\n",
    "plt.ylabel('True Positive Rate')\n",
    "plt.title('ROC-кривая')\n",
    "plt.show()\n",
    "# вывод значения AUC-ROC\n",
    "print('AUC-ROC:', auc_roc(model))"
   ]
  },
  {
   "cell_type": "markdown",
   "metadata": {},
   "source": [
    "<div class=\"alert alert-warning\"> ⚠️\n",
    "\n",
    "<h3> Комментарий ревьюера v1</h3>\n",
    "\n",
    "Чтобы лучше понять метрики f1 и auc-roc и когда что лучше использовать, предлагаю почитать ответ на этот вопрос (правда, он на англисйком):\n",
    "    \n",
    "https://stackoverflow.com/questions/44172162/f1-score-vs-roc-auc\n",
    "\n",
    "А бывает, что f1-score высокий, а auc-roc - низкий или наоборот, тут предлагаю почитать ответ на этот вопрос. \n",
    "    \n",
    "https://stackoverflow.com/questions/34698161/how-to-interpret-almost-perfect-accuracy-and-auc-roc-but-zero-f1-score-precisio#:~:text=low%20AUC%20ROC%20and%20low,it%20would%20do%20the%20same\n"
   ]
  },
  {
   "cell_type": "markdown",
   "metadata": {},
   "source": [
    "Модель прошла проверку на адекватность, она сильно отличается от случайной модели."
   ]
  },
  {
   "cell_type": "markdown",
   "metadata": {},
   "source": [
    "## Общий вывод"
   ]
  },
  {
   "cell_type": "markdown",
   "metadata": {},
   "source": [
    "В ходе работы были изучены данные о клиентах \"Бета-Банка\", которые расторгли договор и которые остались в банке. \n",
    "\n",
    "Данные прошли предобработку (удалены лишние столбцы, исправлен стиль заголовков, удалены пропуски, изменен тип данных) и подготовку: кодирование категориальных переменных и стандартизацию данных.\n",
    "\n",
    "Также был проведен исследовательский анализ данных, который показал, что чаще покидают банк клиенты из Германии, женского пола, в возрасте 40-50 лет, пользующиеся одновременно 3-4 продуктами банка.\n",
    "\n",
    "Данные были разбиты на три выборки: обучающую (для обучения алгоритма), валидационную (для подбора гиперпараметров и выбора лучшей модели) и тестовую (для оценки качества модели).\n",
    "\n",
    "При изучении целевого признака был выявлен дисбаланс в данных в пропорции 80 к 20: покидает банк примерно каждый пятый клиент.\n",
    "\n",
    "Для построения моделей использовались следующие алгоритмы: дерево решений, случайный лес, логистическая регрессия. Для каждого из алгоритмов были подобраны гиперпараметры, дающие наилучшую F1-меру в валидационной выборке. \n",
    "\n",
    "Вначале модели строились без учета дисбаланса. Затем для улучшения их качества были применены техники взвешивания классов, увеличения выборки и уменьшения выборки. Во всех случаях наилучшие результаты показывал алгоритм случайного леса.\n",
    "\n",
    "Самый лучший результат продемонстрировала модель случайного леса с устранением дисбаланса методом взвешивания классов. Её максимальная глубина - 9, количество оценщиков - 100.\n",
    "\n",
    "Модель проверена на тестовой выборке. Значение F1-меры составило 0,5984, доля правильных ответов - 0,8362. Модель прошла проверку на адекватность, значимо отличается от случайной, значение AUC-ROC - 0,8765."
   ]
  },
  {
   "cell_type": "markdown",
   "metadata": {},
   "source": [
    "\n",
    "<div class=\"alert alert-block alert-info\">\n",
    "<h3> Итоговый комментарий</h3>\n",
    "\n",
    "Большое спасибо за проделанную работу. Видно, что приложено много усилий. Выводы и рассуждения получились содержательными, их было интересно читать. Работа в целом и каждый шаг в отдельности сделаны хорошо. Я оставил несколько советов, надеюсь они будут учтены в будущих проектах. Проект может быть зачтен, но я его отправлю назад, чтобы у тебя была возможность задать вопросы и внести правки, при желании. Однако, ты можешь просто вернуть проект в таком же виде, и я его зачту."
   ]
  },
  {
   "cell_type": "markdown",
   "metadata": {},
   "source": [
    "<div class=\"alert alert-block\" style='background:violet'>\n",
    "Спасибо большое за полезные советы и ссылки, это как раз ответы на те вопросы, что у меня возникали!\n",
    "</div>"
   ]
  },
  {
   "cell_type": "markdown",
   "metadata": {},
   "source": [
    "<div class=\"alert alert-success\"> ✅ \n",
    "<h3> Комментарий ревьюера v2</h3>\n",
    "\n",
    "Здорово! Рад помочь =) Принимаю работу, удачи в следующих проектах!"
   ]
  }
 ],
 "metadata": {
  "ExecuteTimeLog": [
   {
    "duration": 1124,
    "start_time": "2022-05-01T18:25:04.790Z"
   },
   {
    "duration": 24,
    "start_time": "2022-05-01T18:27:02.827Z"
   },
   {
    "duration": 21,
    "start_time": "2022-05-01T18:28:14.211Z"
   },
   {
    "duration": 16,
    "start_time": "2022-05-01T18:29:22.467Z"
   },
   {
    "duration": 5,
    "start_time": "2022-05-01T19:15:02.933Z"
   },
   {
    "duration": 13,
    "start_time": "2022-05-01T19:15:18.929Z"
   },
   {
    "duration": 5,
    "start_time": "2022-05-01T19:33:43.678Z"
   },
   {
    "duration": 12,
    "start_time": "2022-05-01T19:33:46.768Z"
   },
   {
    "duration": 652,
    "start_time": "2022-05-01T20:08:52.763Z"
   },
   {
    "duration": 122,
    "start_time": "2022-05-01T20:09:24.894Z"
   },
   {
    "duration": 131,
    "start_time": "2022-05-01T20:09:47.401Z"
   },
   {
    "duration": 104,
    "start_time": "2022-05-01T20:25:10.500Z"
   },
   {
    "duration": 227,
    "start_time": "2022-05-01T20:25:19.423Z"
   },
   {
    "duration": 136,
    "start_time": "2022-05-01T20:25:45.152Z"
   },
   {
    "duration": 145,
    "start_time": "2022-05-01T20:25:59.449Z"
   },
   {
    "duration": 137,
    "start_time": "2022-05-01T20:26:18.753Z"
   },
   {
    "duration": 141,
    "start_time": "2022-05-01T20:26:30.584Z"
   },
   {
    "duration": 130,
    "start_time": "2022-05-01T20:28:14.289Z"
   },
   {
    "duration": 139,
    "start_time": "2022-05-01T20:29:02.641Z"
   },
   {
    "duration": 8,
    "start_time": "2022-05-01T20:33:41.513Z"
   },
   {
    "duration": 5,
    "start_time": "2022-05-01T20:34:14.431Z"
   },
   {
    "duration": 5,
    "start_time": "2022-05-01T20:34:25.897Z"
   },
   {
    "duration": 5,
    "start_time": "2022-05-01T20:35:18.112Z"
   },
   {
    "duration": 5,
    "start_time": "2022-05-01T20:42:33.975Z"
   },
   {
    "duration": 7,
    "start_time": "2022-05-01T20:42:53.616Z"
   },
   {
    "duration": 1318,
    "start_time": "2022-05-02T18:39:05.224Z"
   },
   {
    "duration": 219,
    "start_time": "2022-05-02T18:39:06.546Z"
   },
   {
    "duration": 24,
    "start_time": "2022-05-02T18:39:06.767Z"
   },
   {
    "duration": 21,
    "start_time": "2022-05-02T18:39:06.793Z"
   },
   {
    "duration": 12,
    "start_time": "2022-05-02T18:39:06.817Z"
   },
   {
    "duration": 46,
    "start_time": "2022-05-02T18:39:06.831Z"
   },
   {
    "duration": 21,
    "start_time": "2022-05-02T18:39:06.879Z"
   },
   {
    "duration": 28,
    "start_time": "2022-05-02T18:39:06.902Z"
   },
   {
    "duration": 603,
    "start_time": "2022-05-02T18:41:05.618Z"
   },
   {
    "duration": 181,
    "start_time": "2022-05-02T18:42:04.885Z"
   },
   {
    "duration": 180,
    "start_time": "2022-05-02T18:42:19.156Z"
   },
   {
    "duration": 219,
    "start_time": "2022-05-02T18:43:32.294Z"
   },
   {
    "duration": 284,
    "start_time": "2022-05-02T18:44:03.356Z"
   },
   {
    "duration": 194,
    "start_time": "2022-05-02T18:44:46.868Z"
   },
   {
    "duration": 181,
    "start_time": "2022-05-02T18:46:21.565Z"
   },
   {
    "duration": 8,
    "start_time": "2022-05-02T18:52:03.662Z"
   },
   {
    "duration": 19,
    "start_time": "2022-05-02T18:52:06.369Z"
   },
   {
    "duration": 9,
    "start_time": "2022-05-02T18:53:39.366Z"
   },
   {
    "duration": 21,
    "start_time": "2022-05-02T18:53:42.162Z"
   },
   {
    "duration": 8,
    "start_time": "2022-05-02T18:57:45.198Z"
   },
   {
    "duration": 12,
    "start_time": "2022-05-02T18:59:18.484Z"
   },
   {
    "duration": 1802,
    "start_time": "2022-05-02T19:01:48.171Z"
   },
   {
    "duration": 36,
    "start_time": "2022-05-02T19:01:49.975Z"
   },
   {
    "duration": 21,
    "start_time": "2022-05-02T19:01:50.012Z"
   },
   {
    "duration": 34,
    "start_time": "2022-05-02T19:01:50.037Z"
   },
   {
    "duration": 29,
    "start_time": "2022-05-02T19:01:50.073Z"
   },
   {
    "duration": 9,
    "start_time": "2022-05-02T19:01:50.104Z"
   },
   {
    "duration": 11,
    "start_time": "2022-05-02T19:01:50.115Z"
   },
   {
    "duration": 269,
    "start_time": "2022-05-02T19:01:50.128Z"
   },
   {
    "duration": 6,
    "start_time": "2022-05-02T19:01:50.399Z"
   },
   {
    "duration": 76,
    "start_time": "2022-05-02T19:01:50.407Z"
   },
   {
    "duration": 16,
    "start_time": "2022-05-02T19:01:50.485Z"
   },
   {
    "duration": 15,
    "start_time": "2022-05-02T19:01:50.503Z"
   },
   {
    "duration": 23,
    "start_time": "2022-05-02T19:25:52.678Z"
   },
   {
    "duration": 116,
    "start_time": "2022-05-02T19:38:44.270Z"
   },
   {
    "duration": 127,
    "start_time": "2022-05-02T19:38:55.246Z"
   },
   {
    "duration": 205,
    "start_time": "2022-05-02T19:39:15.887Z"
   },
   {
    "duration": 33,
    "start_time": "2022-05-02T19:49:27.608Z"
   },
   {
    "duration": 236,
    "start_time": "2022-05-02T19:52:42.593Z"
   },
   {
    "duration": 191,
    "start_time": "2022-05-02T20:04:51.481Z"
   },
   {
    "duration": 118,
    "start_time": "2022-05-02T20:06:28.586Z"
   },
   {
    "duration": 10,
    "start_time": "2022-05-02T20:06:42.281Z"
   },
   {
    "duration": 9,
    "start_time": "2022-05-02T20:07:27.873Z"
   },
   {
    "duration": 174,
    "start_time": "2022-05-02T20:07:50.522Z"
   },
   {
    "duration": 11,
    "start_time": "2022-05-02T20:08:03.002Z"
   },
   {
    "duration": 10,
    "start_time": "2022-05-02T20:08:09.905Z"
   },
   {
    "duration": 37,
    "start_time": "2022-05-02T20:10:00.274Z"
   },
   {
    "duration": 38,
    "start_time": "2022-05-02T20:15:36.268Z"
   },
   {
    "duration": 36,
    "start_time": "2022-05-02T20:16:08.910Z"
   },
   {
    "duration": 9,
    "start_time": "2022-05-02T20:36:11.056Z"
   },
   {
    "duration": 8,
    "start_time": "2022-05-02T20:36:27.832Z"
   },
   {
    "duration": 7,
    "start_time": "2022-05-02T20:36:39.255Z"
   },
   {
    "duration": 1628,
    "start_time": "2022-05-03T16:23:14.439Z"
   },
   {
    "duration": 25,
    "start_time": "2022-05-03T16:23:16.069Z"
   },
   {
    "duration": 20,
    "start_time": "2022-05-03T16:23:16.095Z"
   },
   {
    "duration": 13,
    "start_time": "2022-05-03T16:23:16.117Z"
   },
   {
    "duration": 5,
    "start_time": "2022-05-03T16:23:16.131Z"
   },
   {
    "duration": 8,
    "start_time": "2022-05-03T16:23:16.137Z"
   },
   {
    "duration": 28,
    "start_time": "2022-05-03T16:23:16.146Z"
   },
   {
    "duration": 191,
    "start_time": "2022-05-03T16:23:16.176Z"
   },
   {
    "duration": 6,
    "start_time": "2022-05-03T16:23:16.374Z"
   },
   {
    "duration": 10,
    "start_time": "2022-05-03T16:23:16.382Z"
   },
   {
    "duration": 45,
    "start_time": "2022-05-03T16:23:16.393Z"
   },
   {
    "duration": 6,
    "start_time": "2022-05-03T16:23:16.439Z"
   },
   {
    "duration": 13,
    "start_time": "2022-05-03T16:23:16.446Z"
   },
   {
    "duration": 18,
    "start_time": "2022-05-03T16:23:16.460Z"
   },
   {
    "duration": 132,
    "start_time": "2022-05-03T16:23:16.479Z"
   },
   {
    "duration": 20,
    "start_time": "2022-05-03T16:23:16.613Z"
   },
   {
    "duration": 10,
    "start_time": "2022-05-03T16:23:16.635Z"
   },
   {
    "duration": 112,
    "start_time": "2022-05-03T16:51:43.990Z"
   },
   {
    "duration": 284,
    "start_time": "2022-05-03T16:51:50.065Z"
   },
   {
    "duration": 403,
    "start_time": "2022-05-03T16:52:18.792Z"
   },
   {
    "duration": 22,
    "start_time": "2022-05-03T16:53:33.177Z"
   },
   {
    "duration": 164,
    "start_time": "2022-05-03T16:56:12.761Z"
   },
   {
    "duration": 317,
    "start_time": "2022-05-03T16:56:18.417Z"
   },
   {
    "duration": 209,
    "start_time": "2022-05-03T17:01:17.130Z"
   },
   {
    "duration": 177,
    "start_time": "2022-05-03T17:01:27.419Z"
   },
   {
    "duration": 352,
    "start_time": "2022-05-03T17:01:35.835Z"
   },
   {
    "duration": 131,
    "start_time": "2022-05-03T17:01:40.362Z"
   },
   {
    "duration": 171,
    "start_time": "2022-05-03T17:02:04.946Z"
   },
   {
    "duration": 428,
    "start_time": "2022-05-03T17:02:10.690Z"
   },
   {
    "duration": 167,
    "start_time": "2022-05-03T17:08:18.595Z"
   },
   {
    "duration": 324,
    "start_time": "2022-05-03T17:08:22.963Z"
   },
   {
    "duration": 187,
    "start_time": "2022-05-03T17:09:31.363Z"
   },
   {
    "duration": 323,
    "start_time": "2022-05-03T17:09:36.252Z"
   },
   {
    "duration": 347,
    "start_time": "2022-05-03T17:10:54.875Z"
   },
   {
    "duration": 477,
    "start_time": "2022-05-03T17:11:01.627Z"
   },
   {
    "duration": 347,
    "start_time": "2022-05-03T17:11:50.146Z"
   },
   {
    "duration": 350,
    "start_time": "2022-05-03T17:12:00.483Z"
   },
   {
    "duration": 11,
    "start_time": "2022-05-03T17:13:05.371Z"
   },
   {
    "duration": 341,
    "start_time": "2022-05-03T17:15:06.708Z"
   },
   {
    "duration": 3043,
    "start_time": "2022-05-03T17:16:07.108Z"
   },
   {
    "duration": 2720,
    "start_time": "2022-05-03T17:16:27.364Z"
   },
   {
    "duration": 1244,
    "start_time": "2022-05-03T17:29:59.768Z"
   },
   {
    "duration": 2673,
    "start_time": "2022-05-03T17:30:01.014Z"
   },
   {
    "duration": 2533,
    "start_time": "2022-05-03T17:30:38.286Z"
   },
   {
    "duration": 2526,
    "start_time": "2022-05-03T17:31:15.303Z"
   },
   {
    "duration": 3496,
    "start_time": "2022-05-03T17:34:15.768Z"
   },
   {
    "duration": 3262,
    "start_time": "2022-05-03T17:34:49.439Z"
   },
   {
    "duration": 3309,
    "start_time": "2022-05-03T17:36:21.431Z"
   },
   {
    "duration": 497,
    "start_time": "2022-05-03T17:37:45.521Z"
   },
   {
    "duration": 3370,
    "start_time": "2022-05-03T17:38:28.185Z"
   },
   {
    "duration": 3,
    "start_time": "2022-05-03T17:40:28.207Z"
   },
   {
    "duration": 5,
    "start_time": "2022-05-03T17:40:32.856Z"
   },
   {
    "duration": 3645,
    "start_time": "2022-05-03T17:44:40.240Z"
   },
   {
    "duration": 2509,
    "start_time": "2022-05-03T17:44:55.296Z"
   },
   {
    "duration": 2401,
    "start_time": "2022-05-03T17:45:08.577Z"
   },
   {
    "duration": 1755,
    "start_time": "2022-05-03T17:46:16.730Z"
   },
   {
    "duration": 1503,
    "start_time": "2022-05-03T17:57:24.589Z"
   },
   {
    "duration": 25,
    "start_time": "2022-05-03T17:57:26.095Z"
   },
   {
    "duration": 21,
    "start_time": "2022-05-03T17:57:26.121Z"
   },
   {
    "duration": 13,
    "start_time": "2022-05-03T17:57:26.144Z"
   },
   {
    "duration": 15,
    "start_time": "2022-05-03T17:57:26.159Z"
   },
   {
    "duration": 8,
    "start_time": "2022-05-03T17:57:26.175Z"
   },
   {
    "duration": 8,
    "start_time": "2022-05-03T17:57:26.185Z"
   },
   {
    "duration": 199,
    "start_time": "2022-05-03T17:57:26.195Z"
   },
   {
    "duration": 6,
    "start_time": "2022-05-03T17:57:26.395Z"
   },
   {
    "duration": 4,
    "start_time": "2022-05-03T17:57:26.403Z"
   },
   {
    "duration": 37,
    "start_time": "2022-05-03T17:57:26.409Z"
   },
   {
    "duration": 27,
    "start_time": "2022-05-03T17:57:26.448Z"
   },
   {
    "duration": 9,
    "start_time": "2022-05-03T17:57:26.476Z"
   },
   {
    "duration": 14,
    "start_time": "2022-05-03T17:57:26.486Z"
   },
   {
    "duration": 4,
    "start_time": "2022-05-03T17:57:26.502Z"
   },
   {
    "duration": 1942,
    "start_time": "2022-05-03T17:57:26.507Z"
   },
   {
    "duration": 249,
    "start_time": "2022-05-03T17:57:28.451Z"
   },
   {
    "duration": 0,
    "start_time": "2022-05-03T17:57:28.702Z"
   },
   {
    "duration": 0,
    "start_time": "2022-05-03T17:57:28.703Z"
   },
   {
    "duration": 0,
    "start_time": "2022-05-03T17:57:28.704Z"
   },
   {
    "duration": 0,
    "start_time": "2022-05-03T17:57:28.705Z"
   },
   {
    "duration": 0,
    "start_time": "2022-05-03T17:57:28.706Z"
   },
   {
    "duration": 2184,
    "start_time": "2022-05-03T17:58:18.085Z"
   },
   {
    "duration": 144,
    "start_time": "2022-05-03T17:59:27.297Z"
   },
   {
    "duration": 1559,
    "start_time": "2022-05-03T18:02:13.403Z"
   },
   {
    "duration": 5,
    "start_time": "2022-05-03T18:03:06.224Z"
   },
   {
    "duration": 322,
    "start_time": "2022-05-03T18:03:38.865Z"
   },
   {
    "duration": 6,
    "start_time": "2022-05-03T18:04:22.065Z"
   },
   {
    "duration": 20,
    "start_time": "2022-05-03T18:04:30.659Z"
   },
   {
    "duration": 7,
    "start_time": "2022-05-03T18:04:37.865Z"
   },
   {
    "duration": 1885,
    "start_time": "2022-05-03T18:04:39.881Z"
   },
   {
    "duration": 148,
    "start_time": "2022-05-03T18:05:22.634Z"
   },
   {
    "duration": 708,
    "start_time": "2022-05-03T18:05:44.765Z"
   },
   {
    "duration": 131,
    "start_time": "2022-05-03T18:06:16.618Z"
   },
   {
    "duration": 148,
    "start_time": "2022-05-03T18:06:24.465Z"
   },
   {
    "duration": 3505,
    "start_time": "2022-05-03T18:09:32.355Z"
   },
   {
    "duration": 5,
    "start_time": "2022-05-03T18:10:06.188Z"
   },
   {
    "duration": 1492,
    "start_time": "2022-05-03T18:12:34.271Z"
   },
   {
    "duration": 28,
    "start_time": "2022-05-03T18:12:35.765Z"
   },
   {
    "duration": 19,
    "start_time": "2022-05-03T18:12:35.794Z"
   },
   {
    "duration": 13,
    "start_time": "2022-05-03T18:12:35.814Z"
   },
   {
    "duration": 7,
    "start_time": "2022-05-03T18:12:35.830Z"
   },
   {
    "duration": 8,
    "start_time": "2022-05-03T18:12:35.838Z"
   },
   {
    "duration": 28,
    "start_time": "2022-05-03T18:12:35.848Z"
   },
   {
    "duration": 210,
    "start_time": "2022-05-03T18:12:35.877Z"
   },
   {
    "duration": 6,
    "start_time": "2022-05-03T18:12:36.089Z"
   },
   {
    "duration": 10,
    "start_time": "2022-05-03T18:12:36.097Z"
   },
   {
    "duration": 36,
    "start_time": "2022-05-03T18:12:36.109Z"
   },
   {
    "duration": 26,
    "start_time": "2022-05-03T18:12:36.147Z"
   },
   {
    "duration": 10,
    "start_time": "2022-05-03T18:12:36.175Z"
   },
   {
    "duration": 12,
    "start_time": "2022-05-03T18:12:36.187Z"
   },
   {
    "duration": 10,
    "start_time": "2022-05-03T18:12:36.200Z"
   },
   {
    "duration": 1987,
    "start_time": "2022-05-03T18:12:36.212Z"
   },
   {
    "duration": 3735,
    "start_time": "2022-05-03T18:12:38.200Z"
   },
   {
    "duration": 2740,
    "start_time": "2022-05-03T18:12:41.936Z"
   },
   {
    "duration": 145,
    "start_time": "2022-05-03T18:12:44.678Z"
   },
   {
    "duration": 20,
    "start_time": "2022-05-03T18:12:44.825Z"
   },
   {
    "duration": 26,
    "start_time": "2022-05-03T18:12:44.847Z"
   },
   {
    "duration": 11,
    "start_time": "2022-05-03T18:15:26.435Z"
   },
   {
    "duration": 3610,
    "start_time": "2022-05-03T18:15:49.577Z"
   },
   {
    "duration": 6,
    "start_time": "2022-05-03T18:19:06.005Z"
   },
   {
    "duration": 3365,
    "start_time": "2022-05-03T18:19:06.852Z"
   },
   {
    "duration": 33918,
    "start_time": "2022-05-03T18:32:31.535Z"
   },
   {
    "duration": 18,
    "start_time": "2022-05-03T18:38:32.351Z"
   },
   {
    "duration": 10,
    "start_time": "2022-05-03T18:38:57.158Z"
   },
   {
    "duration": 16,
    "start_time": "2022-05-03T18:39:28.825Z"
   },
   {
    "duration": 15,
    "start_time": "2022-05-03T18:39:50.233Z"
   },
   {
    "duration": 19,
    "start_time": "2022-05-03T18:40:21.560Z"
   },
   {
    "duration": 13,
    "start_time": "2022-05-03T18:40:31.601Z"
   },
   {
    "duration": 138,
    "start_time": "2022-05-03T18:40:57.890Z"
   },
   {
    "duration": 147,
    "start_time": "2022-05-03T18:42:38.693Z"
   },
   {
    "duration": 63612,
    "start_time": "2022-05-03T18:46:21.164Z"
   },
   {
    "duration": 4,
    "start_time": "2022-05-03T18:47:24.778Z"
   },
   {
    "duration": 583,
    "start_time": "2022-05-03T18:48:55.649Z"
   },
   {
    "duration": 134,
    "start_time": "2022-05-03T18:51:51.747Z"
   },
   {
    "duration": 131,
    "start_time": "2022-05-03T18:53:32.469Z"
   },
   {
    "duration": 1289,
    "start_time": "2022-05-03T18:53:44.220Z"
   },
   {
    "duration": 1066,
    "start_time": "2022-05-03T18:54:01.157Z"
   },
   {
    "duration": 142,
    "start_time": "2022-05-03T18:54:30.316Z"
   },
   {
    "duration": 560,
    "start_time": "2022-05-03T18:54:50.220Z"
   },
   {
    "duration": 2046,
    "start_time": "2022-05-03T19:01:52.535Z"
   },
   {
    "duration": 1884,
    "start_time": "2022-05-03T19:02:15.612Z"
   },
   {
    "duration": 1954,
    "start_time": "2022-05-03T19:02:23.500Z"
   },
   {
    "duration": 1847,
    "start_time": "2022-05-03T19:02:30.429Z"
   },
   {
    "duration": 11,
    "start_time": "2022-05-03T19:02:56.789Z"
   },
   {
    "duration": 12,
    "start_time": "2022-05-03T19:03:09.700Z"
   },
   {
    "duration": 657,
    "start_time": "2022-05-03T19:03:24.470Z"
   },
   {
    "duration": 20,
    "start_time": "2022-05-03T19:05:17.766Z"
   },
   {
    "duration": 153,
    "start_time": "2022-05-03T19:08:32.457Z"
   },
   {
    "duration": 5939,
    "start_time": "2022-05-03T19:08:50.632Z"
   },
   {
    "duration": 3904,
    "start_time": "2022-05-03T19:12:10.285Z"
   },
   {
    "duration": 2985,
    "start_time": "2022-05-03T19:18:55.307Z"
   },
   {
    "duration": 3082,
    "start_time": "2022-05-03T19:19:51.860Z"
   },
   {
    "duration": 3314,
    "start_time": "2022-05-03T19:20:05.627Z"
   },
   {
    "duration": 3122,
    "start_time": "2022-05-03T19:20:30.123Z"
   },
   {
    "duration": 3051,
    "start_time": "2022-05-03T19:21:05.202Z"
   },
   {
    "duration": 359,
    "start_time": "2022-05-03T19:21:32.724Z"
   },
   {
    "duration": 333,
    "start_time": "2022-05-03T19:22:11.510Z"
   },
   {
    "duration": 3152,
    "start_time": "2022-05-03T19:22:21.443Z"
   },
   {
    "duration": 339,
    "start_time": "2022-05-03T19:22:39.892Z"
   },
   {
    "duration": 3017,
    "start_time": "2022-05-03T19:24:03.710Z"
   },
   {
    "duration": 18,
    "start_time": "2022-05-03T19:52:20.435Z"
   },
   {
    "duration": 17,
    "start_time": "2022-05-03T19:52:28.586Z"
   },
   {
    "duration": 18,
    "start_time": "2022-05-03T19:52:43.228Z"
   },
   {
    "duration": 2263,
    "start_time": "2022-05-04T18:09:12.630Z"
   },
   {
    "duration": 48,
    "start_time": "2022-05-04T18:09:14.896Z"
   },
   {
    "duration": 20,
    "start_time": "2022-05-04T18:09:14.946Z"
   },
   {
    "duration": 14,
    "start_time": "2022-05-04T18:09:14.968Z"
   },
   {
    "duration": 5,
    "start_time": "2022-05-04T18:09:14.983Z"
   },
   {
    "duration": 34,
    "start_time": "2022-05-04T18:09:14.989Z"
   },
   {
    "duration": 18,
    "start_time": "2022-05-04T18:09:15.025Z"
   },
   {
    "duration": 298,
    "start_time": "2022-05-04T18:09:15.045Z"
   },
   {
    "duration": 7,
    "start_time": "2022-05-04T18:09:15.345Z"
   },
   {
    "duration": 9,
    "start_time": "2022-05-04T18:09:15.355Z"
   },
   {
    "duration": 59,
    "start_time": "2022-05-04T18:09:15.366Z"
   },
   {
    "duration": 7,
    "start_time": "2022-05-04T18:09:15.427Z"
   },
   {
    "duration": 18,
    "start_time": "2022-05-04T18:09:15.436Z"
   },
   {
    "duration": 12,
    "start_time": "2022-05-04T18:09:15.456Z"
   },
   {
    "duration": 3167,
    "start_time": "2022-05-04T18:09:15.471Z"
   },
   {
    "duration": 18,
    "start_time": "2022-05-04T18:09:18.640Z"
   },
   {
    "duration": 11,
    "start_time": "2022-05-04T18:09:18.660Z"
   },
   {
    "duration": 5,
    "start_time": "2022-05-04T18:15:16.912Z"
   },
   {
    "duration": 10,
    "start_time": "2022-05-04T18:17:16.394Z"
   },
   {
    "duration": 121,
    "start_time": "2022-05-04T18:18:53.364Z"
   },
   {
    "duration": 16,
    "start_time": "2022-05-04T18:19:36.587Z"
   },
   {
    "duration": 132,
    "start_time": "2022-05-04T18:27:06.074Z"
   },
   {
    "duration": 5,
    "start_time": "2022-05-04T18:27:34.403Z"
   },
   {
    "duration": 13,
    "start_time": "2022-05-04T18:27:38.884Z"
   },
   {
    "duration": 31,
    "start_time": "2022-05-04T18:27:41.628Z"
   },
   {
    "duration": 35,
    "start_time": "2022-05-04T18:27:49.548Z"
   },
   {
    "duration": 142,
    "start_time": "2022-05-04T19:25:07.712Z"
   },
   {
    "duration": 137,
    "start_time": "2022-05-04T19:26:15.913Z"
   },
   {
    "duration": 154,
    "start_time": "2022-05-04T19:26:47.441Z"
   },
   {
    "duration": 143,
    "start_time": "2022-05-04T19:27:01.538Z"
   },
   {
    "duration": 113,
    "start_time": "2022-05-04T19:27:09.466Z"
   },
   {
    "duration": 175,
    "start_time": "2022-05-04T19:27:19.186Z"
   },
   {
    "duration": 193,
    "start_time": "2022-05-04T19:27:25.786Z"
   },
   {
    "duration": 107,
    "start_time": "2022-05-04T19:27:36.891Z"
   },
   {
    "duration": 124,
    "start_time": "2022-05-04T19:28:17.618Z"
   },
   {
    "duration": 3,
    "start_time": "2022-05-04T19:35:58.352Z"
   },
   {
    "duration": 187,
    "start_time": "2022-05-04T19:38:05.371Z"
   },
   {
    "duration": 171,
    "start_time": "2022-05-04T19:40:03.269Z"
   },
   {
    "duration": 304,
    "start_time": "2022-05-04T19:53:04.246Z"
   },
   {
    "duration": 13,
    "start_time": "2022-05-04T19:55:00.346Z"
   },
   {
    "duration": 76,
    "start_time": "2022-05-04T19:55:18.547Z"
   },
   {
    "duration": 866,
    "start_time": "2022-05-04T19:55:29.365Z"
   },
   {
    "duration": 6432,
    "start_time": "2022-05-04T19:57:46.278Z"
   },
   {
    "duration": 9518,
    "start_time": "2022-05-04T19:59:00.351Z"
   },
   {
    "duration": 7019,
    "start_time": "2022-05-04T19:59:36.541Z"
   },
   {
    "duration": 17590,
    "start_time": "2022-05-04T20:01:20.284Z"
   },
   {
    "duration": 17995,
    "start_time": "2022-05-04T20:01:54.670Z"
   },
   {
    "duration": 86459,
    "start_time": "2022-05-04T20:03:23.022Z"
   },
   {
    "duration": 31,
    "start_time": "2022-05-04T20:15:12.799Z"
   },
   {
    "duration": 3,
    "start_time": "2022-05-04T20:15:23.047Z"
   },
   {
    "duration": 26,
    "start_time": "2022-05-04T20:15:29.502Z"
   },
   {
    "duration": 25,
    "start_time": "2022-05-04T20:15:36.679Z"
   },
   {
    "duration": 33,
    "start_time": "2022-05-04T20:16:07.735Z"
   },
   {
    "duration": 232,
    "start_time": "2022-05-04T20:20:40.711Z"
   },
   {
    "duration": 3,
    "start_time": "2022-05-04T20:24:14.110Z"
   },
   {
    "duration": 3,
    "start_time": "2022-05-04T20:24:31.231Z"
   },
   {
    "duration": 23,
    "start_time": "2022-05-04T20:24:42.360Z"
   },
   {
    "duration": 34,
    "start_time": "2022-05-04T20:26:05.433Z"
   },
   {
    "duration": 26,
    "start_time": "2022-05-04T20:26:17.872Z"
   },
   {
    "duration": 300,
    "start_time": "2022-05-04T20:26:24.048Z"
   },
   {
    "duration": 279,
    "start_time": "2022-05-04T20:26:50.512Z"
   },
   {
    "duration": 284,
    "start_time": "2022-05-04T20:26:57.561Z"
   },
   {
    "duration": 1562,
    "start_time": "2022-05-05T18:27:45.565Z"
   },
   {
    "duration": 24,
    "start_time": "2022-05-05T18:27:47.129Z"
   },
   {
    "duration": 19,
    "start_time": "2022-05-05T18:27:47.154Z"
   },
   {
    "duration": 12,
    "start_time": "2022-05-05T18:27:47.175Z"
   },
   {
    "duration": 4,
    "start_time": "2022-05-05T18:27:47.188Z"
   },
   {
    "duration": 7,
    "start_time": "2022-05-05T18:27:47.193Z"
   },
   {
    "duration": 23,
    "start_time": "2022-05-05T18:27:47.201Z"
   },
   {
    "duration": 177,
    "start_time": "2022-05-05T18:27:47.226Z"
   },
   {
    "duration": 6,
    "start_time": "2022-05-05T18:27:47.405Z"
   },
   {
    "duration": 12,
    "start_time": "2022-05-05T18:27:47.413Z"
   },
   {
    "duration": 38,
    "start_time": "2022-05-05T18:27:47.427Z"
   },
   {
    "duration": 6,
    "start_time": "2022-05-05T18:27:47.466Z"
   },
   {
    "duration": 7,
    "start_time": "2022-05-05T18:27:47.473Z"
   },
   {
    "duration": 9,
    "start_time": "2022-05-05T18:27:47.481Z"
   },
   {
    "duration": 2514,
    "start_time": "2022-05-05T18:27:47.492Z"
   },
   {
    "duration": 22,
    "start_time": "2022-05-05T18:27:50.008Z"
   },
   {
    "duration": 5,
    "start_time": "2022-05-05T18:27:50.031Z"
   },
   {
    "duration": 13,
    "start_time": "2022-05-05T18:27:50.037Z"
   },
   {
    "duration": 32,
    "start_time": "2022-05-05T18:27:50.051Z"
   },
   {
    "duration": 139,
    "start_time": "2022-05-05T18:27:50.085Z"
   },
   {
    "duration": 280,
    "start_time": "2022-05-05T18:27:50.226Z"
   },
   {
    "duration": 4,
    "start_time": "2022-05-05T18:27:50.508Z"
   },
   {
    "duration": 31,
    "start_time": "2022-05-05T18:27:50.514Z"
   },
   {
    "duration": 66003,
    "start_time": "2022-05-05T18:27:50.547Z"
   },
   {
    "duration": 206,
    "start_time": "2022-05-05T18:28:56.552Z"
   },
   {
    "duration": 342,
    "start_time": "2022-05-05T18:37:00.488Z"
   },
   {
    "duration": 238,
    "start_time": "2022-05-05T18:38:16.487Z"
   },
   {
    "duration": 327,
    "start_time": "2022-05-05T18:38:20.400Z"
   },
   {
    "duration": 240,
    "start_time": "2022-05-05T18:40:45.984Z"
   },
   {
    "duration": 502,
    "start_time": "2022-05-05T18:41:18.128Z"
   },
   {
    "duration": 313,
    "start_time": "2022-05-05T18:41:31.617Z"
   },
   {
    "duration": 62,
    "start_time": "2022-05-05T19:08:29.067Z"
   },
   {
    "duration": 116,
    "start_time": "2022-05-05T19:17:43.731Z"
   },
   {
    "duration": 394,
    "start_time": "2022-05-05T19:17:52.670Z"
   },
   {
    "duration": 70266,
    "start_time": "2022-05-05T19:27:50.876Z"
   },
   {
    "duration": 220,
    "start_time": "2022-05-05T19:29:39.615Z"
   },
   {
    "duration": 8,
    "start_time": "2022-05-05T19:32:20.109Z"
   },
   {
    "duration": 17,
    "start_time": "2022-05-05T19:56:08.617Z"
   },
   {
    "duration": 16,
    "start_time": "2022-05-05T19:57:43.321Z"
   },
   {
    "duration": 14,
    "start_time": "2022-05-05T20:16:15.842Z"
   },
   {
    "duration": 1656,
    "start_time": "2022-05-06T17:39:04.292Z"
   },
   {
    "duration": 29,
    "start_time": "2022-05-06T17:39:05.950Z"
   },
   {
    "duration": 18,
    "start_time": "2022-05-06T17:39:05.980Z"
   },
   {
    "duration": 14,
    "start_time": "2022-05-06T17:39:06.000Z"
   },
   {
    "duration": 4,
    "start_time": "2022-05-06T17:39:06.016Z"
   },
   {
    "duration": 9,
    "start_time": "2022-05-06T17:39:06.021Z"
   },
   {
    "duration": 23,
    "start_time": "2022-05-06T17:39:06.032Z"
   },
   {
    "duration": 179,
    "start_time": "2022-05-06T17:39:06.057Z"
   },
   {
    "duration": 17,
    "start_time": "2022-05-06T17:39:06.238Z"
   },
   {
    "duration": 4,
    "start_time": "2022-05-06T17:39:06.258Z"
   },
   {
    "duration": 34,
    "start_time": "2022-05-06T17:39:06.264Z"
   },
   {
    "duration": 6,
    "start_time": "2022-05-06T17:39:06.300Z"
   },
   {
    "duration": 8,
    "start_time": "2022-05-06T17:39:06.308Z"
   },
   {
    "duration": 13,
    "start_time": "2022-05-06T17:39:06.318Z"
   },
   {
    "duration": 2625,
    "start_time": "2022-05-06T17:39:06.333Z"
   },
   {
    "duration": 18,
    "start_time": "2022-05-06T17:39:08.960Z"
   },
   {
    "duration": 5,
    "start_time": "2022-05-06T17:39:08.980Z"
   },
   {
    "duration": 14,
    "start_time": "2022-05-06T17:39:08.986Z"
   },
   {
    "duration": 59,
    "start_time": "2022-05-06T17:39:09.002Z"
   },
   {
    "duration": 122,
    "start_time": "2022-05-06T17:39:09.063Z"
   },
   {
    "duration": 290,
    "start_time": "2022-05-06T17:39:09.186Z"
   },
   {
    "duration": 3,
    "start_time": "2022-05-06T17:39:09.478Z"
   },
   {
    "duration": 28,
    "start_time": "2022-05-06T17:39:09.483Z"
   },
   {
    "duration": 71273,
    "start_time": "2022-05-06T17:39:09.513Z"
   },
   {
    "duration": 235,
    "start_time": "2022-05-06T17:40:20.788Z"
   },
   {
    "duration": 535,
    "start_time": "2022-05-06T17:40:21.025Z"
   },
   {
    "duration": 467,
    "start_time": "2022-05-06T17:40:21.562Z"
   },
   {
    "duration": 72033,
    "start_time": "2022-05-06T17:40:22.033Z"
   },
   {
    "duration": 302,
    "start_time": "2022-05-06T17:41:34.069Z"
   },
   {
    "duration": 90,
    "start_time": "2022-05-06T17:41:34.373Z"
   },
   {
    "duration": 4,
    "start_time": "2022-05-06T17:41:48.704Z"
   },
   {
    "duration": 12,
    "start_time": "2022-05-06T17:41:53.689Z"
   },
   {
    "duration": 359,
    "start_time": "2022-05-06T17:43:48.473Z"
   },
   {
    "duration": 98899,
    "start_time": "2022-05-06T17:45:11.785Z"
   },
   {
    "duration": 114,
    "start_time": "2022-05-06T17:48:52.045Z"
   },
   {
    "duration": 202,
    "start_time": "2022-05-06T17:48:57.661Z"
   },
   {
    "duration": 194,
    "start_time": "2022-05-06T17:49:14.666Z"
   },
   {
    "duration": 10,
    "start_time": "2022-05-06T17:54:10.842Z"
   },
   {
    "duration": 156,
    "start_time": "2022-05-06T17:55:45.947Z"
   },
   {
    "duration": 41851,
    "start_time": "2022-05-06T17:56:51.188Z"
   },
   {
    "duration": 95,
    "start_time": "2022-05-06T17:57:43.667Z"
   },
   {
    "duration": 487,
    "start_time": "2022-05-06T18:00:05.675Z"
   },
   {
    "duration": 476,
    "start_time": "2022-05-06T18:01:29.425Z"
   },
   {
    "duration": 4,
    "start_time": "2022-05-06T18:01:44.628Z"
   },
   {
    "duration": 473,
    "start_time": "2022-05-06T18:01:50.659Z"
   },
   {
    "duration": 466,
    "start_time": "2022-05-06T18:02:06.067Z"
   },
   {
    "duration": 456,
    "start_time": "2022-05-06T18:02:29.108Z"
   },
   {
    "duration": 70603,
    "start_time": "2022-05-06T18:02:46.291Z"
   },
   {
    "duration": 70381,
    "start_time": "2022-05-06T18:04:04.876Z"
   },
   {
    "duration": 704,
    "start_time": "2022-05-06T18:06:05.651Z"
   },
   {
    "duration": 72040,
    "start_time": "2022-05-06T18:06:16.524Z"
   },
   {
    "duration": 73181,
    "start_time": "2022-05-06T18:09:08.197Z"
   },
   {
    "duration": 1028,
    "start_time": "2022-05-06T18:10:30.981Z"
   },
   {
    "duration": 326,
    "start_time": "2022-05-06T18:28:05.669Z"
   },
   {
    "duration": 325,
    "start_time": "2022-05-06T18:28:14.647Z"
   },
   {
    "duration": 292,
    "start_time": "2022-05-06T18:29:35.889Z"
   },
   {
    "duration": 24,
    "start_time": "2022-05-06T18:29:43.129Z"
   },
   {
    "duration": 16,
    "start_time": "2022-05-06T18:32:27.210Z"
   },
   {
    "duration": 71617,
    "start_time": "2022-05-06T18:32:46.634Z"
   },
   {
    "duration": 27,
    "start_time": "2022-05-06T18:34:15.898Z"
   },
   {
    "duration": 234,
    "start_time": "2022-05-06T18:34:48.378Z"
   },
   {
    "duration": 89,
    "start_time": "2022-05-06T18:35:16.481Z"
   },
   {
    "duration": 131,
    "start_time": "2022-05-06T18:35:35.730Z"
   },
   {
    "duration": 291,
    "start_time": "2022-05-06T18:47:02.899Z"
   },
   {
    "duration": 24,
    "start_time": "2022-05-06T18:48:08.964Z"
   },
   {
    "duration": 70409,
    "start_time": "2022-05-06T18:53:13.908Z"
   },
   {
    "duration": 500,
    "start_time": "2022-05-06T18:56:47.875Z"
   },
   {
    "duration": 32,
    "start_time": "2022-05-06T18:57:33.484Z"
   },
   {
    "duration": 239,
    "start_time": "2022-05-06T18:58:11.213Z"
   },
   {
    "duration": 1100,
    "start_time": "2022-05-06T18:58:19.167Z"
   },
   {
    "duration": 24,
    "start_time": "2022-05-06T18:58:40.516Z"
   },
   {
    "duration": 517,
    "start_time": "2022-05-06T18:58:46.796Z"
   },
   {
    "duration": 278,
    "start_time": "2022-05-06T18:59:54.180Z"
   },
   {
    "duration": 819,
    "start_time": "2022-05-06T19:00:10.165Z"
   },
   {
    "duration": 450,
    "start_time": "2022-05-06T19:00:19.925Z"
   },
   {
    "duration": 430,
    "start_time": "2022-05-06T19:00:25.828Z"
   },
   {
    "duration": 380,
    "start_time": "2022-05-06T19:30:06.646Z"
   },
   {
    "duration": 25,
    "start_time": "2022-05-06T19:30:20.806Z"
   },
   {
    "duration": 99315,
    "start_time": "2022-05-06T19:32:29.767Z"
   },
   {
    "duration": 493,
    "start_time": "2022-05-06T19:34:13.710Z"
   },
   {
    "duration": 133,
    "start_time": "2022-05-06T19:34:46.831Z"
   },
   {
    "duration": 343,
    "start_time": "2022-05-06T19:37:13.920Z"
   },
   {
    "duration": 149,
    "start_time": "2022-05-06T19:42:08.344Z"
   },
   {
    "duration": 24,
    "start_time": "2022-05-06T19:42:22.416Z"
   },
   {
    "duration": 23,
    "start_time": "2022-05-06T19:42:45.193Z"
   },
   {
    "duration": 22,
    "start_time": "2022-05-06T19:42:59.360Z"
   },
   {
    "duration": 359,
    "start_time": "2022-05-06T19:43:08.128Z"
   },
   {
    "duration": 24,
    "start_time": "2022-05-06T19:43:09.983Z"
   },
   {
    "duration": 145,
    "start_time": "2022-05-06T19:43:21.200Z"
   },
   {
    "duration": 23,
    "start_time": "2022-05-06T19:43:24.928Z"
   },
   {
    "duration": 44302,
    "start_time": "2022-05-06T19:45:29.304Z"
   },
   {
    "duration": 377,
    "start_time": "2022-05-06T19:46:22.585Z"
   },
   {
    "duration": 95,
    "start_time": "2022-05-06T19:47:13.864Z"
   },
   {
    "duration": 345,
    "start_time": "2022-05-06T19:47:40.816Z"
   },
   {
    "duration": 1585,
    "start_time": "2022-05-08T17:37:56.581Z"
   },
   {
    "duration": 29,
    "start_time": "2022-05-08T17:37:58.168Z"
   },
   {
    "duration": 18,
    "start_time": "2022-05-08T17:37:58.199Z"
   },
   {
    "duration": 12,
    "start_time": "2022-05-08T17:37:58.219Z"
   },
   {
    "duration": 4,
    "start_time": "2022-05-08T17:37:58.233Z"
   },
   {
    "duration": 8,
    "start_time": "2022-05-08T17:37:58.238Z"
   },
   {
    "duration": 5,
    "start_time": "2022-05-08T17:37:58.247Z"
   },
   {
    "duration": 203,
    "start_time": "2022-05-08T17:37:58.253Z"
   },
   {
    "duration": 5,
    "start_time": "2022-05-08T17:37:58.458Z"
   },
   {
    "duration": 4,
    "start_time": "2022-05-08T17:37:58.466Z"
   },
   {
    "duration": 53,
    "start_time": "2022-05-08T17:37:58.471Z"
   },
   {
    "duration": 6,
    "start_time": "2022-05-08T17:37:58.526Z"
   },
   {
    "duration": 7,
    "start_time": "2022-05-08T17:37:58.534Z"
   },
   {
    "duration": 9,
    "start_time": "2022-05-08T17:37:58.543Z"
   },
   {
    "duration": 2836,
    "start_time": "2022-05-08T17:37:58.554Z"
   },
   {
    "duration": 24,
    "start_time": "2022-05-08T17:38:01.393Z"
   },
   {
    "duration": 5,
    "start_time": "2022-05-08T17:38:01.419Z"
   },
   {
    "duration": 19,
    "start_time": "2022-05-08T17:38:01.426Z"
   },
   {
    "duration": 39,
    "start_time": "2022-05-08T17:38:01.447Z"
   },
   {
    "duration": 133,
    "start_time": "2022-05-08T17:38:01.506Z"
   },
   {
    "duration": 4,
    "start_time": "2022-05-08T17:38:01.642Z"
   },
   {
    "duration": 309,
    "start_time": "2022-05-08T17:38:01.647Z"
   },
   {
    "duration": 23,
    "start_time": "2022-05-08T17:38:01.958Z"
   },
   {
    "duration": 73484,
    "start_time": "2022-05-08T17:38:01.983Z"
   },
   {
    "duration": 245,
    "start_time": "2022-05-08T17:39:15.469Z"
   },
   {
    "duration": 794,
    "start_time": "2022-05-08T17:39:15.716Z"
   },
   {
    "duration": 417,
    "start_time": "2022-05-08T17:39:16.512Z"
   },
   {
    "duration": 23,
    "start_time": "2022-05-08T17:39:16.933Z"
   },
   {
    "duration": 76085,
    "start_time": "2022-05-08T17:39:16.958Z"
   },
   {
    "duration": 535,
    "start_time": "2022-05-08T17:40:33.045Z"
   },
   {
    "duration": 534,
    "start_time": "2022-05-08T17:40:33.582Z"
   },
   {
    "duration": 106,
    "start_time": "2022-05-08T17:40:34.209Z"
   },
   {
    "duration": 394,
    "start_time": "2022-05-08T17:40:34.317Z"
   },
   {
    "duration": 22,
    "start_time": "2022-05-08T17:40:34.713Z"
   },
   {
    "duration": 102322,
    "start_time": "2022-05-08T17:40:34.736Z"
   },
   {
    "duration": 149,
    "start_time": "2022-05-08T17:42:17.060Z"
   },
   {
    "duration": 698,
    "start_time": "2022-05-08T17:42:17.210Z"
   },
   {
    "duration": 98,
    "start_time": "2022-05-08T17:42:17.911Z"
   },
   {
    "duration": 184,
    "start_time": "2022-05-08T17:42:18.011Z"
   },
   {
    "duration": 30,
    "start_time": "2022-05-08T17:42:18.196Z"
   },
   {
    "duration": 45488,
    "start_time": "2022-05-08T17:42:18.228Z"
   },
   {
    "duration": 325,
    "start_time": "2022-05-08T17:43:03.717Z"
   },
   {
    "duration": 278,
    "start_time": "2022-05-08T17:43:04.044Z"
   },
   {
    "duration": 1195,
    "start_time": "2022-05-08T17:43:04.324Z"
   },
   {
    "duration": 1032,
    "start_time": "2022-05-08T17:49:24.174Z"
   },
   {
    "duration": 1084,
    "start_time": "2022-05-08T17:56:09.537Z"
   },
   {
    "duration": 1092,
    "start_time": "2022-05-08T18:15:09.613Z"
   },
   {
    "duration": 1048,
    "start_time": "2022-05-08T18:23:28.716Z"
   },
   {
    "duration": 63,
    "start_time": "2022-05-08T18:38:09.414Z"
   },
   {
    "duration": 132,
    "start_time": "2022-05-08T18:38:22.525Z"
   },
   {
    "duration": 3,
    "start_time": "2022-05-08T18:38:30.680Z"
   },
   {
    "duration": 11,
    "start_time": "2022-05-08T18:38:35.983Z"
   },
   {
    "duration": 10,
    "start_time": "2022-05-08T18:39:10.824Z"
   },
   {
    "duration": 4,
    "start_time": "2022-05-08T18:39:16.574Z"
   },
   {
    "duration": 3,
    "start_time": "2022-05-08T18:39:41.135Z"
   },
   {
    "duration": 527,
    "start_time": "2022-05-08T18:41:48.263Z"
   },
   {
    "duration": 509,
    "start_time": "2022-05-08T18:45:35.553Z"
   },
   {
    "duration": 4,
    "start_time": "2022-05-08T18:46:27.656Z"
   },
   {
    "duration": 531,
    "start_time": "2022-05-08T18:48:20.729Z"
   },
   {
    "duration": 4,
    "start_time": "2022-05-08T18:48:57.737Z"
   },
   {
    "duration": 4,
    "start_time": "2022-05-08T18:49:04.832Z"
   },
   {
    "duration": 53,
    "start_time": "2022-05-08T18:50:15.335Z"
   },
   {
    "duration": 181,
    "start_time": "2022-05-08T18:50:32.671Z"
   },
   {
    "duration": 728,
    "start_time": "2022-05-08T18:51:11.977Z"
   },
   {
    "duration": 1745,
    "start_time": "2022-05-08T18:54:55.505Z"
   },
   {
    "duration": 36,
    "start_time": "2022-05-08T18:54:57.252Z"
   },
   {
    "duration": 20,
    "start_time": "2022-05-08T18:54:57.290Z"
   },
   {
    "duration": 14,
    "start_time": "2022-05-08T18:54:57.313Z"
   },
   {
    "duration": 4,
    "start_time": "2022-05-08T18:54:57.328Z"
   },
   {
    "duration": 8,
    "start_time": "2022-05-08T18:54:57.334Z"
   },
   {
    "duration": 13,
    "start_time": "2022-05-08T18:54:57.344Z"
   },
   {
    "duration": 231,
    "start_time": "2022-05-08T18:54:57.359Z"
   },
   {
    "duration": 15,
    "start_time": "2022-05-08T18:54:57.593Z"
   },
   {
    "duration": 23,
    "start_time": "2022-05-08T18:54:57.612Z"
   },
   {
    "duration": 44,
    "start_time": "2022-05-08T18:54:57.637Z"
   },
   {
    "duration": 7,
    "start_time": "2022-05-08T18:54:57.683Z"
   },
   {
    "duration": 18,
    "start_time": "2022-05-08T18:54:57.691Z"
   },
   {
    "duration": 10,
    "start_time": "2022-05-08T18:54:57.711Z"
   },
   {
    "duration": 2939,
    "start_time": "2022-05-08T18:54:57.723Z"
   },
   {
    "duration": 18,
    "start_time": "2022-05-08T18:55:00.664Z"
   },
   {
    "duration": 5,
    "start_time": "2022-05-08T18:55:00.683Z"
   },
   {
    "duration": 30,
    "start_time": "2022-05-08T18:55:00.690Z"
   },
   {
    "duration": 34,
    "start_time": "2022-05-08T18:55:00.721Z"
   },
   {
    "duration": 144,
    "start_time": "2022-05-08T18:55:00.757Z"
   },
   {
    "duration": 3,
    "start_time": "2022-05-08T18:55:00.908Z"
   },
   {
    "duration": 309,
    "start_time": "2022-05-08T18:55:00.913Z"
   },
   {
    "duration": 25,
    "start_time": "2022-05-08T18:55:01.224Z"
   },
   {
    "duration": 74939,
    "start_time": "2022-05-08T18:55:01.251Z"
   },
   {
    "duration": 253,
    "start_time": "2022-05-08T18:56:16.192Z"
   },
   {
    "duration": 468,
    "start_time": "2022-05-08T18:56:16.447Z"
   },
   {
    "duration": 516,
    "start_time": "2022-05-08T18:56:16.917Z"
   },
   {
    "duration": 24,
    "start_time": "2022-05-08T18:56:17.436Z"
   },
   {
    "duration": 73087,
    "start_time": "2022-05-08T18:56:17.462Z"
   },
   {
    "duration": 526,
    "start_time": "2022-05-08T18:57:30.551Z"
   },
   {
    "duration": 532,
    "start_time": "2022-05-08T18:57:31.080Z"
   },
   {
    "duration": 98,
    "start_time": "2022-05-08T18:57:31.615Z"
   },
   {
    "duration": 372,
    "start_time": "2022-05-08T18:57:31.715Z"
   },
   {
    "duration": 35,
    "start_time": "2022-05-08T18:57:32.089Z"
   },
   {
    "duration": 101160,
    "start_time": "2022-05-08T18:57:32.126Z"
   },
   {
    "duration": 146,
    "start_time": "2022-05-08T18:59:13.289Z"
   },
   {
    "duration": 575,
    "start_time": "2022-05-08T18:59:13.437Z"
   },
   {
    "duration": 101,
    "start_time": "2022-05-08T18:59:14.015Z"
   },
   {
    "duration": 221,
    "start_time": "2022-05-08T18:59:14.119Z"
   },
   {
    "duration": 23,
    "start_time": "2022-05-08T18:59:14.342Z"
   },
   {
    "duration": 43884,
    "start_time": "2022-05-08T18:59:14.366Z"
   },
   {
    "duration": 306,
    "start_time": "2022-05-08T18:59:58.252Z"
   },
   {
    "duration": 354,
    "start_time": "2022-05-08T18:59:58.559Z"
   },
   {
    "duration": 702,
    "start_time": "2022-05-08T18:59:58.916Z"
   },
   {
    "duration": 3,
    "start_time": "2022-05-08T18:59:59.620Z"
   },
   {
    "duration": 708,
    "start_time": "2022-05-08T18:59:59.625Z"
   }
  ],
  "kernelspec": {
   "display_name": "Python 3 (ipykernel)",
   "language": "python",
   "name": "python3"
  },
  "language_info": {
   "codemirror_mode": {
    "name": "ipython",
    "version": 3
   },
   "file_extension": ".py",
   "mimetype": "text/x-python",
   "name": "python",
   "nbconvert_exporter": "python",
   "pygments_lexer": "ipython3",
   "version": "3.9.5"
  },
  "toc": {
   "base_numbering": 1,
   "nav_menu": {},
   "number_sections": true,
   "sideBar": true,
   "skip_h1_title": true,
   "title_cell": "Содержание",
   "title_sidebar": "Contents",
   "toc_cell": true,
   "toc_position": {
    "height": "calc(100% - 180px)",
    "left": "10px",
    "top": "150px",
    "width": "366.391px"
   },
   "toc_section_display": true,
   "toc_window_display": true
  }
 },
 "nbformat": 4,
 "nbformat_minor": 2
}
