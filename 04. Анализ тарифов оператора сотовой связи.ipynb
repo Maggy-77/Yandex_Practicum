{
 "cells": [
  {
   "cell_type": "markdown",
   "id": "6b736911",
   "metadata": {
    "toc": true
   },
   "source": [
    "<h1>Содержание  <span class=\"tocSkip\"></span></h1>\n",
    "<div class=\"toc\"><ul class=\"toc-item\"><li><span><a href=\"#Обзор-данных\" data-toc-modified-id=\"Обзор-данных-1\"><span class=\"toc-item-num\">1&nbsp;&nbsp;</span>Обзор данных</a></span></li><li><span><a href=\"#Подготовка-данных\" data-toc-modified-id=\"Подготовка-данных-2\"><span class=\"toc-item-num\">2&nbsp;&nbsp;</span>Подготовка данных</a></span><ul class=\"toc-item\"><li><span><a href=\"#Изменение-типов-данных\" data-toc-modified-id=\"Изменение-типов-данных-2.1\"><span class=\"toc-item-num\">2.1&nbsp;&nbsp;</span>Изменение типов данных</a></span></li><li><span><a href=\"#Проверка-на-дубликаты-и-удаление-ненужных-столбцов\" data-toc-modified-id=\"Проверка-на-дубликаты-и-удаление-ненужных-столбцов-2.2\"><span class=\"toc-item-num\">2.2&nbsp;&nbsp;</span>Проверка на дубликаты и удаление ненужных столбцов</a></span></li><li><span><a href=\"#Проверка-данных-на-аномалии\" data-toc-modified-id=\"Проверка-данных-на-аномалии-2.3\"><span class=\"toc-item-num\">2.3&nbsp;&nbsp;</span>Проверка данных на аномалии</a></span></li><li><span><a href=\"#Расчет-количества-сделанных-звонков-и-израсходованных-минут-разговора-по-месяцам-для-каждого-пользователя\" data-toc-modified-id=\"Расчет-количества-сделанных-звонков-и-израсходованных-минут-разговора-по-месяцам-для-каждого-пользователя-2.4\"><span class=\"toc-item-num\">2.4&nbsp;&nbsp;</span>Расчет количества сделанных звонков и израсходованных минут разговора по месяцам для каждого пользователя</a></span></li><li><span><a href=\"#Расчет-количества-отправленных-сообщений-по-месяцам-для-каждого-пользователя\" data-toc-modified-id=\"Расчет-количества-отправленных-сообщений-по-месяцам-для-каждого-пользователя-2.5\"><span class=\"toc-item-num\">2.5&nbsp;&nbsp;</span>Расчет количества отправленных сообщений по месяцам для каждого пользователя</a></span></li><li><span><a href=\"#Расчет-объема-израсходованного-интернет-трафика-по-месяцам-для-каждого-пользователя\" data-toc-modified-id=\"Расчет-объема-израсходованного-интернет-трафика-по-месяцам-для-каждого-пользователя-2.6\"><span class=\"toc-item-num\">2.6&nbsp;&nbsp;</span>Расчет объема израсходованного интернет-трафика по месяцам для каждого пользователя</a></span></li><li><span><a href=\"#Объединение-расчетов-в-одну-таблицу\" data-toc-modified-id=\"Объединение-расчетов-в-одну-таблицу-2.7\"><span class=\"toc-item-num\">2.7&nbsp;&nbsp;</span>Объединение расчетов в одну таблицу</a></span></li><li><span><a href=\"#Расчет-помесячной-выручки-с-каждого-пользователя\" data-toc-modified-id=\"Расчет-помесячной-выручки-с-каждого-пользователя-2.8\"><span class=\"toc-item-num\">2.8&nbsp;&nbsp;</span>Расчет помесячной выручки с каждого пользователя</a></span></li></ul></li><li><span><a href=\"#Исследовательский-анализ-данных\" data-toc-modified-id=\"Исследовательский-анализ-данных-3\"><span class=\"toc-item-num\">3&nbsp;&nbsp;</span>Исследовательский анализ данных</a></span><ul class=\"toc-item\"><li><span><a href=\"#Построение-гистограмм\" data-toc-modified-id=\"Построение-гистограмм-3.1\"><span class=\"toc-item-num\">3.1&nbsp;&nbsp;</span>Построение гистограмм</a></span></li><li><span><a href=\"#Расчет-статистических-показателей\" data-toc-modified-id=\"Расчет-статистических-показателей-3.2\"><span class=\"toc-item-num\">3.2&nbsp;&nbsp;</span>Расчет статистических показателей</a></span></li></ul></li><li><span><a href=\"#Проверка-гипотез\" data-toc-modified-id=\"Проверка-гипотез-4\"><span class=\"toc-item-num\">4&nbsp;&nbsp;</span>Проверка гипотез</a></span><ul class=\"toc-item\"><li><span><a href=\"#Cредняя-выручка-пользователей-тарифов-«Ультра»-и-«Смарт»-различаются\" data-toc-modified-id=\"Cредняя-выручка-пользователей-тарифов-«Ультра»-и-«Смарт»-различаются-4.1\"><span class=\"toc-item-num\">4.1&nbsp;&nbsp;</span>Cредняя выручка пользователей тарифов «Ультра» и «Смарт» различаются</a></span></li><li><span><a href=\"#Средняя-выручка-пользователей-из-Москвы-отличается-от-выручки-пользователей-из-других-регионов\" data-toc-modified-id=\"Средняя-выручка-пользователей-из-Москвы-отличается-от-выручки-пользователей-из-других-регионов-4.2\"><span class=\"toc-item-num\">4.2&nbsp;&nbsp;</span>Средняя выручка пользователей из Москвы отличается от выручки пользователей из других регионов</a></span></li></ul></li><li><span><a href=\"#Общий-вывод\" data-toc-modified-id=\"Общий-вывод-5\"><span class=\"toc-item-num\">5&nbsp;&nbsp;</span>Общий вывод</a></span></li></ul></div>"
   ]
  },
  {
   "cell_type": "markdown",
   "id": "a9385218",
   "metadata": {},
   "source": [
    "# Анализ тарифов оператора сотовой связи"
   ]
  },
  {
   "cell_type": "markdown",
   "id": "efa6fbc0",
   "metadata": {},
   "source": [
    "В компании \"Мегалайн\" - федеральном операторе сотовой связи - клиентам предлагают два тарифных плана. Коммерческому департаменту необходимо скорректировать рекламный бюджет.\n",
    "\n",
    "**Цель исследования**: выяснить, какой тариф приносит больше денег.\n",
    "\n",
    "**Ход исследования**\n",
    "\n",
    "Для анализа предоставлены данные 500 пользователей: кто они, откуда, каким тарифом пользуются, сколько звонков и сообщений каждый отправил за 2018 год. \n",
    "\n",
    "Исследование пройдёт в четыре этапа:\n",
    " 1. Обзор данных.\n",
    " 2. Подготовка данных (предобработка, дополнительные расчеты).\n",
    " 3. Исследовательский анализ данных.\n",
    " 4. Проверка гипотез."
   ]
  },
  {
   "cell_type": "markdown",
   "id": "b148327d",
   "metadata": {},
   "source": [
    "## Обзор данных"
   ]
  },
  {
   "cell_type": "markdown",
   "id": "d78ea1fa",
   "metadata": {},
   "source": [
    "Составим первое представление о данных. Прочитаем файлы с данными и сохраним их в переменных."
   ]
  },
  {
   "cell_type": "code",
   "execution_count": 1,
   "id": "e9fd9000",
   "metadata": {},
   "outputs": [],
   "source": [
    "# импорт необходимых библиотек\n",
    "import pandas as pd\n",
    "import numpy as np\n",
    "import matplotlib.pyplot as plt \n",
    "import seaborn as sns\n",
    "from scipy import stats as st"
   ]
  },
  {
   "cell_type": "code",
   "execution_count": 2,
   "id": "aae34990",
   "metadata": {},
   "outputs": [],
   "source": [
    "# чтение файлов с данными и сохранение в переменные\n",
    "calls = pd.read_csv('/datasets/calls.csv')\n",
    "internet = pd.read_csv('/datasets/internet.csv')\n",
    "messages = pd.read_csv('/datasets/messages.csv')\n",
    "tariffs = pd.read_csv('/datasets/tariffs.csv')\n",
    "users = pd.read_csv('/datasets/users.csv')"
   ]
  },
  {
   "cell_type": "markdown",
   "id": "f1119a51",
   "metadata": {},
   "source": [
    "Теперь по каждой таблице выведем информацию и первые 10 строк."
   ]
  },
  {
   "cell_type": "code",
   "execution_count": 3,
   "id": "0952a2ce",
   "metadata": {},
   "outputs": [],
   "source": [
    "# создание функции для вывода первых 10 строк и информации о таблице\n",
    "def info(df):\n",
    "    display(df.head(10))\n",
    "    print()\n",
    "    df.info()"
   ]
  },
  {
   "cell_type": "code",
   "execution_count": 4,
   "id": "4d6b53c1",
   "metadata": {},
   "outputs": [
    {
     "data": {
      "text/html": [
       "<div>\n",
       "<style scoped>\n",
       "    .dataframe tbody tr th:only-of-type {\n",
       "        vertical-align: middle;\n",
       "    }\n",
       "\n",
       "    .dataframe tbody tr th {\n",
       "        vertical-align: top;\n",
       "    }\n",
       "\n",
       "    .dataframe thead th {\n",
       "        text-align: right;\n",
       "    }\n",
       "</style>\n",
       "<table border=\"1\" class=\"dataframe\">\n",
       "  <thead>\n",
       "    <tr style=\"text-align: right;\">\n",
       "      <th></th>\n",
       "      <th>id</th>\n",
       "      <th>call_date</th>\n",
       "      <th>duration</th>\n",
       "      <th>user_id</th>\n",
       "    </tr>\n",
       "  </thead>\n",
       "  <tbody>\n",
       "    <tr>\n",
       "      <th>0</th>\n",
       "      <td>1000_0</td>\n",
       "      <td>2018-07-25</td>\n",
       "      <td>0.00</td>\n",
       "      <td>1000</td>\n",
       "    </tr>\n",
       "    <tr>\n",
       "      <th>1</th>\n",
       "      <td>1000_1</td>\n",
       "      <td>2018-08-17</td>\n",
       "      <td>0.00</td>\n",
       "      <td>1000</td>\n",
       "    </tr>\n",
       "    <tr>\n",
       "      <th>2</th>\n",
       "      <td>1000_2</td>\n",
       "      <td>2018-06-11</td>\n",
       "      <td>2.85</td>\n",
       "      <td>1000</td>\n",
       "    </tr>\n",
       "    <tr>\n",
       "      <th>3</th>\n",
       "      <td>1000_3</td>\n",
       "      <td>2018-09-21</td>\n",
       "      <td>13.80</td>\n",
       "      <td>1000</td>\n",
       "    </tr>\n",
       "    <tr>\n",
       "      <th>4</th>\n",
       "      <td>1000_4</td>\n",
       "      <td>2018-12-15</td>\n",
       "      <td>5.18</td>\n",
       "      <td>1000</td>\n",
       "    </tr>\n",
       "    <tr>\n",
       "      <th>5</th>\n",
       "      <td>1000_5</td>\n",
       "      <td>2018-11-02</td>\n",
       "      <td>0.00</td>\n",
       "      <td>1000</td>\n",
       "    </tr>\n",
       "    <tr>\n",
       "      <th>6</th>\n",
       "      <td>1000_6</td>\n",
       "      <td>2018-10-18</td>\n",
       "      <td>0.00</td>\n",
       "      <td>1000</td>\n",
       "    </tr>\n",
       "    <tr>\n",
       "      <th>7</th>\n",
       "      <td>1000_7</td>\n",
       "      <td>2018-08-22</td>\n",
       "      <td>18.31</td>\n",
       "      <td>1000</td>\n",
       "    </tr>\n",
       "    <tr>\n",
       "      <th>8</th>\n",
       "      <td>1000_8</td>\n",
       "      <td>2018-09-15</td>\n",
       "      <td>18.44</td>\n",
       "      <td>1000</td>\n",
       "    </tr>\n",
       "    <tr>\n",
       "      <th>9</th>\n",
       "      <td>1000_9</td>\n",
       "      <td>2018-08-15</td>\n",
       "      <td>0.00</td>\n",
       "      <td>1000</td>\n",
       "    </tr>\n",
       "  </tbody>\n",
       "</table>\n",
       "</div>"
      ],
      "text/plain": [
       "       id   call_date  duration  user_id\n",
       "0  1000_0  2018-07-25      0.00     1000\n",
       "1  1000_1  2018-08-17      0.00     1000\n",
       "2  1000_2  2018-06-11      2.85     1000\n",
       "3  1000_3  2018-09-21     13.80     1000\n",
       "4  1000_4  2018-12-15      5.18     1000\n",
       "5  1000_5  2018-11-02      0.00     1000\n",
       "6  1000_6  2018-10-18      0.00     1000\n",
       "7  1000_7  2018-08-22     18.31     1000\n",
       "8  1000_8  2018-09-15     18.44     1000\n",
       "9  1000_9  2018-08-15      0.00     1000"
      ]
     },
     "metadata": {},
     "output_type": "display_data"
    },
    {
     "name": "stdout",
     "output_type": "stream",
     "text": [
      "\n",
      "<class 'pandas.core.frame.DataFrame'>\n",
      "RangeIndex: 202607 entries, 0 to 202606\n",
      "Data columns (total 4 columns):\n",
      " #   Column     Non-Null Count   Dtype  \n",
      "---  ------     --------------   -----  \n",
      " 0   id         202607 non-null  object \n",
      " 1   call_date  202607 non-null  object \n",
      " 2   duration   202607 non-null  float64\n",
      " 3   user_id    202607 non-null  int64  \n",
      "dtypes: float64(1), int64(1), object(2)\n",
      "memory usage: 6.2+ MB\n"
     ]
    }
   ],
   "source": [
    "info(calls) # обзор таблицы calls"
   ]
  },
  {
   "cell_type": "markdown",
   "id": "4817be0b",
   "metadata": {},
   "source": [
    "Таблица `calls` содержит информацию о звонках.\n",
    "\n",
    "Согласно документации: \n",
    "* `id` — уникальный номер звонка\n",
    "* `call_date` — дата звонка\n",
    "* `duration` — длительность звонка в минутах\n",
    "* `user_id` — идентификатор пользователя, сделавшего звонок\n",
    "\n",
    "Пропусков в таблице нет. Необходимо поменять тип данных для `call_date`, а также для `duration`, поскольку каждый звонок округляется в большую сторону до целых минут. В столбце `duration` встречаются нулевые значения. Мы знаем от заказчика, что нулями обозначены пропущенные звонки, поэтому их не нужно удалять."
   ]
  },
  {
   "cell_type": "code",
   "execution_count": 5,
   "id": "4c05ddd9",
   "metadata": {},
   "outputs": [
    {
     "data": {
      "text/html": [
       "<div>\n",
       "<style scoped>\n",
       "    .dataframe tbody tr th:only-of-type {\n",
       "        vertical-align: middle;\n",
       "    }\n",
       "\n",
       "    .dataframe tbody tr th {\n",
       "        vertical-align: top;\n",
       "    }\n",
       "\n",
       "    .dataframe thead th {\n",
       "        text-align: right;\n",
       "    }\n",
       "</style>\n",
       "<table border=\"1\" class=\"dataframe\">\n",
       "  <thead>\n",
       "    <tr style=\"text-align: right;\">\n",
       "      <th></th>\n",
       "      <th>Unnamed: 0</th>\n",
       "      <th>id</th>\n",
       "      <th>mb_used</th>\n",
       "      <th>session_date</th>\n",
       "      <th>user_id</th>\n",
       "    </tr>\n",
       "  </thead>\n",
       "  <tbody>\n",
       "    <tr>\n",
       "      <th>0</th>\n",
       "      <td>0</td>\n",
       "      <td>1000_0</td>\n",
       "      <td>112.95</td>\n",
       "      <td>2018-11-25</td>\n",
       "      <td>1000</td>\n",
       "    </tr>\n",
       "    <tr>\n",
       "      <th>1</th>\n",
       "      <td>1</td>\n",
       "      <td>1000_1</td>\n",
       "      <td>1052.81</td>\n",
       "      <td>2018-09-07</td>\n",
       "      <td>1000</td>\n",
       "    </tr>\n",
       "    <tr>\n",
       "      <th>2</th>\n",
       "      <td>2</td>\n",
       "      <td>1000_2</td>\n",
       "      <td>1197.26</td>\n",
       "      <td>2018-06-25</td>\n",
       "      <td>1000</td>\n",
       "    </tr>\n",
       "    <tr>\n",
       "      <th>3</th>\n",
       "      <td>3</td>\n",
       "      <td>1000_3</td>\n",
       "      <td>550.27</td>\n",
       "      <td>2018-08-22</td>\n",
       "      <td>1000</td>\n",
       "    </tr>\n",
       "    <tr>\n",
       "      <th>4</th>\n",
       "      <td>4</td>\n",
       "      <td>1000_4</td>\n",
       "      <td>302.56</td>\n",
       "      <td>2018-09-24</td>\n",
       "      <td>1000</td>\n",
       "    </tr>\n",
       "    <tr>\n",
       "      <th>5</th>\n",
       "      <td>5</td>\n",
       "      <td>1000_5</td>\n",
       "      <td>399.97</td>\n",
       "      <td>2018-10-02</td>\n",
       "      <td>1000</td>\n",
       "    </tr>\n",
       "    <tr>\n",
       "      <th>6</th>\n",
       "      <td>6</td>\n",
       "      <td>1000_6</td>\n",
       "      <td>540.08</td>\n",
       "      <td>2018-09-07</td>\n",
       "      <td>1000</td>\n",
       "    </tr>\n",
       "    <tr>\n",
       "      <th>7</th>\n",
       "      <td>7</td>\n",
       "      <td>1000_7</td>\n",
       "      <td>415.70</td>\n",
       "      <td>2018-07-11</td>\n",
       "      <td>1000</td>\n",
       "    </tr>\n",
       "    <tr>\n",
       "      <th>8</th>\n",
       "      <td>8</td>\n",
       "      <td>1000_8</td>\n",
       "      <td>505.40</td>\n",
       "      <td>2018-10-08</td>\n",
       "      <td>1000</td>\n",
       "    </tr>\n",
       "    <tr>\n",
       "      <th>9</th>\n",
       "      <td>9</td>\n",
       "      <td>1000_9</td>\n",
       "      <td>345.54</td>\n",
       "      <td>2018-09-03</td>\n",
       "      <td>1000</td>\n",
       "    </tr>\n",
       "  </tbody>\n",
       "</table>\n",
       "</div>"
      ],
      "text/plain": [
       "   Unnamed: 0      id  mb_used session_date  user_id\n",
       "0           0  1000_0   112.95   2018-11-25     1000\n",
       "1           1  1000_1  1052.81   2018-09-07     1000\n",
       "2           2  1000_2  1197.26   2018-06-25     1000\n",
       "3           3  1000_3   550.27   2018-08-22     1000\n",
       "4           4  1000_4   302.56   2018-09-24     1000\n",
       "5           5  1000_5   399.97   2018-10-02     1000\n",
       "6           6  1000_6   540.08   2018-09-07     1000\n",
       "7           7  1000_7   415.70   2018-07-11     1000\n",
       "8           8  1000_8   505.40   2018-10-08     1000\n",
       "9           9  1000_9   345.54   2018-09-03     1000"
      ]
     },
     "metadata": {},
     "output_type": "display_data"
    },
    {
     "name": "stdout",
     "output_type": "stream",
     "text": [
      "\n",
      "<class 'pandas.core.frame.DataFrame'>\n",
      "RangeIndex: 149396 entries, 0 to 149395\n",
      "Data columns (total 5 columns):\n",
      " #   Column        Non-Null Count   Dtype  \n",
      "---  ------        --------------   -----  \n",
      " 0   Unnamed: 0    149396 non-null  int64  \n",
      " 1   id            149396 non-null  object \n",
      " 2   mb_used       149396 non-null  float64\n",
      " 3   session_date  149396 non-null  object \n",
      " 4   user_id       149396 non-null  int64  \n",
      "dtypes: float64(1), int64(2), object(2)\n",
      "memory usage: 5.7+ MB\n"
     ]
    }
   ],
   "source": [
    "info(internet) # обзор таблицы internet"
   ]
  },
  {
   "cell_type": "markdown",
   "id": "f5db7373",
   "metadata": {},
   "source": [
    "Таблица `internet` содержит информацию об интернет-сессиях.\n",
    "\n",
    "* `id` — уникальный номер сессии\n",
    "* `mb_used` — объём потраченного за сессию интернет-трафика (в мегабайтах)\n",
    "* `session_date` — дата интернет-сессии\n",
    "* `user_id` — идентификатор пользователя, сделавшего звонок\n",
    "\n",
    "Пропусков в таблице нет. Необходимо будет поменять тип данных для даты. Также есть столбец `Unnamed: 0`, который дублирует значения индексов, его можно удалить."
   ]
  },
  {
   "cell_type": "code",
   "execution_count": 6,
   "id": "95b7ad10",
   "metadata": {},
   "outputs": [
    {
     "data": {
      "text/html": [
       "<div>\n",
       "<style scoped>\n",
       "    .dataframe tbody tr th:only-of-type {\n",
       "        vertical-align: middle;\n",
       "    }\n",
       "\n",
       "    .dataframe tbody tr th {\n",
       "        vertical-align: top;\n",
       "    }\n",
       "\n",
       "    .dataframe thead th {\n",
       "        text-align: right;\n",
       "    }\n",
       "</style>\n",
       "<table border=\"1\" class=\"dataframe\">\n",
       "  <thead>\n",
       "    <tr style=\"text-align: right;\">\n",
       "      <th></th>\n",
       "      <th>id</th>\n",
       "      <th>message_date</th>\n",
       "      <th>user_id</th>\n",
       "    </tr>\n",
       "  </thead>\n",
       "  <tbody>\n",
       "    <tr>\n",
       "      <th>0</th>\n",
       "      <td>1000_0</td>\n",
       "      <td>2018-06-27</td>\n",
       "      <td>1000</td>\n",
       "    </tr>\n",
       "    <tr>\n",
       "      <th>1</th>\n",
       "      <td>1000_1</td>\n",
       "      <td>2018-10-08</td>\n",
       "      <td>1000</td>\n",
       "    </tr>\n",
       "    <tr>\n",
       "      <th>2</th>\n",
       "      <td>1000_2</td>\n",
       "      <td>2018-08-04</td>\n",
       "      <td>1000</td>\n",
       "    </tr>\n",
       "    <tr>\n",
       "      <th>3</th>\n",
       "      <td>1000_3</td>\n",
       "      <td>2018-06-16</td>\n",
       "      <td>1000</td>\n",
       "    </tr>\n",
       "    <tr>\n",
       "      <th>4</th>\n",
       "      <td>1000_4</td>\n",
       "      <td>2018-12-05</td>\n",
       "      <td>1000</td>\n",
       "    </tr>\n",
       "    <tr>\n",
       "      <th>5</th>\n",
       "      <td>1000_5</td>\n",
       "      <td>2018-06-20</td>\n",
       "      <td>1000</td>\n",
       "    </tr>\n",
       "    <tr>\n",
       "      <th>6</th>\n",
       "      <td>1000_6</td>\n",
       "      <td>2018-11-19</td>\n",
       "      <td>1000</td>\n",
       "    </tr>\n",
       "    <tr>\n",
       "      <th>7</th>\n",
       "      <td>1000_7</td>\n",
       "      <td>2018-10-29</td>\n",
       "      <td>1000</td>\n",
       "    </tr>\n",
       "    <tr>\n",
       "      <th>8</th>\n",
       "      <td>1000_8</td>\n",
       "      <td>2018-06-25</td>\n",
       "      <td>1000</td>\n",
       "    </tr>\n",
       "    <tr>\n",
       "      <th>9</th>\n",
       "      <td>1000_9</td>\n",
       "      <td>2018-12-18</td>\n",
       "      <td>1000</td>\n",
       "    </tr>\n",
       "  </tbody>\n",
       "</table>\n",
       "</div>"
      ],
      "text/plain": [
       "       id message_date  user_id\n",
       "0  1000_0   2018-06-27     1000\n",
       "1  1000_1   2018-10-08     1000\n",
       "2  1000_2   2018-08-04     1000\n",
       "3  1000_3   2018-06-16     1000\n",
       "4  1000_4   2018-12-05     1000\n",
       "5  1000_5   2018-06-20     1000\n",
       "6  1000_6   2018-11-19     1000\n",
       "7  1000_7   2018-10-29     1000\n",
       "8  1000_8   2018-06-25     1000\n",
       "9  1000_9   2018-12-18     1000"
      ]
     },
     "metadata": {},
     "output_type": "display_data"
    },
    {
     "name": "stdout",
     "output_type": "stream",
     "text": [
      "\n",
      "<class 'pandas.core.frame.DataFrame'>\n",
      "RangeIndex: 123036 entries, 0 to 123035\n",
      "Data columns (total 3 columns):\n",
      " #   Column        Non-Null Count   Dtype \n",
      "---  ------        --------------   ----- \n",
      " 0   id            123036 non-null  object\n",
      " 1   message_date  123036 non-null  object\n",
      " 2   user_id       123036 non-null  int64 \n",
      "dtypes: int64(1), object(2)\n",
      "memory usage: 2.8+ MB\n"
     ]
    }
   ],
   "source": [
    "info(messages) # обзор таблицы messages"
   ]
  },
  {
   "cell_type": "markdown",
   "id": "f0befea6",
   "metadata": {},
   "source": [
    "Таблица `messages` содержит информацию о сообщениях.\n",
    "\n",
    "* `id` — уникальный номер сообщения\n",
    "* `message_date` — дата сообщения\n",
    "* `user_id` — идентификатор пользователя, отправившего сообщение\n",
    "\n",
    "Пропусков в таблице нет. Здесь также нужно менять тип данных для даты."
   ]
  },
  {
   "cell_type": "code",
   "execution_count": 7,
   "id": "f584f3e4",
   "metadata": {},
   "outputs": [
    {
     "data": {
      "text/html": [
       "<div>\n",
       "<style scoped>\n",
       "    .dataframe tbody tr th:only-of-type {\n",
       "        vertical-align: middle;\n",
       "    }\n",
       "\n",
       "    .dataframe tbody tr th {\n",
       "        vertical-align: top;\n",
       "    }\n",
       "\n",
       "    .dataframe thead th {\n",
       "        text-align: right;\n",
       "    }\n",
       "</style>\n",
       "<table border=\"1\" class=\"dataframe\">\n",
       "  <thead>\n",
       "    <tr style=\"text-align: right;\">\n",
       "      <th></th>\n",
       "      <th>messages_included</th>\n",
       "      <th>mb_per_month_included</th>\n",
       "      <th>minutes_included</th>\n",
       "      <th>rub_monthly_fee</th>\n",
       "      <th>rub_per_gb</th>\n",
       "      <th>rub_per_message</th>\n",
       "      <th>rub_per_minute</th>\n",
       "      <th>tariff_name</th>\n",
       "    </tr>\n",
       "  </thead>\n",
       "  <tbody>\n",
       "    <tr>\n",
       "      <th>0</th>\n",
       "      <td>50</td>\n",
       "      <td>15360</td>\n",
       "      <td>500</td>\n",
       "      <td>550</td>\n",
       "      <td>200</td>\n",
       "      <td>3</td>\n",
       "      <td>3</td>\n",
       "      <td>smart</td>\n",
       "    </tr>\n",
       "    <tr>\n",
       "      <th>1</th>\n",
       "      <td>1000</td>\n",
       "      <td>30720</td>\n",
       "      <td>3000</td>\n",
       "      <td>1950</td>\n",
       "      <td>150</td>\n",
       "      <td>1</td>\n",
       "      <td>1</td>\n",
       "      <td>ultra</td>\n",
       "    </tr>\n",
       "  </tbody>\n",
       "</table>\n",
       "</div>"
      ],
      "text/plain": [
       "   messages_included  mb_per_month_included  minutes_included  \\\n",
       "0                 50                  15360               500   \n",
       "1               1000                  30720              3000   \n",
       "\n",
       "   rub_monthly_fee  rub_per_gb  rub_per_message  rub_per_minute tariff_name  \n",
       "0              550         200                3               3       smart  \n",
       "1             1950         150                1               1       ultra  "
      ]
     },
     "metadata": {},
     "output_type": "display_data"
    },
    {
     "name": "stdout",
     "output_type": "stream",
     "text": [
      "\n",
      "<class 'pandas.core.frame.DataFrame'>\n",
      "RangeIndex: 2 entries, 0 to 1\n",
      "Data columns (total 8 columns):\n",
      " #   Column                 Non-Null Count  Dtype \n",
      "---  ------                 --------------  ----- \n",
      " 0   messages_included      2 non-null      int64 \n",
      " 1   mb_per_month_included  2 non-null      int64 \n",
      " 2   minutes_included       2 non-null      int64 \n",
      " 3   rub_monthly_fee        2 non-null      int64 \n",
      " 4   rub_per_gb             2 non-null      int64 \n",
      " 5   rub_per_message        2 non-null      int64 \n",
      " 6   rub_per_minute         2 non-null      int64 \n",
      " 7   tariff_name            2 non-null      object\n",
      "dtypes: int64(7), object(1)\n",
      "memory usage: 256.0+ bytes\n"
     ]
    }
   ],
   "source": [
    "info(tariffs) # обзор таблицы tariffs"
   ]
  },
  {
   "cell_type": "markdown",
   "id": "66d65d38",
   "metadata": {},
   "source": [
    "Таблица `tariffs` содержит информацию о тарифах.\n",
    "\n",
    "* `tariff_name` — название тарифа\n",
    "* `rub_monthly_fee` — ежемесячная абонентская плата в рублях\n",
    "* `minutes_included` — количество минут разговора в месяц, включённых в абонентскую плату\n",
    "* `messages_included` — количество сообщений в месяц, включённых в абонентскую плату\n",
    "* `mb_per_month_included` — объём интернет-трафика, включённого в абонентскую плату (в мегабайтах)\n",
    "* `rub_per_minute` — стоимость минуты разговора сверх тарифного пакета (например, если в тарифе 100 минут разговора в месяц, то со 101 минуты будет взиматься плата)\n",
    "* `rub_per_message` — стоимость отправки сообщения сверх тарифного пакета\n",
    "* `rub_per_gb` — стоимость дополнительного гигабайта интернет-трафика сверх тарифного пакета (1 гигабайт = 1024 мегабайта)"
   ]
  },
  {
   "cell_type": "code",
   "execution_count": 8,
   "id": "c2f7f4f5",
   "metadata": {},
   "outputs": [
    {
     "data": {
      "text/html": [
       "<div>\n",
       "<style scoped>\n",
       "    .dataframe tbody tr th:only-of-type {\n",
       "        vertical-align: middle;\n",
       "    }\n",
       "\n",
       "    .dataframe tbody tr th {\n",
       "        vertical-align: top;\n",
       "    }\n",
       "\n",
       "    .dataframe thead th {\n",
       "        text-align: right;\n",
       "    }\n",
       "</style>\n",
       "<table border=\"1\" class=\"dataframe\">\n",
       "  <thead>\n",
       "    <tr style=\"text-align: right;\">\n",
       "      <th></th>\n",
       "      <th>user_id</th>\n",
       "      <th>age</th>\n",
       "      <th>churn_date</th>\n",
       "      <th>city</th>\n",
       "      <th>first_name</th>\n",
       "      <th>last_name</th>\n",
       "      <th>reg_date</th>\n",
       "      <th>tariff</th>\n",
       "    </tr>\n",
       "  </thead>\n",
       "  <tbody>\n",
       "    <tr>\n",
       "      <th>0</th>\n",
       "      <td>1000</td>\n",
       "      <td>52</td>\n",
       "      <td>NaN</td>\n",
       "      <td>Краснодар</td>\n",
       "      <td>Рафаил</td>\n",
       "      <td>Верещагин</td>\n",
       "      <td>2018-05-25</td>\n",
       "      <td>ultra</td>\n",
       "    </tr>\n",
       "    <tr>\n",
       "      <th>1</th>\n",
       "      <td>1001</td>\n",
       "      <td>41</td>\n",
       "      <td>NaN</td>\n",
       "      <td>Москва</td>\n",
       "      <td>Иван</td>\n",
       "      <td>Ежов</td>\n",
       "      <td>2018-11-01</td>\n",
       "      <td>smart</td>\n",
       "    </tr>\n",
       "    <tr>\n",
       "      <th>2</th>\n",
       "      <td>1002</td>\n",
       "      <td>59</td>\n",
       "      <td>NaN</td>\n",
       "      <td>Стерлитамак</td>\n",
       "      <td>Евгений</td>\n",
       "      <td>Абрамович</td>\n",
       "      <td>2018-06-17</td>\n",
       "      <td>smart</td>\n",
       "    </tr>\n",
       "    <tr>\n",
       "      <th>3</th>\n",
       "      <td>1003</td>\n",
       "      <td>23</td>\n",
       "      <td>NaN</td>\n",
       "      <td>Москва</td>\n",
       "      <td>Белла</td>\n",
       "      <td>Белякова</td>\n",
       "      <td>2018-08-17</td>\n",
       "      <td>ultra</td>\n",
       "    </tr>\n",
       "    <tr>\n",
       "      <th>4</th>\n",
       "      <td>1004</td>\n",
       "      <td>68</td>\n",
       "      <td>NaN</td>\n",
       "      <td>Новокузнецк</td>\n",
       "      <td>Татьяна</td>\n",
       "      <td>Авдеенко</td>\n",
       "      <td>2018-05-14</td>\n",
       "      <td>ultra</td>\n",
       "    </tr>\n",
       "    <tr>\n",
       "      <th>5</th>\n",
       "      <td>1005</td>\n",
       "      <td>67</td>\n",
       "      <td>NaN</td>\n",
       "      <td>Набережные Челны</td>\n",
       "      <td>Афанасий</td>\n",
       "      <td>Горлов</td>\n",
       "      <td>2018-01-25</td>\n",
       "      <td>smart</td>\n",
       "    </tr>\n",
       "    <tr>\n",
       "      <th>6</th>\n",
       "      <td>1006</td>\n",
       "      <td>21</td>\n",
       "      <td>NaN</td>\n",
       "      <td>Ульяновск</td>\n",
       "      <td>Леонид</td>\n",
       "      <td>Ермолаев</td>\n",
       "      <td>2018-02-26</td>\n",
       "      <td>smart</td>\n",
       "    </tr>\n",
       "    <tr>\n",
       "      <th>7</th>\n",
       "      <td>1007</td>\n",
       "      <td>65</td>\n",
       "      <td>NaN</td>\n",
       "      <td>Москва</td>\n",
       "      <td>Юна</td>\n",
       "      <td>Березина</td>\n",
       "      <td>2018-04-19</td>\n",
       "      <td>smart</td>\n",
       "    </tr>\n",
       "    <tr>\n",
       "      <th>8</th>\n",
       "      <td>1008</td>\n",
       "      <td>63</td>\n",
       "      <td>NaN</td>\n",
       "      <td>Челябинск</td>\n",
       "      <td>Рустэм</td>\n",
       "      <td>Пономарёв</td>\n",
       "      <td>2018-12-19</td>\n",
       "      <td>smart</td>\n",
       "    </tr>\n",
       "    <tr>\n",
       "      <th>9</th>\n",
       "      <td>1009</td>\n",
       "      <td>24</td>\n",
       "      <td>NaN</td>\n",
       "      <td>Пермь</td>\n",
       "      <td>Василиса</td>\n",
       "      <td>Блинова</td>\n",
       "      <td>2018-03-22</td>\n",
       "      <td>smart</td>\n",
       "    </tr>\n",
       "  </tbody>\n",
       "</table>\n",
       "</div>"
      ],
      "text/plain": [
       "   user_id  age churn_date              city first_name  last_name  \\\n",
       "0     1000   52        NaN         Краснодар     Рафаил  Верещагин   \n",
       "1     1001   41        NaN            Москва       Иван       Ежов   \n",
       "2     1002   59        NaN       Стерлитамак    Евгений  Абрамович   \n",
       "3     1003   23        NaN            Москва      Белла   Белякова   \n",
       "4     1004   68        NaN       Новокузнецк    Татьяна   Авдеенко   \n",
       "5     1005   67        NaN  Набережные Челны   Афанасий     Горлов   \n",
       "6     1006   21        NaN         Ульяновск     Леонид   Ермолаев   \n",
       "7     1007   65        NaN            Москва        Юна   Березина   \n",
       "8     1008   63        NaN         Челябинск     Рустэм  Пономарёв   \n",
       "9     1009   24        NaN             Пермь   Василиса    Блинова   \n",
       "\n",
       "     reg_date tariff  \n",
       "0  2018-05-25  ultra  \n",
       "1  2018-11-01  smart  \n",
       "2  2018-06-17  smart  \n",
       "3  2018-08-17  ultra  \n",
       "4  2018-05-14  ultra  \n",
       "5  2018-01-25  smart  \n",
       "6  2018-02-26  smart  \n",
       "7  2018-04-19  smart  \n",
       "8  2018-12-19  smart  \n",
       "9  2018-03-22  smart  "
      ]
     },
     "metadata": {},
     "output_type": "display_data"
    },
    {
     "name": "stdout",
     "output_type": "stream",
     "text": [
      "\n",
      "<class 'pandas.core.frame.DataFrame'>\n",
      "RangeIndex: 500 entries, 0 to 499\n",
      "Data columns (total 8 columns):\n",
      " #   Column      Non-Null Count  Dtype \n",
      "---  ------      --------------  ----- \n",
      " 0   user_id     500 non-null    int64 \n",
      " 1   age         500 non-null    int64 \n",
      " 2   churn_date  38 non-null     object\n",
      " 3   city        500 non-null    object\n",
      " 4   first_name  500 non-null    object\n",
      " 5   last_name   500 non-null    object\n",
      " 6   reg_date    500 non-null    object\n",
      " 7   tariff      500 non-null    object\n",
      "dtypes: int64(2), object(6)\n",
      "memory usage: 31.4+ KB\n"
     ]
    }
   ],
   "source": [
    "info(users) # обзор таблицы users"
   ]
  },
  {
   "cell_type": "markdown",
   "id": "7fe8c914",
   "metadata": {},
   "source": [
    "Таблица `users` содержит информацию о пользователях.\n",
    "\n",
    "* `user_id` — уникальный идентификатор пользователя\n",
    "* `first_name` — имя пользователя\n",
    "* `last_name` — фамилия пользователя\n",
    "* `age` — возраст пользователя (годы)\n",
    "* `reg_date` — дата подключения тарифа (день, месяц, год)\n",
    "* `churn_date` — дата прекращения пользования тарифом (если значение пропущено, то тариф ещё действовал на момент выгрузки данных)\n",
    "* `city` — город проживания пользователя\n",
    "* `tariff` — название тарифного плана\n",
    "\n",
    "Пропуски есть только в колонке `churn_date`, но заменять чем-либо их не нужно, они объяснены. Тип данных для дат менять не будем, поскольку эти столбцы нам в дальнейшем не пригодятся."
   ]
  },
  {
   "cell_type": "markdown",
   "id": "8e90eb8a",
   "metadata": {},
   "source": [
    "**Выводы**\n",
    "\n",
    "Имеем 5 таблиц с необходимыми для анализа данными. В целом качество данных хорошее, необходимо лишь изменить тип данных у столбцов с датами, удалить один лишний столбец и округлить значения длительности звонков до целых минут. Также в дальнейшем необходимо будет перевести мегабайты в гигабайты.\n",
    "\n",
    "Кроме того, до начала анализа нужно проверить данные на дубликаты и аномалии и провести дополнительные вычисления. "
   ]
  },
  {
   "cell_type": "markdown",
   "id": "8483cdfe",
   "metadata": {},
   "source": [
    "## Подготовка данных"
   ]
  },
  {
   "cell_type": "markdown",
   "id": "8957da98",
   "metadata": {},
   "source": [
    "###  Изменение типов данных"
   ]
  },
  {
   "cell_type": "markdown",
   "id": "971a615c",
   "metadata": {},
   "source": [
    "Для начала приведем тип данных к формату `datetime`, там, где это необходимо."
   ]
  },
  {
   "cell_type": "code",
   "execution_count": 9,
   "id": "3ea40831",
   "metadata": {},
   "outputs": [],
   "source": [
    "# перевод данных в формат datetime\n",
    "calls['call_date'] = pd.to_datetime(calls['call_date'], format='%Y-%m-%d') \n",
    "internet['session_date'] = pd.to_datetime(internet['session_date'], format='%Y-%m-%d') \n",
    "messages['message_date'] = pd.to_datetime(messages['message_date'], format='%Y-%m-%d') "
   ]
  },
  {
   "cell_type": "markdown",
   "id": "c34756e4",
   "metadata": {},
   "source": [
    "Теперь округлим длительность звонков в большую сторону и приведем к целочисленным значениям."
   ]
  },
  {
   "cell_type": "code",
   "execution_count": 10,
   "id": "a9580c14",
   "metadata": {},
   "outputs": [
    {
     "data": {
      "text/html": [
       "<div>\n",
       "<style scoped>\n",
       "    .dataframe tbody tr th:only-of-type {\n",
       "        vertical-align: middle;\n",
       "    }\n",
       "\n",
       "    .dataframe tbody tr th {\n",
       "        vertical-align: top;\n",
       "    }\n",
       "\n",
       "    .dataframe thead th {\n",
       "        text-align: right;\n",
       "    }\n",
       "</style>\n",
       "<table border=\"1\" class=\"dataframe\">\n",
       "  <thead>\n",
       "    <tr style=\"text-align: right;\">\n",
       "      <th></th>\n",
       "      <th>id</th>\n",
       "      <th>call_date</th>\n",
       "      <th>duration</th>\n",
       "      <th>user_id</th>\n",
       "    </tr>\n",
       "  </thead>\n",
       "  <tbody>\n",
       "    <tr>\n",
       "      <th>0</th>\n",
       "      <td>1000_0</td>\n",
       "      <td>2018-07-25</td>\n",
       "      <td>0</td>\n",
       "      <td>1000</td>\n",
       "    </tr>\n",
       "    <tr>\n",
       "      <th>1</th>\n",
       "      <td>1000_1</td>\n",
       "      <td>2018-08-17</td>\n",
       "      <td>0</td>\n",
       "      <td>1000</td>\n",
       "    </tr>\n",
       "    <tr>\n",
       "      <th>2</th>\n",
       "      <td>1000_2</td>\n",
       "      <td>2018-06-11</td>\n",
       "      <td>3</td>\n",
       "      <td>1000</td>\n",
       "    </tr>\n",
       "    <tr>\n",
       "      <th>3</th>\n",
       "      <td>1000_3</td>\n",
       "      <td>2018-09-21</td>\n",
       "      <td>14</td>\n",
       "      <td>1000</td>\n",
       "    </tr>\n",
       "    <tr>\n",
       "      <th>4</th>\n",
       "      <td>1000_4</td>\n",
       "      <td>2018-12-15</td>\n",
       "      <td>6</td>\n",
       "      <td>1000</td>\n",
       "    </tr>\n",
       "  </tbody>\n",
       "</table>\n",
       "</div>"
      ],
      "text/plain": [
       "       id  call_date  duration  user_id\n",
       "0  1000_0 2018-07-25         0     1000\n",
       "1  1000_1 2018-08-17         0     1000\n",
       "2  1000_2 2018-06-11         3     1000\n",
       "3  1000_3 2018-09-21        14     1000\n",
       "4  1000_4 2018-12-15         6     1000"
      ]
     },
     "execution_count": 10,
     "metadata": {},
     "output_type": "execute_result"
    }
   ],
   "source": [
    "# округление столбца в большую сторону до целых значений\n",
    "calls['duration'] = np.ceil(calls['duration']).astype('int') \n",
    "\n",
    "# проверка\n",
    "calls.head() "
   ]
  },
  {
   "cell_type": "markdown",
   "id": "00d89d5a",
   "metadata": {},
   "source": [
    "###  Проверка на дубликаты и удаление ненужных столбцов"
   ]
  },
  {
   "cell_type": "markdown",
   "id": "50f7e212",
   "metadata": {},
   "source": [
    "Посмотрим, есть ли в наших таблицах дубликаты."
   ]
  },
  {
   "cell_type": "code",
   "execution_count": 11,
   "id": "989de5a8",
   "metadata": {},
   "outputs": [
    {
     "name": "stdout",
     "output_type": "stream",
     "text": [
      "0\n",
      "0\n",
      "0\n",
      "0\n"
     ]
    }
   ],
   "source": [
    "# вывод количества дубликатов для таблиц calls, internet, messages, users\n",
    "data_list = [calls, internet, messages, users]\n",
    "for data in data_list:\n",
    "    print(data.duplicated().sum())"
   ]
  },
  {
   "cell_type": "markdown",
   "id": "5082fd93",
   "metadata": {},
   "source": [
    "Дубликатов нет. Теперь удалим столбец `Unnamed: 0` из таблицы `internet`."
   ]
  },
  {
   "cell_type": "code",
   "execution_count": 12,
   "id": "88bc8160",
   "metadata": {},
   "outputs": [
    {
     "data": {
      "text/html": [
       "<div>\n",
       "<style scoped>\n",
       "    .dataframe tbody tr th:only-of-type {\n",
       "        vertical-align: middle;\n",
       "    }\n",
       "\n",
       "    .dataframe tbody tr th {\n",
       "        vertical-align: top;\n",
       "    }\n",
       "\n",
       "    .dataframe thead th {\n",
       "        text-align: right;\n",
       "    }\n",
       "</style>\n",
       "<table border=\"1\" class=\"dataframe\">\n",
       "  <thead>\n",
       "    <tr style=\"text-align: right;\">\n",
       "      <th></th>\n",
       "      <th>id</th>\n",
       "      <th>mb_used</th>\n",
       "      <th>session_date</th>\n",
       "      <th>user_id</th>\n",
       "    </tr>\n",
       "  </thead>\n",
       "  <tbody>\n",
       "    <tr>\n",
       "      <th>0</th>\n",
       "      <td>1000_0</td>\n",
       "      <td>112.95</td>\n",
       "      <td>2018-11-25</td>\n",
       "      <td>1000</td>\n",
       "    </tr>\n",
       "    <tr>\n",
       "      <th>1</th>\n",
       "      <td>1000_1</td>\n",
       "      <td>1052.81</td>\n",
       "      <td>2018-09-07</td>\n",
       "      <td>1000</td>\n",
       "    </tr>\n",
       "    <tr>\n",
       "      <th>2</th>\n",
       "      <td>1000_2</td>\n",
       "      <td>1197.26</td>\n",
       "      <td>2018-06-25</td>\n",
       "      <td>1000</td>\n",
       "    </tr>\n",
       "    <tr>\n",
       "      <th>3</th>\n",
       "      <td>1000_3</td>\n",
       "      <td>550.27</td>\n",
       "      <td>2018-08-22</td>\n",
       "      <td>1000</td>\n",
       "    </tr>\n",
       "    <tr>\n",
       "      <th>4</th>\n",
       "      <td>1000_4</td>\n",
       "      <td>302.56</td>\n",
       "      <td>2018-09-24</td>\n",
       "      <td>1000</td>\n",
       "    </tr>\n",
       "  </tbody>\n",
       "</table>\n",
       "</div>"
      ],
      "text/plain": [
       "       id  mb_used session_date  user_id\n",
       "0  1000_0   112.95   2018-11-25     1000\n",
       "1  1000_1  1052.81   2018-09-07     1000\n",
       "2  1000_2  1197.26   2018-06-25     1000\n",
       "3  1000_3   550.27   2018-08-22     1000\n",
       "4  1000_4   302.56   2018-09-24     1000"
      ]
     },
     "execution_count": 12,
     "metadata": {},
     "output_type": "execute_result"
    }
   ],
   "source": [
    "# удаление столбца\n",
    "internet.drop(['Unnamed: 0'], axis=1, inplace=True) \n",
    "\n",
    "# проверка\n",
    "internet.head() "
   ]
  },
  {
   "cell_type": "markdown",
   "id": "d71691c7",
   "metadata": {},
   "source": [
    "###  Проверка данных на аномалии"
   ]
  },
  {
   "cell_type": "markdown",
   "id": "e1ed8c34",
   "metadata": {},
   "source": [
    "Пройдемся по тем столбцам в наших таблицах, которые понадобятся нам для анализа.\n",
    "\n",
    "Таблица `users`:"
   ]
  },
  {
   "cell_type": "code",
   "execution_count": 13,
   "id": "c5467c4e",
   "metadata": {},
   "outputs": [
    {
     "data": {
      "text/plain": [
       "array(['Архангельск', 'Астрахань', 'Балашиха', 'Барнаул', 'Белгород',\n",
       "       'Брянск', 'Владивосток', 'Владикавказ', 'Владимир', 'Волгоград',\n",
       "       'Волжский', 'Вологда', 'Воронеж', 'Грозный', 'Екатеринбург',\n",
       "       'Иваново', 'Ижевск', 'Иркутск', 'Казань', 'Калининград', 'Калуга',\n",
       "       'Кемерово', 'Киров', 'Кострома', 'Краснодар', 'Красноярск',\n",
       "       'Курган', 'Курск', 'Липецк', 'Магнитогорск', 'Махачкала', 'Москва',\n",
       "       'Мурманск', 'Набережные Челны', 'Нижневартовск', 'Нижний Новгород',\n",
       "       'Нижний Тагил', 'Новокузнецк', 'Новороссийск', 'Новосибирск',\n",
       "       'Омск', 'Оренбург', 'Орёл', 'Пенза', 'Пермь', 'Петрозаводск',\n",
       "       'Подольск', 'Ростов-на-Дону', 'Рязань', 'Самара',\n",
       "       'Санкт-Петербург', 'Саранск', 'Саратов', 'Севастополь', 'Смоленск',\n",
       "       'Сочи', 'Ставрополь', 'Стерлитамак', 'Сургут', 'Тамбов', 'Тверь',\n",
       "       'Тольятти', 'Томск', 'Тула', 'Тюмень', 'Улан-Удэ', 'Ульяновск',\n",
       "       'Уфа', 'Хабаровск', 'Химки', 'Чебоксары', 'Челябинск', 'Череповец',\n",
       "       'Чита', 'Якутск', 'Ярославль'], dtype=object)"
      ]
     },
     "execution_count": 13,
     "metadata": {},
     "output_type": "execute_result"
    }
   ],
   "source": [
    "users.sort_values(by='city')['city'].unique() # вывод уникальных значений столбца city в users"
   ]
  },
  {
   "cell_type": "code",
   "execution_count": 14,
   "id": "2785ab7f",
   "metadata": {},
   "outputs": [
    {
     "data": {
      "text/plain": [
       "smart    351\n",
       "ultra    149\n",
       "Name: tariff, dtype: int64"
      ]
     },
     "execution_count": 14,
     "metadata": {},
     "output_type": "execute_result"
    }
   ],
   "source": [
    "users['tariff'].value_counts() # вывод уникальных значений столбца tariff в users"
   ]
  },
  {
   "cell_type": "markdown",
   "id": "2ff19a17",
   "metadata": {},
   "source": [
    "Проверили значения городов и тарифов. С этими данными всё в порядке. Можно заметить, что тариф smart является более популярным, чем ultra.\n",
    "\n",
    "Посмотрим, дейстительно ли наши данные собраны за 2018 год."
   ]
  },
  {
   "cell_type": "code",
   "execution_count": 15,
   "id": "ecc15b5b",
   "metadata": {},
   "outputs": [
    {
     "name": "stdout",
     "output_type": "stream",
     "text": [
      "    message_date\n",
      "min   2018-01-02\n",
      "max   2018-12-31\n",
      "    session_date\n",
      "min   2018-01-01\n",
      "max   2018-12-31\n",
      "     call_date\n",
      "min 2018-01-01\n",
      "max 2018-12-31\n"
     ]
    }
   ],
   "source": [
    "# вывод минимального и максимального значения для дат\n",
    "print(messages.agg({'message_date':['min','max']}))\n",
    "print(internet.agg({'session_date':['min','max']}))\n",
    "print(calls.agg({'call_date':['min','max']}))"
   ]
  },
  {
   "cell_type": "markdown",
   "id": "48899f87",
   "metadata": {},
   "source": [
    "Осталось проверить длительность звонков и интернет-сессий."
   ]
  },
  {
   "cell_type": "code",
   "execution_count": 16,
   "id": "ad632510",
   "metadata": {},
   "outputs": [
    {
     "data": {
      "text/plain": [
       "count    202607.000000\n",
       "mean          7.158198\n",
       "std           5.959173\n",
       "min           0.000000\n",
       "25%           2.000000\n",
       "50%           6.000000\n",
       "75%          11.000000\n",
       "max          38.000000\n",
       "Name: duration, dtype: float64"
      ]
     },
     "execution_count": 16,
     "metadata": {},
     "output_type": "execute_result"
    }
   ],
   "source": [
    "calls['duration'].describe() # вывод описательной статистики"
   ]
  },
  {
   "cell_type": "markdown",
   "id": "9019a03a",
   "metadata": {},
   "source": [
    "Длительность одного звонка клиентов компании \"Мегалайн\" колеблется от 0 до 38 минут. В среднем же они составляют чуть больше 7 минут. Нулевая длительность звонков объясняется тем, что звонки были пропущены."
   ]
  },
  {
   "cell_type": "code",
   "execution_count": 17,
   "id": "1c3349d4",
   "metadata": {},
   "outputs": [
    {
     "data": {
      "text/plain": [
       "count    149396.000000\n",
       "mean        370.192426\n",
       "std         278.300951\n",
       "min           0.000000\n",
       "25%         138.187500\n",
       "50%         348.015000\n",
       "75%         559.552500\n",
       "max        1724.830000\n",
       "Name: mb_used, dtype: float64"
      ]
     },
     "execution_count": 17,
     "metadata": {},
     "output_type": "execute_result"
    }
   ],
   "source": [
    "internet['mb_used'].describe() # вывод описательной статистики"
   ]
  },
  {
   "cell_type": "markdown",
   "id": "455a8fa0",
   "metadata": {},
   "source": [
    "В данных встречаются интернет-сессии с трафиком, равным 0. Это можно объяснить, например, тем, что при попытке выхода в интернет соединение не установилось. Оставим эти данные. Максимальное количество трафика, потраченного за одну сессию в нашей выборке составило 1724 Мб. "
   ]
  },
  {
   "cell_type": "markdown",
   "id": "913a5de7",
   "metadata": {},
   "source": [
    "###  Расчет количества сделанных звонков и израсходованных минут разговора по месяцам для каждого пользователя"
   ]
  },
  {
   "cell_type": "markdown",
   "id": "fec64ceb",
   "metadata": {},
   "source": [
    "Добавим в таблицу `calls` столбец с месяцем, в котором был совершен звонок."
   ]
  },
  {
   "cell_type": "code",
   "execution_count": 18,
   "id": "7f845fb5",
   "metadata": {},
   "outputs": [],
   "source": [
    "calls['month'] = calls['call_date'].dt.month # добавление столбца"
   ]
  },
  {
   "cell_type": "markdown",
   "id": "ab428c6e",
   "metadata": {},
   "source": [
    "Создадим сводную таблицу по пользователям и месяцам."
   ]
  },
  {
   "cell_type": "code",
   "execution_count": 19,
   "id": "acfff7a2",
   "metadata": {},
   "outputs": [
    {
     "data": {
      "text/html": [
       "<div>\n",
       "<style scoped>\n",
       "    .dataframe tbody tr th:only-of-type {\n",
       "        vertical-align: middle;\n",
       "    }\n",
       "\n",
       "    .dataframe tbody tr th {\n",
       "        vertical-align: top;\n",
       "    }\n",
       "\n",
       "    .dataframe thead th {\n",
       "        text-align: right;\n",
       "    }\n",
       "</style>\n",
       "<table border=\"1\" class=\"dataframe\">\n",
       "  <thead>\n",
       "    <tr style=\"text-align: right;\">\n",
       "      <th></th>\n",
       "      <th></th>\n",
       "      <th>calls_count</th>\n",
       "      <th>calls_duration_total</th>\n",
       "    </tr>\n",
       "    <tr>\n",
       "      <th>user_id</th>\n",
       "      <th>month</th>\n",
       "      <th></th>\n",
       "      <th></th>\n",
       "    </tr>\n",
       "  </thead>\n",
       "  <tbody>\n",
       "    <tr>\n",
       "      <th rowspan=\"5\" valign=\"top\">1000</th>\n",
       "      <th>5</th>\n",
       "      <td>22</td>\n",
       "      <td>159</td>\n",
       "    </tr>\n",
       "    <tr>\n",
       "      <th>6</th>\n",
       "      <td>43</td>\n",
       "      <td>172</td>\n",
       "    </tr>\n",
       "    <tr>\n",
       "      <th>7</th>\n",
       "      <td>47</td>\n",
       "      <td>340</td>\n",
       "    </tr>\n",
       "    <tr>\n",
       "      <th>8</th>\n",
       "      <td>52</td>\n",
       "      <td>408</td>\n",
       "    </tr>\n",
       "    <tr>\n",
       "      <th>9</th>\n",
       "      <td>58</td>\n",
       "      <td>466</td>\n",
       "    </tr>\n",
       "    <tr>\n",
       "      <th>...</th>\n",
       "      <th>...</th>\n",
       "      <td>...</td>\n",
       "      <td>...</td>\n",
       "    </tr>\n",
       "    <tr>\n",
       "      <th>1498</th>\n",
       "      <th>10</th>\n",
       "      <td>41</td>\n",
       "      <td>247</td>\n",
       "    </tr>\n",
       "    <tr>\n",
       "      <th rowspan=\"4\" valign=\"top\">1499</th>\n",
       "      <th>9</th>\n",
       "      <td>9</td>\n",
       "      <td>70</td>\n",
       "    </tr>\n",
       "    <tr>\n",
       "      <th>10</th>\n",
       "      <td>68</td>\n",
       "      <td>449</td>\n",
       "    </tr>\n",
       "    <tr>\n",
       "      <th>11</th>\n",
       "      <td>74</td>\n",
       "      <td>612</td>\n",
       "    </tr>\n",
       "    <tr>\n",
       "      <th>12</th>\n",
       "      <td>69</td>\n",
       "      <td>492</td>\n",
       "    </tr>\n",
       "  </tbody>\n",
       "</table>\n",
       "<p>3174 rows × 2 columns</p>\n",
       "</div>"
      ],
      "text/plain": [
       "               calls_count  calls_duration_total\n",
       "user_id month                                   \n",
       "1000    5               22                   159\n",
       "        6               43                   172\n",
       "        7               47                   340\n",
       "        8               52                   408\n",
       "        9               58                   466\n",
       "...                    ...                   ...\n",
       "1498    10              41                   247\n",
       "1499    9                9                    70\n",
       "        10              68                   449\n",
       "        11              74                   612\n",
       "        12              69                   492\n",
       "\n",
       "[3174 rows x 2 columns]"
      ]
     },
     "execution_count": 19,
     "metadata": {},
     "output_type": "execute_result"
    }
   ],
   "source": [
    "calls_pivot = calls.pivot_table(index=['user_id', 'month'], values='duration', aggfunc=['count', 'sum']) # сводная таблица\n",
    "calls_pivot.columns = ['calls_count', 'calls_duration_total'] # переименование столбцов\n",
    "calls_pivot"
   ]
  },
  {
   "cell_type": "markdown",
   "id": "14e145dc",
   "metadata": {},
   "source": [
    "###  Расчет количества отправленных сообщений по месяцам для каждого пользователя"
   ]
  },
  {
   "cell_type": "markdown",
   "id": "c715bae2",
   "metadata": {},
   "source": [
    "Поступим с таблицей `message` так же, как и с `calls`."
   ]
  },
  {
   "cell_type": "code",
   "execution_count": 20,
   "id": "193a0997",
   "metadata": {},
   "outputs": [
    {
     "data": {
      "text/html": [
       "<div>\n",
       "<style scoped>\n",
       "    .dataframe tbody tr th:only-of-type {\n",
       "        vertical-align: middle;\n",
       "    }\n",
       "\n",
       "    .dataframe tbody tr th {\n",
       "        vertical-align: top;\n",
       "    }\n",
       "\n",
       "    .dataframe thead th {\n",
       "        text-align: right;\n",
       "    }\n",
       "</style>\n",
       "<table border=\"1\" class=\"dataframe\">\n",
       "  <thead>\n",
       "    <tr style=\"text-align: right;\">\n",
       "      <th></th>\n",
       "      <th></th>\n",
       "      <th>messages_count</th>\n",
       "    </tr>\n",
       "    <tr>\n",
       "      <th>user_id</th>\n",
       "      <th>month</th>\n",
       "      <th></th>\n",
       "    </tr>\n",
       "  </thead>\n",
       "  <tbody>\n",
       "    <tr>\n",
       "      <th rowspan=\"5\" valign=\"top\">1000</th>\n",
       "      <th>5</th>\n",
       "      <td>22</td>\n",
       "    </tr>\n",
       "    <tr>\n",
       "      <th>6</th>\n",
       "      <td>60</td>\n",
       "    </tr>\n",
       "    <tr>\n",
       "      <th>7</th>\n",
       "      <td>75</td>\n",
       "    </tr>\n",
       "    <tr>\n",
       "      <th>8</th>\n",
       "      <td>81</td>\n",
       "    </tr>\n",
       "    <tr>\n",
       "      <th>9</th>\n",
       "      <td>57</td>\n",
       "    </tr>\n",
       "    <tr>\n",
       "      <th>...</th>\n",
       "      <th>...</th>\n",
       "      <td>...</td>\n",
       "    </tr>\n",
       "    <tr>\n",
       "      <th>1498</th>\n",
       "      <th>10</th>\n",
       "      <td>42</td>\n",
       "    </tr>\n",
       "    <tr>\n",
       "      <th rowspan=\"4\" valign=\"top\">1499</th>\n",
       "      <th>9</th>\n",
       "      <td>11</td>\n",
       "    </tr>\n",
       "    <tr>\n",
       "      <th>10</th>\n",
       "      <td>48</td>\n",
       "    </tr>\n",
       "    <tr>\n",
       "      <th>11</th>\n",
       "      <td>59</td>\n",
       "    </tr>\n",
       "    <tr>\n",
       "      <th>12</th>\n",
       "      <td>66</td>\n",
       "    </tr>\n",
       "  </tbody>\n",
       "</table>\n",
       "<p>2717 rows × 1 columns</p>\n",
       "</div>"
      ],
      "text/plain": [
       "               messages_count\n",
       "user_id month                \n",
       "1000    5                  22\n",
       "        6                  60\n",
       "        7                  75\n",
       "        8                  81\n",
       "        9                  57\n",
       "...                       ...\n",
       "1498    10                 42\n",
       "1499    9                  11\n",
       "        10                 48\n",
       "        11                 59\n",
       "        12                 66\n",
       "\n",
       "[2717 rows x 1 columns]"
      ]
     },
     "execution_count": 20,
     "metadata": {},
     "output_type": "execute_result"
    }
   ],
   "source": [
    "messages['month'] = messages['message_date'].dt.month # добавление столбца\n",
    "messages_pivot = messages.pivot_table(index=['user_id', 'month'], values='id', aggfunc='count') # сводная таблица\n",
    "messages_pivot.columns = ['messages_count'] # переименование столбцов\n",
    "messages_pivot"
   ]
  },
  {
   "cell_type": "markdown",
   "id": "c0952ab4",
   "metadata": {},
   "source": [
    "###  Расчет объема израсходованного интернет-трафика по месяцам для каждого пользователя"
   ]
  },
  {
   "cell_type": "markdown",
   "id": "65db8104",
   "metadata": {},
   "source": [
    "Аналогично поступим с таблицей `internet`. "
   ]
  },
  {
   "cell_type": "code",
   "execution_count": 21,
   "id": "2e11f4b7",
   "metadata": {},
   "outputs": [
    {
     "data": {
      "text/html": [
       "<div>\n",
       "<style scoped>\n",
       "    .dataframe tbody tr th:only-of-type {\n",
       "        vertical-align: middle;\n",
       "    }\n",
       "\n",
       "    .dataframe tbody tr th {\n",
       "        vertical-align: top;\n",
       "    }\n",
       "\n",
       "    .dataframe thead th {\n",
       "        text-align: right;\n",
       "    }\n",
       "</style>\n",
       "<table border=\"1\" class=\"dataframe\">\n",
       "  <thead>\n",
       "    <tr style=\"text-align: right;\">\n",
       "      <th></th>\n",
       "      <th></th>\n",
       "      <th>mb_used_sum</th>\n",
       "    </tr>\n",
       "    <tr>\n",
       "      <th>user_id</th>\n",
       "      <th>month</th>\n",
       "      <th></th>\n",
       "    </tr>\n",
       "  </thead>\n",
       "  <tbody>\n",
       "    <tr>\n",
       "      <th rowspan=\"5\" valign=\"top\">1000</th>\n",
       "      <th>5</th>\n",
       "      <td>2253.49</td>\n",
       "    </tr>\n",
       "    <tr>\n",
       "      <th>6</th>\n",
       "      <td>23233.77</td>\n",
       "    </tr>\n",
       "    <tr>\n",
       "      <th>7</th>\n",
       "      <td>14003.64</td>\n",
       "    </tr>\n",
       "    <tr>\n",
       "      <th>8</th>\n",
       "      <td>14055.93</td>\n",
       "    </tr>\n",
       "    <tr>\n",
       "      <th>9</th>\n",
       "      <td>14568.91</td>\n",
       "    </tr>\n",
       "    <tr>\n",
       "      <th>...</th>\n",
       "      <th>...</th>\n",
       "      <td>...</td>\n",
       "    </tr>\n",
       "    <tr>\n",
       "      <th>1498</th>\n",
       "      <th>10</th>\n",
       "      <td>20579.36</td>\n",
       "    </tr>\n",
       "    <tr>\n",
       "      <th rowspan=\"4\" valign=\"top\">1499</th>\n",
       "      <th>9</th>\n",
       "      <td>1845.75</td>\n",
       "    </tr>\n",
       "    <tr>\n",
       "      <th>10</th>\n",
       "      <td>17788.51</td>\n",
       "    </tr>\n",
       "    <tr>\n",
       "      <th>11</th>\n",
       "      <td>17963.31</td>\n",
       "    </tr>\n",
       "    <tr>\n",
       "      <th>12</th>\n",
       "      <td>13055.58</td>\n",
       "    </tr>\n",
       "  </tbody>\n",
       "</table>\n",
       "<p>3203 rows × 1 columns</p>\n",
       "</div>"
      ],
      "text/plain": [
       "               mb_used_sum\n",
       "user_id month             \n",
       "1000    5          2253.49\n",
       "        6         23233.77\n",
       "        7         14003.64\n",
       "        8         14055.93\n",
       "        9         14568.91\n",
       "...                    ...\n",
       "1498    10        20579.36\n",
       "1499    9          1845.75\n",
       "        10        17788.51\n",
       "        11        17963.31\n",
       "        12        13055.58\n",
       "\n",
       "[3203 rows x 1 columns]"
      ]
     },
     "execution_count": 21,
     "metadata": {},
     "output_type": "execute_result"
    }
   ],
   "source": [
    "internet['month'] = internet['session_date'].dt.month # добавление столбца\n",
    "internet_pivot = internet.pivot_table(index=['user_id', 'month'], values='mb_used', aggfunc='sum') # сводная таблица\n",
    "internet_pivot.columns = ['mb_used_sum'] # переименование столбцов\n",
    "internet_pivot"
   ]
  },
  {
   "cell_type": "markdown",
   "id": "13e283f8",
   "metadata": {},
   "source": [
    "###  Объединение расчетов в одну таблицу"
   ]
  },
  {
   "cell_type": "markdown",
   "id": "43d54ce8",
   "metadata": {},
   "source": [
    "Для дальнейшей работы удобно свести все расчеты в одну таблицу. Объединим сводные таблицы по звонкам, сообщениям и трафику, а также вытащим туда используемые пользователями тарифы и город их проживания."
   ]
  },
  {
   "cell_type": "code",
   "execution_count": 22,
   "id": "5a3c2cf4",
   "metadata": {},
   "outputs": [
    {
     "data": {
      "text/html": [
       "<div>\n",
       "<style scoped>\n",
       "    .dataframe tbody tr th:only-of-type {\n",
       "        vertical-align: middle;\n",
       "    }\n",
       "\n",
       "    .dataframe tbody tr th {\n",
       "        vertical-align: top;\n",
       "    }\n",
       "\n",
       "    .dataframe thead th {\n",
       "        text-align: right;\n",
       "    }\n",
       "</style>\n",
       "<table border=\"1\" class=\"dataframe\">\n",
       "  <thead>\n",
       "    <tr style=\"text-align: right;\">\n",
       "      <th></th>\n",
       "      <th>user_id</th>\n",
       "      <th>month</th>\n",
       "      <th>calls_count</th>\n",
       "      <th>calls_duration_total</th>\n",
       "      <th>messages_count</th>\n",
       "      <th>mb_used_sum</th>\n",
       "      <th>city</th>\n",
       "      <th>tariff</th>\n",
       "    </tr>\n",
       "  </thead>\n",
       "  <tbody>\n",
       "    <tr>\n",
       "      <th>0</th>\n",
       "      <td>1000</td>\n",
       "      <td>5.0</td>\n",
       "      <td>22.0</td>\n",
       "      <td>159.0</td>\n",
       "      <td>22.0</td>\n",
       "      <td>2253.49</td>\n",
       "      <td>Краснодар</td>\n",
       "      <td>ultra</td>\n",
       "    </tr>\n",
       "    <tr>\n",
       "      <th>1</th>\n",
       "      <td>1000</td>\n",
       "      <td>6.0</td>\n",
       "      <td>43.0</td>\n",
       "      <td>172.0</td>\n",
       "      <td>60.0</td>\n",
       "      <td>23233.77</td>\n",
       "      <td>Краснодар</td>\n",
       "      <td>ultra</td>\n",
       "    </tr>\n",
       "    <tr>\n",
       "      <th>2</th>\n",
       "      <td>1000</td>\n",
       "      <td>7.0</td>\n",
       "      <td>47.0</td>\n",
       "      <td>340.0</td>\n",
       "      <td>75.0</td>\n",
       "      <td>14003.64</td>\n",
       "      <td>Краснодар</td>\n",
       "      <td>ultra</td>\n",
       "    </tr>\n",
       "    <tr>\n",
       "      <th>3</th>\n",
       "      <td>1000</td>\n",
       "      <td>8.0</td>\n",
       "      <td>52.0</td>\n",
       "      <td>408.0</td>\n",
       "      <td>81.0</td>\n",
       "      <td>14055.93</td>\n",
       "      <td>Краснодар</td>\n",
       "      <td>ultra</td>\n",
       "    </tr>\n",
       "    <tr>\n",
       "      <th>4</th>\n",
       "      <td>1000</td>\n",
       "      <td>9.0</td>\n",
       "      <td>58.0</td>\n",
       "      <td>466.0</td>\n",
       "      <td>57.0</td>\n",
       "      <td>14568.91</td>\n",
       "      <td>Краснодар</td>\n",
       "      <td>ultra</td>\n",
       "    </tr>\n",
       "    <tr>\n",
       "      <th>5</th>\n",
       "      <td>1000</td>\n",
       "      <td>10.0</td>\n",
       "      <td>57.0</td>\n",
       "      <td>350.0</td>\n",
       "      <td>73.0</td>\n",
       "      <td>14702.49</td>\n",
       "      <td>Краснодар</td>\n",
       "      <td>ultra</td>\n",
       "    </tr>\n",
       "    <tr>\n",
       "      <th>6</th>\n",
       "      <td>1000</td>\n",
       "      <td>11.0</td>\n",
       "      <td>43.0</td>\n",
       "      <td>338.0</td>\n",
       "      <td>58.0</td>\n",
       "      <td>14756.47</td>\n",
       "      <td>Краснодар</td>\n",
       "      <td>ultra</td>\n",
       "    </tr>\n",
       "    <tr>\n",
       "      <th>7</th>\n",
       "      <td>1000</td>\n",
       "      <td>12.0</td>\n",
       "      <td>46.0</td>\n",
       "      <td>333.0</td>\n",
       "      <td>70.0</td>\n",
       "      <td>9817.61</td>\n",
       "      <td>Краснодар</td>\n",
       "      <td>ultra</td>\n",
       "    </tr>\n",
       "    <tr>\n",
       "      <th>8</th>\n",
       "      <td>1001</td>\n",
       "      <td>11.0</td>\n",
       "      <td>59.0</td>\n",
       "      <td>430.0</td>\n",
       "      <td>NaN</td>\n",
       "      <td>18429.34</td>\n",
       "      <td>Москва</td>\n",
       "      <td>smart</td>\n",
       "    </tr>\n",
       "    <tr>\n",
       "      <th>9</th>\n",
       "      <td>1001</td>\n",
       "      <td>12.0</td>\n",
       "      <td>63.0</td>\n",
       "      <td>414.0</td>\n",
       "      <td>NaN</td>\n",
       "      <td>14036.66</td>\n",
       "      <td>Москва</td>\n",
       "      <td>smart</td>\n",
       "    </tr>\n",
       "  </tbody>\n",
       "</table>\n",
       "</div>"
      ],
      "text/plain": [
       "   user_id  month  calls_count  calls_duration_total  messages_count  \\\n",
       "0     1000    5.0         22.0                 159.0            22.0   \n",
       "1     1000    6.0         43.0                 172.0            60.0   \n",
       "2     1000    7.0         47.0                 340.0            75.0   \n",
       "3     1000    8.0         52.0                 408.0            81.0   \n",
       "4     1000    9.0         58.0                 466.0            57.0   \n",
       "5     1000   10.0         57.0                 350.0            73.0   \n",
       "6     1000   11.0         43.0                 338.0            58.0   \n",
       "7     1000   12.0         46.0                 333.0            70.0   \n",
       "8     1001   11.0         59.0                 430.0             NaN   \n",
       "9     1001   12.0         63.0                 414.0             NaN   \n",
       "\n",
       "   mb_used_sum       city tariff  \n",
       "0      2253.49  Краснодар  ultra  \n",
       "1     23233.77  Краснодар  ultra  \n",
       "2     14003.64  Краснодар  ultra  \n",
       "3     14055.93  Краснодар  ultra  \n",
       "4     14568.91  Краснодар  ultra  \n",
       "5     14702.49  Краснодар  ultra  \n",
       "6     14756.47  Краснодар  ultra  \n",
       "7      9817.61  Краснодар  ultra  \n",
       "8     18429.34     Москва  smart  \n",
       "9     14036.66     Москва  smart  "
      ]
     },
     "metadata": {},
     "output_type": "display_data"
    },
    {
     "name": "stdout",
     "output_type": "stream",
     "text": [
      "\n",
      "<class 'pandas.core.frame.DataFrame'>\n",
      "Int64Index: 3216 entries, 0 to 3215\n",
      "Data columns (total 8 columns):\n",
      " #   Column                Non-Null Count  Dtype  \n",
      "---  ------                --------------  -----  \n",
      " 0   user_id               3216 non-null   int64  \n",
      " 1   month                 3214 non-null   float64\n",
      " 2   calls_count           3174 non-null   float64\n",
      " 3   calls_duration_total  3174 non-null   float64\n",
      " 4   messages_count        2717 non-null   float64\n",
      " 5   mb_used_sum           3203 non-null   float64\n",
      " 6   city                  3216 non-null   object \n",
      " 7   tariff                3216 non-null   object \n",
      "dtypes: float64(5), int64(1), object(2)\n",
      "memory usage: 226.1+ KB\n"
     ]
    }
   ],
   "source": [
    "# объединение таблиц calls_pivot и messages_pivot в таблицу general\n",
    "general = calls_pivot.merge(messages_pivot, how='outer', on=('user_id','month'))\n",
    "# объединение таблиц general и internet_pivot\n",
    "general = general.merge(internet_pivot, how='outer', on=('user_id','month')).reset_index()\n",
    "# объединение таблиц general и users\n",
    "general = general.merge(users, how='outer', on='user_id')\n",
    "# удаление ненужных столбцов\n",
    "general.drop((['age', 'churn_date', 'first_name', 'last_name', 'reg_date']), axis=1, inplace=True) \n",
    "# просмотр первых строк и информации\n",
    "info(general)"
   ]
  },
  {
   "cell_type": "markdown",
   "id": "d3208ce7",
   "metadata": {},
   "source": [
    "Получили новую таблицу на 3216 строк. Как видно, в значениях появились пропуски. Это может быть связано с тем, что не каждый клиент пользуется одновременно всеми опциями, кто-то не использует СМС, кому-то не нужен интернет и т.д. \n",
    "\n",
    "Заменим пропуски нулевыми значениями и вернем тип `int` рассчитанным значениям. Кроме того, округлим сумму потраченного трафика в большую сторону по правилам оператора."
   ]
  },
  {
   "cell_type": "code",
   "execution_count": 23,
   "id": "c720a26b",
   "metadata": {},
   "outputs": [],
   "source": [
    "# замена пропусков\n",
    "general = general.fillna(0)\n",
    "\n",
    "# изменение типа данных\n",
    "col_to_int = ['month', 'calls_count', 'calls_duration_total', 'messages_count']\n",
    "for col in col_to_int:\n",
    "    general[col] = general[col].astype('int')\n",
    "\n",
    "# округление мегабайтов в большую сторону\n",
    "general['mb_used_sum'] = np.ceil(general['mb_used_sum']).astype('int')"
   ]
  },
  {
   "cell_type": "markdown",
   "id": "e02b396e",
   "metadata": {},
   "source": [
    "Проверим, сколько уникальных пользователей в итоговой таблице."
   ]
  },
  {
   "cell_type": "code",
   "execution_count": 24,
   "id": "53e67cb1",
   "metadata": {},
   "outputs": [
    {
     "data": {
      "text/plain": [
       "500"
      ]
     },
     "execution_count": 24,
     "metadata": {},
     "output_type": "execute_result"
    }
   ],
   "source": [
    "general.user_id.nunique() # проверка"
   ]
  },
  {
   "cell_type": "markdown",
   "id": "ecaf6411",
   "metadata": {},
   "source": [
    "Также обращает на себя внимание тот факт, что количество значений в столбцах `user_id` и `month` не совпадает. Проверим, что это за пользователи."
   ]
  },
  {
   "cell_type": "code",
   "execution_count": 25,
   "id": "4fdfe184",
   "metadata": {},
   "outputs": [
    {
     "data": {
      "text/html": [
       "<div>\n",
       "<style scoped>\n",
       "    .dataframe tbody tr th:only-of-type {\n",
       "        vertical-align: middle;\n",
       "    }\n",
       "\n",
       "    .dataframe tbody tr th {\n",
       "        vertical-align: top;\n",
       "    }\n",
       "\n",
       "    .dataframe thead th {\n",
       "        text-align: right;\n",
       "    }\n",
       "</style>\n",
       "<table border=\"1\" class=\"dataframe\">\n",
       "  <thead>\n",
       "    <tr style=\"text-align: right;\">\n",
       "      <th></th>\n",
       "      <th>user_id</th>\n",
       "      <th>month</th>\n",
       "      <th>calls_count</th>\n",
       "      <th>calls_duration_total</th>\n",
       "      <th>messages_count</th>\n",
       "      <th>mb_used_sum</th>\n",
       "      <th>city</th>\n",
       "      <th>tariff</th>\n",
       "    </tr>\n",
       "  </thead>\n",
       "  <tbody>\n",
       "    <tr>\n",
       "      <th>3214</th>\n",
       "      <td>1128</td>\n",
       "      <td>0</td>\n",
       "      <td>0</td>\n",
       "      <td>0</td>\n",
       "      <td>0</td>\n",
       "      <td>0</td>\n",
       "      <td>Волжский</td>\n",
       "      <td>ultra</td>\n",
       "    </tr>\n",
       "    <tr>\n",
       "      <th>3215</th>\n",
       "      <td>1371</td>\n",
       "      <td>0</td>\n",
       "      <td>0</td>\n",
       "      <td>0</td>\n",
       "      <td>0</td>\n",
       "      <td>0</td>\n",
       "      <td>Омск</td>\n",
       "      <td>smart</td>\n",
       "    </tr>\n",
       "  </tbody>\n",
       "</table>\n",
       "</div>"
      ],
      "text/plain": [
       "      user_id  month  calls_count  calls_duration_total  messages_count  \\\n",
       "3214     1128      0            0                     0               0   \n",
       "3215     1371      0            0                     0               0   \n",
       "\n",
       "      mb_used_sum      city tariff  \n",
       "3214            0  Волжский  ultra  \n",
       "3215            0      Омск  smart  "
      ]
     },
     "execution_count": 25,
     "metadata": {},
     "output_type": "execute_result"
    }
   ],
   "source": [
    "general.query('month == 0') # срез данных по нулевым месяцам"
   ]
  },
  {
   "cell_type": "markdown",
   "id": "d127e52c",
   "metadata": {},
   "source": [
    "Есть 2 клиента, которые не пользовались SIM-картой. Посмотрим, что представляют собой эти пользователи. Обратимся к таблице `users`."
   ]
  },
  {
   "cell_type": "code",
   "execution_count": 26,
   "id": "fa2cab07",
   "metadata": {
    "scrolled": true
   },
   "outputs": [
    {
     "data": {
      "text/html": [
       "<div>\n",
       "<style scoped>\n",
       "    .dataframe tbody tr th:only-of-type {\n",
       "        vertical-align: middle;\n",
       "    }\n",
       "\n",
       "    .dataframe tbody tr th {\n",
       "        vertical-align: top;\n",
       "    }\n",
       "\n",
       "    .dataframe thead th {\n",
       "        text-align: right;\n",
       "    }\n",
       "</style>\n",
       "<table border=\"1\" class=\"dataframe\">\n",
       "  <thead>\n",
       "    <tr style=\"text-align: right;\">\n",
       "      <th></th>\n",
       "      <th>user_id</th>\n",
       "      <th>age</th>\n",
       "      <th>churn_date</th>\n",
       "      <th>city</th>\n",
       "      <th>first_name</th>\n",
       "      <th>last_name</th>\n",
       "      <th>reg_date</th>\n",
       "      <th>tariff</th>\n",
       "    </tr>\n",
       "  </thead>\n",
       "  <tbody>\n",
       "    <tr>\n",
       "      <th>128</th>\n",
       "      <td>1128</td>\n",
       "      <td>51</td>\n",
       "      <td>2018-12-23</td>\n",
       "      <td>Волжский</td>\n",
       "      <td>Ксения</td>\n",
       "      <td>Агаева</td>\n",
       "      <td>2018-12-15</td>\n",
       "      <td>ultra</td>\n",
       "    </tr>\n",
       "    <tr>\n",
       "      <th>371</th>\n",
       "      <td>1371</td>\n",
       "      <td>50</td>\n",
       "      <td>2018-12-30</td>\n",
       "      <td>Омск</td>\n",
       "      <td>Ириней</td>\n",
       "      <td>Трофимов</td>\n",
       "      <td>2018-12-25</td>\n",
       "      <td>smart</td>\n",
       "    </tr>\n",
       "  </tbody>\n",
       "</table>\n",
       "</div>"
      ],
      "text/plain": [
       "     user_id  age  churn_date      city first_name last_name    reg_date  \\\n",
       "128     1128   51  2018-12-23  Волжский     Ксения    Агаева  2018-12-15   \n",
       "371     1371   50  2018-12-30      Омск     Ириней  Трофимов  2018-12-25   \n",
       "\n",
       "    tariff  \n",
       "128  ultra  \n",
       "371  smart  "
      ]
     },
     "execution_count": 26,
     "metadata": {},
     "output_type": "execute_result"
    }
   ],
   "source": [
    "users.query('user_id == 1128 or user_id == 1371') # срез данных по конкретным клиентам"
   ]
  },
  {
   "cell_type": "markdown",
   "id": "6e484220",
   "metadata": {},
   "source": [
    "Эти люди подключились к тарифам в декабре и через несколько дней расторгли договор. Однако абонентскую плату они должны были внести, а значит, выручка в декабре с них получена. Присвоим нулевым месяцам значение `12`."
   ]
  },
  {
   "cell_type": "code",
   "execution_count": 27,
   "id": "39194ffd",
   "metadata": {},
   "outputs": [],
   "source": [
    "general.loc[general['month'] == 0, 'month'] = 12 # присвоение значения нулевым месяцам"
   ]
  },
  {
   "cell_type": "markdown",
   "id": "4d468b5f",
   "metadata": {},
   "source": [
    "###  Расчет помесячной выручки с каждого пользователя"
   ]
  },
  {
   "cell_type": "markdown",
   "id": "a36932ca",
   "metadata": {},
   "source": [
    "Теперь посчитаем, какую выручку помесячно получал \"Мегалайн\" с каждого пользователя в 2018 году. Для этого нужно вычесть бесплатный лимит из суммарного количества звонков, сообщений и интернет-трафика, остаток умножить на значение из тарифного плана и прибавить абонентскую плату.\n",
    "\n",
    "Для удобства снова посмотрим на таблицу `tariffs`."
   ]
  },
  {
   "cell_type": "code",
   "execution_count": 28,
   "id": "777e0502",
   "metadata": {},
   "outputs": [
    {
     "data": {
      "text/html": [
       "<div>\n",
       "<style scoped>\n",
       "    .dataframe tbody tr th:only-of-type {\n",
       "        vertical-align: middle;\n",
       "    }\n",
       "\n",
       "    .dataframe tbody tr th {\n",
       "        vertical-align: top;\n",
       "    }\n",
       "\n",
       "    .dataframe thead th {\n",
       "        text-align: right;\n",
       "    }\n",
       "</style>\n",
       "<table border=\"1\" class=\"dataframe\">\n",
       "  <thead>\n",
       "    <tr style=\"text-align: right;\">\n",
       "      <th></th>\n",
       "      <th>messages_included</th>\n",
       "      <th>mb_per_month_included</th>\n",
       "      <th>minutes_included</th>\n",
       "      <th>rub_monthly_fee</th>\n",
       "      <th>rub_per_gb</th>\n",
       "      <th>rub_per_message</th>\n",
       "      <th>rub_per_minute</th>\n",
       "      <th>tariff_name</th>\n",
       "    </tr>\n",
       "  </thead>\n",
       "  <tbody>\n",
       "    <tr>\n",
       "      <th>0</th>\n",
       "      <td>50</td>\n",
       "      <td>15360</td>\n",
       "      <td>500</td>\n",
       "      <td>550</td>\n",
       "      <td>200</td>\n",
       "      <td>3</td>\n",
       "      <td>3</td>\n",
       "      <td>smart</td>\n",
       "    </tr>\n",
       "    <tr>\n",
       "      <th>1</th>\n",
       "      <td>1000</td>\n",
       "      <td>30720</td>\n",
       "      <td>3000</td>\n",
       "      <td>1950</td>\n",
       "      <td>150</td>\n",
       "      <td>1</td>\n",
       "      <td>1</td>\n",
       "      <td>ultra</td>\n",
       "    </tr>\n",
       "  </tbody>\n",
       "</table>\n",
       "</div>"
      ],
      "text/plain": [
       "   messages_included  mb_per_month_included  minutes_included  \\\n",
       "0                 50                  15360               500   \n",
       "1               1000                  30720              3000   \n",
       "\n",
       "   rub_monthly_fee  rub_per_gb  rub_per_message  rub_per_minute tariff_name  \n",
       "0              550         200                3               3       smart  \n",
       "1             1950         150                1               1       ultra  "
      ]
     },
     "execution_count": 28,
     "metadata": {},
     "output_type": "execute_result"
    }
   ],
   "source": [
    "tariffs # вывод таблицы "
   ]
  },
  {
   "cell_type": "code",
   "execution_count": 29,
   "id": "7e893070",
   "metadata": {},
   "outputs": [
    {
     "data": {
      "text/html": [
       "<div>\n",
       "<style scoped>\n",
       "    .dataframe tbody tr th:only-of-type {\n",
       "        vertical-align: middle;\n",
       "    }\n",
       "\n",
       "    .dataframe tbody tr th {\n",
       "        vertical-align: top;\n",
       "    }\n",
       "\n",
       "    .dataframe thead th {\n",
       "        text-align: right;\n",
       "    }\n",
       "</style>\n",
       "<table border=\"1\" class=\"dataframe\">\n",
       "  <thead>\n",
       "    <tr style=\"text-align: right;\">\n",
       "      <th></th>\n",
       "      <th>user_id</th>\n",
       "      <th>month</th>\n",
       "      <th>calls_count</th>\n",
       "      <th>calls_duration_total</th>\n",
       "      <th>messages_count</th>\n",
       "      <th>mb_used_sum</th>\n",
       "      <th>city</th>\n",
       "      <th>tariff</th>\n",
       "      <th>revenue</th>\n",
       "    </tr>\n",
       "  </thead>\n",
       "  <tbody>\n",
       "    <tr>\n",
       "      <th>0</th>\n",
       "      <td>1000</td>\n",
       "      <td>5</td>\n",
       "      <td>22</td>\n",
       "      <td>159</td>\n",
       "      <td>22</td>\n",
       "      <td>2254</td>\n",
       "      <td>Краснодар</td>\n",
       "      <td>ultra</td>\n",
       "      <td>1950.0</td>\n",
       "    </tr>\n",
       "    <tr>\n",
       "      <th>1</th>\n",
       "      <td>1000</td>\n",
       "      <td>6</td>\n",
       "      <td>43</td>\n",
       "      <td>172</td>\n",
       "      <td>60</td>\n",
       "      <td>23234</td>\n",
       "      <td>Краснодар</td>\n",
       "      <td>ultra</td>\n",
       "      <td>1950.0</td>\n",
       "    </tr>\n",
       "    <tr>\n",
       "      <th>2</th>\n",
       "      <td>1000</td>\n",
       "      <td>7</td>\n",
       "      <td>47</td>\n",
       "      <td>340</td>\n",
       "      <td>75</td>\n",
       "      <td>14004</td>\n",
       "      <td>Краснодар</td>\n",
       "      <td>ultra</td>\n",
       "      <td>1950.0</td>\n",
       "    </tr>\n",
       "    <tr>\n",
       "      <th>3</th>\n",
       "      <td>1000</td>\n",
       "      <td>8</td>\n",
       "      <td>52</td>\n",
       "      <td>408</td>\n",
       "      <td>81</td>\n",
       "      <td>14056</td>\n",
       "      <td>Краснодар</td>\n",
       "      <td>ultra</td>\n",
       "      <td>1950.0</td>\n",
       "    </tr>\n",
       "    <tr>\n",
       "      <th>4</th>\n",
       "      <td>1000</td>\n",
       "      <td>9</td>\n",
       "      <td>58</td>\n",
       "      <td>466</td>\n",
       "      <td>57</td>\n",
       "      <td>14569</td>\n",
       "      <td>Краснодар</td>\n",
       "      <td>ultra</td>\n",
       "      <td>1950.0</td>\n",
       "    </tr>\n",
       "    <tr>\n",
       "      <th>5</th>\n",
       "      <td>1000</td>\n",
       "      <td>10</td>\n",
       "      <td>57</td>\n",
       "      <td>350</td>\n",
       "      <td>73</td>\n",
       "      <td>14703</td>\n",
       "      <td>Краснодар</td>\n",
       "      <td>ultra</td>\n",
       "      <td>1950.0</td>\n",
       "    </tr>\n",
       "    <tr>\n",
       "      <th>6</th>\n",
       "      <td>1000</td>\n",
       "      <td>11</td>\n",
       "      <td>43</td>\n",
       "      <td>338</td>\n",
       "      <td>58</td>\n",
       "      <td>14757</td>\n",
       "      <td>Краснодар</td>\n",
       "      <td>ultra</td>\n",
       "      <td>1950.0</td>\n",
       "    </tr>\n",
       "    <tr>\n",
       "      <th>7</th>\n",
       "      <td>1000</td>\n",
       "      <td>12</td>\n",
       "      <td>46</td>\n",
       "      <td>333</td>\n",
       "      <td>70</td>\n",
       "      <td>9818</td>\n",
       "      <td>Краснодар</td>\n",
       "      <td>ultra</td>\n",
       "      <td>1950.0</td>\n",
       "    </tr>\n",
       "    <tr>\n",
       "      <th>8</th>\n",
       "      <td>1001</td>\n",
       "      <td>11</td>\n",
       "      <td>59</td>\n",
       "      <td>430</td>\n",
       "      <td>0</td>\n",
       "      <td>18430</td>\n",
       "      <td>Москва</td>\n",
       "      <td>smart</td>\n",
       "      <td>1150.0</td>\n",
       "    </tr>\n",
       "    <tr>\n",
       "      <th>9</th>\n",
       "      <td>1001</td>\n",
       "      <td>12</td>\n",
       "      <td>63</td>\n",
       "      <td>414</td>\n",
       "      <td>0</td>\n",
       "      <td>14037</td>\n",
       "      <td>Москва</td>\n",
       "      <td>smart</td>\n",
       "      <td>550.0</td>\n",
       "    </tr>\n",
       "  </tbody>\n",
       "</table>\n",
       "</div>"
      ],
      "text/plain": [
       "   user_id  month  calls_count  calls_duration_total  messages_count  \\\n",
       "0     1000      5           22                   159              22   \n",
       "1     1000      6           43                   172              60   \n",
       "2     1000      7           47                   340              75   \n",
       "3     1000      8           52                   408              81   \n",
       "4     1000      9           58                   466              57   \n",
       "5     1000     10           57                   350              73   \n",
       "6     1000     11           43                   338              58   \n",
       "7     1000     12           46                   333              70   \n",
       "8     1001     11           59                   430               0   \n",
       "9     1001     12           63                   414               0   \n",
       "\n",
       "   mb_used_sum       city tariff  revenue  \n",
       "0         2254  Краснодар  ultra   1950.0  \n",
       "1        23234  Краснодар  ultra   1950.0  \n",
       "2        14004  Краснодар  ultra   1950.0  \n",
       "3        14056  Краснодар  ultra   1950.0  \n",
       "4        14569  Краснодар  ultra   1950.0  \n",
       "5        14703  Краснодар  ultra   1950.0  \n",
       "6        14757  Краснодар  ultra   1950.0  \n",
       "7         9818  Краснодар  ultra   1950.0  \n",
       "8        18430     Москва  smart   1150.0  \n",
       "9        14037     Москва  smart    550.0  "
      ]
     },
     "execution_count": 29,
     "metadata": {},
     "output_type": "execute_result"
    }
   ],
   "source": [
    "# создание функции для расчета выручки по каждому пользователю и месяцу\n",
    "def revenue(row):\n",
    "   \n",
    " # задание индексов для каждого тарифа\n",
    "    if row['tariff'] == 'smart':\n",
    "        i = 0\n",
    "    else:\n",
    "        i = 1\n",
    "   \n",
    " # расчет превышения лимитов по минутам, сообщениям и трафику\n",
    "    minutes_over = row['calls_duration_total'] - tariffs['minutes_included'][i]\n",
    "    messages_over = row['messages_count'] - tariffs['messages_included'][i]\n",
    "    mb_over = row['mb_used_sum'] - tariffs['mb_per_month_included'][i]\n",
    "   \n",
    " # создание переменной для накопления суммы\n",
    "    revenue = 0\n",
    "    \n",
    " # расчет выручки для строки\n",
    "    if minutes_over > 0:\n",
    "        revenue += minutes_over * tariffs['rub_per_minute'][i]\n",
    "    if messages_over > 0:\n",
    "        revenue += messages_over * tariffs['rub_per_message'][i]\n",
    "    if mb_over > 0:\n",
    "        revenue += np.ceil(mb_over / 1024) * tariffs['rub_per_gb'][i]\n",
    "    revenue += tariffs['rub_monthly_fee'][i]\n",
    "    \n",
    "    return revenue\n",
    "\n",
    "# добавление столбца с рассчитанной выручкой\n",
    "general['revenue'] = general.apply(revenue, axis=1) \n",
    "\n",
    "# вывод первых 10 строк таблицы \n",
    "general.head(10) "
   ]
  },
  {
   "cell_type": "code",
   "execution_count": 30,
   "id": "e5c50b0d",
   "metadata": {},
   "outputs": [
    {
     "data": {
      "text/plain": [
       "count    3216.000000\n",
       "mean     1528.902674\n",
       "std       798.224060\n",
       "min       550.000000\n",
       "25%       750.000000\n",
       "50%      1653.500000\n",
       "75%      1950.000000\n",
       "max      6770.000000\n",
       "Name: revenue, dtype: float64"
      ]
     },
     "execution_count": 30,
     "metadata": {},
     "output_type": "execute_result"
    }
   ],
   "source": [
    "general['revenue'].describe() # вывод описательной статистики"
   ]
  },
  {
   "cell_type": "markdown",
   "id": "329c3c6c",
   "metadata": {},
   "source": [
    "**Выводы**\n",
    "\n",
    "Была проведена предобработка данных:\n",
    "* изменены типы данных там, где это необходимо;\n",
    "* удалены лишние столбцы;\n",
    "* данные проверены на аномалии и дубликаты. \n",
    "\n",
    "Также были помесячно рассчитаны необходимые параметры для каждого пользователя: \n",
    "* количество сделанных звонков и израсходованных минут разговора;\n",
    "* количество отправленных сообщений;\n",
    "* объем израсходованного интернет-трафика.\n",
    "\n",
    "Полученные данные были сведены в общую таблицу, куда также была посчитана и добавлена выручка с каждого пользователя.\n",
    "\n",
    "Проделанная работа поможет сделать исследование более точным и быстрым."
   ]
  },
  {
   "cell_type": "markdown",
   "id": "98d60e66",
   "metadata": {},
   "source": [
    "## Исследовательский анализ данных"
   ]
  },
  {
   "cell_type": "markdown",
   "id": "23708533",
   "metadata": {},
   "source": [
    "### Построение гистограмм"
   ]
  },
  {
   "cell_type": "markdown",
   "id": "27a1d2bb",
   "metadata": {},
   "source": [
    "Построим гистограммы для наглядного сравнения поведения клиентов на разных тарифах."
   ]
  },
  {
   "cell_type": "code",
   "execution_count": 31,
   "id": "ba99f573",
   "metadata": {},
   "outputs": [],
   "source": [
    "smart = general.loc[general['tariff'] == 'smart'] # таблица с данными клиентов тарифа Смарт\n",
    "ultra = general.loc[general['tariff'] == 'ultra'] # таблица с данными клиентов тарифа Ультра"
   ]
  },
  {
   "cell_type": "code",
   "execution_count": 32,
   "id": "26fb8790",
   "metadata": {},
   "outputs": [],
   "source": [
    "# настройка стиля построения графиков\n",
    "sns.set(context='notebook', style='whitegrid', palette='dark') \n",
    "plt.rcParams['figure.figsize'] = (16, 6)"
   ]
  },
  {
   "cell_type": "code",
   "execution_count": 33,
   "id": "d747e3b9",
   "metadata": {},
   "outputs": [],
   "source": [
    "# функция для построения гистограмм\n",
    "def plot_hist(column, xlabel, binwidth):\n",
    "    \n",
    "    plt.subplot(1, 2, 1)\n",
    "    sns.histplot(smart[column], binwidth=binwidth, kde=True)\n",
    "    plt.title('Смарт')\n",
    "    plt.xlabel(xlabel)\n",
    "    plt.ylabel('количество пользователей')\n",
    "    \n",
    "    plt.subplot(1, 2, 2)\n",
    "    sns.histplot(ultra[column], binwidth=binwidth, kde=True)\n",
    "    plt.title('Ультра')\n",
    "    plt.xlabel(xlabel)\n",
    "    plt.ylabel('количество пользователей')\n",
    "    plt.show()"
   ]
  },
  {
   "cell_type": "code",
   "execution_count": 34,
   "id": "94382a75",
   "metadata": {},
   "outputs": [
    {
     "data": {
      "image/png": "[encoded data removed]",
      "text/plain": [
       "<Figure size 1152x432 with 2 Axes>"
      ]
     },
     "metadata": {},
     "output_type": "display_data"
    }
   ],
   "source": [
    "# график распределения длительности звонков\n",
    "plot_hist('calls_duration_total', 'длительность звонков, мин', 40)"
   ]
  },
  {
   "cell_type": "markdown",
   "id": "4b1d3909",
   "metadata": {},
   "source": [
    "Чаще всего пользователи тарифа \"Смарт\" проговаривают около 480 мин (8 часов) в месяц, в то время как среди пользователей \"Ультра\" часто встречаются те, кто тратит меньше 40 минут. Также можно заиетить, что пользователи \"Смарт\" часто выходят за лимит бесплатных 500 минут, а вот лимит тарифа \"Ультра\" (3000 минут) превысить трудно. В целом разброс значений у тарифа \"Ультра\" выше, чем у \"Смарта\", графики обоих распределений близки к нормальному."
   ]
  },
  {
   "cell_type": "code",
   "execution_count": 35,
   "id": "4be4bc1e",
   "metadata": {},
   "outputs": [
    {
     "data": {
      "image/png": "[encoded data removed]",
      "text/plain": [
       "<Figure size 1152x432 with 2 Axes>"
      ]
     },
     "metadata": {},
     "output_type": "display_data"
    }
   ],
   "source": [
    "# график распределения количества сообщений\n",
    "plot_hist('messages_count', 'количество СМС', 5)"
   ]
  },
  {
   "cell_type": "markdown",
   "id": "06cfe3bb",
   "metadata": {},
   "source": [
    "Большинство клиентов независимо от тарифа отправляют менее 5 сообщений в месяц. Это можно объяснить тем, что с развитием соц. сетей и различных мессенджеров необходимость в них отпала. Однако есть и те, кто ими до сих пор активно пользуется. Распределения в обоих случаях скошены вправо."
   ]
  },
  {
   "cell_type": "code",
   "execution_count": 36,
   "id": "bb5e9f00",
   "metadata": {},
   "outputs": [
    {
     "data": {
      "image/png": "[encoded data removed]",
      "text/plain": [
       "<Figure size 1152x432 with 2 Axes>"
      ]
     },
     "metadata": {},
     "output_type": "display_data"
    }
   ],
   "source": [
    "# график распределения объема использованного трафика\n",
    "plot_hist('mb_used_sum', 'использованный трафик, Мб', 1000)"
   ]
  },
  {
   "cell_type": "markdown",
   "id": "77fae90f",
   "metadata": {},
   "source": [
    "Пользователи тарифа \"Смарт\" чаще всего тратят около 17 Гб в месяц, то есть немного превышают лимит в 15 Гб. Всего же выходят за рамки бесплатных гигабайтов примерно половина клиентов. Значения на тарифе \"Ультра\" имеют гораздо больший разброс, за лимит (30 Гб) выходит меньшая доля пользователей. Распределения близки к нормальным."
   ]
  },
  {
   "cell_type": "code",
   "execution_count": 37,
   "id": "b7b8104b",
   "metadata": {},
   "outputs": [
    {
     "data": {
      "image/png": "[encoded data removed]",
      "text/plain": [
       "<Figure size 1152x432 with 2 Axes>"
      ]
     },
     "metadata": {},
     "output_type": "display_data"
    }
   ],
   "source": [
    "# график распределения выручки\n",
    "plot_hist('revenue', 'выручка, руб', 100)"
   ]
  },
  {
   "cell_type": "markdown",
   "id": "93b2fbb7",
   "metadata": {},
   "source": [
    "Ожидаемо самыми популярными значениями выручки стали значения, равные абонентской плате (550 рублей и 1950 рублей соответственно). На тарифе \"Смарт\" выручка довольно часто превышает абонентскую плату, что объясняется тем, что клиенты не укладываются в отведенные лимиты. "
   ]
  },
  {
   "cell_type": "markdown",
   "id": "8688767f",
   "metadata": {},
   "source": [
    "### Расчет статистических показателей"
   ]
  },
  {
   "cell_type": "markdown",
   "id": "5751994d",
   "metadata": {},
   "source": [
    "Теперь проанализируем типичные потребности пользователей каждого тарифа в числах. Для этого узнаем, сколько минут, СМС, трафика в среднем тратят абоненты в месяц и какова средняя выручка с каждого из них. Помимо среднего рассчитаем дисперсию, стандартное отклонение и узнаем, в каком интервале находятся 99% всех значений исследуемых параметров. "
   ]
  },
  {
   "cell_type": "code",
   "execution_count": 38,
   "id": "f4752da4",
   "metadata": {},
   "outputs": [
    {
     "data": {
      "text/html": [
       "<div>\n",
       "<style scoped>\n",
       "    .dataframe tbody tr th:only-of-type {\n",
       "        vertical-align: middle;\n",
       "    }\n",
       "\n",
       "    .dataframe tbody tr th {\n",
       "        vertical-align: top;\n",
       "    }\n",
       "\n",
       "    .dataframe thead tr th {\n",
       "        text-align: left;\n",
       "    }\n",
       "\n",
       "    .dataframe thead tr:last-of-type th {\n",
       "        text-align: right;\n",
       "    }\n",
       "</style>\n",
       "<table border=\"1\" class=\"dataframe\">\n",
       "  <thead>\n",
       "    <tr>\n",
       "      <th></th>\n",
       "      <th colspan=\"7\" halign=\"left\">calls_duration_total</th>\n",
       "    </tr>\n",
       "    <tr>\n",
       "      <th></th>\n",
       "      <th>min</th>\n",
       "      <th>max</th>\n",
       "      <th>mean</th>\n",
       "      <th>var</th>\n",
       "      <th>std</th>\n",
       "      <th>interval_min</th>\n",
       "      <th>interval_max</th>\n",
       "    </tr>\n",
       "    <tr>\n",
       "      <th>tariff</th>\n",
       "      <th></th>\n",
       "      <th></th>\n",
       "      <th></th>\n",
       "      <th></th>\n",
       "      <th></th>\n",
       "      <th></th>\n",
       "      <th></th>\n",
       "    </tr>\n",
       "  </thead>\n",
       "  <tbody>\n",
       "    <tr>\n",
       "      <th>smart</th>\n",
       "      <td>0</td>\n",
       "      <td>1435</td>\n",
       "      <td>417.7</td>\n",
       "      <td>36281.4</td>\n",
       "      <td>190.5</td>\n",
       "      <td>0</td>\n",
       "      <td>989.0</td>\n",
       "    </tr>\n",
       "    <tr>\n",
       "      <th>ultra</th>\n",
       "      <td>0</td>\n",
       "      <td>1673</td>\n",
       "      <td>526.1</td>\n",
       "      <td>101052.5</td>\n",
       "      <td>317.9</td>\n",
       "      <td>0</td>\n",
       "      <td>1479.3</td>\n",
       "    </tr>\n",
       "  </tbody>\n",
       "</table>\n",
       "</div>"
      ],
      "text/plain": [
       "       calls_duration_total                                             \\\n",
       "                        min   max   mean       var    std interval_min   \n",
       "tariff                                                                   \n",
       "smart                     0  1435  417.7   36281.4  190.5            0   \n",
       "ultra                     0  1673  526.1  101052.5  317.9            0   \n",
       "\n",
       "                     \n",
       "       interval_max  \n",
       "tariff               \n",
       "smart         989.0  \n",
       "ultra        1479.3  "
      ]
     },
     "metadata": {},
     "output_type": "display_data"
    },
    {
     "data": {
      "text/html": [
       "<div>\n",
       "<style scoped>\n",
       "    .dataframe tbody tr th:only-of-type {\n",
       "        vertical-align: middle;\n",
       "    }\n",
       "\n",
       "    .dataframe tbody tr th {\n",
       "        vertical-align: top;\n",
       "    }\n",
       "\n",
       "    .dataframe thead tr th {\n",
       "        text-align: left;\n",
       "    }\n",
       "\n",
       "    .dataframe thead tr:last-of-type th {\n",
       "        text-align: right;\n",
       "    }\n",
       "</style>\n",
       "<table border=\"1\" class=\"dataframe\">\n",
       "  <thead>\n",
       "    <tr>\n",
       "      <th></th>\n",
       "      <th colspan=\"7\" halign=\"left\">messages_count</th>\n",
       "    </tr>\n",
       "    <tr>\n",
       "      <th></th>\n",
       "      <th>min</th>\n",
       "      <th>max</th>\n",
       "      <th>mean</th>\n",
       "      <th>var</th>\n",
       "      <th>std</th>\n",
       "      <th>interval_min</th>\n",
       "      <th>interval_max</th>\n",
       "    </tr>\n",
       "    <tr>\n",
       "      <th>tariff</th>\n",
       "      <th></th>\n",
       "      <th></th>\n",
       "      <th></th>\n",
       "      <th></th>\n",
       "      <th></th>\n",
       "      <th></th>\n",
       "      <th></th>\n",
       "    </tr>\n",
       "  </thead>\n",
       "  <tbody>\n",
       "    <tr>\n",
       "      <th>smart</th>\n",
       "      <td>0</td>\n",
       "      <td>143</td>\n",
       "      <td>33.4</td>\n",
       "      <td>797.0</td>\n",
       "      <td>28.2</td>\n",
       "      <td>0</td>\n",
       "      <td>118.0</td>\n",
       "    </tr>\n",
       "    <tr>\n",
       "      <th>ultra</th>\n",
       "      <td>0</td>\n",
       "      <td>224</td>\n",
       "      <td>49.3</td>\n",
       "      <td>2285.4</td>\n",
       "      <td>47.8</td>\n",
       "      <td>0</td>\n",
       "      <td>192.7</td>\n",
       "    </tr>\n",
       "  </tbody>\n",
       "</table>\n",
       "</div>"
      ],
      "text/plain": [
       "       messages_count                                                   \n",
       "                  min  max  mean     var   std interval_min interval_max\n",
       "tariff                                                                  \n",
       "smart               0  143  33.4   797.0  28.2            0        118.0\n",
       "ultra               0  224  49.3  2285.4  47.8            0        192.7"
      ]
     },
     "metadata": {},
     "output_type": "display_data"
    },
    {
     "data": {
      "text/html": [
       "<div>\n",
       "<style scoped>\n",
       "    .dataframe tbody tr th:only-of-type {\n",
       "        vertical-align: middle;\n",
       "    }\n",
       "\n",
       "    .dataframe tbody tr th {\n",
       "        vertical-align: top;\n",
       "    }\n",
       "\n",
       "    .dataframe thead tr th {\n",
       "        text-align: left;\n",
       "    }\n",
       "\n",
       "    .dataframe thead tr:last-of-type th {\n",
       "        text-align: right;\n",
       "    }\n",
       "</style>\n",
       "<table border=\"1\" class=\"dataframe\">\n",
       "  <thead>\n",
       "    <tr>\n",
       "      <th></th>\n",
       "      <th colspan=\"7\" halign=\"left\">mb_used_sum</th>\n",
       "    </tr>\n",
       "    <tr>\n",
       "      <th></th>\n",
       "      <th>min</th>\n",
       "      <th>max</th>\n",
       "      <th>mean</th>\n",
       "      <th>var</th>\n",
       "      <th>std</th>\n",
       "      <th>interval_min</th>\n",
       "      <th>interval_max</th>\n",
       "    </tr>\n",
       "    <tr>\n",
       "      <th>tariff</th>\n",
       "      <th></th>\n",
       "      <th></th>\n",
       "      <th></th>\n",
       "      <th></th>\n",
       "      <th></th>\n",
       "      <th></th>\n",
       "      <th></th>\n",
       "    </tr>\n",
       "  </thead>\n",
       "  <tbody>\n",
       "    <tr>\n",
       "      <th>smart</th>\n",
       "      <td>0</td>\n",
       "      <td>38553</td>\n",
       "      <td>16201.6</td>\n",
       "      <td>34564913.5</td>\n",
       "      <td>5879.2</td>\n",
       "      <td>0</td>\n",
       "      <td>33835.2</td>\n",
       "    </tr>\n",
       "    <tr>\n",
       "      <th>ultra</th>\n",
       "      <td>0</td>\n",
       "      <td>49746</td>\n",
       "      <td>19449.6</td>\n",
       "      <td>102032544.7</td>\n",
       "      <td>10101.1</td>\n",
       "      <td>0</td>\n",
       "      <td>49737.5</td>\n",
       "    </tr>\n",
       "  </tbody>\n",
       "</table>\n",
       "</div>"
      ],
      "text/plain": [
       "       mb_used_sum                                                     \\\n",
       "               min    max     mean          var      std interval_min   \n",
       "tariff                                                                  \n",
       "smart            0  38553  16201.6   34564913.5   5879.2            0   \n",
       "ultra            0  49746  19449.6  102032544.7  10101.1            0   \n",
       "\n",
       "                     \n",
       "       interval_max  \n",
       "tariff               \n",
       "smart       33835.2  \n",
       "ultra       49737.5  "
      ]
     },
     "metadata": {},
     "output_type": "display_data"
    },
    {
     "data": {
      "text/html": [
       "<div>\n",
       "<style scoped>\n",
       "    .dataframe tbody tr th:only-of-type {\n",
       "        vertical-align: middle;\n",
       "    }\n",
       "\n",
       "    .dataframe tbody tr th {\n",
       "        vertical-align: top;\n",
       "    }\n",
       "\n",
       "    .dataframe thead tr th {\n",
       "        text-align: left;\n",
       "    }\n",
       "\n",
       "    .dataframe thead tr:last-of-type th {\n",
       "        text-align: right;\n",
       "    }\n",
       "</style>\n",
       "<table border=\"1\" class=\"dataframe\">\n",
       "  <thead>\n",
       "    <tr>\n",
       "      <th></th>\n",
       "      <th colspan=\"7\" halign=\"left\">revenue</th>\n",
       "    </tr>\n",
       "    <tr>\n",
       "      <th></th>\n",
       "      <th>min</th>\n",
       "      <th>max</th>\n",
       "      <th>mean</th>\n",
       "      <th>var</th>\n",
       "      <th>std</th>\n",
       "      <th>interval_min</th>\n",
       "      <th>interval_max</th>\n",
       "    </tr>\n",
       "    <tr>\n",
       "      <th>tariff</th>\n",
       "      <th></th>\n",
       "      <th></th>\n",
       "      <th></th>\n",
       "      <th></th>\n",
       "      <th></th>\n",
       "      <th></th>\n",
       "      <th></th>\n",
       "    </tr>\n",
       "  </thead>\n",
       "  <tbody>\n",
       "    <tr>\n",
       "      <th>smart</th>\n",
       "      <td>550.0</td>\n",
       "      <td>6770.0</td>\n",
       "      <td>1289.6</td>\n",
       "      <td>669730.8</td>\n",
       "      <td>818.4</td>\n",
       "      <td>0.0</td>\n",
       "      <td>3744.2</td>\n",
       "    </tr>\n",
       "    <tr>\n",
       "      <th>ultra</th>\n",
       "      <td>1950.0</td>\n",
       "      <td>4800.0</td>\n",
       "      <td>2070.0</td>\n",
       "      <td>141387.7</td>\n",
       "      <td>376.0</td>\n",
       "      <td>942.6</td>\n",
       "      <td>3197.5</td>\n",
       "    </tr>\n",
       "  </tbody>\n",
       "</table>\n",
       "</div>"
      ],
      "text/plain": [
       "       revenue                                                           \n",
       "           min     max    mean       var    std interval_min interval_max\n",
       "tariff                                                                   \n",
       "smart    550.0  6770.0  1289.6  669730.8  818.4          0.0       3744.2\n",
       "ultra   1950.0  4800.0  2070.0  141387.7  376.0        942.6       3197.5"
      ]
     },
     "metadata": {},
     "output_type": "display_data"
    }
   ],
   "source": [
    "# список столбцов для расчета описательной статистики\n",
    "col_analysis = ['calls_duration_total', 'messages_count', 'mb_used_sum', 'revenue']\n",
    "\n",
    "# создание функции для расчета интервала по правилу трех сигм\n",
    "def interval_min(a):\n",
    "    int_min = np.mean(a) - 3 * np.std(a)\n",
    "    if int_min > 0:\n",
    "        return int_min\n",
    "    return 0\n",
    "    \n",
    "def interval_max(a):\n",
    "    return np.mean(a) + 3 * np.std(a)\n",
    "\n",
    "# расчет описательной статистики с группировкой по тарифу для каждого столбца\n",
    "for col in col_analysis:\n",
    "    display(\n",
    "        general\n",
    "        .groupby('tariff')\n",
    "        .agg({col: ['min', 'max', 'mean', 'var', 'std', interval_min, interval_max]})\n",
    "        .round(1)\n",
    "    )"
   ]
  },
  {
   "cell_type": "markdown",
   "id": "9dbd0db0",
   "metadata": {},
   "source": [
    "Пользователи тарифа \"Смарт\" в среднем тратят в месяц 417,7 минут разговора, 33 СМС-сообщения и 16,2 Мб трафика. Средняя выручка с каждого пользователя составляет 1289,6 руб. \n",
    "\n",
    "Для тарифа \"Ультра\" аналогичные показатели составляют 1673 минуты, 224 СМС, 19,4 Мб и 2070 руб. \n",
    "\n",
    "99% длительности всех разговоров в месяц лежат в диапазоне до 989 минут для \"Смарта\" и до 1479,3 для \"Ультра\".\n",
    "\n",
    "99% отправленных СМС в месяц составляет менее 118 и менее 192 штук для тарифов \"Смарт\" и \"Ультра\" соответственно.\n",
    "\n",
    "99% пользователей тарифа \"Смарт\" тратят до 33,8 Гб в месяц, а столько же пользователей \"Ультра\" тратят до 49,7 Гб.\n",
    "\n",
    "Месячная выручка от пользователей \"Смарта\" в 99 случаях из 100 составляет от 550 до 3744,20 руб, от пользователей \"Ультра\" - от 1950 до 3197,50 руб. в месяц.\n",
    "\n",
    "Разброс потраченных минут, сообщений и трафика больше на тарифе \"Ультра\", а вот выручка более вариативна на тарифе \"Смарт\". Этому же тарифу принадлежит рекордное значение выручки - 6770 руб."
   ]
  },
  {
   "cell_type": "markdown",
   "id": "d418a411",
   "metadata": {},
   "source": [
    "**Выводы**\n",
    "\n",
    "В среднем пользователи тарифа \"Ультра\" тратят больше минут, сообщений и трафика, что обусловлено большими лимитами, а значит, большей свободой для клиента. Пользователи \"Смарт\" тратят меньше, но чаще выходят за рамки, что приносит компании дополнительную прибыль сверх абонентской платы. "
   ]
  },
  {
   "cell_type": "markdown",
   "id": "9bd08494",
   "metadata": {},
   "source": [
    "## Проверка гипотез"
   ]
  },
  {
   "cell_type": "markdown",
   "id": "0a1c6095",
   "metadata": {},
   "source": [
    "### Cредняя выручка пользователей тарифов «Ультра» и «Смарт» различаются"
   ]
  },
  {
   "cell_type": "markdown",
   "id": "01b9f324",
   "metadata": {},
   "source": [
    "Проверим, действительно ли различается средняя выручка на разных тарифах в генеральной совокупности.\n",
    "\n",
    "Сформулируем нулевую и альтернативные гипотезы. Нулевая гипотеза H₀ звучит так:\n",
    "\n",
    "*Средняя выручка пользователей тарифов «Ультра» и «Смарт» равны.*\n",
    "\n",
    "Альтернативная гипотеза H₁:\n",
    "\n",
    "*Средняя выручка пользователей тарифов «Ультра» и «Смарт» различается.*\n",
    "\n",
    "Для проверки нулевой гипотезы воспользуемся методом для проверки гипотезы о равенстве среднего двух генеральных совокупностей по взятым из них выборкам. Поскольку на предыдущем шаге мы выяснили, что дисперсии в выборках различаются, укажем параметр `equal_var = False`. Примем критический уровень статистической значимости равным 5%."
   ]
  },
  {
   "cell_type": "code",
   "execution_count": 39,
   "id": "21a0b3df",
   "metadata": {},
   "outputs": [
    {
     "name": "stdout",
     "output_type": "stream",
     "text": [
      "p-значение:  1.927011394420941e-250\n",
      "Отвергаем нулевую гипотезу\n"
     ]
    }
   ],
   "source": [
    "# критический уровень статистической значимости\n",
    "alpha = 0.05 \n",
    "# применение t-теста\n",
    "results = st.ttest_ind(smart['revenue'], ultra['revenue'], equal_var = False) \n",
    "# вывод p-значения\n",
    "print('p-значение: ', results.pvalue)\n",
    "# вывод результатов проверки\n",
    "if results.pvalue < alpha:\n",
    "    print('Отвергаем нулевую гипотезу')\n",
    "else:\n",
    "    print('Не получилось отвергнуть нулевую гипотезу')"
   ]
  },
  {
   "cell_type": "markdown",
   "id": "bd9cf488",
   "metadata": {},
   "source": [
    "Таким образом, на 5%-ном уровне значимости можно сделать вывод, что средняя выручка пользователей тарифов \"Смарт\" и \"Ультра\" различаются. Средняя выручка в выборке тарифа \"Ультра\" была выше, следовательно, и в генеральной совокупности \"Ультра\" приносит компании большую выручку."
   ]
  },
  {
   "cell_type": "markdown",
   "id": "bbcbabda",
   "metadata": {},
   "source": [
    "### Средняя выручка пользователей из Москвы отличается от выручки пользователей из других регионов"
   ]
  },
  {
   "cell_type": "markdown",
   "id": "4ba78334",
   "metadata": {},
   "source": [
    "Предположим, что жители Москвы тратят на мобильную связь больше денег, чем жители других городов. Разделим общую таблицу на два датасета."
   ]
  },
  {
   "cell_type": "code",
   "execution_count": 40,
   "id": "38dc051b",
   "metadata": {},
   "outputs": [],
   "source": [
    "moscow = general.loc[general['city'] == 'Москва'] # таблица с данными клиентов из Москвы\n",
    "other = general.loc[general['city'] != 'Москва'] # таблица с данными клиентов других городов"
   ]
  },
  {
   "cell_type": "markdown",
   "id": "583a847f",
   "metadata": {},
   "source": [
    "Рассчитаем для новых выборок среднее и дисперсию. "
   ]
  },
  {
   "cell_type": "code",
   "execution_count": 41,
   "id": "4baaecfc",
   "metadata": {},
   "outputs": [
    {
     "name": "stdout",
     "output_type": "stream",
     "text": [
      "Средняя выручка по Москве: 1546.71\n",
      "Средняя выручка по другим городам: 1524.73\n",
      "Дисперсия выручки по Москве: 565636.47\n",
      "Дисперсия выручки по другим городам: 654069.57\n"
     ]
    }
   ],
   "source": [
    "# расчет и вывод средних и дисперсий\n",
    "print(f\"Средняя выручка по Москве: {moscow['revenue'].mean():.2f}\")\n",
    "print(f\"Средняя выручка по другим городам: {other['revenue'].mean():.2f}\")\n",
    "print(f\"Дисперсия выручки по Москве: {moscow['revenue'].var():.2f}\")\n",
    "print(f\"Дисперсия выручки по другим городам: {other['revenue'].var():.2f}\")"
   ]
  },
  {
   "cell_type": "markdown",
   "id": "d2ed9c57",
   "metadata": {},
   "source": [
    "Для полученных выборок средние очень близки, а дисперсии различаются. Сформулируем нулевую гипотезу H₀ так:\n",
    "\n",
    "*Средняя выручка пользователей из Москвы и других городов равны.*\n",
    "\n",
    "Альтернативная гипотеза H₁:\n",
    "\n",
    "*Средняя выручка пользователей из Москвы не равна средней выручке клиентов из других городов.*\n",
    "\n",
    "Воспользуемся тем же методом, который использовался для проверки предыдущей гипотезы. Примем критический уровень статистической значимости равным 5%."
   ]
  },
  {
   "cell_type": "code",
   "execution_count": 42,
   "id": "486cc09e",
   "metadata": {},
   "outputs": [
    {
     "name": "stdout",
     "output_type": "stream",
     "text": [
      "p-значение:  0.5216952110000279\n",
      "Не получилось отвергнуть нулевую гипотезу\n"
     ]
    }
   ],
   "source": [
    "# применение t-теста\n",
    "results = st.ttest_ind(moscow['revenue'], other['revenue'], equal_var = False) \n",
    "# вывод p-значения\n",
    "print('p-значение: ', results.pvalue)\n",
    "# вывод результатов проверки\n",
    "if (results.pvalue < alpha):\n",
    "    print('Отвергаем нулевую гипотезу')\n",
    "else:\n",
    "    print('Не получилось отвергнуть нулевую гипотезу')"
   ]
  },
  {
   "cell_type": "markdown",
   "id": "a76a0351",
   "metadata": {},
   "source": [
    "Мы не можем отбросить гипотезу о том, что средняя выручка для жителей Москвы и прочих регионов равны. Таким образом, нет смысла делить пользователей на москвичей и всех остальных, выручку они приносят одинаковую."
   ]
  },
  {
   "cell_type": "markdown",
   "id": "6862a311",
   "metadata": {},
   "source": [
    "## Общий вывод"
   ]
  },
  {
   "cell_type": "markdown",
   "id": "e3178769",
   "metadata": {},
   "source": [
    "В ходе исследования была проанализирована выборка из 500 пользователей федерального оператора сотовой связи \"Мегалайн\". Клиенты используют два тарифа - \"Смарт\" и \"Ультра\". Абонентская плата на тарифе \"Ультра\" выше, но больше и лимиты включенных минут, сообщений и интернета. Если пользователь выходит за рамки включенного пакета, он оплачивает это дополнительно.\n",
    "\n",
    "Была выполнена предобработка данных (изменение типа данных, округление до целых значений, проверка на аномалии), рассчитано общее количество сделанных звонков, использованных минут, СМС и интернет-трафика для каждого пользователя в месяц.\n",
    "\n",
    "Исходные таблицы с добавлеными расчетами были объединены в одну, для которой была посчитана выручка с каждого пользователя.\n",
    "\n",
    "В ходе исследовательского анализа данных было выявлено, что пользователи тарифа \"Ультра\" тратят больше минут, сообщений и трафика, но реже выходят за лимит, чем пользователи \"Смарт\". \n",
    "\n",
    "Была проверена статистическая гипотеза о том, что средний размер выручки для двух тарифов не различается. Гипотеза была отвергнута, клиент тарифа \"Ультра\" в среднем приносит компании больше денег (2070 руб. в месяц), чем клиент \"Смарта\" (1290 руб. в месяц). \n",
    "\n",
    "Также была проверена гипотеза о равенстве средней выручки для жителей Москвы и остальных регионов. Гипотеза не была отвергнута, статистически значимой разницы между выручкой от москвичей и всех остальных нет. \n",
    "\n",
    "Таким образом, мы выяснили, что тариф \"Ультра\" более выгоден для компании. Рекламный бюджет стоит перераспределить в пользу этого тарифа. Дополнительных затрат на продвижение в Москве не требуется, это не принесет дополнительной выручки."
   ]
  }
 ],
 "metadata": {
  "ExecuteTimeLog": [
   {
    "duration": 1170,
    "start_time": "2022-04-07T19:58:37.446Z"
   },
   {
    "duration": 387,
    "start_time": "2022-04-07T19:58:38.618Z"
   },
   {
    "duration": 3,
    "start_time": "2022-04-07T19:58:39.007Z"
   },
   {
    "duration": 50,
    "start_time": "2022-04-07T19:58:39.012Z"
   },
   {
    "duration": 39,
    "start_time": "2022-04-07T19:58:39.064Z"
   },
   {
    "duration": 26,
    "start_time": "2022-04-07T19:58:39.105Z"
   },
   {
    "duration": 15,
    "start_time": "2022-04-07T19:58:39.133Z"
   },
   {
    "duration": 51,
    "start_time": "2022-04-07T19:58:39.150Z"
   },
   {
    "duration": 82,
    "start_time": "2022-04-07T19:58:39.203Z"
   },
   {
    "duration": 12,
    "start_time": "2022-04-07T19:58:39.300Z"
   },
   {
    "duration": 413,
    "start_time": "2022-04-07T19:58:39.314Z"
   },
   {
    "duration": 15,
    "start_time": "2022-04-07T19:58:39.729Z"
   },
   {
    "duration": 6,
    "start_time": "2022-04-07T19:58:39.802Z"
   },
   {
    "duration": 15,
    "start_time": "2022-04-07T19:58:39.809Z"
   },
   {
    "duration": 89,
    "start_time": "2022-04-07T19:58:39.826Z"
   },
   {
    "duration": 17,
    "start_time": "2022-04-07T19:58:39.917Z"
   },
   {
    "duration": 69,
    "start_time": "2022-04-07T19:58:39.937Z"
   },
   {
    "duration": 30,
    "start_time": "2022-04-07T19:58:40.009Z"
   },
   {
    "duration": 200,
    "start_time": "2022-04-07T19:58:40.041Z"
   },
   {
    "duration": 164,
    "start_time": "2022-04-07T19:58:40.244Z"
   },
   {
    "duration": 117,
    "start_time": "2022-04-07T19:58:40.410Z"
   },
   {
    "duration": 96,
    "start_time": "2022-04-07T19:58:40.529Z"
   },
   {
    "duration": 8,
    "start_time": "2022-04-07T19:58:40.627Z"
   },
   {
    "duration": 71,
    "start_time": "2022-04-07T19:58:40.637Z"
   },
   {
    "duration": 97,
    "start_time": "2022-04-07T19:58:40.710Z"
   },
   {
    "duration": 14,
    "start_time": "2022-04-07T19:58:40.809Z"
   },
   {
    "duration": 18,
    "start_time": "2022-04-07T19:58:40.826Z"
   },
   {
    "duration": 553,
    "start_time": "2022-04-07T19:58:40.849Z"
   },
   {
    "duration": 7,
    "start_time": "2022-04-07T19:58:41.405Z"
   },
   {
    "duration": 737,
    "start_time": "2022-04-07T19:58:41.414Z"
   },
   {
    "duration": 414,
    "start_time": "2022-04-07T19:58:42.153Z"
   },
   {
    "duration": 467,
    "start_time": "2022-04-07T19:58:42.569Z"
   },
   {
    "duration": 411,
    "start_time": "2022-04-07T19:58:43.038Z"
   },
   {
    "duration": 184,
    "start_time": "2022-04-07T19:58:43.452Z"
   },
   {
    "duration": 5,
    "start_time": "2022-04-07T19:58:43.639Z"
   },
   {
    "duration": 39,
    "start_time": "2022-04-07T19:58:43.647Z"
   },
   {
    "duration": 49,
    "start_time": "2022-04-07T19:58:43.688Z"
   },
   {
    "duration": 108,
    "start_time": "2022-04-07T19:58:43.739Z"
   },
   {
    "duration": 4,
    "start_time": "2022-04-07T19:59:57.413Z"
   },
   {
    "duration": 5,
    "start_time": "2022-04-07T20:00:02.219Z"
   },
   {
    "duration": 152,
    "start_time": "2022-04-07T20:00:45.204Z"
   },
   {
    "duration": 9,
    "start_time": "2022-04-07T20:00:47.349Z"
   },
   {
    "duration": 1496,
    "start_time": "2022-04-07T21:01:08.514Z"
   },
   {
    "duration": 420,
    "start_time": "2022-04-07T21:01:10.013Z"
   },
   {
    "duration": 3,
    "start_time": "2022-04-07T21:01:10.435Z"
   },
   {
    "duration": 36,
    "start_time": "2022-04-07T21:01:10.440Z"
   },
   {
    "duration": 28,
    "start_time": "2022-04-07T21:01:10.478Z"
   },
   {
    "duration": 26,
    "start_time": "2022-04-07T21:01:10.507Z"
   },
   {
    "duration": 16,
    "start_time": "2022-04-07T21:01:10.535Z"
   },
   {
    "duration": 18,
    "start_time": "2022-04-07T21:01:10.553Z"
   },
   {
    "duration": 79,
    "start_time": "2022-04-07T21:01:10.601Z"
   },
   {
    "duration": 19,
    "start_time": "2022-04-07T21:01:10.683Z"
   },
   {
    "duration": 214,
    "start_time": "2022-04-07T21:01:10.704Z"
   },
   {
    "duration": 17,
    "start_time": "2022-04-07T21:01:10.920Z"
   },
   {
    "duration": 7,
    "start_time": "2022-04-07T21:01:10.938Z"
   },
   {
    "duration": 7,
    "start_time": "2022-04-07T21:01:10.947Z"
   },
   {
    "duration": 45,
    "start_time": "2022-04-07T21:01:10.956Z"
   },
   {
    "duration": 16,
    "start_time": "2022-04-07T21:01:11.003Z"
   },
   {
    "duration": 14,
    "start_time": "2022-04-07T21:01:11.021Z"
   },
   {
    "duration": 195,
    "start_time": "2022-04-07T21:01:11.037Z"
   },
   {
    "duration": 0,
    "start_time": "2022-04-07T21:01:11.235Z"
   },
   {
    "duration": 0,
    "start_time": "2022-04-07T21:01:11.237Z"
   },
   {
    "duration": 0,
    "start_time": "2022-04-07T21:01:11.239Z"
   },
   {
    "duration": 0,
    "start_time": "2022-04-07T21:01:11.240Z"
   },
   {
    "duration": 0,
    "start_time": "2022-04-07T21:01:11.241Z"
   },
   {
    "duration": 0,
    "start_time": "2022-04-07T21:01:11.242Z"
   },
   {
    "duration": 0,
    "start_time": "2022-04-07T21:01:11.244Z"
   },
   {
    "duration": 0,
    "start_time": "2022-04-07T21:01:11.245Z"
   },
   {
    "duration": 0,
    "start_time": "2022-04-07T21:01:11.246Z"
   },
   {
    "duration": 0,
    "start_time": "2022-04-07T21:01:11.247Z"
   },
   {
    "duration": 0,
    "start_time": "2022-04-07T21:01:11.248Z"
   },
   {
    "duration": 0,
    "start_time": "2022-04-07T21:01:11.249Z"
   },
   {
    "duration": 0,
    "start_time": "2022-04-07T21:01:11.251Z"
   },
   {
    "duration": 0,
    "start_time": "2022-04-07T21:01:11.252Z"
   },
   {
    "duration": 0,
    "start_time": "2022-04-07T21:01:11.252Z"
   },
   {
    "duration": 0,
    "start_time": "2022-04-07T21:01:11.254Z"
   },
   {
    "duration": 0,
    "start_time": "2022-04-07T21:01:11.255Z"
   },
   {
    "duration": 0,
    "start_time": "2022-04-07T21:01:11.256Z"
   },
   {
    "duration": 0,
    "start_time": "2022-04-07T21:01:11.257Z"
   },
   {
    "duration": 0,
    "start_time": "2022-04-07T21:01:11.258Z"
   },
   {
    "duration": 0,
    "start_time": "2022-04-07T21:01:11.259Z"
   },
   {
    "duration": 0,
    "start_time": "2022-04-07T21:01:11.260Z"
   },
   {
    "duration": 0,
    "start_time": "2022-04-07T21:01:11.261Z"
   },
   {
    "duration": 1189,
    "start_time": "2022-04-07T21:01:27.609Z"
   },
   {
    "duration": 395,
    "start_time": "2022-04-07T21:01:28.799Z"
   },
   {
    "duration": 3,
    "start_time": "2022-04-07T21:01:29.196Z"
   },
   {
    "duration": 36,
    "start_time": "2022-04-07T21:01:29.201Z"
   },
   {
    "duration": 26,
    "start_time": "2022-04-07T21:01:29.239Z"
   },
   {
    "duration": 43,
    "start_time": "2022-04-07T21:01:29.267Z"
   },
   {
    "duration": 14,
    "start_time": "2022-04-07T21:01:29.311Z"
   },
   {
    "duration": 18,
    "start_time": "2022-04-07T21:01:29.327Z"
   },
   {
    "duration": 102,
    "start_time": "2022-04-07T21:01:29.346Z"
   },
   {
    "duration": 10,
    "start_time": "2022-04-07T21:01:29.450Z"
   },
   {
    "duration": 193,
    "start_time": "2022-04-07T21:01:29.462Z"
   },
   {
    "duration": 15,
    "start_time": "2022-04-07T21:01:29.657Z"
   },
   {
    "duration": 8,
    "start_time": "2022-04-07T21:01:29.674Z"
   },
   {
    "duration": 7,
    "start_time": "2022-04-07T21:01:29.702Z"
   },
   {
    "duration": 16,
    "start_time": "2022-04-07T21:01:29.711Z"
   },
   {
    "duration": 12,
    "start_time": "2022-04-07T21:01:29.728Z"
   },
   {
    "duration": 12,
    "start_time": "2022-04-07T21:01:29.742Z"
   },
   {
    "duration": 53,
    "start_time": "2022-04-07T21:01:29.755Z"
   },
   {
    "duration": 71,
    "start_time": "2022-04-07T21:01:29.810Z"
   },
   {
    "duration": 52,
    "start_time": "2022-04-07T21:01:29.883Z"
   },
   {
    "duration": 42,
    "start_time": "2022-04-07T21:01:29.937Z"
   },
   {
    "duration": 111,
    "start_time": "2022-04-07T21:01:30.001Z"
   },
   {
    "duration": 0,
    "start_time": "2022-04-07T21:01:30.114Z"
   },
   {
    "duration": 0,
    "start_time": "2022-04-07T21:01:30.115Z"
   },
   {
    "duration": 0,
    "start_time": "2022-04-07T21:01:30.116Z"
   },
   {
    "duration": 0,
    "start_time": "2022-04-07T21:01:30.117Z"
   },
   {
    "duration": 0,
    "start_time": "2022-04-07T21:01:30.118Z"
   },
   {
    "duration": 0,
    "start_time": "2022-04-07T21:01:30.119Z"
   },
   {
    "duration": 0,
    "start_time": "2022-04-07T21:01:30.120Z"
   },
   {
    "duration": 0,
    "start_time": "2022-04-07T21:01:30.121Z"
   },
   {
    "duration": 0,
    "start_time": "2022-04-07T21:01:30.122Z"
   },
   {
    "duration": 0,
    "start_time": "2022-04-07T21:01:30.123Z"
   },
   {
    "duration": 0,
    "start_time": "2022-04-07T21:01:30.124Z"
   },
   {
    "duration": 0,
    "start_time": "2022-04-07T21:01:30.125Z"
   },
   {
    "duration": 0,
    "start_time": "2022-04-07T21:01:30.126Z"
   },
   {
    "duration": 0,
    "start_time": "2022-04-07T21:01:30.127Z"
   },
   {
    "duration": 0,
    "start_time": "2022-04-07T21:01:30.129Z"
   },
   {
    "duration": 0,
    "start_time": "2022-04-07T21:01:30.130Z"
   },
   {
    "duration": 0,
    "start_time": "2022-04-07T21:01:30.131Z"
   },
   {
    "duration": 0,
    "start_time": "2022-04-07T21:01:30.132Z"
   },
   {
    "duration": 0,
    "start_time": "2022-04-07T21:01:30.133Z"
   },
   {
    "duration": 45,
    "start_time": "2022-04-07T21:02:34.313Z"
   },
   {
    "duration": 19,
    "start_time": "2022-04-07T21:02:51.831Z"
   },
   {
    "duration": 45,
    "start_time": "2022-04-07T21:03:00.282Z"
   },
   {
    "duration": 37,
    "start_time": "2022-04-07T21:03:03.148Z"
   },
   {
    "duration": 1588,
    "start_time": "2022-04-07T21:03:11.951Z"
   },
   {
    "duration": 433,
    "start_time": "2022-04-07T21:03:13.541Z"
   },
   {
    "duration": 3,
    "start_time": "2022-04-07T21:03:13.976Z"
   },
   {
    "duration": 39,
    "start_time": "2022-04-07T21:03:13.982Z"
   },
   {
    "duration": 30,
    "start_time": "2022-04-07T21:03:14.024Z"
   },
   {
    "duration": 25,
    "start_time": "2022-04-07T21:03:14.056Z"
   },
   {
    "duration": 17,
    "start_time": "2022-04-07T21:03:14.102Z"
   },
   {
    "duration": 18,
    "start_time": "2022-04-07T21:03:14.121Z"
   },
   {
    "duration": 103,
    "start_time": "2022-04-07T21:03:14.141Z"
   },
   {
    "duration": 10,
    "start_time": "2022-04-07T21:03:14.248Z"
   },
   {
    "duration": 230,
    "start_time": "2022-04-07T21:03:14.259Z"
   },
   {
    "duration": 20,
    "start_time": "2022-04-07T21:03:14.492Z"
   },
   {
    "duration": 8,
    "start_time": "2022-04-07T21:03:14.514Z"
   },
   {
    "duration": 7,
    "start_time": "2022-04-07T21:03:14.523Z"
   },
   {
    "duration": 17,
    "start_time": "2022-04-07T21:03:14.532Z"
   },
   {
    "duration": 51,
    "start_time": "2022-04-07T21:03:14.551Z"
   },
   {
    "duration": 13,
    "start_time": "2022-04-07T21:03:14.604Z"
   },
   {
    "duration": 25,
    "start_time": "2022-04-07T21:03:14.619Z"
   },
   {
    "duration": 86,
    "start_time": "2022-04-07T21:03:14.646Z"
   },
   {
    "duration": 49,
    "start_time": "2022-04-07T21:03:14.733Z"
   },
   {
    "duration": 59,
    "start_time": "2022-04-07T21:03:14.784Z"
   },
   {
    "duration": 56,
    "start_time": "2022-04-07T21:03:14.845Z"
   },
   {
    "duration": 119,
    "start_time": "2022-04-07T21:03:14.903Z"
   },
   {
    "duration": 0,
    "start_time": "2022-04-07T21:03:15.024Z"
   },
   {
    "duration": 0,
    "start_time": "2022-04-07T21:03:15.025Z"
   },
   {
    "duration": 0,
    "start_time": "2022-04-07T21:03:15.027Z"
   },
   {
    "duration": 0,
    "start_time": "2022-04-07T21:03:15.028Z"
   },
   {
    "duration": 0,
    "start_time": "2022-04-07T21:03:15.029Z"
   },
   {
    "duration": 0,
    "start_time": "2022-04-07T21:03:15.030Z"
   },
   {
    "duration": 0,
    "start_time": "2022-04-07T21:03:15.031Z"
   },
   {
    "duration": 0,
    "start_time": "2022-04-07T21:03:15.032Z"
   },
   {
    "duration": 0,
    "start_time": "2022-04-07T21:03:15.033Z"
   },
   {
    "duration": 0,
    "start_time": "2022-04-07T21:03:15.034Z"
   },
   {
    "duration": 0,
    "start_time": "2022-04-07T21:03:15.035Z"
   },
   {
    "duration": 0,
    "start_time": "2022-04-07T21:03:15.036Z"
   },
   {
    "duration": 0,
    "start_time": "2022-04-07T21:03:15.037Z"
   },
   {
    "duration": 0,
    "start_time": "2022-04-07T21:03:15.038Z"
   },
   {
    "duration": 0,
    "start_time": "2022-04-07T21:03:15.039Z"
   },
   {
    "duration": 0,
    "start_time": "2022-04-07T21:03:15.040Z"
   },
   {
    "duration": 0,
    "start_time": "2022-04-07T21:03:15.041Z"
   },
   {
    "duration": 0,
    "start_time": "2022-04-07T21:03:15.042Z"
   },
   {
    "duration": 1214,
    "start_time": "2022-04-07T21:04:17.690Z"
   },
   {
    "duration": 435,
    "start_time": "2022-04-07T21:04:18.906Z"
   },
   {
    "duration": 3,
    "start_time": "2022-04-07T21:04:19.342Z"
   },
   {
    "duration": 36,
    "start_time": "2022-04-07T21:04:19.347Z"
   },
   {
    "duration": 28,
    "start_time": "2022-04-07T21:04:19.385Z"
   },
   {
    "duration": 25,
    "start_time": "2022-04-07T21:04:19.415Z"
   },
   {
    "duration": 17,
    "start_time": "2022-04-07T21:04:19.442Z"
   },
   {
    "duration": 45,
    "start_time": "2022-04-07T21:04:19.461Z"
   },
   {
    "duration": 78,
    "start_time": "2022-04-07T21:04:19.508Z"
   },
   {
    "duration": 11,
    "start_time": "2022-04-07T21:04:19.600Z"
   },
   {
    "duration": 224,
    "start_time": "2022-04-07T21:04:19.613Z"
   },
   {
    "duration": 15,
    "start_time": "2022-04-07T21:04:19.839Z"
   },
   {
    "duration": 11,
    "start_time": "2022-04-07T21:04:19.856Z"
   },
   {
    "duration": 27,
    "start_time": "2022-04-07T21:04:19.868Z"
   },
   {
    "duration": 26,
    "start_time": "2022-04-07T21:04:19.897Z"
   },
   {
    "duration": 14,
    "start_time": "2022-04-07T21:04:19.924Z"
   },
   {
    "duration": 16,
    "start_time": "2022-04-07T21:04:19.940Z"
   },
   {
    "duration": 25,
    "start_time": "2022-04-07T21:04:19.957Z"
   },
   {
    "duration": 79,
    "start_time": "2022-04-07T21:04:19.983Z"
   },
   {
    "duration": 54,
    "start_time": "2022-04-07T21:04:20.064Z"
   },
   {
    "duration": 46,
    "start_time": "2022-04-07T21:04:20.119Z"
   },
   {
    "duration": 56,
    "start_time": "2022-04-07T21:04:20.166Z"
   },
   {
    "duration": 9,
    "start_time": "2022-04-07T21:04:20.223Z"
   },
   {
    "duration": 24,
    "start_time": "2022-04-07T21:04:20.233Z"
   },
   {
    "duration": 18,
    "start_time": "2022-04-07T21:04:20.259Z"
   },
   {
    "duration": 17,
    "start_time": "2022-04-07T21:04:20.279Z"
   },
   {
    "duration": 22,
    "start_time": "2022-04-07T21:04:20.299Z"
   },
   {
    "duration": 15,
    "start_time": "2022-04-07T21:04:20.325Z"
   },
   {
    "duration": 20,
    "start_time": "2022-04-07T21:04:20.342Z"
   },
   {
    "duration": 165,
    "start_time": "2022-04-07T21:04:20.364Z"
   },
   {
    "duration": 8,
    "start_time": "2022-04-07T21:04:20.530Z"
   },
   {
    "duration": 7,
    "start_time": "2022-04-07T21:04:20.540Z"
   },
   {
    "duration": 470,
    "start_time": "2022-04-07T21:04:20.549Z"
   },
   {
    "duration": 407,
    "start_time": "2022-04-07T21:04:21.020Z"
   },
   {
    "duration": 432,
    "start_time": "2022-04-07T21:04:21.428Z"
   },
   {
    "duration": 419,
    "start_time": "2022-04-07T21:04:21.861Z"
   },
   {
    "duration": 260,
    "start_time": "2022-04-07T21:04:22.282Z"
   },
   {
    "duration": 7,
    "start_time": "2022-04-07T21:04:22.544Z"
   },
   {
    "duration": 34,
    "start_time": "2022-04-07T21:04:22.552Z"
   },
   {
    "duration": 17,
    "start_time": "2022-04-07T21:04:22.587Z"
   },
   {
    "duration": 35,
    "start_time": "2022-04-07T21:04:22.606Z"
   },
   {
    "duration": 6,
    "start_time": "2022-04-07T21:05:42.795Z"
   },
   {
    "duration": 1144,
    "start_time": "2022-04-07T21:06:23.346Z"
   },
   {
    "duration": 468,
    "start_time": "2022-04-07T21:06:24.493Z"
   },
   {
    "duration": 3,
    "start_time": "2022-04-07T21:06:24.962Z"
   },
   {
    "duration": 46,
    "start_time": "2022-04-07T21:06:24.967Z"
   },
   {
    "duration": 30,
    "start_time": "2022-04-07T21:06:25.017Z"
   },
   {
    "duration": 32,
    "start_time": "2022-04-07T21:06:25.048Z"
   },
   {
    "duration": 43,
    "start_time": "2022-04-07T21:06:25.081Z"
   },
   {
    "duration": 17,
    "start_time": "2022-04-07T21:06:25.126Z"
   },
   {
    "duration": 110,
    "start_time": "2022-04-07T21:06:25.145Z"
   },
   {
    "duration": 9,
    "start_time": "2022-04-07T21:06:25.258Z"
   },
   {
    "duration": 220,
    "start_time": "2022-04-07T21:06:25.269Z"
   },
   {
    "duration": 21,
    "start_time": "2022-04-07T21:06:25.491Z"
   },
   {
    "duration": 13,
    "start_time": "2022-04-07T21:06:25.515Z"
   },
   {
    "duration": 12,
    "start_time": "2022-04-07T21:06:25.530Z"
   },
   {
    "duration": 24,
    "start_time": "2022-04-07T21:06:25.543Z"
   },
   {
    "duration": 13,
    "start_time": "2022-04-07T21:06:25.569Z"
   },
   {
    "duration": 35,
    "start_time": "2022-04-07T21:06:25.584Z"
   },
   {
    "duration": 30,
    "start_time": "2022-04-07T21:06:25.621Z"
   },
   {
    "duration": 103,
    "start_time": "2022-04-07T21:06:25.653Z"
   },
   {
    "duration": 53,
    "start_time": "2022-04-07T21:06:25.758Z"
   },
   {
    "duration": 45,
    "start_time": "2022-04-07T21:06:25.814Z"
   },
   {
    "duration": 57,
    "start_time": "2022-04-07T21:06:25.861Z"
   },
   {
    "duration": 9,
    "start_time": "2022-04-07T21:06:25.921Z"
   },
   {
    "duration": 4,
    "start_time": "2022-04-07T21:06:25.932Z"
   },
   {
    "duration": 5,
    "start_time": "2022-04-07T21:06:25.938Z"
   },
   {
    "duration": 15,
    "start_time": "2022-04-07T21:06:25.945Z"
   },
   {
    "duration": 47,
    "start_time": "2022-04-07T21:06:25.961Z"
   },
   {
    "duration": 5,
    "start_time": "2022-04-07T21:06:26.013Z"
   },
   {
    "duration": 9,
    "start_time": "2022-04-07T21:06:26.021Z"
   },
   {
    "duration": 178,
    "start_time": "2022-04-07T21:06:26.033Z"
   },
   {
    "duration": 11,
    "start_time": "2022-04-07T21:06:26.213Z"
   },
   {
    "duration": 7,
    "start_time": "2022-04-07T21:06:26.226Z"
   },
   {
    "duration": 503,
    "start_time": "2022-04-07T21:06:26.235Z"
   },
   {
    "duration": 524,
    "start_time": "2022-04-07T21:06:26.740Z"
   },
   {
    "duration": 461,
    "start_time": "2022-04-07T21:06:27.266Z"
   },
   {
    "duration": 416,
    "start_time": "2022-04-07T21:06:27.729Z"
   },
   {
    "duration": 177,
    "start_time": "2022-04-07T21:06:28.147Z"
   },
   {
    "duration": 5,
    "start_time": "2022-04-07T21:06:28.326Z"
   },
   {
    "duration": 8,
    "start_time": "2022-04-07T21:06:28.333Z"
   },
   {
    "duration": 8,
    "start_time": "2022-04-07T21:06:28.342Z"
   },
   {
    "duration": 6,
    "start_time": "2022-04-07T21:06:28.352Z"
   }
  ],
  "kernelspec": {
   "display_name": "Python 3 (ipykernel)",
   "language": "python",
   "name": "python3"
  },
  "language_info": {
   "codemirror_mode": {
    "name": "ipython",
    "version": 3
   },
   "file_extension": ".py",
   "mimetype": "text/x-python",
   "name": "python",
   "nbconvert_exporter": "python",
   "pygments_lexer": "ipython3",
   "version": "3.7.8"
  },
  "toc": {
   "base_numbering": 1,
   "nav_menu": {},
   "number_sections": true,
   "sideBar": true,
   "skip_h1_title": true,
   "title_cell": "Содержание",
   "title_sidebar": "Содержание",
   "toc_cell": true,
   "toc_position": {
    "height": "calc(100% - 180px)",
    "left": "10px",
    "top": "150px",
    "width": "318px"
   },
   "toc_section_display": true,
   "toc_window_display": true
  }
 },
 "nbformat": 4,
 "nbformat_minor": 5
}
